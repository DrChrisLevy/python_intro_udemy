{
 "cells": [
  {
   "cell_type": "markdown",
   "metadata": {},
   "source": [
    "# Class Inheritance\n",
    "\n",
    "In this section we will go over an example of class inheritance.\n",
    "Class inheritance \n",
    "is when you build classes that are derived from a general base class.\n",
    "There is a parent to child relationship where the child class (or subclass)\n",
    "retains a similar implementation to the base class (parent class). It's best understood\n",
    "through some examples.\n",
    "\n",
    "First we will create a Dog and Cat class which are assumed to be pets."
   ]
  },
  {
   "cell_type": "code",
   "execution_count": 1,
   "metadata": {},
   "outputs": [],
   "source": [
    "class Cat:\n",
    "    def __init__(self, name, age, color, owner, likes_dogs):\n",
    "        self.name=name\n",
    "        self.age=age\n",
    "        self.color=color\n",
    "        self.owner=owner\n",
    "        self.likes_dogs=likes_dogs\n",
    "    \n",
    "    def speak(self):\n",
    "        print('meow')\n",
    "    \n",
    "    def eat(self):\n",
    "        print('eat')\n",
    "        \n",
    "    def sleep(self):\n",
    "        print('sleep')\n",
    "        \n",
    "class Dog:\n",
    "    def __init__(self, name, age, color, owner, chases_cats):\n",
    "        self.name=name\n",
    "        self.age=age\n",
    "        self.color=color\n",
    "        self.owner=owner\n",
    "        self.chases_cats = chases_cats\n",
    "    \n",
    "    def speak(self):\n",
    "        print('woof')\n",
    "    \n",
    "    def eat(self):\n",
    "        print('eat')\n",
    "        \n",
    "    def sleep(self):\n",
    "        print('sleep')"
   ]
  },
  {
   "cell_type": "code",
   "execution_count": 2,
   "metadata": {},
   "outputs": [],
   "source": [
    "cat = Cat(name='Luna', age=4, color='brown', owner='Chris', likes_dogs=False)\n",
    "dog = Dog(name='Max', age=2, color='white', owner='Isaac', chases_cats=True)\n",
    "print(cat.name, cat.color, cat.owner, cat.age, cat.likes_dogs)\n",
    "print(dog.name, dog.color, dog.owner, dog.age, dog.chases_cats)"
   ]
  },
  {
   "cell_type": "markdown",
   "metadata": {},
   "source": [
    "You can probably see that the code for the two classes `Cat` and `Dog` is\n",
    "very similar and there is a lot of repeated code. This in general is\n",
    "not good. If you wanted to change the way `eat` or `sleep` \n",
    "works then you would have to change it in two different places.\n",
    "The only real difference is the `speak` method and some arguments in the constructor (`__init__`). Also if we\n",
    "wanted to create another animal/pet such as `Bird` we would have to copy\n",
    "out a lot of the same methods and attributes from either `Cat` or `Dog`. This\n",
    "would result in even more repeated code.\n",
    "\n",
    "This is where the idea of class inheritance becomes useful. We can first\n",
    "create a base class called `Pet` with all the common attributes and methods\n",
    "for pets. There could be more methods and attributes for a `Pet` class\n",
    "and feel free to add them. I want to keep the example simple.\n"
   ]
  },
  {
   "cell_type": "code",
   "execution_count": 3,
   "metadata": {},
   "outputs": [],
   "source": [
    "class Pet:\n",
    "    def __init__(self, name, age, color, owner):\n",
    "        self.name=name\n",
    "        self.age=age\n",
    "        self.color=color\n",
    "        self.owner=owner\n",
    "    \n",
    "    def eat(self):\n",
    "        print('eat')\n",
    "        \n",
    "    def sleep(self):\n",
    "        print('sleep')"
   ]
  },
  {
   "cell_type": "markdown",
   "metadata": {},
   "source": [
    "Then we can subclass this class to create the `Dog` and `Cat` classes."
   ]
  },
  {
   "cell_type": "code",
   "execution_count": 4,
   "metadata": {},
   "outputs": [],
   "source": [
    "class Cat(Pet):\n",
    "    def __init__(self, name, age, color, owner, likes_dogs):\n",
    "        super().__init__(name, age, color, owner)\n",
    "        self.likes_dogs = likes_dogs\n",
    "    \n",
    "    def speak(self):\n",
    "        print('meow')\n",
    "\n",
    "class Dog(Pet):\n",
    "    def __init__(self, name, age, color, owner, chases_cats):\n",
    "        super().__init__(name, age, color, owner)\n",
    "        self.chases_cats = chases_cats\n",
    "    \n",
    "    def speak(self):\n",
    "        print('woof')"
   ]
  },
  {
   "cell_type": "code",
   "execution_count": 5,
   "metadata": {},
   "outputs": [],
   "source": [
    "cat = Cat(name='Luna', age=4, color='brown', owner='Chris', likes_dogs=False)\n",
    "dog = Dog(name='Max', age=2, color='white', owner='Isaac', chases_cats=True)\n",
    "print(cat.name, cat.color, cat.owner, cat.age, cat.likes_dogs)\n",
    "print(dog.name, dog.color, dog.owner, dog.age, dog.chases_cats)"
   ]
  },
  {
   "cell_type": "markdown",
   "metadata": {},
   "source": [
    "The main difference is instead of writing `class Dog` you write `class Dog(Pet)` which means\n",
    "`Dog` will inherit from the base class `Pet`. Also in the `__init__` (aka constructor)\n",
    "you have to call the `super().__init__` method which simply means to call the constructor of the parent class. Then you can add any additional logic to the child class constructor that is required.\n",
    "\n",
    "We can even make the code more concise. Notice that we had to repeat all the `Pet` class initialization arguments. We can use `**kwargs` to shorten this up."
   ]
  },
  {
   "cell_type": "code",
   "execution_count": 6,
   "metadata": {},
   "outputs": [],
   "source": [
    "class Cat(Pet):\n",
    "    def __init__(self, likes_dogs, **kwargs):\n",
    "        super().__init__(**kwargs)\n",
    "        self.likes_dogs = likes_dogs\n",
    "    \n",
    "    def speak(self):\n",
    "        print('meow')\n",
    "\n",
    "class Dog(Pet):\n",
    "    def __init__(self, chases_cats, **kwargs):\n",
    "        super().__init__(**kwargs)\n",
    "        self.chases_cats = chases_cats\n",
    "    \n",
    "    def speak(self):\n",
    "        print('woof')"
   ]
  },
  {
   "cell_type": "code",
   "execution_count": 7,
   "metadata": {},
   "outputs": [],
   "source": [
    "cat = Cat(name='Luna', age=4, color='brown', owner='Chris', likes_dogs=False)\n",
    "dog = Dog(name='Max', age=2, color='white', owner='Isaac', chases_cats=True)\n",
    "print(cat.name, cat.color, cat.owner, cat.age, cat.likes_dogs)\n",
    "print(dog.name, dog.color, dog.owner, dog.age, dog.chases_cats)"
   ]
  },
  {
   "cell_type": "markdown",
   "metadata": {},
   "source": [
    "We can even add more methods or attributes that are common to only one of the child classes. For example, suppose dogs like to swim and cats do not. Then we can add a swim method to the dog class."
   ]
  },
  {
   "cell_type": "code",
   "execution_count": 8,
   "metadata": {},
   "outputs": [],
   "source": [
    "class Dog(Pet):\n",
    "    def __init__(self, chases_cats, **kwargs):\n",
    "        super().__init__(**kwargs)\n",
    "        self.chases_cats = chases_cats\n",
    "    \n",
    "    def speak(self):\n",
    "        print('woof')\n",
    "    \n",
    "    def swim(self):\n",
    "        print('swim')"
   ]
  },
  {
   "cell_type": "code",
   "execution_count": 9,
   "metadata": {},
   "outputs": [],
   "source": [
    "dog = Dog(name='Max', age=2, color='white', owner='Isaac', chases_cats=True)\n",
    "dog.eat()\n",
    "dog.sleep()\n",
    "dog.swim()"
   ]
  },
  {
   "cell_type": "markdown",
   "metadata": {},
   "source": [
    "In summary, the child class will have all the same methods and attributes \n",
    "as the parent class as well as the new ones you define in the child class.\n",
    "\n",
    "Another thing you can do is override the method from the parent class. For example,\n",
    "we have the method `sleep` from the parent class which simply prints `sleep`. We can\n",
    "change this implementation for the `Dog` class for example."
   ]
  },
  {
   "cell_type": "code",
   "execution_count": 10,
   "metadata": {},
   "outputs": [],
   "source": [
    "class Dog(Pet):\n",
    "    def __init__(self, chases_cats, **kwargs):\n",
    "        super().__init__(**kwargs)\n",
    "        self.chases_cats = chases_cats\n",
    "    \n",
    "    def speak(self):\n",
    "        print('woof')\n",
    "    \n",
    "    def swim(self):\n",
    "        print('swim')\n",
    "        \n",
    "    def sleep(self, hours):\n",
    "        print(f'sleeping for {hours} hours.')"
   ]
  },
  {
   "cell_type": "code",
   "execution_count": 11,
   "metadata": {},
   "outputs": [],
   "source": [
    "cat = Cat(name='Luna', age=4, color='brown', owner='Chris', likes_dogs=False)\n",
    "dog = Dog(name='Max', age=2, color='white', owner='Isaac', chases_cats=True)\n",
    "print(cat.name, cat.color, cat.owner, cat.age, cat.likes_dogs)\n",
    "print(dog.name, dog.color, dog.owner, dog.age, dog.chases_cats)"
   ]
  },
  {
   "cell_type": "code",
   "execution_count": 12,
   "metadata": {},
   "outputs": [],
   "source": [
    "cat.sleep()\n",
    "cat.eat()"
   ]
  },
  {
   "cell_type": "code",
   "execution_count": 13,
   "metadata": {},
   "outputs": [],
   "source": [
    "dog.eat()\n",
    "dog.swim()\n",
    "dog.sleep(2)"
   ]
  },
  {
   "cell_type": "markdown",
   "metadata": {},
   "source": [
    "I hope you now understand a little bit about class inheritance in Python now. \n",
    "\n",
    "There is more\n",
    "that could be said and there are entire courses/books which only focus on object-oriented programming (OOP). Just remember that classes are a great way to organize code into similar functions and methods that work together. Classes are templates for how objects should behave. All the functionality and data related to similar objects can be defined in the class. The best way to learn is to write your own simple programs which use classes and also spend time reading other peoples code."
   ]
  }
 ],
 "metadata": {
  "kernelspec": {
   "display_name": "Python 3",
   "language": "python",
   "name": "python3"
  },
  "language_info": {
   "codemirror_mode": {
    "name": "ipython",
    "version": 3
   },
   "file_extension": ".py",
   "mimetype": "text/x-python",
   "name": "python",
   "nbconvert_exporter": "python",
   "pygments_lexer": "ipython3",
   "version": "3.6.5"
  }
 },
 "nbformat": 4,
 "nbformat_minor": 4
}
