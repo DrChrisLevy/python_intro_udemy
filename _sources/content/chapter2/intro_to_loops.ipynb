{
 "cells": [
  {
   "cell_type": "markdown",
   "metadata": {},
   "source": [
    "# Intro to Loops\n",
    "\n",
    "In this section we are going to introduce the `for` \n",
    "loop and `while` loop. Loops can be used to iterate\n",
    "over sequences (strings and lists for example) \n",
    "and to execute statements of code multiple times.\n",
    "\n",
    "As usual, create a Jupyter Notebook \n",
    "named **intro_to_loops** and follow along with\n",
    "the code examples.\n",
    "\n",
    "(for-loop)=\n",
    "## For Loop\n",
    "The general syntax for the `for` loop is\n",
    "\n",
    "```\n",
    "for <var> in <iterable>:\n",
    "    block_of_statements\n",
    "```\n",
    "\n",
    "The `iterable` is something that can be iterated over such as a string, or a list, or a `range`.\n",
    "We will learn about other objects that are `iterable` throughout this course and we will learn about `range`\n",
    "in this section later. The `var` is any variable name you chose which represents the object in the `iterable`.\n",
    "The value of it changes each time through the loop. Looking at a specific\n",
    "example will make it easier to understand."
   ]
  },
  {
   "cell_type": "code",
   "execution_count": 1,
   "metadata": {},
   "outputs": [
    {
     "name": "stdout",
     "output_type": "stream",
     "text": [
      "['Chris', 'Joanna', 'Penelope', 'Isaac', 'Hazel']\n"
     ]
    }
   ],
   "source": [
    "family_names = [\"Chris\", \"Joanna\", \"Penelope\", \"Isaac\", \"Hazel\"]\n",
    "print(family_names)"
   ]
  },
  {
   "cell_type": "markdown",
   "metadata": {},
   "source": [
    "We will write a `for` loop to iterate over\n",
    "the list `family_names` and print each name one at a time."
   ]
  },
  {
   "cell_type": "code",
   "execution_count": 2,
   "metadata": {},
   "outputs": [
    {
     "name": "stdout",
     "output_type": "stream",
     "text": [
      "Chris\n",
      "Joanna\n",
      "Penelope\n",
      "Isaac\n",
      "Hazel\n"
     ]
    }
   ],
   "source": [
    "for name in family_names:\n",
    "    print(name)"
   ]
  },
  {
   "cell_type": "markdown",
   "metadata": {},
   "source": [
    "The variable `name` changed each time through the `for` loop.\n",
    "The first time through the loop `name` was assigned `'Chris'`,\n",
    "the second time through the loop `name` was assigned `'Joanna'`,\n",
    "and so on. On the last time through the loop\n",
    "`name` was assigned `'Hazel'`. In fact, `name` is still assigned\n",
    "the string object `'Hazel'`."
   ]
  },
  {
   "cell_type": "code",
   "execution_count": 3,
   "metadata": {},
   "outputs": [
    {
     "name": "stdout",
     "output_type": "stream",
     "text": [
      "<class 'str'>\n",
      "Hazel\n"
     ]
    }
   ],
   "source": [
    "print(type(name))\n",
    "print(name)"
   ]
  },
  {
   "cell_type": "markdown",
   "metadata": {},
   "source": [
    "There is nothing special about the variable name we use\n",
    "which changes each time through the loop. In this case we chose\n",
    "`name` because it makes sense to use that since we were iterating\n",
    "over names in a list. However, we could of chosen `x` for example or\n",
    "any valid name for a variable."
   ]
  },
  {
   "cell_type": "code",
   "execution_count": 4,
   "metadata": {},
   "outputs": [
    {
     "name": "stdout",
     "output_type": "stream",
     "text": [
      "Chris\n",
      "Joanna\n",
      "Penelope\n",
      "Isaac\n",
      "Hazel\n"
     ]
    }
   ],
   "source": [
    "for x in family_names:\n",
    "    print(x)"
   ]
  },
  {
   "cell_type": "markdown",
   "metadata": {},
   "source": [
    "Notice also that we are using indented blocks of code within the loop.\n",
    "Anything that gets indented within the `for` loop is executed from\n",
    "top to bottom each time through the loop. Here is another example."
   ]
  },
  {
   "cell_type": "code",
   "execution_count": 5,
   "metadata": {},
   "outputs": [
    {
     "name": "stdout",
     "output_type": "stream",
     "text": [
      "Chris is a person in my family.\n",
      "Their full name is Chris Levy.\n",
      "1 + 1 is 2\n",
      "Joanna is a person in my family.\n",
      "Their full name is Joanna Levy.\n",
      "1 + 1 is 2\n",
      "Penelope is a person in my family.\n",
      "Their full name is Penelope Levy.\n",
      "1 + 1 is 2\n",
      "Isaac is a person in my family.\n",
      "Their full name is Isaac Levy.\n",
      "1 + 1 is 2\n",
      "Hazel is a person in my family.\n",
      "Their full name is Hazel Levy.\n",
      "1 + 1 is 2\n",
      "DONE!\n"
     ]
    }
   ],
   "source": [
    "for name in family_names:\n",
    "    print(f\"{name} is a person in my family.\")\n",
    "    print(f\"Their full name is {name} Levy.\")\n",
    "    print(f\"1 + 1 is 2\")\n",
    "    1 + 4  # this line is executed but we are not printing it\n",
    "print(\"DONE!\")"
   ]
  },
  {
   "cell_type": "markdown",
   "metadata": {},
   "source": [
    "Notice in the above example, any statements within the indented code block\n",
    "inside the `for` loop are executed each time through the loop.\n",
    "Whereas the `print('DONE!')` is only executed once\n",
    "because it was outside the `for` loop.\n",
    "\n",
    "Let's look at an example of iterating over a `string`\n",
    "object with a `for` loop. This is possible because\n",
    "`string` objects in Python are also *iterable*."
   ]
  },
  {
   "cell_type": "code",
   "execution_count": 6,
   "metadata": {},
   "outputs": [
    {
     "name": "stdout",
     "output_type": "stream",
     "text": [
      "Hello World\n"
     ]
    }
   ],
   "source": [
    "hello = \"Hello World\"\n",
    "print(hello)"
   ]
  },
  {
   "cell_type": "code",
   "execution_count": 7,
   "metadata": {},
   "outputs": [
    {
     "name": "stdout",
     "output_type": "stream",
     "text": [
      "H\n",
      "e\n",
      "l\n",
      "l\n",
      "o\n",
      " \n",
      "W\n",
      "o\n",
      "r\n",
      "l\n",
      "d\n"
     ]
    }
   ],
   "source": [
    "for letter in hello:\n",
    "    print(letter)"
   ]
  },
  {
   "cell_type": "code",
   "execution_count": 8,
   "metadata": {},
   "outputs": [
    {
     "name": "stdout",
     "output_type": "stream",
     "text": [
      "d\n",
      "l\n",
      "r\n",
      "o\n",
      "W\n",
      " \n",
      "o\n",
      "l\n",
      "l\n",
      "e\n",
      "H\n"
     ]
    }
   ],
   "source": [
    "for letter in hello[::-1]:  # reversed string\n",
    "    print(letter)"
   ]
  },
  {
   "cell_type": "markdown",
   "metadata": {},
   "source": [
    "## Apending In Loops\n",
    "It is sometimes useful to create an empty list `[]`,\n",
    "and to keep appending to it within a loop while iterating over some other\n",
    "iterable. This will also be a good example to show some `if` statements\n",
    "within a `for` loop.\n",
    "\n",
    "Here we define a list called `numbers`.\n",
    "We want to iterate over `numbers`\n",
    "and check if the number is greater than 6.\n",
    "If so, append the number to a list `new_numbers`."
   ]
  },
  {
   "cell_type": "code",
   "execution_count": 9,
   "metadata": {},
   "outputs": [
    {
     "name": "stdout",
     "output_type": "stream",
     "text": [
      "Adding the item 9 to the list new_numbers.\n",
      "The list new_numbers is now [9].\n",
      "Adding the item 10 to the list new_numbers.\n",
      "The list new_numbers is now [9, 10].\n",
      "Adding the item 12 to the list new_numbers.\n",
      "The list new_numbers is now [9, 10, 12].\n",
      "Adding the item 65 to the list new_numbers.\n",
      "The list new_numbers is now [9, 10, 12, 65].\n",
      "Adding the item 8 to the list new_numbers.\n",
      "The list new_numbers is now [9, 10, 12, 65, 8].\n",
      "Adding the item 7 to the list new_numbers.\n",
      "The list new_numbers is now [9, 10, 12, 65, 8, 7].\n"
     ]
    }
   ],
   "source": [
    "numbers = [9, 6, 4, 3, 6, 10, 12, 65, 8, 4, -10, -6, 7, -8]\n",
    "new_numbers = []  # we create an empty list so we can append items to it\n",
    "\n",
    "for num in numbers:\n",
    "    if num > 6:\n",
    "        print(f\"Adding the item {num} to the list new_numbers.\")\n",
    "        new_numbers.append(num)\n",
    "        print(f\"The list new_numbers is now {new_numbers}.\")"
   ]
  },
  {
   "cell_type": "code",
   "execution_count": 10,
   "metadata": {},
   "outputs": [
    {
     "data": {
      "text/plain": [
       "[9, 10, 12, 65, 8, 7]"
      ]
     },
     "execution_count": 10,
     "metadata": {},
     "output_type": "execute_result"
    }
   ],
   "source": [
    "new_numbers"
   ]
  },
  {
   "cell_type": "markdown",
   "metadata": {},
   "source": [
    "Here is another example of using a for loop to get the unique\n",
    "set of numbers from a list.\n"
   ]
  },
  {
   "cell_type": "code",
   "execution_count": 11,
   "metadata": {},
   "outputs": [
    {
     "name": "stdout",
     "output_type": "stream",
     "text": [
      "There are 11 unique numbers and they are [1, 2, 6, 7, 8, 10, 9, 0, 3, 4, 5]\n"
     ]
    }
   ],
   "source": [
    "numbers = [\n",
    "    1,\n",
    "    1,\n",
    "    1,\n",
    "    2,\n",
    "    6,\n",
    "    7,\n",
    "    8,\n",
    "    8,\n",
    "    8,\n",
    "    8,\n",
    "    8,\n",
    "    10,\n",
    "    10,\n",
    "    10,\n",
    "    9,\n",
    "    9,\n",
    "    9,\n",
    "    0,\n",
    "    0,\n",
    "    0,\n",
    "    2,\n",
    "    2,\n",
    "    3,\n",
    "    3,\n",
    "    3,\n",
    "    4,\n",
    "    5,\n",
    "]\n",
    "unique_numbers = []\n",
    "\n",
    "for x in numbers:\n",
    "    if x not in unique_numbers:\n",
    "        unique_numbers.append(x)\n",
    "\n",
    "print(f\"There are {len(unique_numbers)} unique numbers and they are {unique_numbers}\")"
   ]
  },
  {
   "cell_type": "markdown",
   "metadata": {},
   "source": [
    "(intro-range)=\n",
    "## range()\n",
    "The `range()` function is used to create an **iterable**\n",
    "that is a sequence of numbers."
   ]
  },
  {
   "cell_type": "code",
   "execution_count": 12,
   "metadata": {},
   "outputs": [],
   "source": [
    "x = range(10)"
   ]
  },
  {
   "cell_type": "code",
   "execution_count": 13,
   "metadata": {},
   "outputs": [
    {
     "data": {
      "text/plain": [
       "range(0, 10)"
      ]
     },
     "execution_count": 13,
     "metadata": {},
     "output_type": "execute_result"
    }
   ],
   "source": [
    "x"
   ]
  },
  {
   "cell_type": "code",
   "execution_count": 14,
   "metadata": {},
   "outputs": [
    {
     "name": "stdout",
     "output_type": "stream",
     "text": [
      "<class 'range'>\n"
     ]
    }
   ],
   "source": [
    "print(type(x))"
   ]
  },
  {
   "cell_type": "code",
   "execution_count": 15,
   "metadata": {},
   "outputs": [
    {
     "name": "stdout",
     "output_type": "stream",
     "text": [
      "range(0, 10)\n"
     ]
    }
   ],
   "source": [
    "print(x)"
   ]
  },
  {
   "cell_type": "markdown",
   "metadata": {},
   "source": [
    "You can iterate over the range with a for loop."
   ]
  },
  {
   "cell_type": "code",
   "execution_count": 16,
   "metadata": {},
   "outputs": [
    {
     "name": "stdout",
     "output_type": "stream",
     "text": [
      "0\n",
      "1\n",
      "2\n",
      "3\n",
      "4\n",
      "5\n",
      "6\n",
      "7\n",
      "8\n",
      "9\n"
     ]
    }
   ],
   "source": [
    "for i in x:\n",
    "    print(i)"
   ]
  },
  {
   "cell_type": "code",
   "execution_count": 17,
   "metadata": {},
   "outputs": [
    {
     "name": "stdout",
     "output_type": "stream",
     "text": [
      "0\n",
      "1\n",
      "2\n",
      "3\n",
      "4\n"
     ]
    }
   ],
   "source": [
    "for num in range(5):\n",
    "    print(num)"
   ]
  },
  {
   "cell_type": "markdown",
   "metadata": {},
   "source": [
    "The general syntax for `range` is `range(start, stop, step)`"
   ]
  },
  {
   "cell_type": "code",
   "execution_count": 18,
   "metadata": {},
   "outputs": [
    {
     "name": "stdout",
     "output_type": "stream",
     "text": [
      "10\n",
      "11\n",
      "12\n",
      "13\n",
      "14\n",
      "15\n",
      "16\n",
      "17\n",
      "18\n",
      "19\n"
     ]
    }
   ],
   "source": [
    "for x in range(10, 20):\n",
    "    print(x)"
   ]
  },
  {
   "cell_type": "code",
   "execution_count": 19,
   "metadata": {},
   "outputs": [
    {
     "name": "stdout",
     "output_type": "stream",
     "text": [
      "5\n",
      "7\n",
      "9\n",
      "11\n",
      "13\n"
     ]
    }
   ],
   "source": [
    "for x in range(5, 15, 2):\n",
    "    print(x)"
   ]
  },
  {
   "cell_type": "code",
   "execution_count": 20,
   "metadata": {},
   "outputs": [
    {
     "name": "stdout",
     "output_type": "stream",
     "text": [
      "5050\n"
     ]
    }
   ],
   "source": [
    "# Using a range to sum up the numbers from 1 to 100\n",
    "sum = 0\n",
    "for i in range(1, 101):  # up to but not including 101\n",
    "    sum = sum + i\n",
    "print(sum)  # 1 + 2 + 3 + 4 + ..... + 100"
   ]
  },
  {
   "cell_type": "markdown",
   "metadata": {},
   "source": [
    "## Nested Loops\n",
    "You can nest any number of `for` loops within a `for` loop.\n",
    "Here is an example."
   ]
  },
  {
   "cell_type": "code",
   "execution_count": 21,
   "metadata": {},
   "outputs": [
    {
     "name": "stdout",
     "output_type": "stream",
     "text": [
      "0 0\n",
      "0 1\n",
      "0 2\n",
      "1 0\n",
      "1 1\n",
      "1 2\n",
      "2 0\n",
      "2 1\n",
      "2 2\n"
     ]
    }
   ],
   "source": [
    "for i in range(3):\n",
    "    for j in range(3):\n",
    "        print(i, j)"
   ]
  },
  {
   "cell_type": "code",
   "execution_count": 22,
   "metadata": {},
   "outputs": [
    {
     "name": "stdout",
     "output_type": "stream",
     "text": [
      "0 multiplied by 0 is 0\n",
      "----------------------\n",
      "0 multiplied by 1 is 0\n",
      "----------------------\n",
      "0 multiplied by 2 is 0\n",
      "----------------------\n",
      "0 multiplied by 3 is 0\n",
      "----------------------\n",
      "0 multiplied by 4 is 0\n",
      "----------------------\n",
      "0 multiplied by 5 is 0\n",
      "----------------------\n",
      "0 multiplied by 6 is 0\n",
      "----------------------\n",
      "0 multiplied by 7 is 0\n",
      "----------------------\n",
      "0 multiplied by 8 is 0\n",
      "----------------------\n",
      "0 multiplied by 9 is 0\n",
      "----------------------\n",
      "1 multiplied by 0 is 0\n",
      "----------------------\n",
      "1 multiplied by 1 is 1\n",
      "----------------------\n",
      "1 multiplied by 2 is 2\n",
      "----------------------\n",
      "1 multiplied by 3 is 3\n",
      "----------------------\n",
      "1 multiplied by 4 is 4\n",
      "----------------------\n",
      "1 multiplied by 5 is 5\n",
      "----------------------\n",
      "1 multiplied by 6 is 6\n",
      "----------------------\n",
      "1 multiplied by 7 is 7\n",
      "----------------------\n",
      "1 multiplied by 8 is 8\n",
      "----------------------\n",
      "1 multiplied by 9 is 9\n",
      "----------------------\n",
      "2 multiplied by 0 is 0\n",
      "----------------------\n",
      "2 multiplied by 1 is 2\n",
      "----------------------\n",
      "2 multiplied by 2 is 4\n",
      "----------------------\n",
      "2 multiplied by 3 is 6\n",
      "----------------------\n",
      "2 multiplied by 4 is 8\n",
      "----------------------\n",
      "2 multiplied by 5 is 10\n",
      "----------------------\n",
      "2 multiplied by 6 is 12\n",
      "----------------------\n",
      "2 multiplied by 7 is 14\n",
      "----------------------\n",
      "2 multiplied by 8 is 16\n",
      "----------------------\n",
      "2 multiplied by 9 is 18\n",
      "----------------------\n",
      "3 multiplied by 0 is 0\n",
      "----------------------\n",
      "3 multiplied by 1 is 3\n",
      "----------------------\n",
      "3 multiplied by 2 is 6\n",
      "----------------------\n",
      "3 multiplied by 3 is 9\n",
      "----------------------\n",
      "3 multiplied by 4 is 12\n",
      "----------------------\n",
      "3 multiplied by 5 is 15\n",
      "----------------------\n",
      "3 multiplied by 6 is 18\n",
      "----------------------\n",
      "3 multiplied by 7 is 21\n",
      "----------------------\n",
      "3 multiplied by 8 is 24\n",
      "----------------------\n",
      "3 multiplied by 9 is 27\n",
      "----------------------\n",
      "4 multiplied by 0 is 0\n",
      "----------------------\n",
      "4 multiplied by 1 is 4\n",
      "----------------------\n",
      "4 multiplied by 2 is 8\n",
      "----------------------\n",
      "4 multiplied by 3 is 12\n",
      "----------------------\n",
      "4 multiplied by 4 is 16\n",
      "----------------------\n",
      "4 multiplied by 5 is 20\n",
      "----------------------\n",
      "4 multiplied by 6 is 24\n",
      "----------------------\n",
      "4 multiplied by 7 is 28\n",
      "----------------------\n",
      "4 multiplied by 8 is 32\n",
      "----------------------\n",
      "4 multiplied by 9 is 36\n",
      "----------------------\n",
      "5 multiplied by 0 is 0\n",
      "----------------------\n",
      "5 multiplied by 1 is 5\n",
      "----------------------\n",
      "5 multiplied by 2 is 10\n",
      "----------------------\n",
      "5 multiplied by 3 is 15\n",
      "----------------------\n",
      "5 multiplied by 4 is 20\n",
      "----------------------\n",
      "5 multiplied by 5 is 25\n",
      "----------------------\n",
      "5 multiplied by 6 is 30\n",
      "----------------------\n",
      "5 multiplied by 7 is 35\n",
      "----------------------\n",
      "5 multiplied by 8 is 40\n",
      "----------------------\n",
      "5 multiplied by 9 is 45\n",
      "----------------------\n",
      "6 multiplied by 0 is 0\n",
      "----------------------\n",
      "6 multiplied by 1 is 6\n",
      "----------------------\n",
      "6 multiplied by 2 is 12\n",
      "----------------------\n",
      "6 multiplied by 3 is 18\n",
      "----------------------\n",
      "6 multiplied by 4 is 24\n",
      "----------------------\n",
      "6 multiplied by 5 is 30\n",
      "----------------------\n",
      "6 multiplied by 6 is 36\n",
      "----------------------\n",
      "6 multiplied by 7 is 42\n",
      "----------------------\n",
      "6 multiplied by 8 is 48\n",
      "----------------------\n",
      "6 multiplied by 9 is 54\n",
      "----------------------\n",
      "7 multiplied by 0 is 0\n",
      "----------------------\n",
      "7 multiplied by 1 is 7\n",
      "----------------------\n",
      "7 multiplied by 2 is 14\n",
      "----------------------\n",
      "7 multiplied by 3 is 21\n",
      "----------------------\n",
      "7 multiplied by 4 is 28\n",
      "----------------------\n",
      "7 multiplied by 5 is 35\n",
      "----------------------\n",
      "7 multiplied by 6 is 42\n",
      "----------------------\n",
      "7 multiplied by 7 is 49\n",
      "----------------------\n",
      "7 multiplied by 8 is 56\n",
      "----------------------\n",
      "7 multiplied by 9 is 63\n",
      "----------------------\n",
      "8 multiplied by 0 is 0\n",
      "----------------------\n",
      "8 multiplied by 1 is 8\n",
      "----------------------\n",
      "8 multiplied by 2 is 16\n",
      "----------------------\n",
      "8 multiplied by 3 is 24\n",
      "----------------------\n",
      "8 multiplied by 4 is 32\n",
      "----------------------\n",
      "8 multiplied by 5 is 40\n",
      "----------------------\n",
      "8 multiplied by 6 is 48\n",
      "----------------------\n",
      "8 multiplied by 7 is 56\n",
      "----------------------\n",
      "8 multiplied by 8 is 64\n",
      "----------------------\n",
      "8 multiplied by 9 is 72\n",
      "----------------------\n",
      "9 multiplied by 0 is 0\n",
      "----------------------\n",
      "9 multiplied by 1 is 9\n",
      "----------------------\n",
      "9 multiplied by 2 is 18\n",
      "----------------------\n",
      "9 multiplied by 3 is 27\n",
      "----------------------\n",
      "9 multiplied by 4 is 36\n",
      "----------------------\n",
      "9 multiplied by 5 is 45\n",
      "----------------------\n",
      "9 multiplied by 6 is 54\n",
      "----------------------\n",
      "9 multiplied by 7 is 63\n",
      "----------------------\n",
      "9 multiplied by 8 is 72\n",
      "----------------------\n",
      "9 multiplied by 9 is 81\n",
      "----------------------\n"
     ]
    }
   ],
   "source": [
    "# the multiplication table (using digits 0 through 9)\n",
    "for i in range(10):\n",
    "    for j in range(10):\n",
    "        print(f\"{i} multiplied by {j} is {i * j}\")\n",
    "        print(\"----------------------\")"
   ]
  },
  {
   "cell_type": "markdown",
   "metadata": {},
   "source": [
    "## `break` statement\n",
    "\n",
    "The `break` statement can be used within a loop\n",
    "to stop the execution of the loop before it is finished.\n",
    "For example, you might want to \"search\" for something \n",
    "each time through the loop and stop looping over the additional\n",
    "items once you have found it.\n",
    "\n",
    "Here is an example of looking the the number `0` in a list\n",
    "using a `for` loop. We use `break` to stop the iterations\n",
    "if the `0` is found."
   ]
  },
  {
   "cell_type": "code",
   "execution_count": 1,
   "metadata": {},
   "outputs": [],
   "source": [
    "some_stuff = [1, 9, 5, 7, 5.53, 5, 0, \"a\", \"b\", True, False]"
   ]
  },
  {
   "cell_type": "code",
   "execution_count": 24,
   "metadata": {},
   "outputs": [
    {
     "name": "stdout",
     "output_type": "stream",
     "text": [
      "starting the search\n",
      "1\n",
      "9\n",
      "5\n",
      "7\n",
      "5.53\n",
      "5\n",
      "0\n",
      "ending the search\n"
     ]
    }
   ],
   "source": [
    "print(\"starting the search\")\n",
    "\n",
    "for x in some_stuff:\n",
    "    print(x)\n",
    "    if x == 0:\n",
    "        break  # this will stop the execution of the for loop and go the next section of code\n",
    "\n",
    "print(\"ending the search\")"
   ]
  },
  {
   "cell_type": "markdown",
   "metadata": {},
   "source": [
    "## `continue` statement\n",
    "The `continue` statement can be used to stop the current iteration of\n",
    "a loop and **continue** with the next iteration. So unlike the `break`\n",
    "statement it does not stop the entire loop. It just skips the rest of the\n",
    "code for the current iteration and moves to the next iteration in the loop.\n",
    "Here is an example."
   ]
  },
  {
   "cell_type": "code",
   "execution_count": 25,
   "metadata": {},
   "outputs": [
    {
     "name": "stdout",
     "output_type": "stream",
     "text": [
      "[1, 9, 5, 7, 5.53, 5, 0, 'a', 'b', True, False]\n"
     ]
    }
   ],
   "source": [
    "print(some_stuff)"
   ]
  },
  {
   "cell_type": "code",
   "execution_count": 26,
   "metadata": {},
   "outputs": [
    {
     "name": "stdout",
     "output_type": "stream",
     "text": [
      "starting the loop\n",
      "1\n",
      "9\n",
      "5\n",
      "7\n",
      "5\n",
      "0\n",
      "True\n",
      "False\n",
      "ending the loop\n"
     ]
    }
   ],
   "source": [
    "print(\"starting the loop\")\n",
    "for thing in some_stuff:\n",
    "    if thing == \"a\" or thing == \"b\" or thing == 5.53:\n",
    "        continue  # skips the rest of the code in the indented block and moves to the next item in the list\n",
    "    print(thing)\n",
    "print(\"ending the loop\")"
   ]
  },
  {
   "cell_type": "markdown",
   "metadata": {},
   "source": [
    "## `while` loop\n",
    "Now that we know a little about the `for` loop we are going to \n",
    "learn about the `while` loop. The general syntax is\n",
    "\n",
    "\n",
    "```\n",
    "while condition:\n",
    "    block_of_statements\n",
    "```\n",
    "\n",
    "The `condition` is a boolean expression or variable.\n",
    "As long as the `condition` is `True`, the code within\n",
    "the `block_of_statements` will be executed. As soon\n",
    "as the `condition` is `False`, the code within the `while` \n",
    "loop (which is the `block_of_statements`) will not be executed.\n",
    "So you have to be careful with `while` loops because if the\n",
    "`condition` is always `True` it will become an infinite loop\n",
    "and loop forever!\n",
    "\n",
    "Let's look at this example.\n",
    "The variable `i` is initially 0.\n",
    "So the condition `i < 10` is `True`. Therefore\n",
    "the code indented within the loop is executed.\n",
    "It prints `0 is less than 10` and then changes\n",
    "the variable `i` to 1. Then it goes back\n",
    "to the top and the condition is now `i < 10` with\n",
    "the value of `i` as `1` so the condition is `True`\n",
    "and that code in the loop is repeated again.\n",
    "Each time through the loop the value of `i` is\n",
    "incremented by 1. Eventually `i` will be 10 and\n",
    "the condition `i < 10` will be `False` so the the code\n",
    "within `while` loop will not be executed anymore."
   ]
  },
  {
   "cell_type": "code",
   "execution_count": 27,
   "metadata": {},
   "outputs": [
    {
     "name": "stdout",
     "output_type": "stream",
     "text": [
      "start\n",
      "0 is less than 10\n",
      "1 is less than 10\n",
      "2 is less than 10\n",
      "3 is less than 10\n",
      "4 is less than 10\n",
      "5 is less than 10\n",
      "6 is less than 10\n",
      "7 is less than 10\n",
      "8 is less than 10\n",
      "9 is less than 10\n",
      "end\n"
     ]
    }
   ],
   "source": [
    "print('start')\n",
    "i = 0\n",
    "while i < 10:\n",
    "    print(f'{i} is less than 10')\n",
    "    i = i + 1\n",
    "print('end')"
   ]
  },
  {
   "cell_type": "markdown",
   "metadata": {},
   "source": [
    "If the condition for a while loop is `False` to begin with, the code within\n",
    "the loop is never executed. So the `condition` is always checked before \n",
    "starting the loop. For example, nothing here will be printed."
   ]
  },
  {
   "cell_type": "code",
   "execution_count": 28,
   "metadata": {},
   "outputs": [],
   "source": [
    "i = -1\n",
    "while i > 0: # is never True\n",
    "    print(i) # does not get executed"
   ]
  },
  {
   "cell_type": "markdown",
   "metadata": {},
   "source": [
    "You can use the `break` and `continue` statements with\n",
    "`while` loops just like with `for` loops. Here are some examples."
   ]
  },
  {
   "cell_type": "code",
   "execution_count": 29,
   "metadata": {},
   "outputs": [
    {
     "name": "stdout",
     "output_type": "stream",
     "text": [
      "starting\n",
      "9\n",
      "8\n",
      "7\n",
      "6\n",
      "5\n",
      "4\n",
      "ending\n"
     ]
    }
   ],
   "source": [
    "# break statement example\n",
    "print('starting')\n",
    "n = 10\n",
    "while n > 0:\n",
    "    n = n - 1\n",
    "    if n == 3 or n == 1:\n",
    "        break\n",
    "    print(n)\n",
    "print('ending')"
   ]
  },
  {
   "cell_type": "code",
   "execution_count": 30,
   "metadata": {},
   "outputs": [
    {
     "name": "stdout",
     "output_type": "stream",
     "text": [
      "starting\n",
      "9\n",
      "8\n",
      "7\n",
      "6\n",
      "5\n",
      "4\n",
      "2\n",
      "0\n",
      "ending\n"
     ]
    }
   ],
   "source": [
    "# continue statement example\n",
    "print('starting')\n",
    "n = 10\n",
    "while n > 0:\n",
    "    n = n - 1\n",
    "    if n == 3 or n == 1:\n",
    "        continue\n",
    "    print(n)\n",
    "print('ending')"
   ]
  },
  {
   "cell_type": "markdown",
   "metadata": {},
   "source": [
    "### infinite `while` loops\n",
    "If the `condition` within the `while` loop\n",
    "is always `True` the loop will never terminate\n",
    "and the code will execute forever. For example,\n",
    "this loop would never terminate.\n",
    "\n",
    "```\n",
    "x = 1\n",
    "while x > 0:\n",
    "    print(x)\n",
    "    x = x + 1\n",
    "```\n",
    "\n",
    "You would have to **stop** it manually by killing the program.\n",
    "If this ever happens in a Jupyter Notebook you can press the stop (square)\n",
    "button at the top of the notebook to stop the execution of the code."
   ]
  },
  {
   "cell_type": "markdown",
   "metadata": {},
   "source": [
    "## `pass` statement\n",
    "The `pass` statement is not related to loops but this is a good place to learn about it because\n",
    "we have just learned about the `break` and `continue` statements.\n",
    "The `pass` statement can be used as a fill in for future code that is not written yet. \n",
    "You can use the `pass` statement to avoid getting an error when empty code is not allowed in\n",
    "indented code blocks. Here are some examples."
   ]
  },
  {
   "cell_type": "code",
   "execution_count": 31,
   "metadata": {},
   "outputs": [
    {
     "ename": "IndentationError",
     "evalue": "expected an indented block (<ipython-input-31-6c997b82b4d7>, line 5)",
     "output_type": "error",
     "traceback": [
      "\u001b[0;36m  File \u001b[0;32m\"<ipython-input-31-6c997b82b4d7>\"\u001b[0;36m, line \u001b[0;32m5\u001b[0m\n\u001b[0;31m    print('I am done')\u001b[0m\n\u001b[0m        ^\u001b[0m\n\u001b[0;31mIndentationError\u001b[0m\u001b[0;31m:\u001b[0m expected an indented block\n"
     ]
    }
   ],
   "source": [
    "a = 2\n",
    "if a == 2:\n",
    "    # some code to be written at a later time\n",
    "\n",
    "print('I am done')"
   ]
  },
  {
   "cell_type": "markdown",
   "metadata": {},
   "source": [
    "Notice that the above code returns a `IndentationError`. This is because\n",
    "we have an indented code block and no code is in the block.\n",
    "It may be the case that we have some complex logic to write but\n",
    "we want to do it at a later time without the code breaking.\n",
    "That is, if condition `a == 2` is `True` then we want to **skip** that indented\n",
    "code block and continue on with the code. This is what the `pass` statement is used\n",
    "for."
   ]
  },
  {
   "cell_type": "code",
   "execution_count": 32,
   "metadata": {},
   "outputs": [
    {
     "name": "stdout",
     "output_type": "stream",
     "text": [
      "I am done\n"
     ]
    }
   ],
   "source": [
    "a = 2\n",
    "if a == 2:\n",
    "    # some code to be written at a later time\n",
    "    pass\n",
    "\n",
    "print('I am done')"
   ]
  },
  {
   "cell_type": "markdown",
   "metadata": {},
   "source": [
    "Here is another example using `pass`."
   ]
  },
  {
   "cell_type": "code",
   "execution_count": 33,
   "metadata": {},
   "outputs": [
    {
     "name": "stdout",
     "output_type": "stream",
     "text": [
      "6\n",
      "7\n",
      "8\n",
      "9\n"
     ]
    }
   ],
   "source": [
    "for i in range(10):\n",
    "    if i > 5:\n",
    "        print(i)\n",
    "    else:\n",
    "        # come back to this code later\n",
    "        pass"
   ]
  }
 ],
 "metadata": {
  "kernelspec": {
   "display_name": "Python 3",
   "language": "python",
   "name": "python3"
  },
  "language_info": {
   "codemirror_mode": {
    "name": "ipython",
    "version": 3
   },
   "file_extension": ".py",
   "mimetype": "text/x-python",
   "name": "python",
   "nbconvert_exporter": "python",
   "pygments_lexer": "ipython3",
   "version": "3.6.5"
  }
 },
 "nbformat": 4,
 "nbformat_minor": 4
}
