{
 "cells": [
  {
   "cell_type": "markdown",
   "metadata": {},
   "source": [
    "# Chapter 3\n",
    "\n",
    "In this chapter of the course we will learn about\n",
    "functions in Python. Knowing how to use functions and\n",
    "create your own function is very important when coding.\n",
    "Functions allow you to write modular code, write code that is easier to read,\n",
    "and write reusable code. Some of the concepts we will learn in\n",
    "this chapter include:\n",
    "\n",
    "- What are functions and why do we use them?\n",
    "- Examples of functions that are built into Python.\n",
    "- Defining your own functions.\n",
    "- Function arguments\n",
    "    - positional arguments\n",
    "    - keyword arguments \n",
    "    - default arguments\n",
    "- `return` statement\n",
    "- Local and global scope\n"
   ]
  },
  {
   "cell_type": "code",
   "execution_count": null,
   "metadata": {},
   "outputs": [],
   "source": []
  }
 ],
 "metadata": {
  "kernelspec": {
   "display_name": "Python 3",
   "language": "python",
   "name": "python3"
  },
  "language_info": {
   "codemirror_mode": {
    "name": "ipython",
    "version": 3
   },
   "file_extension": ".py",
   "mimetype": "text/x-python",
   "name": "python",
   "nbconvert_exporter": "python",
   "pygments_lexer": "ipython3",
   "version": "3.9.0"
  }
 },
 "nbformat": 4,
 "nbformat_minor": 4
}
