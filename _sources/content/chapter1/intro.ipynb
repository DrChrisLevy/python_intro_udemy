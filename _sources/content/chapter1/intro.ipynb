{
 "cells": [
  {
   "cell_type": "markdown",
   "metadata": {},
   "source": [
    "# Chapter 1: Intro To Python\n",
    "\n",
    "In this chapter you will be introduced to the Python \n",
    "programing language. Here are the main topics you will learn about:\n",
    "\n",
    "- interactive Python\n",
    "- Jupyter Notebooks\n",
    "- print\n",
    "- strings\n",
    "- variables\n",
    "- numerical data types (integers and floats)\n",
    "- string formating with f-strings \n",
    "- indexing and slicing strings\n",
    "- getting input from a user\n",
    "\n"
   ]
  },
  {
   "cell_type": "code",
   "execution_count": null,
   "metadata": {},
   "outputs": [],
   "source": []
  }
 ],
 "metadata": {
  "kernelspec": {
   "display_name": "Python 3",
   "language": "python",
   "name": "python3"
  },
  "language_info": {
   "codemirror_mode": {
    "name": "ipython",
    "version": 3
   },
   "file_extension": ".py",
   "mimetype": "text/x-python",
   "name": "python",
   "nbconvert_exporter": "python",
   "pygments_lexer": "ipython3",
   "version": "3.6.5"
  }
 },
 "nbformat": 4,
 "nbformat_minor": 4
}
