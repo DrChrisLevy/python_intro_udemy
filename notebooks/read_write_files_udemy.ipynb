{
 "cells": [
  {
   "cell_type": "markdown",
   "metadata": {},
   "source": [
    "# A Quick Intro to Reading and Writing Files\n",
    "\n",
    "## writing to an existing file"
   ]
  },
  {
   "cell_type": "code",
   "execution_count": 1,
   "metadata": {},
   "outputs": [],
   "source": [
    "f = open('my_names.txt', 'w')\n",
    "f.write('Chris Penny Hazel Joanna Isaac')\n",
    "f.close()"
   ]
  },
  {
   "cell_type": "code",
   "execution_count": 2,
   "metadata": {},
   "outputs": [],
   "source": [
    "f = open('my_names.txt', 'w')\n",
    "f.write('This will overwrite the file contents!')\n",
    "f.close()"
   ]
  },
  {
   "cell_type": "code",
   "execution_count": 3,
   "metadata": {},
   "outputs": [],
   "source": [
    "f = open('my_names.txt', 'w')\n",
    "f.write('Chris Penny Hazel Joanna Isaac')\n",
    "f.close()"
   ]
  },
  {
   "cell_type": "markdown",
   "metadata": {},
   "source": [
    "## append to existing file"
   ]
  },
  {
   "cell_type": "code",
   "execution_count": 4,
   "metadata": {},
   "outputs": [],
   "source": [
    "f = open('my_names.txt', 'a') # \"a\" is for append\n",
    "f.write('Larry Karen Andrea Aaron Peter')\n",
    "f.close()"
   ]
  },
  {
   "cell_type": "code",
   "execution_count": 5,
   "metadata": {},
   "outputs": [],
   "source": [
    "f = open('my_names.txt', 'w') # \"w\" is for write and will over write\n",
    "f.write('Chris\\nPenny\\nHazel\\nJoanna\\nIsaac')\n",
    "f.close()"
   ]
  },
  {
   "cell_type": "code",
   "execution_count": 6,
   "metadata": {},
   "outputs": [],
   "source": [
    "names = ['Chris', 'Penny', 'Hazel', 'Joanna', 'Isaac', 'Larry', 'Karen', 'Andrea', 'Aaron', 'Peter']\n",
    "f = open('my_names.txt', 'w')\n",
    "for name in names:\n",
    "    f.write(f'{name}\\n')\n",
    "f.close()"
   ]
  },
  {
   "cell_type": "markdown",
   "metadata": {},
   "source": [
    "## Better to use Context Manager `with`"
   ]
  },
  {
   "cell_type": "code",
   "execution_count": 7,
   "metadata": {},
   "outputs": [],
   "source": [
    "with open('my_names.txt', 'w') as f:\n",
    "    f.write('Chris Penny Hazel Joanna Isaac')"
   ]
  },
  {
   "cell_type": "code",
   "execution_count": 8,
   "metadata": {},
   "outputs": [],
   "source": [
    "with open('my_names.txt', 'w') as f:\n",
    "    f.write('This will overwrite the file contents!')"
   ]
  },
  {
   "cell_type": "code",
   "execution_count": 9,
   "metadata": {},
   "outputs": [],
   "source": [
    "names = ['Chris', 'Penny', 'Hazel', 'Joanna', 'Isaac', 'Larry', 'Karen', 'Andrea', 'Aaron', 'Peter']\n",
    "with open('my_names.txt', 'w') as f:\n",
    "    for name in names:\n",
    "        f.write(f'{name}\\n')"
   ]
  },
  {
   "cell_type": "code",
   "execution_count": 10,
   "metadata": {},
   "outputs": [],
   "source": [
    "# final example of writing to a file\n",
    "\n",
    "with open('multiplication.txt', 'w') as file:\n",
    "    for i in range(1, 10):\n",
    "        for j in range(1, 10):\n",
    "            file.write(f'{i} X {j} = {i * j}\\n')"
   ]
  },
  {
   "cell_type": "markdown",
   "metadata": {},
   "source": [
    "## Reading an Existing File"
   ]
  },
  {
   "cell_type": "code",
   "execution_count": 11,
   "metadata": {},
   "outputs": [],
   "source": [
    "# writing to set up file\n",
    "names = ['Chris', 'Penny', 'Hazel', 'Joanna', 'Isaac', 'Larry', 'Karen', 'Andrea', 'Aaron', 'Peter']\n",
    "with open('my_names.txt', 'w') as f:\n",
    "    for name in names:\n",
    "        f.write(f'{name}\\n')"
   ]
  },
  {
   "cell_type": "code",
   "execution_count": 12,
   "metadata": {},
   "outputs": [],
   "source": [
    "# read the file contents\n",
    "with open('my_names.txt', 'r') as f:\n",
    "    file_contents = f.read()"
   ]
  },
  {
   "cell_type": "code",
   "execution_count": 13,
   "metadata": {},
   "outputs": [
    {
     "name": "stdout",
     "output_type": "stream",
     "text": [
      "Chris\n",
      "Penny\n",
      "Hazel\n",
      "Joanna\n",
      "Isaac\n",
      "Larry\n",
      "Karen\n",
      "Andrea\n",
      "Aaron\n",
      "Peter\n",
      "\n"
     ]
    }
   ],
   "source": [
    "print(file_contents)"
   ]
  },
  {
   "cell_type": "code",
   "execution_count": 14,
   "metadata": {},
   "outputs": [
    {
     "data": {
      "text/plain": [
       "'Chris\\nPenny\\nHazel\\nJoanna\\nIsaac\\nLarry\\nKaren\\nAndrea\\nAaron\\nPeter\\n'"
      ]
     },
     "execution_count": 14,
     "metadata": {},
     "output_type": "execute_result"
    }
   ],
   "source": [
    "file_contents"
   ]
  },
  {
   "cell_type": "code",
   "execution_count": 15,
   "metadata": {},
   "outputs": [
    {
     "name": "stdout",
     "output_type": "stream",
     "text": [
      "Chris\n",
      "\n",
      "Penny\n",
      "\n",
      "Hazel\n",
      "\n",
      "Joanna\n",
      "\n",
      "Isaac\n",
      "\n",
      "Larry\n",
      "\n",
      "Karen\n",
      "\n"
     ]
    }
   ],
   "source": [
    "with open('my_names.txt', 'r') as f:\n",
    "    print(f.readline())\n",
    "    print(f.readline())\n",
    "    print(f.readline())\n",
    "    print(f.readline())\n",
    "    print(f.readline())\n",
    "    print(f.readline())\n",
    "    print(f.readline())"
   ]
  },
  {
   "cell_type": "code",
   "execution_count": 16,
   "metadata": {},
   "outputs": [
    {
     "name": "stdout",
     "output_type": "stream",
     "text": [
      "Chris\n",
      "\n",
      "Penny\n",
      "\n",
      "Hazel\n",
      "\n",
      "Joanna\n",
      "\n",
      "Isaac\n",
      "\n",
      "Larry\n",
      "\n",
      "Karen\n",
      "\n",
      "Andrea\n",
      "\n",
      "Aaron\n",
      "\n",
      "Peter\n",
      "\n"
     ]
    }
   ],
   "source": [
    "with open('my_names.txt', 'r') as file:\n",
    "    for line in file:\n",
    "        print(line)"
   ]
  },
  {
   "cell_type": "code",
   "execution_count": 17,
   "metadata": {},
   "outputs": [],
   "source": [
    "lines = []\n",
    "with open('my_names.txt', 'r') as file:\n",
    "    for l in file:\n",
    "        lines.append(l)"
   ]
  },
  {
   "cell_type": "code",
   "execution_count": 18,
   "metadata": {},
   "outputs": [
    {
     "data": {
      "text/plain": [
       "10"
      ]
     },
     "execution_count": 18,
     "metadata": {},
     "output_type": "execute_result"
    }
   ],
   "source": [
    "len(lines)"
   ]
  },
  {
   "cell_type": "code",
   "execution_count": 19,
   "metadata": {},
   "outputs": [
    {
     "data": {
      "text/plain": [
       "['Chris\\n',\n",
       " 'Penny\\n',\n",
       " 'Hazel\\n',\n",
       " 'Joanna\\n',\n",
       " 'Isaac\\n',\n",
       " 'Larry\\n',\n",
       " 'Karen\\n',\n",
       " 'Andrea\\n',\n",
       " 'Aaron\\n',\n",
       " 'Peter\\n']"
      ]
     },
     "execution_count": 19,
     "metadata": {},
     "output_type": "execute_result"
    }
   ],
   "source": [
    "lines"
   ]
  },
  {
   "cell_type": "code",
   "execution_count": 20,
   "metadata": {},
   "outputs": [],
   "source": [
    "with open('my_names.txt', 'r') as f:\n",
    "    lines = f.readlines()"
   ]
  },
  {
   "cell_type": "code",
   "execution_count": 21,
   "metadata": {},
   "outputs": [
    {
     "data": {
      "text/plain": [
       "['Chris\\n',\n",
       " 'Penny\\n',\n",
       " 'Hazel\\n',\n",
       " 'Joanna\\n',\n",
       " 'Isaac\\n',\n",
       " 'Larry\\n',\n",
       " 'Karen\\n',\n",
       " 'Andrea\\n',\n",
       " 'Aaron\\n',\n",
       " 'Peter\\n']"
      ]
     },
     "execution_count": 21,
     "metadata": {},
     "output_type": "execute_result"
    }
   ],
   "source": [
    "lines"
   ]
  },
  {
   "cell_type": "code",
   "execution_count": 22,
   "metadata": {},
   "outputs": [],
   "source": [
    "with open('my_names.txt', 'r') as file:\n",
    "    lines = [l.rstrip() for l in file.readlines()]"
   ]
  },
  {
   "cell_type": "code",
   "execution_count": 23,
   "metadata": {},
   "outputs": [
    {
     "data": {
      "text/plain": [
       "['Chris',\n",
       " 'Penny',\n",
       " 'Hazel',\n",
       " 'Joanna',\n",
       " 'Isaac',\n",
       " 'Larry',\n",
       " 'Karen',\n",
       " 'Andrea',\n",
       " 'Aaron',\n",
       " 'Peter']"
      ]
     },
     "execution_count": 23,
     "metadata": {},
     "output_type": "execute_result"
    }
   ],
   "source": [
    "lines"
   ]
  }
 ],
 "metadata": {
  "kernelspec": {
   "display_name": "Python 3",
   "language": "python",
   "name": "python3"
  },
  "language_info": {
   "codemirror_mode": {
    "name": "ipython",
    "version": 3
   },
   "file_extension": ".py",
   "mimetype": "text/x-python",
   "name": "python",
   "nbconvert_exporter": "python",
   "pygments_lexer": "ipython3",
   "version": "3.6.5"
  }
 },
 "nbformat": 4,
 "nbformat_minor": 4
}
