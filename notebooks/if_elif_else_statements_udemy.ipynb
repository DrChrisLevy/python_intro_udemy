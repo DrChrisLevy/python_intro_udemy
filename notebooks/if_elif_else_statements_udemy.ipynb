{
 "cells": [
  {
   "cell_type": "markdown",
   "metadata": {},
   "source": [
    "# `if` statement\n",
    "\n",
    "```\n",
    "if condition:\n",
    "    statements_to_execute\n",
    "```"
   ]
  },
  {
   "cell_type": "code",
   "execution_count": 1,
   "metadata": {},
   "outputs": [
    {
     "name": "stdout",
     "output_type": "stream",
     "text": [
      "Good Bye, see you next year.\n"
     ]
    }
   ],
   "source": [
    "final_grade = 49.9\n",
    "if final_grade >= 50:\n",
    "    print(f'Your final grade was {final_grade} so you passed!')\n",
    "    \n",
    "print('Good Bye, see you next year.')\n",
    "    "
   ]
  },
  {
   "cell_type": "code",
   "execution_count": 2,
   "metadata": {},
   "outputs": [],
   "source": [
    "# try your own example"
   ]
  },
  {
   "cell_type": "markdown",
   "metadata": {},
   "source": [
    "# `else` statement\n",
    "\n",
    "```\n",
    "if condition:\n",
    "    statements_to_execute\n",
    "else:\n",
    "    alternative_statements_to_execute\n",
    "```"
   ]
  },
  {
   "cell_type": "code",
   "execution_count": 3,
   "metadata": {},
   "outputs": [
    {
     "name": "stdout",
     "output_type": "stream",
     "text": [
      "Your final grade was 49.999. You Failed. Try harder next time.\n",
      "Good Bye, see you next year.\n"
     ]
    }
   ],
   "source": [
    "final_grade = 49.999\n",
    "if final_grade >= 50:\n",
    "    print(f'Your final grade was {final_grade} so you passed!')\n",
    "else:\n",
    "    print(f'Your final grade was {final_grade}. You Failed. Try harder next time.')\n",
    "    \n",
    "print('Good Bye, see you next year.')\n",
    "    "
   ]
  },
  {
   "cell_type": "code",
   "execution_count": 4,
   "metadata": {},
   "outputs": [
    {
     "data": {
      "text/plain": [
       "False"
      ]
     },
     "execution_count": 4,
     "metadata": {},
     "output_type": "execute_result"
    }
   ],
   "source": [
    "final_grade >= 50"
   ]
  },
  {
   "cell_type": "code",
   "execution_count": 5,
   "metadata": {},
   "outputs": [],
   "source": [
    "# try your own example"
   ]
  },
  {
   "cell_type": "markdown",
   "metadata": {},
   "source": [
    "# `elif` statement\n",
    "\n",
    "```\n",
    "if first_condition:\n",
    "    # executed if first_condition is True\n",
    "    first_statements_to_execute \n",
    "elif second_condition:\n",
    "    # executed if first_condition is False and second_condition is True\n",
    "    second_statements_to_execute \n",
    "elif third_condition:\n",
    "    # executed if first_condition is False and second_condition is False \n",
    "    # and third_condition is True\n",
    "    third_statements_to_execute \n",
    ".\n",
    ".\n",
    ".\n",
    "else:\n",
    "    alternative_statements_to_execute # executed if all conditions above are False\n",
    "```"
   ]
  },
  {
   "cell_type": "code",
   "execution_count": 6,
   "metadata": {},
   "outputs": [
    {
     "name": "stdout",
     "output_type": "stream",
     "text": [
      "Your final grade was 75. You did good work! You passed!\n",
      "Good Bye, see you next year.\n"
     ]
    }
   ],
   "source": [
    "final_grade = 75 # try these different values 95, 90, 80, 75, 70, 50, and 45\n",
    "if final_grade >= 90:\n",
    "    print(f'Your final grade was {final_grade}. You did amazing work! You passed!')\n",
    "elif final_grade >= 80:\n",
    "    print(f'Your final grade was {final_grade}. You did really good work! You passed!')\n",
    "elif final_grade >= 70:\n",
    "    print(f'Your final grade was {final_grade}. You did good work! You passed!')\n",
    "elif final_grade >= 50:\n",
    "    print(f'Your final grade was {final_grade}. You did okay work. You passed.')\n",
    "else:\n",
    "    print(f'Your final grade was {final_grade}. You Failed. Try harder next time.')\n",
    "    \n",
    "print('Good Bye, see you next year.')\n",
    "    "
   ]
  },
  {
   "cell_type": "markdown",
   "metadata": {},
   "source": [
    "# example"
   ]
  },
  {
   "cell_type": "code",
   "execution_count": 7,
   "metadata": {},
   "outputs": [],
   "source": [
    "x = 'HELLO' # change to 'hello' to make it print\n",
    "if x == 'hello':\n",
    "    print('hello world')"
   ]
  },
  {
   "cell_type": "markdown",
   "metadata": {},
   "source": [
    "# example"
   ]
  },
  {
   "cell_type": "code",
   "execution_count": 8,
   "metadata": {},
   "outputs": [
    {
     "name": "stdout",
     "output_type": "stream",
     "text": [
      "8 is not strictly larger than 10.\n"
     ]
    }
   ],
   "source": [
    "x = 3 # change to different values\n",
    "\n",
    "if x + 5 > 10:\n",
    "    print(f'{x + 5} is strictly larger than 10.')\n",
    "else:\n",
    "    print(f'{x + 5} is not strictly larger than 10.')"
   ]
  },
  {
   "cell_type": "markdown",
   "metadata": {},
   "source": [
    "# example"
   ]
  },
  {
   "cell_type": "code",
   "execution_count": 9,
   "metadata": {},
   "outputs": [
    {
     "name": "stdout",
     "output_type": "stream",
     "text": [
      "0 is zero\n"
     ]
    }
   ],
   "source": [
    "# example\n",
    "\n",
    "x = 0\n",
    "if x > 0:\n",
    "    print(f'{x} is positive.')\n",
    "elif x < 0:\n",
    "    print(f'{x} is negative.')\n",
    "else:\n",
    "    print(f'{x} is zero')\n"
   ]
  },
  {
   "cell_type": "code",
   "execution_count": 10,
   "metadata": {},
   "outputs": [
    {
     "name": "stdout",
     "output_type": "stream",
     "text": [
      "99 is positive.\n"
     ]
    }
   ],
   "source": [
    "# example\n",
    "\n",
    "x = 99\n",
    "if x >= 100:\n",
    "    print(f'{x} is big.')\n",
    "elif x > 0:\n",
    "    print(f'{x} is positive.')\n",
    "elif x < 0:\n",
    "    print(f'{x} is negative.')\n",
    "else:\n",
    "    print(f'{x} is zero')"
   ]
  },
  {
   "cell_type": "code",
   "execution_count": 11,
   "metadata": {},
   "outputs": [],
   "source": [
    "# example\n",
    "\n",
    "x = 0\n",
    "if x >= 100:\n",
    "    print(f'{x} is big.')\n",
    "elif x > 0:\n",
    "    print(f'{x} is positive.')\n",
    "elif x < 0:\n",
    "    print(f'{x} is negative.')\n",
    "    "
   ]
  },
  {
   "cell_type": "markdown",
   "metadata": {},
   "source": [
    "## example\n",
    "\n",
    "Here we will look at another example to practice\n",
    "with the `if`, `elif`, and `else` statements. Suppose an employee \n",
    "has to work on Monday, Wednesday, and Friday and has to wear\n",
    "a different color uniform on each of those days. Red on Monday,\n",
    "blue on Wednesday, and green on Friday. Also suppose they have to remember\n",
    "to bring lunch on Monday and Wednesday but not on Fridays. We will write a simple\n",
    "program that prints what color to wear and if the employee needs to bring\n",
    "food, based on the day of the week."
   ]
  },
  {
   "cell_type": "code",
   "execution_count": 22,
   "metadata": {},
   "outputs": [
    {
     "name": "stdout",
     "output_type": "stream",
     "text": [
      "You do not need to work today. Enjoy the day!\n"
     ]
    }
   ],
   "source": [
    "day = 'monday' # can change it\n",
    "\n",
    "if day == 'Monday':\n",
    "    print('You need to wear red today.')\n",
    "    print('You also need to bring food.')\n",
    "elif day == 'Wednesday':\n",
    "    print('You need to wear blue today.')\n",
    "    print('You also need to bring food.')\n",
    "elif day == 'Friday':\n",
    "    print('You need to wear green today.')\n",
    "    print('You do not need to bring food.')\n",
    "else:\n",
    "    print('You do not need to work today. Enjoy the day!')"
   ]
  },
  {
   "cell_type": "markdown",
   "metadata": {},
   "source": [
    "# Nested `if` statements"
   ]
  },
  {
   "cell_type": "code",
   "execution_count": 27,
   "metadata": {},
   "outputs": [
    {
     "name": "stdout",
     "output_type": "stream",
     "text": [
      "-2 is smaller than 5\n",
      "and is also negative.\n"
     ]
    }
   ],
   "source": [
    "x = -2 # run the code with x as 15, 7, 4, and -2 to see the different blocks executed\n",
    "\n",
    "if x > 5:\n",
    "    print(f'{x} is larger than 5')\n",
    "    if x > 10:\n",
    "        print('and is also larger than 10.')\n",
    "    else:\n",
    "        print('but is not larger than 10')\n",
    "else:\n",
    "    print(f'{x} is smaller than 5')\n",
    "    if x < 0:\n",
    "        print('and is also negative.')\n",
    "    \n"
   ]
  },
  {
   "cell_type": "code",
   "execution_count": null,
   "metadata": {},
   "outputs": [],
   "source": []
  },
  {
   "cell_type": "code",
   "execution_count": null,
   "metadata": {},
   "outputs": [],
   "source": []
  },
  {
   "cell_type": "code",
   "execution_count": null,
   "metadata": {},
   "outputs": [],
   "source": []
  },
  {
   "cell_type": "code",
   "execution_count": null,
   "metadata": {},
   "outputs": [],
   "source": []
  },
  {
   "cell_type": "code",
   "execution_count": null,
   "metadata": {},
   "outputs": [],
   "source": []
  }
 ],
 "metadata": {
  "kernelspec": {
   "display_name": "Python 3",
   "language": "python",
   "name": "python3"
  },
  "language_info": {
   "codemirror_mode": {
    "name": "ipython",
    "version": 3
   },
   "file_extension": ".py",
   "mimetype": "text/x-python",
   "name": "python",
   "nbconvert_exporter": "python",
   "pygments_lexer": "ipython3",
   "version": "3.6.5"
  }
 },
 "nbformat": 4,
 "nbformat_minor": 4
}
