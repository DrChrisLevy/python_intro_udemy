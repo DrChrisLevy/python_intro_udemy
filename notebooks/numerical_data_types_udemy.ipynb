{
 "cells": [
  {
   "cell_type": "markdown",
   "metadata": {},
   "source": [
    "This is an example of a markdown cell.\n",
    "\n",
    "# Heading\n",
    "\n",
    "## Heading 2\n",
    "\n",
    "### Heading 3\n",
    "\n",
    "**bold words**\n",
    "\n",
    "*italic*\n",
    "\n",
    "- here is a note\n",
    "    - here is an indented note"
   ]
  },
  {
   "cell_type": "markdown",
   "metadata": {},
   "source": [
    "# Numerical Data Types\n",
    "\n",
    "1. integers\n",
    "\n",
    "2. floating point numbers\n",
    "\n",
    "3. complex numbers"
   ]
  },
  {
   "cell_type": "code",
   "execution_count": 5,
   "metadata": {},
   "outputs": [
    {
     "name": "stdout",
     "output_type": "stream",
     "text": [
      "10\n",
      "<class 'int'>\n",
      "5\n",
      "<class 'int'>\n",
      "30\n",
      "<class 'int'>\n"
     ]
    }
   ],
   "source": [
    "x = 10\n",
    "print(x)\n",
    "print(type(x))\n",
    "y = x - 5\n",
    "print(y)\n",
    "print(type(y))\n",
    "y = y * y + y\n",
    "print(y)\n",
    "print(type(y))"
   ]
  },
  {
   "cell_type": "code",
   "execution_count": 6,
   "metadata": {},
   "outputs": [
    {
     "name": "stdout",
     "output_type": "stream",
     "text": [
      "<class 'int'>\n",
      "<class 'int'>\n",
      "-2\n"
     ]
    }
   ],
   "source": [
    "starting_temperature = 5\n",
    "ending_temperature = starting_temperature - 7\n",
    "print(type(starting_temperature))\n",
    "print(type(ending_temperature))\n",
    "print(ending_temperature)"
   ]
  },
  {
   "cell_type": "code",
   "execution_count": 11,
   "metadata": {},
   "outputs": [
    {
     "name": "stdout",
     "output_type": "stream",
     "text": [
      "2.0\n",
      "<class 'float'>\n",
      "0.5\n",
      "<class 'float'>\n"
     ]
    }
   ],
   "source": [
    "# floating point numbers\n",
    "a = 10\n",
    "b = 5\n",
    "c = a / b\n",
    "print(c)\n",
    "print(type(c))\n",
    "d = b / a\n",
    "print(d)\n",
    "print(type(d))"
   ]
  },
  {
   "cell_type": "code",
   "execution_count": 13,
   "metadata": {},
   "outputs": [
    {
     "name": "stdout",
     "output_type": "stream",
     "text": [
      "0.3333333333333333\n",
      "<class 'float'>\n"
     ]
    }
   ],
   "source": [
    "w = 1 / 9\n",
    "v = 2 / 9\n",
    "print(w + v)\n",
    "print(type(w + v))"
   ]
  },
  {
   "cell_type": "code",
   "execution_count": null,
   "metadata": {},
   "outputs": [],
   "source": []
  }
 ],
 "metadata": {
  "kernelspec": {
   "display_name": "Python 3",
   "language": "python",
   "name": "python3"
  },
  "language_info": {
   "codemirror_mode": {
    "name": "ipython",
    "version": 3
   },
   "file_extension": ".py",
   "mimetype": "text/x-python",
   "name": "python",
   "nbconvert_exporter": "python",
   "pygments_lexer": "ipython3",
   "version": "3.6.5"
  }
 },
 "nbformat": 4,
 "nbformat_minor": 4
}
