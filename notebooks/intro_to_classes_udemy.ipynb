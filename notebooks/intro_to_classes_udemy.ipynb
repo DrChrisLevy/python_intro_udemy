{
 "cells": [
  {
   "cell_type": "markdown",
   "metadata": {},
   "source": [
    "# Intro to Classes\n",
    "\n",
    "## Defining Classes"
   ]
  },
  {
   "cell_type": "code",
   "execution_count": 1,
   "metadata": {},
   "outputs": [],
   "source": [
    "class Person:\n",
    "    def __init__(self, first_name, last_name, height, birth_date):\n",
    "        self.first_name = first_name\n",
    "        self.last_name = last_name\n",
    "        self.height = height\n",
    "        self.birth_date = birth_date\n",
    "        "
   ]
  },
  {
   "cell_type": "code",
   "execution_count": 2,
   "metadata": {},
   "outputs": [],
   "source": [
    "p1 = Person('Chris', 'Levy', 6, 1985)"
   ]
  },
  {
   "cell_type": "code",
   "execution_count": 3,
   "metadata": {},
   "outputs": [],
   "source": [
    "p1"
   ]
  },
  {
   "cell_type": "code",
   "execution_count": 4,
   "metadata": {},
   "outputs": [],
   "source": [
    "type(p1)"
   ]
  },
  {
   "cell_type": "code",
   "execution_count": 5,
   "metadata": {},
   "outputs": [
    {
     "data": {
      "text/plain": [
       "'Chris'"
      ]
     },
     "execution_count": 5,
     "metadata": {},
     "output_type": "execute_result"
    }
   ],
   "source": [
    "p1.first_name"
   ]
  },
  {
   "cell_type": "code",
   "execution_count": 6,
   "metadata": {},
   "outputs": [
    {
     "data": {
      "text/plain": [
       "1985"
      ]
     },
     "execution_count": 6,
     "metadata": {},
     "output_type": "execute_result"
    }
   ],
   "source": [
    "p1.birth_date"
   ]
  },
  {
   "cell_type": "code",
   "execution_count": 7,
   "metadata": {},
   "outputs": [
    {
     "data": {
      "text/plain": [
       "'Levy'"
      ]
     },
     "execution_count": 7,
     "metadata": {},
     "output_type": "execute_result"
    }
   ],
   "source": [
    "p1.last_name"
   ]
  },
  {
   "cell_type": "code",
   "execution_count": 8,
   "metadata": {},
   "outputs": [
    {
     "data": {
      "text/plain": [
       "6"
      ]
     },
     "execution_count": 8,
     "metadata": {},
     "output_type": "execute_result"
    }
   ],
   "source": [
    "p1.height"
   ]
  },
  {
   "cell_type": "code",
   "execution_count": 9,
   "metadata": {},
   "outputs": [],
   "source": [
    "p2 = Person('Joanna', 'Levy', 5.5, 1983)"
   ]
  },
  {
   "cell_type": "code",
   "execution_count": 10,
   "metadata": {},
   "outputs": [
    {
     "data": {
      "text/plain": [
       "'Joanna'"
      ]
     },
     "execution_count": 10,
     "metadata": {},
     "output_type": "execute_result"
    }
   ],
   "source": [
    "p2.first_name"
   ]
  },
  {
   "cell_type": "code",
   "execution_count": 11,
   "metadata": {},
   "outputs": [
    {
     "data": {
      "text/plain": [
       "'Levy'"
      ]
     },
     "execution_count": 11,
     "metadata": {},
     "output_type": "execute_result"
    }
   ],
   "source": [
    "p2.last_name"
   ]
  },
  {
   "cell_type": "code",
   "execution_count": 12,
   "metadata": {},
   "outputs": [],
   "source": [
    "import datetime\n",
    "class Person:\n",
    "    def __init__(self, first_name, last_name, height, birth_date):\n",
    "        self.first_name = first_name\n",
    "        self.last_name = last_name\n",
    "        self.height = height\n",
    "        self.birth_date = birth_date\n",
    "    \n",
    "    def age(self):\n",
    "        todays_date = datetime.date.today()\n",
    "        return todays_date.year - self.birth_date"
   ]
  },
  {
   "cell_type": "code",
   "execution_count": 13,
   "metadata": {},
   "outputs": [],
   "source": [
    "p1 = Person(first_name='Chris', last_name='Levy', height=6, birth_date=1985)"
   ]
  },
  {
   "cell_type": "code",
   "execution_count": 14,
   "metadata": {},
   "outputs": [
    {
     "data": {
      "text/plain": [
       "'Levy'"
      ]
     },
     "execution_count": 14,
     "metadata": {},
     "output_type": "execute_result"
    }
   ],
   "source": [
    "p1.last_name"
   ]
  },
  {
   "cell_type": "code",
   "execution_count": 15,
   "metadata": {},
   "outputs": [
    {
     "data": {
      "text/plain": [
       "36"
      ]
     },
     "execution_count": 15,
     "metadata": {},
     "output_type": "execute_result"
    }
   ],
   "source": [
    "p1.age()"
   ]
  },
  {
   "cell_type": "code",
   "execution_count": 16,
   "metadata": {},
   "outputs": [],
   "source": [
    "p2 = Person(first_name='Joanna', last_name='Levy', height=5.7, birth_date=1983)"
   ]
  },
  {
   "cell_type": "code",
   "execution_count": 17,
   "metadata": {},
   "outputs": [
    {
     "data": {
      "text/plain": [
       "38"
      ]
     },
     "execution_count": 17,
     "metadata": {},
     "output_type": "execute_result"
    }
   ],
   "source": [
    "p2.age()"
   ]
  },
  {
   "cell_type": "code",
   "execution_count": 18,
   "metadata": {},
   "outputs": [
    {
     "name": "stdout",
     "output_type": "stream",
     "text": [
      "Chris Levy is 6 feet tall and is 36 years old.\n"
     ]
    }
   ],
   "source": [
    "print(f'{p1.first_name} {p1.last_name} is {p1.height} feet tall and is {p1.age()} years old.')"
   ]
  },
  {
   "cell_type": "code",
   "execution_count": 19,
   "metadata": {},
   "outputs": [
    {
     "name": "stdout",
     "output_type": "stream",
     "text": [
      "Joanna Levy is 5.7 feet tall and is 38 years old.\n"
     ]
    }
   ],
   "source": [
    "print(f'{p2.first_name} {p2.last_name} is {p2.height} feet tall and is {p2.age()} years old.')"
   ]
  },
  {
   "cell_type": "code",
   "execution_count": 20,
   "metadata": {},
   "outputs": [],
   "source": [
    "import datetime\n",
    "class Person:\n",
    "    def __init__(self, first_name, last_name, height, birth_date):\n",
    "        self.first_name = first_name\n",
    "        self.last_name = last_name\n",
    "        self.height = height\n",
    "        self.birth_date = birth_date\n",
    "    \n",
    "    def age(self):\n",
    "        todays_date = datetime.date.today()\n",
    "        return todays_date.year - self.birth_date\n",
    "    \n",
    "    def print_details(self):\n",
    "        age = self.age()\n",
    "        print(f'{self.first_name} {self.last_name} is '\n",
    "              f'{self.height} feet tall and is {age} years old.')\n",
    "        "
   ]
  },
  {
   "cell_type": "code",
   "execution_count": 21,
   "metadata": {},
   "outputs": [],
   "source": [
    "p1 = Person(first_name='Chris', last_name='Levy', height=6, birth_date=1985)\n",
    "p2 = Person(first_name='Joanna', last_name='Levy', height=5.7, birth_date=1983)"
   ]
  },
  {
   "cell_type": "code",
   "execution_count": 22,
   "metadata": {},
   "outputs": [
    {
     "name": "stdout",
     "output_type": "stream",
     "text": [
      "Chris Levy is 6 feet tall and is 36 years old.\n",
      "Joanna Levy is 5.7 feet tall and is 38 years old.\n"
     ]
    }
   ],
   "source": [
    "p1.print_details()\n",
    "p2.print_details()"
   ]
  },
  {
   "cell_type": "markdown",
   "metadata": {},
   "source": [
    "## Changing Class Instance Attributes"
   ]
  },
  {
   "cell_type": "code",
   "execution_count": 23,
   "metadata": {},
   "outputs": [
    {
     "data": {
      "text/plain": [
       "'Chris'"
      ]
     },
     "execution_count": 23,
     "metadata": {},
     "output_type": "execute_result"
    }
   ],
   "source": [
    "p1.first_name"
   ]
  },
  {
   "cell_type": "code",
   "execution_count": 24,
   "metadata": {},
   "outputs": [
    {
     "data": {
      "text/plain": [
       "'Levy'"
      ]
     },
     "execution_count": 24,
     "metadata": {},
     "output_type": "execute_result"
    }
   ],
   "source": [
    "p1.last_name"
   ]
  },
  {
   "cell_type": "code",
   "execution_count": 25,
   "metadata": {},
   "outputs": [],
   "source": [
    "p1.first_name = 'Isaac'"
   ]
  },
  {
   "cell_type": "code",
   "execution_count": 26,
   "metadata": {},
   "outputs": [],
   "source": [
    "p1.birth_date = 2011"
   ]
  },
  {
   "cell_type": "code",
   "execution_count": 27,
   "metadata": {},
   "outputs": [],
   "source": [
    "p1.height = 4.5"
   ]
  },
  {
   "cell_type": "code",
   "execution_count": 28,
   "metadata": {},
   "outputs": [
    {
     "name": "stdout",
     "output_type": "stream",
     "text": [
      "Isaac Levy is 4.5 feet tall and is 10 years old.\n"
     ]
    }
   ],
   "source": [
    "p1.print_details()"
   ]
  },
  {
   "cell_type": "markdown",
   "metadata": {},
   "source": [
    "## Bank Account Example\n"
   ]
  },
  {
   "cell_type": "code",
   "execution_count": 29,
   "metadata": {},
   "outputs": [],
   "source": [
    "class BankAccount:\n",
    "    def __init__(self, name):\n",
    "        self.name = name\n",
    "        self.balance = 0\n",
    "        self.transaction_history = []"
   ]
  },
  {
   "cell_type": "code",
   "execution_count": 30,
   "metadata": {},
   "outputs": [],
   "source": [
    "account = BankAccount('Chris Levy')"
   ]
  },
  {
   "cell_type": "code",
   "execution_count": 31,
   "metadata": {},
   "outputs": [
    {
     "name": "stdout",
     "output_type": "stream",
     "text": [
      "Chris Levy 0 []\n"
     ]
    }
   ],
   "source": [
    "print(account.name, account.balance, account.transaction_history)"
   ]
  },
  {
   "cell_type": "code",
   "execution_count": 32,
   "metadata": {},
   "outputs": [],
   "source": [
    "class BankAccount:\n",
    "    def __init__(self, name):\n",
    "        self.name = name\n",
    "        self.balance = 0\n",
    "        self.transaction_history = []\n",
    "    \n",
    "    def deposit(self, amount):\n",
    "        self.balance = self.balance + amount"
   ]
  },
  {
   "cell_type": "code",
   "execution_count": 33,
   "metadata": {},
   "outputs": [
    {
     "name": "stdout",
     "output_type": "stream",
     "text": [
      "Chris Levy 0 []\n"
     ]
    }
   ],
   "source": [
    "account = BankAccount('Chris Levy')\n",
    "print(account.name, account.balance, account.transaction_history)"
   ]
  },
  {
   "cell_type": "code",
   "execution_count": 34,
   "metadata": {},
   "outputs": [],
   "source": [
    "account.deposit(100)"
   ]
  },
  {
   "cell_type": "code",
   "execution_count": 35,
   "metadata": {},
   "outputs": [
    {
     "name": "stdout",
     "output_type": "stream",
     "text": [
      "Chris Levy 100 []\n"
     ]
    }
   ],
   "source": [
    "print(account.name, account.balance, account.transaction_history)"
   ]
  },
  {
   "cell_type": "code",
   "execution_count": 36,
   "metadata": {},
   "outputs": [],
   "source": [
    "account.deposit(30)"
   ]
  },
  {
   "cell_type": "code",
   "execution_count": 37,
   "metadata": {},
   "outputs": [
    {
     "name": "stdout",
     "output_type": "stream",
     "text": [
      "Chris Levy 130 []\n"
     ]
    }
   ],
   "source": [
    "print(account.name, account.balance, account.transaction_history)"
   ]
  },
  {
   "cell_type": "code",
   "execution_count": 38,
   "metadata": {},
   "outputs": [
    {
     "name": "stdout",
     "output_type": "stream",
     "text": [
      "Chris Levy 152 []\n"
     ]
    }
   ],
   "source": [
    "account.deposit(22)\n",
    "print(account.name, account.balance, account.transaction_history)"
   ]
  },
  {
   "cell_type": "code",
   "execution_count": 39,
   "metadata": {},
   "outputs": [],
   "source": [
    "account2 = BankAccount('Isaac')"
   ]
  },
  {
   "cell_type": "code",
   "execution_count": 40,
   "metadata": {},
   "outputs": [],
   "source": [
    "account2.deposit(10)"
   ]
  },
  {
   "cell_type": "code",
   "execution_count": 41,
   "metadata": {},
   "outputs": [
    {
     "name": "stdout",
     "output_type": "stream",
     "text": [
      "Isaac 10 []\n"
     ]
    }
   ],
   "source": [
    "print(account2.name, account2.balance, account2.transaction_history)"
   ]
  },
  {
   "cell_type": "code",
   "execution_count": 42,
   "metadata": {},
   "outputs": [
    {
     "name": "stdout",
     "output_type": "stream",
     "text": [
      "Chris Levy 152 []\n"
     ]
    }
   ],
   "source": [
    "print(account.name, account.balance, account.transaction_history)"
   ]
  },
  {
   "cell_type": "code",
   "execution_count": 43,
   "metadata": {},
   "outputs": [],
   "source": [
    "from datetime import datetime\n",
    "\n",
    "class BankAccount:\n",
    "    def __init__(self, name):\n",
    "        self.name = name\n",
    "        self.balance = 0\n",
    "        self.transaction_history = []\n",
    "    \n",
    "    def deposit(self, amount, details=None):\n",
    "        self.balance = self.balance + amount\n",
    "        now = datetime.now()\n",
    "        transaction = {'amount': amount,\n",
    "                      'type': 'deposit',\n",
    "                      'details': details,\n",
    "                      'date': now.strftime(\"%Y/%m/%d/ %H:%M:%S\")} # format date as string\n",
    "        self.transaction_history.append(transaction)\n",
    "        "
   ]
  },
  {
   "cell_type": "code",
   "execution_count": 44,
   "metadata": {},
   "outputs": [],
   "source": [
    "account = BankAccount('Chris')"
   ]
  },
  {
   "cell_type": "code",
   "execution_count": 45,
   "metadata": {},
   "outputs": [
    {
     "name": "stdout",
     "output_type": "stream",
     "text": [
      "Chris 0 []\n"
     ]
    }
   ],
   "source": [
    "print(account.name, account.balance, account.transaction_history)"
   ]
  },
  {
   "cell_type": "code",
   "execution_count": 46,
   "metadata": {},
   "outputs": [],
   "source": [
    "account.deposit(10000, 'Setting up my account.')"
   ]
  },
  {
   "cell_type": "code",
   "execution_count": 47,
   "metadata": {},
   "outputs": [
    {
     "data": {
      "text/plain": [
       "10000"
      ]
     },
     "execution_count": 47,
     "metadata": {},
     "output_type": "execute_result"
    }
   ],
   "source": [
    "account.balance"
   ]
  },
  {
   "cell_type": "code",
   "execution_count": 48,
   "metadata": {},
   "outputs": [
    {
     "data": {
      "text/plain": [
       "[{'amount': 10000,\n",
       "  'type': 'deposit',\n",
       "  'details': 'Setting up my account.',\n",
       "  'date': '2021/01/23/ 08:06:39'}]"
      ]
     },
     "execution_count": 48,
     "metadata": {},
     "output_type": "execute_result"
    }
   ],
   "source": [
    "account.transaction_history"
   ]
  },
  {
   "cell_type": "code",
   "execution_count": 49,
   "metadata": {},
   "outputs": [],
   "source": [
    "account.deposit(100, 'money I got as a gift')"
   ]
  },
  {
   "cell_type": "code",
   "execution_count": 50,
   "metadata": {},
   "outputs": [
    {
     "data": {
      "text/plain": [
       "10100"
      ]
     },
     "execution_count": 50,
     "metadata": {},
     "output_type": "execute_result"
    }
   ],
   "source": [
    "account.balance"
   ]
  },
  {
   "cell_type": "code",
   "execution_count": 51,
   "metadata": {},
   "outputs": [
    {
     "data": {
      "text/plain": [
       "[{'amount': 10000,\n",
       "  'type': 'deposit',\n",
       "  'details': 'Setting up my account.',\n",
       "  'date': '2021/01/23/ 08:06:39'},\n",
       " {'amount': 100,\n",
       "  'type': 'deposit',\n",
       "  'details': 'money I got as a gift',\n",
       "  'date': '2021/01/23/ 08:06:39'}]"
      ]
     },
     "execution_count": 51,
     "metadata": {},
     "output_type": "execute_result"
    }
   ],
   "source": [
    "account.transaction_history"
   ]
  },
  {
   "cell_type": "code",
   "execution_count": 52,
   "metadata": {},
   "outputs": [],
   "source": [
    "account.deposit(3000)"
   ]
  },
  {
   "cell_type": "code",
   "execution_count": 53,
   "metadata": {},
   "outputs": [
    {
     "data": {
      "text/plain": [
       "[{'amount': 10000,\n",
       "  'type': 'deposit',\n",
       "  'details': 'Setting up my account.',\n",
       "  'date': '2021/01/23/ 08:06:39'},\n",
       " {'amount': 100,\n",
       "  'type': 'deposit',\n",
       "  'details': 'money I got as a gift',\n",
       "  'date': '2021/01/23/ 08:06:39'},\n",
       " {'amount': 3000,\n",
       "  'type': 'deposit',\n",
       "  'details': None,\n",
       "  'date': '2021/01/23/ 08:06:39'}]"
      ]
     },
     "execution_count": 53,
     "metadata": {},
     "output_type": "execute_result"
    }
   ],
   "source": [
    "account.transaction_history"
   ]
  },
  {
   "cell_type": "code",
   "execution_count": 54,
   "metadata": {},
   "outputs": [],
   "source": [
    "from datetime import datetime\n",
    "\n",
    "class BankAccount:\n",
    "    def __init__(self, name):\n",
    "        self.name = name\n",
    "        self.balance = 0\n",
    "        self.transaction_history = []\n",
    "    \n",
    "    def deposit(self, amount, details=None):\n",
    "        self.balance = self.balance + amount\n",
    "        now = datetime.now()\n",
    "        transaction = {'amount': amount,\n",
    "                      'type': 'deposit',\n",
    "                      'details': details,\n",
    "                      'date': now.strftime(\"%Y/%m/%d/ %H:%M:%S\")} # format date as string\n",
    "        self.transaction_history.append(transaction)\n",
    "    \n",
    "    def withdrawal(self, amount, details=None):\n",
    "        new_balance = self.balance - amount\n",
    "        if new_balance < 0:\n",
    "            print(f'Sorry! You only have ${self.balance} in your account.')\n",
    "            print(f'You can not complete a transaction of ${amount} at this time')\n",
    "            return\n",
    "        \n",
    "        self.balance = new_balance\n",
    "        now = datetime.now()\n",
    "        transaction = {\n",
    "            'amount': -1 * amount,\n",
    "            'type': 'withdrawal',\n",
    "            'details': details,\n",
    "            'date': now.strftime(\"%Y/%m/%d/ %H:%M:%S\") # format date as string\n",
    "        }\n",
    "        self.transaction_history.append(transaction)\n",
    "        \n",
    "        "
   ]
  },
  {
   "cell_type": "code",
   "execution_count": 55,
   "metadata": {},
   "outputs": [],
   "source": [
    "account = BankAccount('Chris')"
   ]
  },
  {
   "cell_type": "code",
   "execution_count": 56,
   "metadata": {},
   "outputs": [],
   "source": [
    "account.deposit(100)\n",
    "account.deposit(200)\n",
    "account.deposit(300)"
   ]
  },
  {
   "cell_type": "code",
   "execution_count": 57,
   "metadata": {},
   "outputs": [
    {
     "data": {
      "text/plain": [
       "600"
      ]
     },
     "execution_count": 57,
     "metadata": {},
     "output_type": "execute_result"
    }
   ],
   "source": [
    "account.balance"
   ]
  },
  {
   "cell_type": "code",
   "execution_count": 58,
   "metadata": {},
   "outputs": [],
   "source": [
    "account.withdrawal(400)"
   ]
  },
  {
   "cell_type": "code",
   "execution_count": 59,
   "metadata": {},
   "outputs": [
    {
     "data": {
      "text/plain": [
       "200"
      ]
     },
     "execution_count": 59,
     "metadata": {},
     "output_type": "execute_result"
    }
   ],
   "source": [
    "account.balance"
   ]
  },
  {
   "cell_type": "code",
   "execution_count": 60,
   "metadata": {},
   "outputs": [
    {
     "name": "stdout",
     "output_type": "stream",
     "text": [
      "Sorry! You only have $200 in your account.\n",
      "You can not complete a transaction of $201 at this time\n"
     ]
    }
   ],
   "source": [
    "account.withdrawal(201)"
   ]
  },
  {
   "cell_type": "code",
   "execution_count": 61,
   "metadata": {},
   "outputs": [
    {
     "data": {
      "text/plain": [
       "[{'amount': 100,\n",
       "  'type': 'deposit',\n",
       "  'details': None,\n",
       "  'date': '2021/01/23/ 08:06:39'},\n",
       " {'amount': 200,\n",
       "  'type': 'deposit',\n",
       "  'details': None,\n",
       "  'date': '2021/01/23/ 08:06:39'},\n",
       " {'amount': 300,\n",
       "  'type': 'deposit',\n",
       "  'details': None,\n",
       "  'date': '2021/01/23/ 08:06:39'},\n",
       " {'amount': -400,\n",
       "  'type': 'withdrawal',\n",
       "  'details': None,\n",
       "  'date': '2021/01/23/ 08:06:39'}]"
      ]
     },
     "execution_count": 61,
     "metadata": {},
     "output_type": "execute_result"
    }
   ],
   "source": [
    "account.transaction_history"
   ]
  },
  {
   "cell_type": "markdown",
   "metadata": {},
   "source": [
    "## Class Variables and Methods"
   ]
  },
  {
   "cell_type": "code",
   "execution_count": 62,
   "metadata": {},
   "outputs": [],
   "source": [
    "class TransitBus:\n",
    "    def __init__(self, identifier):\n",
    "        self.identifier = identifier\n",
    "        self.num_passengers = 0\n",
    "    \n",
    "    def add_passengers(self, number):\n",
    "        self.num_passengers += number\n",
    "    \n",
    "    def remove_passengers(self, number):\n",
    "        self.num_passengers -= number"
   ]
  },
  {
   "cell_type": "code",
   "execution_count": 63,
   "metadata": {},
   "outputs": [],
   "source": [
    "bus1 = TransitBus(1)\n",
    "bus2 = TransitBus(2)\n",
    "bus3 = TransitBus(3)\n",
    "\n",
    "bus1.add_passengers(5)\n",
    "bus2.add_passengers(4)\n",
    "bus3.add_passengers(13)\n",
    "bus2.remove_passengers(1)"
   ]
  },
  {
   "cell_type": "code",
   "execution_count": 64,
   "metadata": {},
   "outputs": [
    {
     "data": {
      "text/plain": [
       "2"
      ]
     },
     "execution_count": 64,
     "metadata": {},
     "output_type": "execute_result"
    }
   ],
   "source": [
    "bus2.identifier"
   ]
  },
  {
   "cell_type": "code",
   "execution_count": 65,
   "metadata": {},
   "outputs": [
    {
     "data": {
      "text/plain": [
       "3"
      ]
     },
     "execution_count": 65,
     "metadata": {},
     "output_type": "execute_result"
    }
   ],
   "source": [
    "bus2.num_passengers"
   ]
  },
  {
   "cell_type": "code",
   "execution_count": 66,
   "metadata": {},
   "outputs": [],
   "source": [
    "class TransitBus:\n",
    "    total_num_passengers = 0\n",
    "    total_num_buses = 0\n",
    "    \n",
    "    def __init__(self, identifier):\n",
    "        self.identifier = identifier\n",
    "        self.num_passengers = 0\n",
    "    \n",
    "    def add_passengers(self, number):\n",
    "        self.num_passengers += number\n",
    "    \n",
    "    def remove_passengers(self, number):\n",
    "        self.num_passengers -= number"
   ]
  },
  {
   "cell_type": "code",
   "execution_count": 67,
   "metadata": {},
   "outputs": [
    {
     "data": {
      "text/plain": [
       "0"
      ]
     },
     "execution_count": 67,
     "metadata": {},
     "output_type": "execute_result"
    }
   ],
   "source": [
    "TransitBus.total_num_passengers"
   ]
  },
  {
   "cell_type": "code",
   "execution_count": 68,
   "metadata": {},
   "outputs": [
    {
     "data": {
      "text/plain": [
       "0"
      ]
     },
     "execution_count": 68,
     "metadata": {},
     "output_type": "execute_result"
    }
   ],
   "source": [
    "TransitBus.total_num_buses"
   ]
  },
  {
   "cell_type": "code",
   "execution_count": 69,
   "metadata": {},
   "outputs": [],
   "source": [
    "b1 = TransitBus(1)"
   ]
  },
  {
   "cell_type": "code",
   "execution_count": 70,
   "metadata": {},
   "outputs": [
    {
     "data": {
      "text/plain": [
       "0"
      ]
     },
     "execution_count": 70,
     "metadata": {},
     "output_type": "execute_result"
    }
   ],
   "source": [
    "b1.num_passengers"
   ]
  },
  {
   "cell_type": "code",
   "execution_count": 71,
   "metadata": {},
   "outputs": [
    {
     "data": {
      "text/plain": [
       "1"
      ]
     },
     "execution_count": 71,
     "metadata": {},
     "output_type": "execute_result"
    }
   ],
   "source": [
    "b1.identifier"
   ]
  },
  {
   "cell_type": "code",
   "execution_count": 72,
   "metadata": {},
   "outputs": [
    {
     "data": {
      "text/plain": [
       "0"
      ]
     },
     "execution_count": 72,
     "metadata": {},
     "output_type": "execute_result"
    }
   ],
   "source": [
    "b1.total_num_passengers"
   ]
  },
  {
   "cell_type": "code",
   "execution_count": 73,
   "metadata": {},
   "outputs": [
    {
     "data": {
      "text/plain": [
       "0"
      ]
     },
     "execution_count": 73,
     "metadata": {},
     "output_type": "execute_result"
    }
   ],
   "source": [
    "b1.total_num_buses"
   ]
  },
  {
   "cell_type": "code",
   "execution_count": 74,
   "metadata": {},
   "outputs": [
    {
     "name": "stdout",
     "output_type": "stream",
     "text": [
      "bus1 info\n",
      "1\n",
      "7\n",
      "bus2 info\n",
      "2\n",
      "5\n"
     ]
    }
   ],
   "source": [
    "print('bus1 info')\n",
    "b1 = TransitBus(1)\n",
    "b1.add_passengers(10)\n",
    "b1.remove_passengers(3)\n",
    "print(b1.identifier)\n",
    "print(b1.num_passengers)\n",
    "\n",
    "print('bus2 info')\n",
    "b2 = TransitBus(2)\n",
    "b2.add_passengers(20)\n",
    "b2.remove_passengers(15)\n",
    "print(b2.identifier)\n",
    "print(b2.num_passengers)"
   ]
  },
  {
   "cell_type": "code",
   "execution_count": 75,
   "metadata": {},
   "outputs": [
    {
     "data": {
      "text/plain": [
       "0"
      ]
     },
     "execution_count": 75,
     "metadata": {},
     "output_type": "execute_result"
    }
   ],
   "source": [
    "b1.total_num_buses"
   ]
  },
  {
   "cell_type": "code",
   "execution_count": 76,
   "metadata": {},
   "outputs": [
    {
     "data": {
      "text/plain": [
       "0"
      ]
     },
     "execution_count": 76,
     "metadata": {},
     "output_type": "execute_result"
    }
   ],
   "source": [
    "b1.total_num_passengers"
   ]
  },
  {
   "cell_type": "code",
   "execution_count": 77,
   "metadata": {},
   "outputs": [
    {
     "data": {
      "text/plain": [
       "0"
      ]
     },
     "execution_count": 77,
     "metadata": {},
     "output_type": "execute_result"
    }
   ],
   "source": [
    "b2.total_num_buses"
   ]
  },
  {
   "cell_type": "code",
   "execution_count": 78,
   "metadata": {},
   "outputs": [
    {
     "data": {
      "text/plain": [
       "0"
      ]
     },
     "execution_count": 78,
     "metadata": {},
     "output_type": "execute_result"
    }
   ],
   "source": [
    "b2.total_num_passengers"
   ]
  },
  {
   "cell_type": "code",
   "execution_count": 79,
   "metadata": {},
   "outputs": [],
   "source": [
    "class TransitBus:\n",
    "    total_num_passengers = 0\n",
    "    total_num_buses = 0\n",
    "    \n",
    "    def __init__(self, identifier):\n",
    "        self.identifier = identifier\n",
    "        self.num_passengers = 0\n",
    "        TransitBus.total_num_buses += 1\n",
    "    \n",
    "    def add_passengers(self, number):\n",
    "        self.num_passengers += number\n",
    "        TransitBus.total_num_passengers += number\n",
    "    \n",
    "    def remove_passengers(self, number):\n",
    "        self.num_passengers -= number\n",
    "        TransitBus.total_num_passengers -= number"
   ]
  },
  {
   "cell_type": "code",
   "execution_count": 80,
   "metadata": {},
   "outputs": [
    {
     "name": "stdout",
     "output_type": "stream",
     "text": [
      "bus1 info\n",
      "1\n",
      "7\n",
      "bus2 info\n",
      "2\n",
      "5\n"
     ]
    }
   ],
   "source": [
    "print('bus1 info')\n",
    "b1 = TransitBus(1)\n",
    "b1.add_passengers(10)\n",
    "b1.remove_passengers(3)\n",
    "print(b1.identifier)\n",
    "print(b1.num_passengers)\n",
    "\n",
    "print('bus2 info')\n",
    "b2 = TransitBus(2)\n",
    "b2.add_passengers(20)\n",
    "b2.remove_passengers(15)\n",
    "print(b2.identifier)\n",
    "print(b2.num_passengers)"
   ]
  },
  {
   "cell_type": "code",
   "execution_count": 81,
   "metadata": {},
   "outputs": [
    {
     "data": {
      "text/plain": [
       "2"
      ]
     },
     "execution_count": 81,
     "metadata": {},
     "output_type": "execute_result"
    }
   ],
   "source": [
    "TransitBus.total_num_buses"
   ]
  },
  {
   "cell_type": "code",
   "execution_count": 82,
   "metadata": {},
   "outputs": [
    {
     "data": {
      "text/plain": [
       "12"
      ]
     },
     "execution_count": 82,
     "metadata": {},
     "output_type": "execute_result"
    }
   ],
   "source": [
    "TransitBus.total_num_passengers"
   ]
  },
  {
   "cell_type": "code",
   "execution_count": 83,
   "metadata": {},
   "outputs": [
    {
     "data": {
      "text/plain": [
       "7"
      ]
     },
     "execution_count": 83,
     "metadata": {},
     "output_type": "execute_result"
    }
   ],
   "source": [
    "b1.num_passengers"
   ]
  },
  {
   "cell_type": "code",
   "execution_count": 84,
   "metadata": {},
   "outputs": [
    {
     "data": {
      "text/plain": [
       "2"
      ]
     },
     "execution_count": 84,
     "metadata": {},
     "output_type": "execute_result"
    }
   ],
   "source": [
    "b1.total_num_buses"
   ]
  },
  {
   "cell_type": "code",
   "execution_count": 85,
   "metadata": {},
   "outputs": [
    {
     "data": {
      "text/plain": [
       "2"
      ]
     },
     "execution_count": 85,
     "metadata": {},
     "output_type": "execute_result"
    }
   ],
   "source": [
    "b2.total_num_buses"
   ]
  },
  {
   "cell_type": "code",
   "execution_count": 86,
   "metadata": {},
   "outputs": [
    {
     "name": "stdout",
     "output_type": "stream",
     "text": [
      "2\n",
      "12\n",
      "2\n",
      "12\n"
     ]
    }
   ],
   "source": [
    "print(b1.total_num_buses)\n",
    "print(b1.total_num_passengers)\n",
    "print(b2.total_num_buses)\n",
    "print(b2.total_num_passengers)"
   ]
  },
  {
   "cell_type": "code",
   "execution_count": 87,
   "metadata": {},
   "outputs": [],
   "source": [
    "b3 = TransitBus(3)"
   ]
  },
  {
   "cell_type": "code",
   "execution_count": 88,
   "metadata": {},
   "outputs": [],
   "source": [
    "b3.add_passengers(35)"
   ]
  },
  {
   "cell_type": "code",
   "execution_count": 89,
   "metadata": {},
   "outputs": [
    {
     "data": {
      "text/plain": [
       "47"
      ]
     },
     "execution_count": 89,
     "metadata": {},
     "output_type": "execute_result"
    }
   ],
   "source": [
    "TransitBus.total_num_passengers"
   ]
  },
  {
   "cell_type": "code",
   "execution_count": 90,
   "metadata": {},
   "outputs": [
    {
     "data": {
      "text/plain": [
       "3"
      ]
     },
     "execution_count": 90,
     "metadata": {},
     "output_type": "execute_result"
    }
   ],
   "source": [
    "TransitBus.total_num_buses"
   ]
  },
  {
   "cell_type": "code",
   "execution_count": 91,
   "metadata": {},
   "outputs": [
    {
     "data": {
      "text/plain": [
       "3"
      ]
     },
     "execution_count": 91,
     "metadata": {},
     "output_type": "execute_result"
    }
   ],
   "source": [
    "b3.total_num_buses"
   ]
  },
  {
   "cell_type": "code",
   "execution_count": 92,
   "metadata": {},
   "outputs": [],
   "source": [
    "class TransitBus:\n",
    "    total_num_passengers = 0\n",
    "    total_num_buses = 0\n",
    "    transit_system = {}\n",
    "    \n",
    "    def __init__(self, identifier):\n",
    "        self.identifier = identifier\n",
    "        self.num_passengers = 0\n",
    "        TransitBus.total_num_buses += 1\n",
    "        self.update_bus_in_system()\n",
    "    \n",
    "    def update_bus_in_system(self):\n",
    "        TransitBus.transit_system[self.identifier] = {'num_passengers': self.num_passengers}\n",
    "    \n",
    "    def add_passengers(self, number):\n",
    "        self.num_passengers += number\n",
    "        TransitBus.total_num_passengers += number\n",
    "        self.update_bus_in_system()\n",
    "    \n",
    "    def remove_passengers(self, number):\n",
    "        self.num_passengers -= number\n",
    "        TransitBus.total_num_passengers -= number\n",
    "        self.update_bus_in_system()"
   ]
  },
  {
   "cell_type": "code",
   "execution_count": 93,
   "metadata": {},
   "outputs": [
    {
     "data": {
      "text/plain": [
       "0"
      ]
     },
     "execution_count": 93,
     "metadata": {},
     "output_type": "execute_result"
    }
   ],
   "source": [
    "TransitBus.total_num_buses"
   ]
  },
  {
   "cell_type": "code",
   "execution_count": 94,
   "metadata": {},
   "outputs": [
    {
     "data": {
      "text/plain": [
       "0"
      ]
     },
     "execution_count": 94,
     "metadata": {},
     "output_type": "execute_result"
    }
   ],
   "source": [
    "TransitBus.total_num_passengers"
   ]
  },
  {
   "cell_type": "code",
   "execution_count": 95,
   "metadata": {},
   "outputs": [
    {
     "data": {
      "text/plain": [
       "{}"
      ]
     },
     "execution_count": 95,
     "metadata": {},
     "output_type": "execute_result"
    }
   ],
   "source": [
    "TransitBus.transit_system"
   ]
  },
  {
   "cell_type": "code",
   "execution_count": 96,
   "metadata": {},
   "outputs": [],
   "source": [
    "b1 = TransitBus(1)\n",
    "b2 = TransitBus(2)\n",
    "b3 = TransitBus(3)"
   ]
  },
  {
   "cell_type": "code",
   "execution_count": 97,
   "metadata": {},
   "outputs": [
    {
     "data": {
      "text/plain": [
       "{1: {'num_passengers': 0}, 2: {'num_passengers': 0}, 3: {'num_passengers': 0}}"
      ]
     },
     "execution_count": 97,
     "metadata": {},
     "output_type": "execute_result"
    }
   ],
   "source": [
    "TransitBus.transit_system"
   ]
  },
  {
   "cell_type": "code",
   "execution_count": 98,
   "metadata": {},
   "outputs": [],
   "source": [
    "b1.add_passengers(10)\n",
    "b2.add_passengers(20)\n",
    "b3.add_passengers(30)"
   ]
  },
  {
   "cell_type": "code",
   "execution_count": 99,
   "metadata": {},
   "outputs": [
    {
     "data": {
      "text/plain": [
       "{1: {'num_passengers': 10},\n",
       " 2: {'num_passengers': 20},\n",
       " 3: {'num_passengers': 30}}"
      ]
     },
     "execution_count": 99,
     "metadata": {},
     "output_type": "execute_result"
    }
   ],
   "source": [
    "TransitBus.transit_system"
   ]
  },
  {
   "cell_type": "code",
   "execution_count": 100,
   "metadata": {},
   "outputs": [],
   "source": [
    "b1.remove_passengers(5)\n",
    "b2.remove_passengers(5)\n",
    "b3.remove_passengers(5)"
   ]
  },
  {
   "cell_type": "code",
   "execution_count": 101,
   "metadata": {},
   "outputs": [
    {
     "data": {
      "text/plain": [
       "{1: {'num_passengers': 5},\n",
       " 2: {'num_passengers': 15},\n",
       " 3: {'num_passengers': 25}}"
      ]
     },
     "execution_count": 101,
     "metadata": {},
     "output_type": "execute_result"
    }
   ],
   "source": [
    "TransitBus.transit_system"
   ]
  },
  {
   "cell_type": "code",
   "execution_count": 102,
   "metadata": {},
   "outputs": [
    {
     "data": {
      "text/plain": [
       "45"
      ]
     },
     "execution_count": 102,
     "metadata": {},
     "output_type": "execute_result"
    }
   ],
   "source": [
    "TransitBus.total_num_passengers"
   ]
  },
  {
   "cell_type": "code",
   "execution_count": 103,
   "metadata": {},
   "outputs": [
    {
     "data": {
      "text/plain": [
       "15"
      ]
     },
     "execution_count": 103,
     "metadata": {},
     "output_type": "execute_result"
    }
   ],
   "source": [
    "b2.num_passengers"
   ]
  },
  {
   "cell_type": "code",
   "execution_count": 104,
   "metadata": {},
   "outputs": [
    {
     "data": {
      "text/plain": [
       "45"
      ]
     },
     "execution_count": 104,
     "metadata": {},
     "output_type": "execute_result"
    }
   ],
   "source": [
    "b2.total_num_passengers"
   ]
  },
  {
   "cell_type": "code",
   "execution_count": null,
   "metadata": {},
   "outputs": [],
   "source": []
  }
 ],
 "metadata": {
  "kernelspec": {
   "display_name": "Python 3",
   "language": "python",
   "name": "python3"
  },
  "language_info": {
   "codemirror_mode": {
    "name": "ipython",
    "version": 3
   },
   "file_extension": ".py",
   "mimetype": "text/x-python",
   "name": "python",
   "nbconvert_exporter": "python",
   "pygments_lexer": "ipython3",
   "version": "3.6.5"
  }
 },
 "nbformat": 4,
 "nbformat_minor": 4
}
