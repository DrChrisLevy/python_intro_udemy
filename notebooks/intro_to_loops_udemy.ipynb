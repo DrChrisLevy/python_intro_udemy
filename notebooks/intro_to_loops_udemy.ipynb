{
 "cells": [
  {
   "cell_type": "markdown",
   "metadata": {},
   "source": [
    "# Intro to Loops"
   ]
  },
  {
   "cell_type": "markdown",
   "metadata": {},
   "source": [
    "## For Loop\n",
    "\n",
    "```\n",
    "for <var> in <iterable>:\n",
    "    block_of_statements\n",
    "```"
   ]
  },
  {
   "cell_type": "code",
   "execution_count": 1,
   "metadata": {},
   "outputs": [
    {
     "name": "stdout",
     "output_type": "stream",
     "text": [
      "['Chris', 'Joanna', 'Penelope', 'Isaac', 'Hazel']\n"
     ]
    }
   ],
   "source": [
    "family_names = ['Chris', 'Joanna', 'Penelope', 'Isaac', 'Hazel']\n",
    "print(family_names)"
   ]
  },
  {
   "cell_type": "code",
   "execution_count": 2,
   "metadata": {},
   "outputs": [
    {
     "name": "stdout",
     "output_type": "stream",
     "text": [
      "Chris\n",
      "Joanna\n",
      "Penelope\n",
      "Isaac\n",
      "Hazel\n"
     ]
    }
   ],
   "source": [
    "print(family_names[0])\n",
    "print(family_names[1])\n",
    "print(family_names[2])\n",
    "print(family_names[3])\n",
    "print(family_names[4])"
   ]
  },
  {
   "cell_type": "code",
   "execution_count": 3,
   "metadata": {},
   "outputs": [
    {
     "name": "stdout",
     "output_type": "stream",
     "text": [
      "Chris\n",
      "Joanna\n",
      "Penelope\n",
      "Isaac\n",
      "Hazel\n"
     ]
    }
   ],
   "source": [
    "for name in family_names:\n",
    "     print(name)   "
   ]
  },
  {
   "cell_type": "code",
   "execution_count": 4,
   "metadata": {},
   "outputs": [
    {
     "data": {
      "text/plain": [
       "'Hazel'"
      ]
     },
     "execution_count": 4,
     "metadata": {},
     "output_type": "execute_result"
    }
   ],
   "source": [
    "name"
   ]
  },
  {
   "cell_type": "code",
   "execution_count": 5,
   "metadata": {},
   "outputs": [
    {
     "name": "stdout",
     "output_type": "stream",
     "text": [
      "Hazel\n"
     ]
    }
   ],
   "source": [
    "print(name)"
   ]
  },
  {
   "cell_type": "code",
   "execution_count": 6,
   "metadata": {},
   "outputs": [
    {
     "name": "stdout",
     "output_type": "stream",
     "text": [
      "<class 'str'>\n"
     ]
    }
   ],
   "source": [
    "print(type(name))"
   ]
  },
  {
   "cell_type": "code",
   "execution_count": 7,
   "metadata": {},
   "outputs": [
    {
     "name": "stdout",
     "output_type": "stream",
     "text": [
      "Chris\n",
      "Joanna\n",
      "Penelope\n",
      "Isaac\n",
      "Hazel\n"
     ]
    }
   ],
   "source": [
    "for x in family_names:\n",
    "    print(x)"
   ]
  },
  {
   "cell_type": "code",
   "execution_count": 8,
   "metadata": {},
   "outputs": [
    {
     "data": {
      "text/plain": [
       "['Chris', 'Joanna', 'Penelope', 'Isaac', 'Hazel']"
      ]
     },
     "execution_count": 8,
     "metadata": {},
     "output_type": "execute_result"
    }
   ],
   "source": [
    "family_names"
   ]
  },
  {
   "cell_type": "code",
   "execution_count": 9,
   "metadata": {},
   "outputs": [
    {
     "name": "stdout",
     "output_type": "stream",
     "text": [
      "Chris is a person in my family.\n",
      "Their full name is Chris Levy.\n",
      "1 + 1 is 2\n",
      "Joanna is a person in my family.\n",
      "Their full name is Joanna Levy.\n",
      "1 + 1 is 2\n",
      "Penelope is a person in my family.\n",
      "Their full name is Penelope Levy.\n",
      "1 + 1 is 2\n",
      "Isaac is a person in my family.\n",
      "Their full name is Isaac Levy.\n",
      "1 + 1 is 2\n",
      "Hazel is a person in my family.\n",
      "Their full name is Hazel Levy.\n",
      "1 + 1 is 2\n",
      "DONE\n"
     ]
    }
   ],
   "source": [
    "for name in family_names:\n",
    "    print(f'{name} is a person in my family.')\n",
    "    print(f'Their full name is {name} Levy.')\n",
    "    print('1 + 1 is 2')\n",
    "    1 + 4\n",
    "print('DONE')"
   ]
  },
  {
   "cell_type": "code",
   "execution_count": 10,
   "metadata": {},
   "outputs": [
    {
     "name": "stdout",
     "output_type": "stream",
     "text": [
      "Hello World\n"
     ]
    }
   ],
   "source": [
    "hello = 'Hello World'\n",
    "print(hello)"
   ]
  },
  {
   "cell_type": "code",
   "execution_count": 11,
   "metadata": {},
   "outputs": [
    {
     "name": "stdout",
     "output_type": "stream",
     "text": [
      "H\n",
      "e\n",
      "l\n",
      "l\n",
      "o\n",
      " \n",
      "W\n",
      "o\n",
      "r\n",
      "l\n",
      "d\n"
     ]
    }
   ],
   "source": [
    "for letter in hello:\n",
    "    print(letter)"
   ]
  },
  {
   "cell_type": "code",
   "execution_count": 12,
   "metadata": {},
   "outputs": [
    {
     "name": "stdout",
     "output_type": "stream",
     "text": [
      "d\n",
      "l\n",
      "r\n",
      "o\n",
      "W\n",
      " \n",
      "o\n",
      "l\n",
      "l\n",
      "e\n",
      "H\n"
     ]
    }
   ],
   "source": [
    "for letter in hello[::-1]:\n",
    "    print(letter)"
   ]
  },
  {
   "cell_type": "code",
   "execution_count": 13,
   "metadata": {},
   "outputs": [
    {
     "name": "stdout",
     "output_type": "stream",
     "text": [
      "hello 1\n",
      "hello 2\n",
      "hello 3\n"
     ]
    }
   ],
   "source": [
    "for x in [1,2,3]:\n",
    "    print(f'hello {x}')"
   ]
  },
  {
   "cell_type": "markdown",
   "metadata": {},
   "source": [
    "## Appending In Loops"
   ]
  },
  {
   "cell_type": "code",
   "execution_count": 14,
   "metadata": {},
   "outputs": [
    {
     "name": "stdout",
     "output_type": "stream",
     "text": [
      "Adding the item 9 to the list new_numbers\n",
      "The list new_numbers is now [9]\n",
      "Adding the item 10 to the list new_numbers\n",
      "The list new_numbers is now [9, 10]\n",
      "Adding the item 12 to the list new_numbers\n",
      "The list new_numbers is now [9, 10, 12]\n",
      "Adding the item 65 to the list new_numbers\n",
      "The list new_numbers is now [9, 10, 12, 65]\n",
      "Adding the item 8 to the list new_numbers\n",
      "The list new_numbers is now [9, 10, 12, 65, 8]\n",
      "Adding the item 7 to the list new_numbers\n",
      "The list new_numbers is now [9, 10, 12, 65, 8, 7]\n"
     ]
    }
   ],
   "source": [
    "numbers = [9, 6, 4, 3, 6, 10, 12 ,65, 8, 4, -10, -6, 7, -8]\n",
    "new_numbers = []\n",
    "\n",
    "for num in numbers:\n",
    "    if num > 6:\n",
    "        print(f'Adding the item {num} to the list new_numbers')\n",
    "        new_numbers.append(num)\n",
    "        print(f'The list new_numbers is now {new_numbers}')"
   ]
  },
  {
   "cell_type": "code",
   "execution_count": 15,
   "metadata": {},
   "outputs": [
    {
     "data": {
      "text/plain": [
       "[9, 10, 12, 65, 8, 7]"
      ]
     },
     "execution_count": 15,
     "metadata": {},
     "output_type": "execute_result"
    }
   ],
   "source": [
    "new_numbers"
   ]
  },
  {
   "cell_type": "markdown",
   "metadata": {},
   "source": [
    "### getting unique numbers"
   ]
  },
  {
   "cell_type": "code",
   "execution_count": 16,
   "metadata": {},
   "outputs": [],
   "source": [
    "numbers = [1,1,1,2,6,7,8,8,8,8,10,10,10,9,9,9,0,0,0,2,2,3,3,3,4,5]"
   ]
  },
  {
   "cell_type": "code",
   "execution_count": 17,
   "metadata": {},
   "outputs": [
    {
     "name": "stdout",
     "output_type": "stream",
     "text": [
      "[]\n",
      "[1]\n",
      "[1]\n",
      "[1]\n",
      "[1, 2]\n",
      "[1, 2, 6]\n",
      "[1, 2, 6, 7]\n",
      "[1, 2, 6, 7, 8]\n",
      "[1, 2, 6, 7, 8]\n",
      "[1, 2, 6, 7, 8]\n",
      "[1, 2, 6, 7, 8]\n",
      "[1, 2, 6, 7, 8, 10]\n",
      "[1, 2, 6, 7, 8, 10]\n",
      "[1, 2, 6, 7, 8, 10]\n",
      "[1, 2, 6, 7, 8, 10, 9]\n",
      "[1, 2, 6, 7, 8, 10, 9]\n",
      "[1, 2, 6, 7, 8, 10, 9]\n",
      "[1, 2, 6, 7, 8, 10, 9, 0]\n",
      "[1, 2, 6, 7, 8, 10, 9, 0]\n",
      "[1, 2, 6, 7, 8, 10, 9, 0]\n",
      "[1, 2, 6, 7, 8, 10, 9, 0]\n",
      "[1, 2, 6, 7, 8, 10, 9, 0]\n",
      "[1, 2, 6, 7, 8, 10, 9, 0, 3]\n",
      "[1, 2, 6, 7, 8, 10, 9, 0, 3]\n",
      "[1, 2, 6, 7, 8, 10, 9, 0, 3]\n",
      "[1, 2, 6, 7, 8, 10, 9, 0, 3, 4]\n",
      "There are 11 unique numbers and they are [1, 2, 6, 7, 8, 10, 9, 0, 3, 4, 5]\n"
     ]
    }
   ],
   "source": [
    "unique_numbers = []\n",
    "\n",
    "for x in numbers:\n",
    "    print(unique_numbers) # optional. Just for understanding.\n",
    "    if x not in unique_numbers:\n",
    "        unique_numbers.append(x)\n",
    "        \n",
    "\n",
    "print(f'There are {len(unique_numbers)} unique numbers and they are {unique_numbers}')        \n"
   ]
  },
  {
   "cell_type": "markdown",
   "metadata": {},
   "source": [
    "## `range()`"
   ]
  },
  {
   "cell_type": "code",
   "execution_count": 18,
   "metadata": {},
   "outputs": [
    {
     "name": "stdout",
     "output_type": "stream",
     "text": [
      "0\n",
      "1\n",
      "2\n",
      "3\n",
      "4\n",
      "5\n",
      "6\n",
      "7\n",
      "8\n",
      "9\n"
     ]
    }
   ],
   "source": [
    "for i in [0,1,2,3,4,5,6,7,8,9]:\n",
    "    print(i)"
   ]
  },
  {
   "cell_type": "code",
   "execution_count": 19,
   "metadata": {},
   "outputs": [
    {
     "name": "stdout",
     "output_type": "stream",
     "text": [
      "0\n",
      "1\n",
      "2\n",
      "3\n",
      "4\n",
      "5\n",
      "6\n",
      "7\n",
      "8\n",
      "9\n"
     ]
    }
   ],
   "source": [
    "for i in range(10):\n",
    "    print(i)"
   ]
  },
  {
   "cell_type": "code",
   "execution_count": 20,
   "metadata": {},
   "outputs": [
    {
     "name": "stdout",
     "output_type": "stream",
     "text": [
      "0\n",
      "1\n",
      "2\n",
      "3\n",
      "4\n"
     ]
    }
   ],
   "source": [
    "for num in range(5):\n",
    "    print(num)"
   ]
  },
  {
   "cell_type": "code",
   "execution_count": 21,
   "metadata": {},
   "outputs": [
    {
     "name": "stdout",
     "output_type": "stream",
     "text": [
      "10\n",
      "11\n",
      "12\n",
      "13\n",
      "14\n",
      "15\n",
      "16\n",
      "17\n",
      "18\n",
      "19\n"
     ]
    }
   ],
   "source": [
    "for x in range(10, 20):\n",
    "    print(x)"
   ]
  },
  {
   "cell_type": "code",
   "execution_count": 22,
   "metadata": {},
   "outputs": [
    {
     "name": "stdout",
     "output_type": "stream",
     "text": [
      "5\n",
      "7\n",
      "9\n",
      "11\n",
      "13\n"
     ]
    }
   ],
   "source": [
    "for x in range(5, 15, 2):\n",
    "    print(x)"
   ]
  },
  {
   "cell_type": "code",
   "execution_count": 23,
   "metadata": {},
   "outputs": [],
   "source": [
    "# example of adding up numbers from 1 to 100. answer = 1 + 2 + 3 + 4 + 5 + 6 + ... + 100"
   ]
  },
  {
   "cell_type": "code",
   "execution_count": 24,
   "metadata": {},
   "outputs": [],
   "source": [
    "# here is the idea ...\n",
    "\n",
    "# answer = 0\n",
    "# answer = answer + 1\n",
    "# answer = answer + 2\n",
    "# answer = answer + 3\n",
    "# answer = answer + 4\n",
    "#.\n",
    "#.\n",
    "#.\n",
    "#.\n",
    "#.\n",
    "# answer = answer + 100\n",
    "# print(answer)"
   ]
  },
  {
   "cell_type": "code",
   "execution_count": 25,
   "metadata": {},
   "outputs": [
    {
     "name": "stdout",
     "output_type": "stream",
     "text": [
      "5050\n"
     ]
    }
   ],
   "source": [
    "answer = 0\n",
    "for i in range(1,101):\n",
    "    answer = answer + i\n",
    "print(answer)"
   ]
  },
  {
   "cell_type": "markdown",
   "metadata": {},
   "source": [
    "## Nested Loops"
   ]
  },
  {
   "cell_type": "code",
   "execution_count": 26,
   "metadata": {},
   "outputs": [
    {
     "name": "stdout",
     "output_type": "stream",
     "text": [
      "0 0\n",
      "0 1\n",
      "0 2\n",
      "0 3\n",
      "1 0\n",
      "1 1\n",
      "1 2\n",
      "1 3\n",
      "2 0\n",
      "2 1\n",
      "2 2\n",
      "2 3\n",
      "3 0\n",
      "3 1\n",
      "3 2\n",
      "3 3\n"
     ]
    }
   ],
   "source": [
    "for i in range(4):\n",
    "    for j in range(4):\n",
    "        print(i,j)"
   ]
  },
  {
   "cell_type": "code",
   "execution_count": 27,
   "metadata": {},
   "outputs": [
    {
     "name": "stdout",
     "output_type": "stream",
     "text": [
      "0 multiplied by 0 is 0\n",
      "-----------------------\n",
      "0 multiplied by 1 is 0\n",
      "-----------------------\n",
      "0 multiplied by 2 is 0\n",
      "-----------------------\n",
      "0 multiplied by 3 is 0\n",
      "-----------------------\n",
      "0 multiplied by 4 is 0\n",
      "-----------------------\n",
      "0 multiplied by 5 is 0\n",
      "-----------------------\n",
      "0 multiplied by 6 is 0\n",
      "-----------------------\n",
      "0 multiplied by 7 is 0\n",
      "-----------------------\n",
      "0 multiplied by 8 is 0\n",
      "-----------------------\n",
      "0 multiplied by 9 is 0\n",
      "-----------------------\n",
      "1 multiplied by 0 is 0\n",
      "-----------------------\n",
      "1 multiplied by 1 is 1\n",
      "-----------------------\n",
      "1 multiplied by 2 is 2\n",
      "-----------------------\n",
      "1 multiplied by 3 is 3\n",
      "-----------------------\n",
      "1 multiplied by 4 is 4\n",
      "-----------------------\n",
      "1 multiplied by 5 is 5\n",
      "-----------------------\n",
      "1 multiplied by 6 is 6\n",
      "-----------------------\n",
      "1 multiplied by 7 is 7\n",
      "-----------------------\n",
      "1 multiplied by 8 is 8\n",
      "-----------------------\n",
      "1 multiplied by 9 is 9\n",
      "-----------------------\n",
      "2 multiplied by 0 is 0\n",
      "-----------------------\n",
      "2 multiplied by 1 is 2\n",
      "-----------------------\n",
      "2 multiplied by 2 is 4\n",
      "-----------------------\n",
      "2 multiplied by 3 is 6\n",
      "-----------------------\n",
      "2 multiplied by 4 is 8\n",
      "-----------------------\n",
      "2 multiplied by 5 is 10\n",
      "-----------------------\n",
      "2 multiplied by 6 is 12\n",
      "-----------------------\n",
      "2 multiplied by 7 is 14\n",
      "-----------------------\n",
      "2 multiplied by 8 is 16\n",
      "-----------------------\n",
      "2 multiplied by 9 is 18\n",
      "-----------------------\n",
      "3 multiplied by 0 is 0\n",
      "-----------------------\n",
      "3 multiplied by 1 is 3\n",
      "-----------------------\n",
      "3 multiplied by 2 is 6\n",
      "-----------------------\n",
      "3 multiplied by 3 is 9\n",
      "-----------------------\n",
      "3 multiplied by 4 is 12\n",
      "-----------------------\n",
      "3 multiplied by 5 is 15\n",
      "-----------------------\n",
      "3 multiplied by 6 is 18\n",
      "-----------------------\n",
      "3 multiplied by 7 is 21\n",
      "-----------------------\n",
      "3 multiplied by 8 is 24\n",
      "-----------------------\n",
      "3 multiplied by 9 is 27\n",
      "-----------------------\n",
      "4 multiplied by 0 is 0\n",
      "-----------------------\n",
      "4 multiplied by 1 is 4\n",
      "-----------------------\n",
      "4 multiplied by 2 is 8\n",
      "-----------------------\n",
      "4 multiplied by 3 is 12\n",
      "-----------------------\n",
      "4 multiplied by 4 is 16\n",
      "-----------------------\n",
      "4 multiplied by 5 is 20\n",
      "-----------------------\n",
      "4 multiplied by 6 is 24\n",
      "-----------------------\n",
      "4 multiplied by 7 is 28\n",
      "-----------------------\n",
      "4 multiplied by 8 is 32\n",
      "-----------------------\n",
      "4 multiplied by 9 is 36\n",
      "-----------------------\n",
      "5 multiplied by 0 is 0\n",
      "-----------------------\n",
      "5 multiplied by 1 is 5\n",
      "-----------------------\n",
      "5 multiplied by 2 is 10\n",
      "-----------------------\n",
      "5 multiplied by 3 is 15\n",
      "-----------------------\n",
      "5 multiplied by 4 is 20\n",
      "-----------------------\n",
      "5 multiplied by 5 is 25\n",
      "-----------------------\n",
      "5 multiplied by 6 is 30\n",
      "-----------------------\n",
      "5 multiplied by 7 is 35\n",
      "-----------------------\n",
      "5 multiplied by 8 is 40\n",
      "-----------------------\n",
      "5 multiplied by 9 is 45\n",
      "-----------------------\n",
      "6 multiplied by 0 is 0\n",
      "-----------------------\n",
      "6 multiplied by 1 is 6\n",
      "-----------------------\n",
      "6 multiplied by 2 is 12\n",
      "-----------------------\n",
      "6 multiplied by 3 is 18\n",
      "-----------------------\n",
      "6 multiplied by 4 is 24\n",
      "-----------------------\n",
      "6 multiplied by 5 is 30\n",
      "-----------------------\n",
      "6 multiplied by 6 is 36\n",
      "-----------------------\n",
      "6 multiplied by 7 is 42\n",
      "-----------------------\n",
      "6 multiplied by 8 is 48\n",
      "-----------------------\n",
      "6 multiplied by 9 is 54\n",
      "-----------------------\n",
      "7 multiplied by 0 is 0\n",
      "-----------------------\n",
      "7 multiplied by 1 is 7\n",
      "-----------------------\n",
      "7 multiplied by 2 is 14\n",
      "-----------------------\n",
      "7 multiplied by 3 is 21\n",
      "-----------------------\n",
      "7 multiplied by 4 is 28\n",
      "-----------------------\n",
      "7 multiplied by 5 is 35\n",
      "-----------------------\n",
      "7 multiplied by 6 is 42\n",
      "-----------------------\n",
      "7 multiplied by 7 is 49\n",
      "-----------------------\n",
      "7 multiplied by 8 is 56\n",
      "-----------------------\n",
      "7 multiplied by 9 is 63\n",
      "-----------------------\n",
      "8 multiplied by 0 is 0\n",
      "-----------------------\n",
      "8 multiplied by 1 is 8\n",
      "-----------------------\n",
      "8 multiplied by 2 is 16\n",
      "-----------------------\n",
      "8 multiplied by 3 is 24\n",
      "-----------------------\n",
      "8 multiplied by 4 is 32\n",
      "-----------------------\n",
      "8 multiplied by 5 is 40\n",
      "-----------------------\n",
      "8 multiplied by 6 is 48\n",
      "-----------------------\n",
      "8 multiplied by 7 is 56\n",
      "-----------------------\n",
      "8 multiplied by 8 is 64\n",
      "-----------------------\n",
      "8 multiplied by 9 is 72\n",
      "-----------------------\n",
      "9 multiplied by 0 is 0\n",
      "-----------------------\n",
      "9 multiplied by 1 is 9\n",
      "-----------------------\n",
      "9 multiplied by 2 is 18\n",
      "-----------------------\n",
      "9 multiplied by 3 is 27\n",
      "-----------------------\n",
      "9 multiplied by 4 is 36\n",
      "-----------------------\n",
      "9 multiplied by 5 is 45\n",
      "-----------------------\n",
      "9 multiplied by 6 is 54\n",
      "-----------------------\n",
      "9 multiplied by 7 is 63\n",
      "-----------------------\n",
      "9 multiplied by 8 is 72\n",
      "-----------------------\n",
      "9 multiplied by 9 is 81\n",
      "-----------------------\n"
     ]
    }
   ],
   "source": [
    "# multiplication table\n",
    "\n",
    "for i in range(10):\n",
    "    for j in range(10):\n",
    "        print(f'{i} multiplied by {j} is {i * j}')\n",
    "        print('-----------------------')"
   ]
  },
  {
   "cell_type": "markdown",
   "metadata": {},
   "source": [
    "## `break` statement"
   ]
  },
  {
   "cell_type": "code",
   "execution_count": 28,
   "metadata": {},
   "outputs": [
    {
     "name": "stdout",
     "output_type": "stream",
     "text": [
      "0\n",
      "I am done\n"
     ]
    }
   ],
   "source": [
    "for i in range(10):\n",
    "    print(i) # only executed with i = 0\n",
    "    break # breaks out of the loop\n",
    "    \n",
    "print('I am done')"
   ]
  },
  {
   "cell_type": "code",
   "execution_count": 29,
   "metadata": {},
   "outputs": [],
   "source": [
    "# another example\n",
    "\n",
    "some_stuff = [1, 9, 5, 7, 5.53, 5, 0, 'a', 'b', True, False]"
   ]
  },
  {
   "cell_type": "code",
   "execution_count": 30,
   "metadata": {},
   "outputs": [
    {
     "name": "stdout",
     "output_type": "stream",
     "text": [
      "starting the search\n",
      "1\n",
      "9\n",
      "5\n",
      "7\n",
      "5.53\n",
      "5\n",
      "0\n"
     ]
    }
   ],
   "source": [
    "print('starting the search')\n",
    "for x in some_stuff:\n",
    "    print(x)\n",
    "    if x == 0:\n",
    "        break\n",
    "    \n"
   ]
  },
  {
   "cell_type": "markdown",
   "metadata": {},
   "source": [
    "## `continue` statement"
   ]
  },
  {
   "cell_type": "code",
   "execution_count": 31,
   "metadata": {},
   "outputs": [
    {
     "name": "stdout",
     "output_type": "stream",
     "text": [
      "The number is 0\n",
      "When we add 1 to 0 we get 1\n",
      "The number is 1\n",
      "When we add 1 to 1 we get 2\n",
      "The number is 2\n",
      "The number is 3\n",
      "When we add 1 to 3 we get 4\n"
     ]
    }
   ],
   "source": [
    "# simple example first\n",
    "\n",
    "for i in range(4):\n",
    "    print(f'The number is {i}')\n",
    "    if i == 2:\n",
    "        continue\n",
    "    print(f'When we add 1 to {i} we get {i + 1}')"
   ]
  },
  {
   "cell_type": "code",
   "execution_count": 32,
   "metadata": {},
   "outputs": [
    {
     "name": "stdout",
     "output_type": "stream",
     "text": [
      "[1, 9, 5, 7, 5.53, 5, 0, 'a', 'b', True, False]\n"
     ]
    }
   ],
   "source": [
    "# another example\n",
    "print(some_stuff)"
   ]
  },
  {
   "cell_type": "code",
   "execution_count": 33,
   "metadata": {},
   "outputs": [
    {
     "name": "stdout",
     "output_type": "stream",
     "text": [
      "starting the loop\n",
      "1\n",
      "9\n",
      "5\n",
      "7\n",
      "5\n",
      "0\n",
      "True\n",
      "False\n",
      "ending the loop\n"
     ]
    }
   ],
   "source": [
    "print('starting the loop')\n",
    "for thing in some_stuff:\n",
    "    if thing == 'a' or thing == 'b' or thing == 5.53:\n",
    "        continue\n",
    "    print(thing)\n",
    "print('ending the loop')"
   ]
  },
  {
   "cell_type": "markdown",
   "metadata": {},
   "source": [
    "## `while` loop"
   ]
  },
  {
   "cell_type": "code",
   "execution_count": 34,
   "metadata": {
    "scrolled": true
   },
   "outputs": [
    {
     "name": "stdout",
     "output_type": "stream",
     "text": [
      "start\n",
      "0 is less than 10\n",
      "1 is less than 10\n",
      "2 is less than 10\n",
      "3 is less than 10\n",
      "4 is less than 10\n",
      "5 is less than 10\n",
      "6 is less than 10\n",
      "7 is less than 10\n",
      "8 is less than 10\n",
      "9 is less than 10\n",
      "end\n"
     ]
    }
   ],
   "source": [
    "print('start')\n",
    "i = 0\n",
    "while i < 10:\n",
    "    print(f'{i} is less than 10')\n",
    "    i = i + 1\n",
    "print('end') "
   ]
  },
  {
   "cell_type": "code",
   "execution_count": 35,
   "metadata": {},
   "outputs": [],
   "source": [
    "i = -1\n",
    "\n",
    "while i > 0: # never True\n",
    "    print(i)"
   ]
  },
  {
   "cell_type": "code",
   "execution_count": 36,
   "metadata": {},
   "outputs": [
    {
     "name": "stdout",
     "output_type": "stream",
     "text": [
      "a\n"
     ]
    }
   ],
   "source": [
    "while i < 0:\n",
    "    print('a')\n",
    "    i = 10"
   ]
  },
  {
   "cell_type": "code",
   "execution_count": 37,
   "metadata": {
    "scrolled": true
   },
   "outputs": [
    {
     "name": "stdout",
     "output_type": "stream",
     "text": [
      "starting\n",
      "9\n",
      "8\n",
      "7\n",
      "6\n",
      "5\n",
      "4\n",
      "ending\n"
     ]
    }
   ],
   "source": [
    "# break statement example\n",
    "print('starting')\n",
    "n = 10\n",
    "while n > 0:\n",
    "    n = n - 1\n",
    "    if n == 3 or n == 1:\n",
    "        break\n",
    "    print(n)\n",
    "print('ending')"
   ]
  },
  {
   "cell_type": "code",
   "execution_count": 38,
   "metadata": {},
   "outputs": [
    {
     "name": "stdout",
     "output_type": "stream",
     "text": [
      "starting\n",
      "9\n",
      "8\n",
      "7\n",
      "6\n",
      "5\n",
      "4\n",
      "2\n",
      "0\n",
      "ending\n"
     ]
    }
   ],
   "source": [
    "# continue statement example\n",
    "print('starting')\n",
    "n = 10\n",
    "while n > 0:\n",
    "    n = n - 1\n",
    "    if n == 3 or n == 1:\n",
    "        continue\n",
    "    print(n)\n",
    "print('ending')"
   ]
  },
  {
   "cell_type": "code",
   "execution_count": 39,
   "metadata": {},
   "outputs": [],
   "source": [
    "# this is an infinite loop. Dont do this!\n",
    "# x = 1\n",
    "# while x > 0:\n",
    "#     print(x)\n",
    "#     x = x + 1"
   ]
  },
  {
   "cell_type": "markdown",
   "metadata": {},
   "source": [
    "## `pass` statement"
   ]
  },
  {
   "cell_type": "code",
   "execution_count": 46,
   "metadata": {},
   "outputs": [
    {
     "name": "stdout",
     "output_type": "stream",
     "text": [
      "I am done\n"
     ]
    }
   ],
   "source": [
    "a = 2\n",
    "if a == 2:\n",
    "    # TODO: write this code later\n",
    "    pass\n",
    "\n",
    "print('I am done')"
   ]
  },
  {
   "cell_type": "code",
   "execution_count": 54,
   "metadata": {},
   "outputs": [
    {
     "name": "stdout",
     "output_type": "stream",
     "text": [
      "6\n",
      "7\n",
      "8\n",
      "9\n"
     ]
    }
   ],
   "source": [
    "for i in range(10):\n",
    "    if i > 5:\n",
    "        print(i)\n",
    "    else:\n",
    "        # TODO: come back to this code later\n",
    "        pass"
   ]
  },
  {
   "cell_type": "code",
   "execution_count": null,
   "metadata": {},
   "outputs": [],
   "source": []
  },
  {
   "cell_type": "code",
   "execution_count": null,
   "metadata": {},
   "outputs": [],
   "source": []
  },
  {
   "cell_type": "code",
   "execution_count": null,
   "metadata": {},
   "outputs": [],
   "source": []
  }
 ],
 "metadata": {
  "kernelspec": {
   "display_name": "Python 3",
   "language": "python",
   "name": "python3"
  },
  "language_info": {
   "codemirror_mode": {
    "name": "ipython",
    "version": 3
   },
   "file_extension": ".py",
   "mimetype": "text/x-python",
   "name": "python",
   "nbconvert_exporter": "python",
   "pygments_lexer": "ipython3",
   "version": "3.9.0"
  }
 },
 "nbformat": 4,
 "nbformat_minor": 4
}
