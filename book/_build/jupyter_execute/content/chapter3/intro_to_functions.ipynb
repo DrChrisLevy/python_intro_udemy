{
 "cells": [
  {
   "cell_type": "markdown",
   "metadata": {},
   "source": [
    "# Intro to Functions\n",
    "\n",
    "Create a new Jupyter Notebook called **intro_to_functions** and follow along!\n",
    "\n",
    "So what is a function anyway? \n",
    "\n",
    "```{admonition} Functions\n",
    "In the Python programming language, a function is a block of reusable code that is typically used to perform a single process or action. Functions are the main building blocks of the programs and applications you create. By using functions, your code will have better modularity and will be easier to reuse. \n",
    "```\n",
    "\n",
    "Python has many built in functions and you can also create your own functions. Functions are not completely new to you and you have already been using functions whether or not you know it. Here are examples of functions, built into Python, that you have\n",
    "been using throughout this book and course so far:\n",
    "\n",
    "- `print()`\n",
    "- `str()`\n",
    "- `int()`\n",
    "- `float()`\n",
    "- `type()`\n",
    "- `len()`\n",
    "- `range()`\n",
    "\n",
    "So what do these **functions** all have in common? Well to begin, they all have **names**. For example, the\n",
    "name of the `print()` function is `print`. They can be used or **called** and when you **call** them \n",
    "you always use the brackets `()`. The functions listed above all took input **arguments** which is the stuff you\n",
    "type inside the brackets `()`. Another name for **arguments** is **parameters**. In all the cases, the functions performed some action or process by executing a block of Python code internal to that function.\n",
    "\n",
    "For example we can use the `len()` function to get the length of a string or a list."
   ]
  },
  {
   "cell_type": "code",
   "execution_count": 1,
   "metadata": {},
   "outputs": [
    {
     "name": "stdout",
     "output_type": "stream",
     "text": [
      "5\n"
     ]
    }
   ],
   "source": [
    "x = len('Hello')\n",
    "print(x)"
   ]
  },
  {
   "cell_type": "code",
   "execution_count": 2,
   "metadata": {},
   "outputs": [
    {
     "name": "stdout",
     "output_type": "stream",
     "text": [
      "5\n"
     ]
    }
   ],
   "source": [
    "x = len([0,1,2,3,4])\n",
    "print(x)"
   ]
  },
  {
   "cell_type": "markdown",
   "metadata": {},
   "source": [
    "# Built-in Python Functions\n",
    "\n",
    "Python has a number of functions built into it that are always available. You can get a list\n",
    "[here](https://docs.python.org/3/library/functions.html) for example. Using this link, you can click\n",
    "on the different functions to see what they do and how they are defined in the documentation.\n",
    "We will cover some of them here.\n",
    "\n",
    "## `abs()`\n",
    "Used to get the absolute value of a number."
   ]
  },
  {
   "cell_type": "code",
   "execution_count": 3,
   "metadata": {},
   "outputs": [
    {
     "data": {
      "text/plain": [
       "5"
      ]
     },
     "execution_count": 3,
     "metadata": {},
     "output_type": "execute_result"
    }
   ],
   "source": [
    "abs(5)"
   ]
  },
  {
   "cell_type": "code",
   "execution_count": 4,
   "metadata": {},
   "outputs": [
    {
     "data": {
      "text/plain": [
       "5"
      ]
     },
     "execution_count": 4,
     "metadata": {},
     "output_type": "execute_result"
    }
   ],
   "source": [
    "abs(-5)"
   ]
  },
  {
   "cell_type": "markdown",
   "metadata": {},
   "source": [
    "## `max()` and `min()`\n",
    "The `max()` function will return the largest number in an iterable\n",
    "and the `min()` function will return the smallest. \n",
    "There are different ways to use these. For example:"
   ]
  },
  {
   "cell_type": "code",
   "execution_count": 5,
   "metadata": {},
   "outputs": [
    {
     "data": {
      "text/plain": [
       "2"
      ]
     },
     "execution_count": 5,
     "metadata": {},
     "output_type": "execute_result"
    }
   ],
   "source": [
    "max(1,2) # an example of passing two arguments"
   ]
  },
  {
   "cell_type": "code",
   "execution_count": 6,
   "metadata": {},
   "outputs": [
    {
     "data": {
      "text/plain": [
       "1"
      ]
     },
     "execution_count": 6,
     "metadata": {},
     "output_type": "execute_result"
    }
   ],
   "source": [
    "min(1,2)"
   ]
  },
  {
   "cell_type": "code",
   "execution_count": 7,
   "metadata": {},
   "outputs": [
    {
     "data": {
      "text/plain": [
       "8"
      ]
     },
     "execution_count": 7,
     "metadata": {},
     "output_type": "execute_result"
    }
   ],
   "source": [
    "max(1,2,5,8) # an example of passing four arguments"
   ]
  },
  {
   "cell_type": "code",
   "execution_count": 8,
   "metadata": {},
   "outputs": [
    {
     "data": {
      "text/plain": [
       "1"
      ]
     },
     "execution_count": 8,
     "metadata": {},
     "output_type": "execute_result"
    }
   ],
   "source": [
    "min(1,2,5,8)"
   ]
  },
  {
   "cell_type": "code",
   "execution_count": 9,
   "metadata": {},
   "outputs": [
    {
     "data": {
      "text/plain": [
       "1000"
      ]
     },
     "execution_count": 9,
     "metadata": {},
     "output_type": "execute_result"
    }
   ],
   "source": [
    "max([1,10,12,10,50,-10,100,-100,1000]) # an example of passing a single list argument"
   ]
  },
  {
   "cell_type": "code",
   "execution_count": 10,
   "metadata": {},
   "outputs": [
    {
     "data": {
      "text/plain": [
       "-100"
      ]
     },
     "execution_count": 10,
     "metadata": {},
     "output_type": "execute_result"
    }
   ],
   "source": [
    "min([1,10,12,10,50,-10,100,-100,1000]) # an example of passing a single list argument"
   ]
  },
  {
   "cell_type": "markdown",
   "metadata": {},
   "source": [
    "## `round()`\n",
    "This function can be used to round to the nearest integer\n",
    "or round to a specific number of decimal points."
   ]
  },
  {
   "cell_type": "code",
   "execution_count": 11,
   "metadata": {},
   "outputs": [
    {
     "data": {
      "text/plain": [
       "3"
      ]
     },
     "execution_count": 11,
     "metadata": {},
     "output_type": "execute_result"
    }
   ],
   "source": [
    "round(3.14)"
   ]
  },
  {
   "cell_type": "code",
   "execution_count": 12,
   "metadata": {},
   "outputs": [
    {
     "data": {
      "text/plain": [
       "3"
      ]
     },
     "execution_count": 12,
     "metadata": {},
     "output_type": "execute_result"
    }
   ],
   "source": [
    "round(2.51)"
   ]
  },
  {
   "cell_type": "code",
   "execution_count": 13,
   "metadata": {},
   "outputs": [
    {
     "data": {
      "text/plain": [
       "3.0"
      ]
     },
     "execution_count": 13,
     "metadata": {},
     "output_type": "execute_result"
    }
   ],
   "source": [
    "round(3.14,0)"
   ]
  },
  {
   "cell_type": "code",
   "execution_count": 14,
   "metadata": {},
   "outputs": [
    {
     "data": {
      "text/plain": [
       "3.0"
      ]
     },
     "execution_count": 14,
     "metadata": {},
     "output_type": "execute_result"
    }
   ],
   "source": [
    "round(2.51,0)"
   ]
  },
  {
   "cell_type": "code",
   "execution_count": 15,
   "metadata": {},
   "outputs": [
    {
     "data": {
      "text/plain": [
       "3.15"
      ]
     },
     "execution_count": 15,
     "metadata": {},
     "output_type": "execute_result"
    }
   ],
   "source": [
    "round(3.1459,2)"
   ]
  },
  {
   "cell_type": "code",
   "execution_count": 16,
   "metadata": {},
   "outputs": [
    {
     "data": {
      "text/plain": [
       "10.1235"
      ]
     },
     "execution_count": 16,
     "metadata": {},
     "output_type": "execute_result"
    }
   ],
   "source": [
    "round(10.12346,4)"
   ]
  },
  {
   "cell_type": "code",
   "execution_count": 17,
   "metadata": {},
   "outputs": [
    {
     "data": {
      "text/plain": [
       "10.1234"
      ]
     },
     "execution_count": 17,
     "metadata": {},
     "output_type": "execute_result"
    }
   ],
   "source": [
    "round(10.12344,4)"
   ]
  },
  {
   "cell_type": "markdown",
   "metadata": {},
   "source": [
    "## `sum()`\n",
    "For example, to get the sum of the numbers in an iterable (such as a list)."
   ]
  },
  {
   "cell_type": "code",
   "execution_count": 18,
   "metadata": {},
   "outputs": [
    {
     "data": {
      "text/plain": [
       "6"
      ]
     },
     "execution_count": 18,
     "metadata": {},
     "output_type": "execute_result"
    }
   ],
   "source": [
    "sum([1,2,3])"
   ]
  },
  {
   "cell_type": "markdown",
   "metadata": {},
   "source": [
    "## `enumerate()`\n",
    "This function is very useful when looping over lists and so on.\n",
    "Consider the following loop:"
   ]
  },
  {
   "cell_type": "code",
   "execution_count": 19,
   "metadata": {},
   "outputs": [
    {
     "name": "stdout",
     "output_type": "stream",
     "text": [
      "0\n",
      "2\n",
      "4\n",
      "6\n",
      "8\n",
      "10\n"
     ]
    }
   ],
   "source": [
    "for x in [0,2,4,6,8,10]:\n",
    "    print(x)"
   ]
  },
  {
   "cell_type": "markdown",
   "metadata": {},
   "source": [
    "Often when iterating over a list you not only want\n",
    "the value of the item but also the index posiiton of the item\n",
    "in the list. This is where `enumerate()` is useful.\n",
    "You can use it like this:"
   ]
  },
  {
   "cell_type": "code",
   "execution_count": 20,
   "metadata": {},
   "outputs": [
    {
     "name": "stdout",
     "output_type": "stream",
     "text": [
      "0 0\n",
      "1 2\n",
      "2 4\n",
      "3 6\n",
      "4 8\n",
      "5 10\n"
     ]
    }
   ],
   "source": [
    "for i, x in enumerate([0,2,4,6,8,10]):\n",
    "    print(i,x)"
   ]
  },
  {
   "cell_type": "markdown",
   "metadata": {},
   "source": [
    "I think this is the first time we have seen a loop with more than\n",
    "one variable name. Here we are using `i,x`. The `i` is the index\n",
    "position for the item and `x` is the value. For example:"
   ]
  },
  {
   "cell_type": "code",
   "execution_count": 21,
   "metadata": {},
   "outputs": [
    {
     "name": "stdout",
     "output_type": "stream",
     "text": [
      "The position of the item is 0 and the value of the item is 0.\n",
      "The position of the item is 1 and the value of the item is 2.\n",
      "The position of the item is 2 and the value of the item is 4.\n",
      "The position of the item is 3 and the value of the item is 6.\n",
      "The position of the item is 4 and the value of the item is 8.\n",
      "The position of the item is 5 and the value of the item is 10.\n"
     ]
    }
   ],
   "source": [
    "for i, x in enumerate([0,2,4,6,8,10]):\n",
    "    print(f'The position of the item is {i} and the value of the item is {x}.')"
   ]
  },
  {
   "cell_type": "markdown",
   "metadata": {},
   "source": [
    "## `zip()`\n",
    "This is a neat little function. Here are a couple examples of using it.\n",
    "Don't worry too much about the details for now."
   ]
  },
  {
   "cell_type": "code",
   "execution_count": 22,
   "metadata": {},
   "outputs": [
    {
     "name": "stdout",
     "output_type": "stream",
     "text": [
      "1 4\n",
      "2 5\n",
      "3 6\n"
     ]
    }
   ],
   "source": [
    "x = [1,2,3]\n",
    "y = [4,5,6]\n",
    "\n",
    "for i,j in zip(x,y):\n",
    "    print(i,j)"
   ]
  },
  {
   "cell_type": "code",
   "execution_count": 23,
   "metadata": {},
   "outputs": [
    {
     "name": "stdout",
     "output_type": "stream",
     "text": [
      "1 4 7\n",
      "2 5 8\n",
      "3 6 9\n"
     ]
    }
   ],
   "source": [
    "x = [1,2,3]\n",
    "y = [4,5,6]\n",
    "z = [7,8,9]\n",
    "for a,b,c in zip(x,y,z):\n",
    "    print(a,b,c)"
   ]
  },
  {
   "cell_type": "markdown",
   "metadata": {},
   "source": [
    "# Defining your own functions\n",
    "It is very common to define your own functions in Python.\n",
    "When you are creating programs and applications\n",
    "it's normal to have lots of functions defined across\n",
    "multiple files. \n",
    "\n",
    "## DRY (Don't Repeat Yourself)\n",
    "\n",
    "One reason for using functions is so you **don't repeat yourself**. \n",
    "This is such a common expression across coding and software engineering\n",
    "it even has its own acronym, **DRY**. If you have a block of code\n",
    "that is used in multiple places then it's good to create a function for it.\n",
    "Then you don't have to copy/paste the code block in every place you want to use\n",
    "it. You just need to call the function when and where it's required. \n",
    "Also, if you need to change the function logic,\n",
    "you only need to change it in a single place which is in the function definition.\n",
    "Let's look at an example with the following code. I know this example is simple\n",
    "but try and imagine having more complicated code repeated through out larger projects.\n",
    "The same ideas/tools we use here apply to bigger projects as well."
   ]
  },
  {
   "cell_type": "code",
   "execution_count": 24,
   "metadata": {},
   "outputs": [
    {
     "name": "stdout",
     "output_type": "stream",
     "text": [
      "Isaac is 9 years old.\n",
      "Chris is 35 years old.\n",
      "Joanna is 37 years old.\n",
      "Penelope is 10 years old.\n",
      "Hazel is 7 years old.\n"
     ]
    }
   ],
   "source": [
    "name1 = 'Isaac'\n",
    "age1 = 9\n",
    "name2 = 'Chris'\n",
    "age2 = 35\n",
    "name3 = 'Joanna'\n",
    "age3 = 37\n",
    "name4 = 'Penelope'\n",
    "age4 = 10\n",
    "name5 = 'Hazel'\n",
    "age5 = 7\n",
    "\n",
    "print(f'{name1} is {age1} years old.')\n",
    "print(f'{name2} is {age2} years old.')\n",
    "print(f'{name3} is {age3} years old.')\n",
    "print(f'{name4} is {age4} years old.')\n",
    "print(f'{name5} is {age5} years old.')"
   ]
  },
  {
   "cell_type": "markdown",
   "metadata": {},
   "source": [
    "In the above code we have a very similar `print` statement that is \n",
    "repeated multiple times. We can take that logic and put it into\n",
    "a function. The function can take two arguments `name` and `age`\n",
    "and then print the string. Here is how you define a function to\n",
    "do that."
   ]
  },
  {
   "cell_type": "code",
   "execution_count": 25,
   "metadata": {},
   "outputs": [],
   "source": [
    "def print_person_info(name, age):\n",
    "    print(f'{name} is {age} years old.')"
   ]
  },
  {
   "cell_type": "markdown",
   "metadata": {},
   "source": [
    "Every function you define in Python begins with `def`, and next you write the name of the function. In this case the name was `print_person_info`. Next, you write the brackets `()`. You can leave the part within the `()` blank if there are no inputs/arguments/parameters (all mean same thing). In this case we need two arguments `name` and `age`. Then you write a `:` followed by a new line and then the indented code block with the function logic. \n",
    "\n",
    "When you execute code that is a function definition, it does not actually execute the code in the function.\n",
    "It just defines it. The code in the function is not executed until the function is actually used or called.\n",
    "\n",
    "The previous code above with the 5 print statements can be written like this. Notice that the code appears \"cleaner\" and more *readable*."
   ]
  },
  {
   "cell_type": "code",
   "execution_count": 26,
   "metadata": {},
   "outputs": [
    {
     "name": "stdout",
     "output_type": "stream",
     "text": [
      "Isaac is 9 years old.\n",
      "Chris is 35 years old.\n",
      "Joanna is 37 years old.\n",
      "Penelope is 10 years old.\n",
      "Hazel is 7 years old.\n"
     ]
    }
   ],
   "source": [
    "name1 = 'Isaac'\n",
    "age1 = 9\n",
    "name2 = 'Chris'\n",
    "age2 = 35\n",
    "name3 = 'Joanna'\n",
    "age3 = 37\n",
    "name4 = 'Penelope'\n",
    "age4 = 10\n",
    "name5 = 'Hazel'\n",
    "age5 = 7\n",
    "\n",
    "print_person_info(name1, age1)\n",
    "print_person_info(name2, age2)\n",
    "print_person_info(name3, age3)\n",
    "print_person_info(name4, age4)\n",
    "print_person_info(name5, age5)"
   ]
  },
  {
   "cell_type": "markdown",
   "metadata": {},
   "source": [
    "Also, suppose we wanted to change the string that is printed. Instead of changing it in 5 places,\n",
    "we can just change it in one single place, the function definition. Let's add some more words to\n",
    "the string/sentence that is printed."
   ]
  },
  {
   "cell_type": "code",
   "execution_count": 27,
   "metadata": {},
   "outputs": [],
   "source": [
    "def print_person_info(name, age):\n",
    "    print(f'{name} is {age} years old and they are a very nice person.')"
   ]
  },
  {
   "cell_type": "code",
   "execution_count": 28,
   "metadata": {},
   "outputs": [
    {
     "name": "stdout",
     "output_type": "stream",
     "text": [
      "Isaac is 9 years old and they are a very nice person.\n",
      "Chris is 35 years old and they are a very nice person.\n",
      "Joanna is 37 years old and they are a very nice person.\n",
      "Penelope is 10 years old and they are a very nice person.\n",
      "Hazel is 7 years old and they are a very nice person.\n"
     ]
    }
   ],
   "source": [
    "name1 = 'Isaac'\n",
    "age1 = 9\n",
    "name2 = 'Chris'\n",
    "age2 = 35\n",
    "name3 = 'Joanna'\n",
    "age3 = 37\n",
    "name4 = 'Penelope'\n",
    "age4 = 10\n",
    "name5 = 'Hazel'\n",
    "age5 = 7\n",
    "\n",
    "print_person_info(name1, age1)\n",
    "print_person_info(name2, age2)\n",
    "print_person_info(name3, age3)\n",
    "print_person_info(name4, age4)\n",
    "print_person_info(name5, age5)"
   ]
  },
  {
   "cell_type": "markdown",
   "metadata": {},
   "source": [
    "We are still repeating ourselves in the code and it can be made shorter and simpler with\n",
    "the use of lists and loops. First we will convert the ages and names into a single list\n",
    "of lists like this:"
   ]
  },
  {
   "cell_type": "code",
   "execution_count": 29,
   "metadata": {},
   "outputs": [],
   "source": [
    "people = [['Isaac', 9], ['Chris', 35], ['Joanna', 37], ['Penelope', 10], ['Hazel', 7]]"
   ]
  },
  {
   "cell_type": "markdown",
   "metadata": {},
   "source": [
    "Above we defined a list where each item in the list is also a list.\n",
    "Make sure this makes sense to you before continuing."
   ]
  },
  {
   "cell_type": "code",
   "execution_count": 30,
   "metadata": {},
   "outputs": [
    {
     "name": "stdout",
     "output_type": "stream",
     "text": [
      "['Isaac', 9]\n",
      "['Hazel', 7]\n",
      "Isaac\n",
      "7\n"
     ]
    }
   ],
   "source": [
    "print(people[0])\n",
    "print(people[-1])\n",
    "print(people[0][0])\n",
    "print(people[-1][-1])"
   ]
  },
  {
   "cell_type": "markdown",
   "metadata": {},
   "source": [
    "So now we can write the simplified code all together like this:"
   ]
  },
  {
   "cell_type": "code",
   "execution_count": 31,
   "metadata": {},
   "outputs": [
    {
     "name": "stdout",
     "output_type": "stream",
     "text": [
      "Isaac is 9 years old and they are a very nice person.\n",
      "Chris is 35 years old and they are a very nice person.\n",
      "Joanna is 37 years old and they are a very nice person.\n",
      "Penelope is 10 years old and they are a very nice person.\n",
      "Hazel is 7 years old and they are a very nice person.\n"
     ]
    }
   ],
   "source": [
    "def print_person_info(name, age):\n",
    "    print(f'{name} is {age} years old and they are a very nice person.')\n",
    "    \n",
    "people = [['Isaac', 9], ['Chris', 35], ['Joanna', 37], ['Penelope', 10], ['Hazel', 7]]\n",
    "for person in people:\n",
    "    print_person_info(person[0],person[1])"
   ]
  },
  {
   "cell_type": "markdown",
   "metadata": {},
   "source": [
    "We went from code that was about 15 lines long and had lots of repetition to code that is\n",
    "6 lines long and has no repetition. All by using a user defined function and a `for` loop.\n",
    "The code is more readable and easier to maintain. "
   ]
  },
  {
   "cell_type": "markdown",
   "metadata": {},
   "source": [
    "## Let's start simple\n",
    "\n",
    "Okay so lets dive more into what functions in Python are \n",
    "and how to define them. Lets start simple with functions\n",
    "that do not have any arguments/parameters/inputs (these\n",
    "terms all mean the same thing). The general syntax\n",
    "for a function with no arguments is\n",
    "\n",
    "```\n",
    "def function_name():\n",
    "    code_for_function_logic\n",
    "```\n",
    "\n",
    "Here are two functions which both execute the same logic.\n",
    "The only difference is that they have different function\n",
    "names."
   ]
  },
  {
   "cell_type": "code",
   "execution_count": 32,
   "metadata": {},
   "outputs": [],
   "source": [
    "def hello_world1():\n",
    "    print('Hello World!')\n",
    "    \n",
    "def hello_world2():\n",
    "    print('Hello World!')"
   ]
  },
  {
   "cell_type": "markdown",
   "metadata": {},
   "source": [
    "Notice that when you execute the above code nothing is printed.\n",
    "This is because the code within the functions is not executed\n",
    "when the functions are defined. The above code simply\n",
    "defines the functions so that you can access the functions\n",
    "by name in your code and call them, like this:"
   ]
  },
  {
   "cell_type": "code",
   "execution_count": 33,
   "metadata": {},
   "outputs": [
    {
     "name": "stdout",
     "output_type": "stream",
     "text": [
      "Hello World!\n",
      "Hello World!\n"
     ]
    }
   ],
   "source": [
    "hello_world1()\n",
    "hello_world2()"
   ]
  },
  {
   "cell_type": "markdown",
   "metadata": {},
   "source": [
    "Above we saw how to use/call the functions. You use the function name and you also require \n",
    "the brackets `()`.\n",
    "\n",
    "You can not use a function before having it\n",
    "defined and available to the Python program/code.\n",
    "For example,"
   ]
  },
  {
   "cell_type": "code",
   "execution_count": 34,
   "metadata": {},
   "outputs": [
    {
     "ename": "NameError",
     "evalue": "name 'hello_world3' is not defined",
     "output_type": "error",
     "traceback": [
      "\u001b[0;31m---------------------------------------------------------------------------\u001b[0m",
      "\u001b[0;31mNameError\u001b[0m                                 Traceback (most recent call last)",
      "\u001b[0;32m<ipython-input-34-d2ee715b48fa>\u001b[0m in \u001b[0;36m<module>\u001b[0;34m\u001b[0m\n\u001b[0;32m----> 1\u001b[0;31m \u001b[0mhello_world3\u001b[0m\u001b[0;34m(\u001b[0m\u001b[0;34m)\u001b[0m\u001b[0;34m\u001b[0m\u001b[0m\n\u001b[0m",
      "\u001b[0;31mNameError\u001b[0m: name 'hello_world3' is not defined"
     ]
    }
   ],
   "source": [
    "hello_world3()"
   ]
  },
  {
   "cell_type": "markdown",
   "metadata": {},
   "source": [
    "Our Python interpreter (the thing that reads and executes the code)\n",
    "has no idea what `hello_world3` is and returns a `NameError`.\n",
    "You need to define the function before you use it."
   ]
  },
  {
   "cell_type": "code",
   "execution_count": 35,
   "metadata": {},
   "outputs": [
    {
     "name": "stdout",
     "output_type": "stream",
     "text": [
      "Hello World!\n"
     ]
    }
   ],
   "source": [
    "def hello_world3():\n",
    "    print('Hello World!')\n",
    "hello_world3()"
   ]
  },
  {
   "cell_type": "markdown",
   "metadata": {},
   "source": [
    "## Test your Functions!\n",
    "You can have a bug in your function code and you\n",
    "may not even know it until you go and use/call the function. \n",
    "\n",
    "```{admonition} Bug\n",
    "In programming, a bug is a common term which simply means error, mistake,\n",
    "or some problem with the code. Most bugs are due to human error in writing\n",
    "the code. Debugging is the act of finding and removing such bugs in the code.\n",
    "```\n",
    "\n",
    "Lets look at a simple example.\n",
    "When doing division you can never divide by 0.\n",
    "If you attempt this in Python you will get an error."
   ]
  },
  {
   "cell_type": "code",
   "execution_count": 36,
   "metadata": {},
   "outputs": [
    {
     "ename": "ZeroDivisionError",
     "evalue": "division by zero",
     "output_type": "error",
     "traceback": [
      "\u001b[0;31m---------------------------------------------------------------------------\u001b[0m",
      "\u001b[0;31mZeroDivisionError\u001b[0m                         Traceback (most recent call last)",
      "\u001b[0;32m<ipython-input-36-bc757c3fda29>\u001b[0m in \u001b[0;36m<module>\u001b[0;34m\u001b[0m\n\u001b[0;32m----> 1\u001b[0;31m \u001b[0;36m1\u001b[0m \u001b[0;34m/\u001b[0m \u001b[0;36m0\u001b[0m\u001b[0;34m\u001b[0m\u001b[0m\n\u001b[0m",
      "\u001b[0;31mZeroDivisionError\u001b[0m: division by zero"
     ]
    }
   ],
   "source": [
    "1 / 0"
   ]
  },
  {
   "cell_type": "code",
   "execution_count": 37,
   "metadata": {},
   "outputs": [],
   "source": [
    "def do_something():\n",
    "    x = 1\n",
    "    y = 2\n",
    "    print(x + y)\n",
    "    z = 1 / 0"
   ]
  },
  {
   "cell_type": "markdown",
   "metadata": {},
   "source": [
    "You see the bug in the function definition above? The\n",
    "error is when we do `z = 1 / 0`. The code before that line is fine.\n",
    "When we execute the above code there is no error\n",
    "because the code above is simply defining the function. The code within the function is not executed.\n",
    "It will not be executed until you call the function (which means to use it)."
   ]
  },
  {
   "cell_type": "code",
   "execution_count": 38,
   "metadata": {},
   "outputs": [
    {
     "name": "stdout",
     "output_type": "stream",
     "text": [
      "3\n"
     ]
    },
    {
     "ename": "ZeroDivisionError",
     "evalue": "division by zero",
     "output_type": "error",
     "traceback": [
      "\u001b[0;31m---------------------------------------------------------------------------\u001b[0m",
      "\u001b[0;31mZeroDivisionError\u001b[0m                         Traceback (most recent call last)",
      "\u001b[0;32m<ipython-input-38-e0006e76ebeb>\u001b[0m in \u001b[0;36m<module>\u001b[0;34m\u001b[0m\n\u001b[0;32m----> 1\u001b[0;31m \u001b[0mdo_something\u001b[0m\u001b[0;34m(\u001b[0m\u001b[0;34m)\u001b[0m\u001b[0;34m\u001b[0m\u001b[0m\n\u001b[0m",
      "\u001b[0;32m<ipython-input-37-82633e8027cb>\u001b[0m in \u001b[0;36mdo_something\u001b[0;34m()\u001b[0m\n\u001b[1;32m      3\u001b[0m     \u001b[0my\u001b[0m \u001b[0;34m=\u001b[0m \u001b[0;36m2\u001b[0m\u001b[0;34m\u001b[0m\u001b[0m\n\u001b[1;32m      4\u001b[0m     \u001b[0mprint\u001b[0m\u001b[0;34m(\u001b[0m\u001b[0mx\u001b[0m \u001b[0;34m+\u001b[0m \u001b[0my\u001b[0m\u001b[0;34m)\u001b[0m\u001b[0;34m\u001b[0m\u001b[0m\n\u001b[0;32m----> 5\u001b[0;31m     \u001b[0mz\u001b[0m \u001b[0;34m=\u001b[0m \u001b[0;36m1\u001b[0m \u001b[0;34m/\u001b[0m \u001b[0;36m0\u001b[0m\u001b[0;34m\u001b[0m\u001b[0m\n\u001b[0m",
      "\u001b[0;31mZeroDivisionError\u001b[0m: division by zero"
     ]
    }
   ],
   "source": [
    "do_something()"
   ]
  },
  {
   "cell_type": "markdown",
   "metadata": {},
   "source": [
    "Notice that the code began to execute and `3` was printed.\n",
    "But then when it goes to execute the line `z = 1 / 0`\n",
    "an error occurs.\n",
    "Python attempts to tell you where the error is. \n",
    "It says there is an error in the function `do_something()`\n",
    "and it tells you the issue is at line 5 in the function definition\n",
    "when it does `z = 1 / 0`. It\n",
    "also gives you specifics about the error which is a `ZeroDivisionError`.\n",
    "\n",
    "Always remember to test your functions."
   ]
  },
  {
   "cell_type": "markdown",
   "metadata": {},
   "source": [
    "## Local variables\n",
    "\n",
    "Variables that are defined within a function definition\n",
    "are local to that function and can only be accessed within\n",
    "the function.\n",
    "They can not be accessed outside function definition in\n",
    "other code."
   ]
  },
  {
   "cell_type": "code",
   "execution_count": 39,
   "metadata": {},
   "outputs": [],
   "source": [
    "def add_w_and_q():\n",
    "    w = 10\n",
    "    q = 20\n",
    "    print(f'{q} + {w} is equal to {q + w}')"
   ]
  },
  {
   "cell_type": "code",
   "execution_count": 40,
   "metadata": {},
   "outputs": [
    {
     "name": "stdout",
     "output_type": "stream",
     "text": [
      "20 + 10 is equal to 30\n"
     ]
    }
   ],
   "source": [
    "add_w_and_q()"
   ]
  },
  {
   "cell_type": "code",
   "execution_count": 41,
   "metadata": {},
   "outputs": [
    {
     "ename": "NameError",
     "evalue": "name 'w' is not defined",
     "output_type": "error",
     "traceback": [
      "\u001b[0;31m---------------------------------------------------------------------------\u001b[0m",
      "\u001b[0;31mNameError\u001b[0m                                 Traceback (most recent call last)",
      "\u001b[0;32m<ipython-input-41-bcfe7ead5c3f>\u001b[0m in \u001b[0;36m<module>\u001b[0;34m\u001b[0m\n\u001b[0;32m----> 1\u001b[0;31m \u001b[0mprint\u001b[0m\u001b[0;34m(\u001b[0m\u001b[0mw\u001b[0m\u001b[0;34m)\u001b[0m\u001b[0;34m\u001b[0m\u001b[0m\n\u001b[0m",
      "\u001b[0;31mNameError\u001b[0m: name 'w' is not defined"
     ]
    }
   ],
   "source": [
    "print(w)"
   ]
  },
  {
   "cell_type": "code",
   "execution_count": 42,
   "metadata": {},
   "outputs": [
    {
     "ename": "NameError",
     "evalue": "name 'q' is not defined",
     "output_type": "error",
     "traceback": [
      "\u001b[0;31m---------------------------------------------------------------------------\u001b[0m",
      "\u001b[0;31mNameError\u001b[0m                                 Traceback (most recent call last)",
      "\u001b[0;32m<ipython-input-42-996617e96a38>\u001b[0m in \u001b[0;36m<module>\u001b[0;34m\u001b[0m\n\u001b[0;32m----> 1\u001b[0;31m \u001b[0mprint\u001b[0m\u001b[0;34m(\u001b[0m\u001b[0mq\u001b[0m\u001b[0;34m)\u001b[0m\u001b[0;34m\u001b[0m\u001b[0m\n\u001b[0m",
      "\u001b[0;31mNameError\u001b[0m: name 'q' is not defined"
     ]
    }
   ],
   "source": [
    "print(q)"
   ]
  },
  {
   "cell_type": "markdown",
   "metadata": {},
   "source": [
    "Those errors are because `w` and `q` are only defined local\n",
    "to the function definition `add_w_and_q()`. This idea is known\n",
    "as local variables and you will often here coders refer\n",
    "to the *local scope*. It just means the scope of those\n",
    "variables are local to the function definition.\n",
    "\n",
    "If you have a variable defined outside a function,\n",
    "it can actually be accessed within the local\n",
    "function definition."
   ]
  },
  {
   "cell_type": "code",
   "execution_count": 43,
   "metadata": {},
   "outputs": [],
   "source": [
    "def add_w_and_q():\n",
    "    w = 10\n",
    "    q = 20\n",
    "    print(f'{q} + {w} is equal to {q + w}. The value of x is {x}.')"
   ]
  },
  {
   "cell_type": "code",
   "execution_count": 44,
   "metadata": {},
   "outputs": [
    {
     "name": "stdout",
     "output_type": "stream",
     "text": [
      "20 + 10 is equal to 30. The value of x is 5.\n"
     ]
    }
   ],
   "source": [
    "x = 5\n",
    "add_w_and_q()"
   ]
  },
  {
   "cell_type": "code",
   "execution_count": null,
   "metadata": {},
   "outputs": [],
   "source": []
  },
  {
   "cell_type": "markdown",
   "metadata": {},
   "source": [
    "It's not usually a good idea to have variables\n",
    "defined in a function that are also defined outside\n",
    "the function. It can be harder to keep track of things.\n",
    "Consider this example. In this example when we print the\n",
    "value of `x` in the function definition it will take the value\n",
    "of `x` defined in the function. Outside the function it will use \n",
    "the value of `x` defined outside the function. In general,\n",
    "try to avoid this coding pattern."
   ]
  },
  {
   "cell_type": "code",
   "execution_count": 45,
   "metadata": {},
   "outputs": [],
   "source": [
    "def print_local_x_value():\n",
    "    x = -99\n",
    "    print(f'The value of x defined in the function is {x}.')"
   ]
  },
  {
   "cell_type": "code",
   "execution_count": 46,
   "metadata": {},
   "outputs": [
    {
     "name": "stdout",
     "output_type": "stream",
     "text": [
      "The value of x defined in the function is -99.\n",
      "The value of x outside the function is 5\n",
      "The value of x defined in the function is -99.\n",
      "The value of x outside the function is 33\n"
     ]
    }
   ],
   "source": [
    "x = 5\n",
    "print_local_x_value()\n",
    "print(f'The value of x outside the function is {x}')\n",
    "x = 33\n",
    "print_local_x_value()\n",
    "print(f'The value of x outside the function is {x}')"
   ]
  },
  {
   "cell_type": "markdown",
   "metadata": {},
   "source": [
    "## `return` statement\n",
    "\n",
    "So far we know that functions execute a block of code\n",
    "and that code can do anything we want it to.\n",
    "In the above examples we were simply printing something.\n",
    "A lot of the time we want the function to return\n",
    "a Python object. To do this we use the `return` statement."
   ]
  },
  {
   "cell_type": "code",
   "execution_count": 47,
   "metadata": {},
   "outputs": [],
   "source": [
    "def add_x_and_y():\n",
    "    x = 1\n",
    "    y = 2\n",
    "    result = x + y\n",
    "    return result"
   ]
  },
  {
   "cell_type": "code",
   "execution_count": 48,
   "metadata": {},
   "outputs": [
    {
     "data": {
      "text/plain": [
       "3"
      ]
     },
     "execution_count": 48,
     "metadata": {},
     "output_type": "execute_result"
    }
   ],
   "source": [
    "add_x_and_y()"
   ]
  },
  {
   "cell_type": "code",
   "execution_count": 49,
   "metadata": {},
   "outputs": [],
   "source": [
    "z = add_x_and_y()"
   ]
  },
  {
   "cell_type": "code",
   "execution_count": 50,
   "metadata": {},
   "outputs": [
    {
     "name": "stdout",
     "output_type": "stream",
     "text": [
      "3\n"
     ]
    }
   ],
   "source": [
    "print(z)"
   ]
  },
  {
   "cell_type": "markdown",
   "metadata": {},
   "source": [
    "This is very common to do with the use of functions.\n",
    "The function will perform some computation\n",
    "and we want to get the result back.\n",
    "\n",
    "A function can have multiple `return` statements within its definition.\n",
    "For example, you might return different values\n",
    "depending on some internal logic to the function.\n",
    "However, only one `return` statement can ever be\n",
    "executed in any function at once. Whichever `return`\n",
    "statement is executed first will be the one that is used.\n",
    "As soon as the `return` statement is executed,\n",
    "any remaining code in the function definition \n",
    "will be skipped over. For example:"
   ]
  },
  {
   "cell_type": "code",
   "execution_count": 51,
   "metadata": {},
   "outputs": [],
   "source": [
    "def example_return():\n",
    "    x = 10\n",
    "    y = 20\n",
    "    \n",
    "    if x == 10: # this condition is True\n",
    "        return x # code gets to this return statement first so will be executed \n",
    "    \n",
    "    if y == 20: # this condition is True\n",
    "        return y # will never be executed "
   ]
  },
  {
   "cell_type": "code",
   "execution_count": 52,
   "metadata": {},
   "outputs": [
    {
     "data": {
      "text/plain": [
       "10"
      ]
     },
     "execution_count": 52,
     "metadata": {},
     "output_type": "execute_result"
    }
   ],
   "source": [
    "example_return()"
   ]
  },
  {
   "cell_type": "markdown",
   "metadata": {},
   "source": [
    "## Positional Arguments"
   ]
  },
  {
   "cell_type": "markdown",
   "metadata": {},
   "source": [
    "Consider the following function `subtract_numbers`."
   ]
  },
  {
   "cell_type": "code",
   "execution_count": 53,
   "metadata": {},
   "outputs": [],
   "source": [
    "def subtract_numbers():\n",
    "    x = 5\n",
    "    y = 3\n",
    "    return x - y"
   ]
  },
  {
   "cell_type": "code",
   "execution_count": 54,
   "metadata": {},
   "outputs": [
    {
     "data": {
      "text/plain": [
       "2"
      ]
     },
     "execution_count": 54,
     "metadata": {},
     "output_type": "execute_result"
    }
   ],
   "source": [
    "subtract_numbers()"
   ]
  },
  {
   "cell_type": "markdown",
   "metadata": {},
   "source": [
    "The function is very limited in its use cases\n",
    "because it only can subtract `5-3` and always will\n",
    "return `2`. What if we could pass any two numbers\n",
    "as input to the function and get back the result \n",
    "when we do the first number subtract the second number?\n",
    "We can accomplish this with **arguments**. Arguments\n",
    "are also called **parameters** and both words mean the same\n",
    "thing. The arguments are the inputs to the function\n",
    "and you define and pass them within the brackets `()`\n",
    "of the function.\n",
    "\n",
    "Here we define the function `subtract_numbers` to take\n",
    "two arguments `x` and `y` which must be passed to the\n",
    "function when calling it."
   ]
  },
  {
   "cell_type": "code",
   "execution_count": 55,
   "metadata": {},
   "outputs": [],
   "source": [
    "def subtract_numbers(x, y):\n",
    "    return x - y"
   ]
  },
  {
   "cell_type": "markdown",
   "metadata": {},
   "source": [
    "This will raise an error because we did not pass\n",
    "any values for the arguments."
   ]
  },
  {
   "cell_type": "code",
   "execution_count": 56,
   "metadata": {},
   "outputs": [
    {
     "ename": "TypeError",
     "evalue": "subtract_numbers() missing 2 required positional arguments: 'x' and 'y'",
     "output_type": "error",
     "traceback": [
      "\u001b[0;31m---------------------------------------------------------------------------\u001b[0m",
      "\u001b[0;31mTypeError\u001b[0m                                 Traceback (most recent call last)",
      "\u001b[0;32m<ipython-input-56-0ecc547ee07f>\u001b[0m in \u001b[0;36m<module>\u001b[0;34m\u001b[0m\n\u001b[0;32m----> 1\u001b[0;31m \u001b[0msubtract_numbers\u001b[0m\u001b[0;34m(\u001b[0m\u001b[0;34m)\u001b[0m\u001b[0;34m\u001b[0m\u001b[0m\n\u001b[0m",
      "\u001b[0;31mTypeError\u001b[0m: subtract_numbers() missing 2 required positional arguments: 'x' and 'y'"
     ]
    }
   ],
   "source": [
    "subtract_numbers()"
   ]
  },
  {
   "cell_type": "markdown",
   "metadata": {},
   "source": [
    "You must provide the value of the arguments.\n",
    "When we call the function in this way,\n",
    "the arguments are called **positional**\n",
    "arguments because the order/position in which they\n",
    "are entered/passed matters. The first argument is\n",
    "the value for `x` and the second argument is the\n",
    "value for `y`."
   ]
  },
  {
   "cell_type": "code",
   "execution_count": 57,
   "metadata": {},
   "outputs": [
    {
     "data": {
      "text/plain": [
       "3"
      ]
     },
     "execution_count": 57,
     "metadata": {},
     "output_type": "execute_result"
    }
   ],
   "source": [
    "subtract_numbers(10, 7)"
   ]
  },
  {
   "cell_type": "code",
   "execution_count": 58,
   "metadata": {},
   "outputs": [
    {
     "data": {
      "text/plain": [
       "-3"
      ]
     },
     "execution_count": 58,
     "metadata": {},
     "output_type": "execute_result"
    }
   ],
   "source": [
    "subtract_numbers(7, 10)"
   ]
  },
  {
   "cell_type": "code",
   "execution_count": 59,
   "metadata": {},
   "outputs": [
    {
     "data": {
      "text/plain": [
       "-10"
      ]
     },
     "execution_count": 59,
     "metadata": {},
     "output_type": "execute_result"
    }
   ],
   "source": [
    "subtract_numbers(10, 20)"
   ]
  },
  {
   "cell_type": "code",
   "execution_count": 60,
   "metadata": {},
   "outputs": [
    {
     "data": {
      "text/plain": [
       "10"
      ]
     },
     "execution_count": 60,
     "metadata": {},
     "output_type": "execute_result"
    }
   ],
   "source": [
    "subtract_numbers(20, 10)"
   ]
  },
  {
   "cell_type": "markdown",
   "metadata": {},
   "source": [
    "Here is a function that returns `True` if the number is even and `False` otherwise."
   ]
  },
  {
   "cell_type": "code",
   "execution_count": 61,
   "metadata": {},
   "outputs": [],
   "source": [
    "def is_even(number):\n",
    "    if number % 2 == 0:\n",
    "        return True\n",
    "    else:\n",
    "        return False\n",
    "    "
   ]
  },
  {
   "cell_type": "code",
   "execution_count": 62,
   "metadata": {},
   "outputs": [
    {
     "data": {
      "text/plain": [
       "False"
      ]
     },
     "execution_count": 62,
     "metadata": {},
     "output_type": "execute_result"
    }
   ],
   "source": [
    "is_even(9)"
   ]
  },
  {
   "cell_type": "code",
   "execution_count": 63,
   "metadata": {},
   "outputs": [
    {
     "data": {
      "text/plain": [
       "True"
      ]
     },
     "execution_count": 63,
     "metadata": {},
     "output_type": "execute_result"
    }
   ],
   "source": [
    "is_even(8)"
   ]
  },
  {
   "cell_type": "markdown",
   "metadata": {},
   "source": [
    "## Keyword Arguments\n",
    "\n",
    "We just learned about positional arguments where the position/order\n",
    "of the arguments is important. You can also use **keyword** arguments\n",
    "in which you provide the argument name and the value when calling the function.\n",
    "Lets change the definition of `subtract_numbers` to take three arguments\n",
    "and subtract `x - y - z` and return the result."
   ]
  },
  {
   "cell_type": "code",
   "execution_count": 64,
   "metadata": {},
   "outputs": [],
   "source": [
    "def subtract_numbers(x, y, z):\n",
    "    result = x - y - z\n",
    "    print(f'{x} take away {y} take away {z} is {result}')\n",
    "    return result"
   ]
  },
  {
   "cell_type": "markdown",
   "metadata": {},
   "source": [
    "This is an example of passing positional arguments."
   ]
  },
  {
   "cell_type": "code",
   "execution_count": 65,
   "metadata": {},
   "outputs": [
    {
     "name": "stdout",
     "output_type": "stream",
     "text": [
      "10 take away 5 take away 3 is 2\n"
     ]
    },
    {
     "data": {
      "text/plain": [
       "2"
      ]
     },
     "execution_count": 65,
     "metadata": {},
     "output_type": "execute_result"
    }
   ],
   "source": [
    "subtract_numbers(10, 5, 3)"
   ]
  },
  {
   "cell_type": "markdown",
   "metadata": {},
   "source": [
    "Here is an example of calling the same function\n",
    "but now with **keyword arguments**.\n",
    "With **keyword** arguments you provide\n",
    "the argument name on the left of the `=`\n",
    "and the value on the right."
   ]
  },
  {
   "cell_type": "code",
   "execution_count": 66,
   "metadata": {},
   "outputs": [
    {
     "name": "stdout",
     "output_type": "stream",
     "text": [
      "10 take away 5 take away 3 is 2\n"
     ]
    },
    {
     "data": {
      "text/plain": [
       "2"
      ]
     },
     "execution_count": 66,
     "metadata": {},
     "output_type": "execute_result"
    }
   ],
   "source": [
    "subtract_numbers(x=10, y=5, z=3)"
   ]
  },
  {
   "cell_type": "markdown",
   "metadata": {},
   "source": [
    "When using all keyword arguments you can pass the arguments\n",
    "in any order. Notice that we get the same result as above."
   ]
  },
  {
   "cell_type": "code",
   "execution_count": 67,
   "metadata": {},
   "outputs": [
    {
     "name": "stdout",
     "output_type": "stream",
     "text": [
      "10 take away 5 take away 3 is 2\n"
     ]
    },
    {
     "data": {
      "text/plain": [
       "2"
      ]
     },
     "execution_count": 67,
     "metadata": {},
     "output_type": "execute_result"
    }
   ],
   "source": [
    "subtract_numbers(z=3, x=10, y=5)"
   ]
  },
  {
   "cell_type": "markdown",
   "metadata": {},
   "source": [
    "You can also mix positional arguments and keyword arguments\n",
    "but **positional arguments must be specified before keyword arguments**.\n",
    "For example:"
   ]
  },
  {
   "cell_type": "code",
   "execution_count": 68,
   "metadata": {},
   "outputs": [
    {
     "name": "stdout",
     "output_type": "stream",
     "text": [
      "10 take away 5 take away 3 is 2\n"
     ]
    },
    {
     "data": {
      "text/plain": [
       "2"
      ]
     },
     "execution_count": 68,
     "metadata": {},
     "output_type": "execute_result"
    }
   ],
   "source": [
    "subtract_numbers(10, 5, z=3)"
   ]
  },
  {
   "cell_type": "code",
   "execution_count": 69,
   "metadata": {},
   "outputs": [
    {
     "name": "stdout",
     "output_type": "stream",
     "text": [
      "10 take away 5 take away 3 is 2\n"
     ]
    },
    {
     "data": {
      "text/plain": [
       "2"
      ]
     },
     "execution_count": 69,
     "metadata": {},
     "output_type": "execute_result"
    }
   ],
   "source": [
    "subtract_numbers(10, y=5, z=3)"
   ]
  },
  {
   "cell_type": "markdown",
   "metadata": {},
   "source": [
    "You can not put keyword arguments before positional arguments."
   ]
  },
  {
   "cell_type": "code",
   "execution_count": 70,
   "metadata": {},
   "outputs": [
    {
     "ename": "SyntaxError",
     "evalue": "positional argument follows keyword argument (<ipython-input-70-6f8bb9d316a4>, line 1)",
     "output_type": "error",
     "traceback": [
      "\u001b[0;36m  File \u001b[0;32m\"<ipython-input-70-6f8bb9d316a4>\"\u001b[0;36m, line \u001b[0;32m1\u001b[0m\n\u001b[0;31m    subtract_numbers(x=10, y=5, 3)\u001b[0m\n\u001b[0m                               ^\u001b[0m\n\u001b[0;31mSyntaxError\u001b[0m\u001b[0;31m:\u001b[0m positional argument follows keyword argument\n"
     ]
    }
   ],
   "source": [
    "subtract_numbers(x=10, y=5, 3)"
   ]
  },
  {
   "cell_type": "markdown",
   "metadata": {},
   "source": [
    "## Default arguments\n",
    "It is often convenient to define default values for arguments.\n",
    "These are called default arguments. Consider the following\n",
    "function which computes the cost of something after taxes\n",
    "given the cost before tax and the tax rate. We will assume\n",
    "the `tax_rate` is a float between 0 and 1. So a value of\n",
    "`0.15` for `tax_rate` means 15% tax."
   ]
  },
  {
   "cell_type": "code",
   "execution_count": 71,
   "metadata": {},
   "outputs": [],
   "source": [
    "def cost_after_tax(cost_before_tax, tax_rate):\n",
    "    total_cost = cost_before_tax + tax_rate * cost_before_tax\n",
    "    return total_cost"
   ]
  },
  {
   "cell_type": "code",
   "execution_count": 72,
   "metadata": {},
   "outputs": [
    {
     "data": {
      "text/plain": [
       "115.0"
      ]
     },
     "execution_count": 72,
     "metadata": {},
     "output_type": "execute_result"
    }
   ],
   "source": [
    "cost_after_tax(100, 0.15)"
   ]
  },
  {
   "cell_type": "code",
   "execution_count": 73,
   "metadata": {},
   "outputs": [
    {
     "data": {
      "text/plain": [
       "750.0"
      ]
     },
     "execution_count": 73,
     "metadata": {},
     "output_type": "execute_result"
    }
   ],
   "source": [
    "cost_after_tax(cost_before_tax=500, tax_rate=0.50)"
   ]
  },
  {
   "cell_type": "code",
   "execution_count": 74,
   "metadata": {},
   "outputs": [
    {
     "data": {
      "text/plain": [
       "1250.0"
      ]
     },
     "execution_count": 74,
     "metadata": {},
     "output_type": "execute_result"
    }
   ],
   "source": [
    "cost_after_tax(tax_rate=.25, cost_before_tax=1000)"
   ]
  },
  {
   "cell_type": "code",
   "execution_count": 75,
   "metadata": {},
   "outputs": [
    {
     "data": {
      "text/plain": [
       "135.0"
      ]
     },
     "execution_count": 75,
     "metadata": {},
     "output_type": "execute_result"
    }
   ],
   "source": [
    "cost_after_tax(100, tax_rate=0.35)"
   ]
  },
  {
   "cell_type": "markdown",
   "metadata": {},
   "source": [
    "The above examples show different examples\n",
    "of calling the function with just positional arguments, just keyword arguments,\n",
    "and a mixture of both.\n",
    "\n",
    "But what if we wanted to have a default tax value? For example,\n",
    "depending on where you live the tax rate is probably very consistent.\n",
    "For example, the tax rate might be 15%. Then you don't want to have to\n",
    "provide that argument every time you use the function. But you will want\n",
    "the ability to change it when it suits your needs. This is the use case of\n",
    "**default** arguments. When you define your function you can provide\n",
    "default arguments by providing the argument name on the left of the `=`\n",
    "sign and the default value on the right. Like this:"
   ]
  },
  {
   "cell_type": "code",
   "execution_count": 76,
   "metadata": {},
   "outputs": [],
   "source": [
    "def cost_after_tax(cost_before_tax, tax_rate=0.15):\n",
    "    total_cost = cost_before_tax + tax_rate * cost_before_tax\n",
    "    return total_cost"
   ]
  },
  {
   "cell_type": "code",
   "execution_count": 77,
   "metadata": {},
   "outputs": [
    {
     "data": {
      "text/plain": [
       "115.0"
      ]
     },
     "execution_count": 77,
     "metadata": {},
     "output_type": "execute_result"
    }
   ],
   "source": [
    "cost_after_tax(100)"
   ]
  },
  {
   "cell_type": "code",
   "execution_count": 78,
   "metadata": {},
   "outputs": [
    {
     "data": {
      "text/plain": [
       "115.0"
      ]
     },
     "execution_count": 78,
     "metadata": {},
     "output_type": "execute_result"
    }
   ],
   "source": [
    "cost_after_tax(cost_before_tax=100)"
   ]
  },
  {
   "cell_type": "markdown",
   "metadata": {},
   "source": [
    "Since there is not a default value for `cost_before_tax` it must be provided."
   ]
  },
  {
   "cell_type": "code",
   "execution_count": 79,
   "metadata": {},
   "outputs": [
    {
     "ename": "TypeError",
     "evalue": "cost_after_tax() missing 1 required positional argument: 'cost_before_tax'",
     "output_type": "error",
     "traceback": [
      "\u001b[0;31m---------------------------------------------------------------------------\u001b[0m",
      "\u001b[0;31mTypeError\u001b[0m                                 Traceback (most recent call last)",
      "\u001b[0;32m<ipython-input-79-629244d935d0>\u001b[0m in \u001b[0;36m<module>\u001b[0;34m\u001b[0m\n\u001b[0;32m----> 1\u001b[0;31m \u001b[0mcost_after_tax\u001b[0m\u001b[0;34m(\u001b[0m\u001b[0;34m)\u001b[0m\u001b[0;34m\u001b[0m\u001b[0m\n\u001b[0m",
      "\u001b[0;31mTypeError\u001b[0m: cost_after_tax() missing 1 required positional argument: 'cost_before_tax'"
     ]
    }
   ],
   "source": [
    "cost_after_tax()"
   ]
  },
  {
   "cell_type": "markdown",
   "metadata": {},
   "source": [
    "So if we don't provide the value for `tax_rate` it will default to 0.15.\n",
    "If we provide it, then that provided value will be used."
   ]
  },
  {
   "cell_type": "code",
   "execution_count": 80,
   "metadata": {},
   "outputs": [
    {
     "data": {
      "text/plain": [
       "120.0"
      ]
     },
     "execution_count": 80,
     "metadata": {},
     "output_type": "execute_result"
    }
   ],
   "source": [
    "cost_after_tax(100, 0.2)"
   ]
  },
  {
   "cell_type": "markdown",
   "metadata": {},
   "source": [
    "## Docstrings\n",
    "\n",
    "Docstrings are strings which document your functions. \n",
    "They are like comments in your code that tell you\n",
    "about a function, its arguments, and its return values.\n",
    "It's really important to document code because code is\n",
    "read more than it is written.\n",
    "\n",
    "Remember we can use `#` to create in line comments\n",
    "in our Python code. But docstrings for a function are different.\n",
    "You can create them with `\"\"\"\"\"\"`. \n",
    "These docstrings are built-in strings that\n",
    "help you and other users of your code document thee code. \n",
    "Python also has a built in function `help()` that \n",
    "can print the docstring of a function. Try\n",
    "executing `help(str)` or `help(float)` and so on.\n",
    "You will see the functions documentation printed."
   ]
  },
  {
   "cell_type": "code",
   "execution_count": null,
   "metadata": {},
   "outputs": [],
   "source": []
  },
  {
   "cell_type": "code",
   "execution_count": 81,
   "metadata": {},
   "outputs": [],
   "source": [
    "def my_func(a,b,c):\n",
    "    \"\"\"One line intro.\n",
    "    \n",
    "    Longer description if needed.\n",
    "    \n",
    "    :param int a: descripton for the first argument/parameter\n",
    "    :param int b: descripton for the second argument/parameter\n",
    "    :param int c: descripton for the third argument/parameter\n",
    "    :return: description for what the function returns\n",
    "    \"\"\"\n",
    "    \n",
    "    return a + b + c"
   ]
  },
  {
   "cell_type": "code",
   "execution_count": 82,
   "metadata": {},
   "outputs": [
    {
     "name": "stdout",
     "output_type": "stream",
     "text": [
      "Help on function my_func in module __main__:\n",
      "\n",
      "my_func(a, b, c)\n",
      "    One line intro.\n",
      "    \n",
      "    Longer description if needed.\n",
      "    \n",
      "    :param int a: descripton for the first argument/parameter\n",
      "    :param int b: descripton for the second argument/parameter\n",
      "    :param int c: descripton for the third argument/parameter\n",
      "    :return: description for what the function returns\n",
      "\n"
     ]
    }
   ],
   "source": [
    "help(my_func)"
   ]
  },
  {
   "cell_type": "markdown",
   "metadata": {},
   "source": [
    "There is a lot more to say about docstrings but will save this until\n",
    "later when we start to use a proper editor to write Python code.\n",
    "For now, feel free to document your functions with docstrings but\n",
    "stick to the format above. The syntax, use of `:` and spacing and new lines\n",
    "is quite important. We will use docstrings in the below examples too."
   ]
  },
  {
   "cell_type": "markdown",
   "metadata": {},
   "source": [
    "# Examples\n",
    "In this section we will show some examples which use functions. Spend time reading the code, typing the code, and using the code. \n",
    "This is a good way to learn.\n",
    "By going through these examples, hopefully you will get more comfortable\n",
    "with the idea of working with functions and defining your own.\n",
    "\n",
    "## Example 1\n",
    "This is an example of a function that does not return anything."
   ]
  },
  {
   "cell_type": "code",
   "execution_count": 83,
   "metadata": {},
   "outputs": [],
   "source": [
    "def greeting(name, message):\n",
    "    \"\"\"Print a simple greeting message.\n",
    "    \n",
    "    :param str name: The name of the person to greet.\n",
    "    :param str message: A simple message to print to the user.\n",
    "    \"\"\"\n",
    "    print(f'Hello {name}!')\n",
    "    print(message)"
   ]
  },
  {
   "cell_type": "code",
   "execution_count": 84,
   "metadata": {},
   "outputs": [
    {
     "name": "stdout",
     "output_type": "stream",
     "text": [
      "Help on function greeting in module __main__:\n",
      "\n",
      "greeting(name, message)\n",
      "    Print a simple greeting message.\n",
      "    \n",
      "    :param str name: The name of the person to greet.\n",
      "    :param str message: A simple message to print to the user.\n",
      "\n"
     ]
    }
   ],
   "source": [
    "help(greeting)"
   ]
  },
  {
   "cell_type": "code",
   "execution_count": 85,
   "metadata": {},
   "outputs": [
    {
     "name": "stdout",
     "output_type": "stream",
     "text": [
      "Hello Chris!\n",
      "Good morning! I hope you have a great day!\n"
     ]
    }
   ],
   "source": [
    "greeting('Chris','Good morning! I hope you have a great day!')"
   ]
  },
  {
   "cell_type": "code",
   "execution_count": 86,
   "metadata": {},
   "outputs": [
    {
     "name": "stdout",
     "output_type": "stream",
     "text": [
      "Hello Isaac!\n",
      "Do not forget your lunch today for school.\n"
     ]
    }
   ],
   "source": [
    "greeting(message='Do not forget your lunch today for school.', name='Isaac')"
   ]
  },
  {
   "cell_type": "code",
   "execution_count": 87,
   "metadata": {},
   "outputs": [
    {
     "name": "stdout",
     "output_type": "stream",
     "text": [
      "Hello Hazel!\n",
      "Good Bye!\n"
     ]
    }
   ],
   "source": [
    "greeting('Hazel', message='Good Bye!')"
   ]
  },
  {
   "cell_type": "markdown",
   "metadata": {},
   "source": [
    "## Example 2\n",
    "This function computes the area of a circle given it's radius.\n"
   ]
  },
  {
   "cell_type": "code",
   "execution_count": 88,
   "metadata": {},
   "outputs": [],
   "source": [
    "def area_circle(radius):\n",
    "    \"\"\"Compute the area of a circle.\"\"\"\n",
    "    \n",
    "    pi = 3.1459\n",
    "    area = pi * radius * radius\n",
    "    return area"
   ]
  },
  {
   "cell_type": "code",
   "execution_count": 89,
   "metadata": {},
   "outputs": [
    {
     "data": {
      "text/plain": [
       "19.661875000000002"
      ]
     },
     "execution_count": 89,
     "metadata": {},
     "output_type": "execute_result"
    }
   ],
   "source": [
    "area_circle(2.5)"
   ]
  },
  {
   "cell_type": "code",
   "execution_count": 90,
   "metadata": {},
   "outputs": [
    {
     "data": {
      "text/plain": [
       "3.1459"
      ]
     },
     "execution_count": 90,
     "metadata": {},
     "output_type": "execute_result"
    }
   ],
   "source": [
    "area_circle(radius=1)"
   ]
  },
  {
   "cell_type": "markdown",
   "metadata": {},
   "source": [
    "## Example 3\n",
    "A function to return a random list of numbers\n",
    "of any length where all the numbers are between\n",
    "a minimum and maximum value."
   ]
  },
  {
   "cell_type": "code",
   "execution_count": 91,
   "metadata": {},
   "outputs": [],
   "source": [
    "import random\n",
    "\n",
    "def generate_random_list(list_length, minimum, maximum):\n",
    "    \"\"\"Generate a list of random integers.\n",
    "    \n",
    "    The length of the list can be specified as well\n",
    "    as the range (minium, maximum) of the numbers that will be used.\n",
    "    \n",
    "    :param int list_length: The length of the list to be returned.\n",
    "    :param int minimum: The smallest possible value for any of the numbers.\n",
    "    :param int maximum: The largest possible value for any of the numbers.\n",
    "    :return: The list of random numbers.\n",
    "    :rtype: list\n",
    "    \"\"\"\n",
    "    \n",
    "    list_of_numbers = []\n",
    "    for i in range(list_length):\n",
    "        i = random.randint(minimum, maximum)\n",
    "        list_of_numbers.append(i)\n",
    "    return list_of_numbers"
   ]
  },
  {
   "cell_type": "code",
   "execution_count": 92,
   "metadata": {},
   "outputs": [
    {
     "data": {
      "text/plain": [
       "[6, 3, 0, 3, 6, 0, 5]"
      ]
     },
     "execution_count": 92,
     "metadata": {},
     "output_type": "execute_result"
    }
   ],
   "source": [
    "generate_random_list(7, 0, 10)"
   ]
  },
  {
   "cell_type": "code",
   "execution_count": 93,
   "metadata": {},
   "outputs": [
    {
     "data": {
      "text/plain": [
       "[102, 100, 106, 109, 109, 101, 105, 104, 103, 100]"
      ]
     },
     "execution_count": 93,
     "metadata": {},
     "output_type": "execute_result"
    }
   ],
   "source": [
    "generate_random_list(list_length=10, minimum=100, maximum=109)"
   ]
  },
  {
   "cell_type": "code",
   "execution_count": 94,
   "metadata": {},
   "outputs": [
    {
     "data": {
      "text/plain": [
       "[109627, 191524]"
      ]
     },
     "execution_count": 94,
     "metadata": {},
     "output_type": "execute_result"
    }
   ],
   "source": [
    "generate_random_list(2, 100000, maximum=200000)"
   ]
  },
  {
   "cell_type": "markdown",
   "metadata": {},
   "source": [
    "## Example 4\n",
    "\n",
    "In this example we will create two functions. One for determining if a number is \n",
    "prime and another for getting the list of prime numbers up to a specific number.\n",
    "It is certainly possibly to code all the logic in a single function. However, it's a better\n",
    "design for functions to be responsible for a single task. This way those functions can\n",
    "used again in other programs for particular tasks and it generally makes the code easier\n",
    "to read and easier to test and debug. So always keep that in mind when coding. Try and think\n",
    "of your functions as individual units that are responsible for doing one thing specific thing.\n",
    "It's not a hard rule but a good general rule of thumb.\n",
    "This is also a great example of our user defined function calling \n",
    "another user defined function (a perfectly normal and common thing to do)."
   ]
  },
  {
   "cell_type": "code",
   "execution_count": 95,
   "metadata": {},
   "outputs": [],
   "source": [
    "def is_prime(number):\n",
    "    \"\"\"Determines if a number is prime or not\"\"\"\n",
    "    if number <=3:\n",
    "        return True\n",
    "            \n",
    "    for i in range(2, number):\n",
    "        if number % i == 0:\n",
    "            return False\n",
    "    \n",
    "    return True\n",
    "\n",
    "def find_primes(up_to=100):\n",
    "    \"\"\"Returns a list of all the prime numbers up to some point.\"\"\"\n",
    "    primes = []\n",
    "    for i in range(1, up_to + 1):\n",
    "        if is_prime(i):\n",
    "            primes.append(i)\n",
    "    return primes\n",
    "            "
   ]
  },
  {
   "cell_type": "code",
   "execution_count": 96,
   "metadata": {},
   "outputs": [
    {
     "data": {
      "text/plain": [
       "True"
      ]
     },
     "execution_count": 96,
     "metadata": {},
     "output_type": "execute_result"
    }
   ],
   "source": [
    "is_prime(1)"
   ]
  },
  {
   "cell_type": "code",
   "execution_count": 97,
   "metadata": {},
   "outputs": [
    {
     "data": {
      "text/plain": [
       "True"
      ]
     },
     "execution_count": 97,
     "metadata": {},
     "output_type": "execute_result"
    }
   ],
   "source": [
    "is_prime(2)"
   ]
  },
  {
   "cell_type": "code",
   "execution_count": 98,
   "metadata": {},
   "outputs": [
    {
     "data": {
      "text/plain": [
       "True"
      ]
     },
     "execution_count": 98,
     "metadata": {},
     "output_type": "execute_result"
    }
   ],
   "source": [
    "is_prime(3)"
   ]
  },
  {
   "cell_type": "code",
   "execution_count": 99,
   "metadata": {},
   "outputs": [
    {
     "data": {
      "text/plain": [
       "False"
      ]
     },
     "execution_count": 99,
     "metadata": {},
     "output_type": "execute_result"
    }
   ],
   "source": [
    "is_prime(4)"
   ]
  },
  {
   "cell_type": "code",
   "execution_count": 100,
   "metadata": {},
   "outputs": [
    {
     "data": {
      "text/plain": [
       "True"
      ]
     },
     "execution_count": 100,
     "metadata": {},
     "output_type": "execute_result"
    }
   ],
   "source": [
    "is_prime(53)"
   ]
  },
  {
   "cell_type": "code",
   "execution_count": 101,
   "metadata": {},
   "outputs": [
    {
     "data": {
      "text/plain": [
       "False"
      ]
     },
     "execution_count": 101,
     "metadata": {},
     "output_type": "execute_result"
    }
   ],
   "source": [
    "is_prime(100)"
   ]
  },
  {
   "cell_type": "code",
   "execution_count": 102,
   "metadata": {},
   "outputs": [
    {
     "data": {
      "text/plain": [
       "[1,\n",
       " 2,\n",
       " 3,\n",
       " 5,\n",
       " 7,\n",
       " 11,\n",
       " 13,\n",
       " 17,\n",
       " 19,\n",
       " 23,\n",
       " 29,\n",
       " 31,\n",
       " 37,\n",
       " 41,\n",
       " 43,\n",
       " 47,\n",
       " 53,\n",
       " 59,\n",
       " 61,\n",
       " 67,\n",
       " 71,\n",
       " 73,\n",
       " 79,\n",
       " 83,\n",
       " 89,\n",
       " 97]"
      ]
     },
     "execution_count": 102,
     "metadata": {},
     "output_type": "execute_result"
    }
   ],
   "source": [
    "find_primes()"
   ]
  },
  {
   "cell_type": "code",
   "execution_count": 103,
   "metadata": {},
   "outputs": [
    {
     "data": {
      "text/plain": [
       "[1, 2, 3, 5, 7, 11, 13, 17, 19, 23, 29, 31, 37]"
      ]
     },
     "execution_count": 103,
     "metadata": {},
     "output_type": "execute_result"
    }
   ],
   "source": [
    "find_primes(40)"
   ]
  }
 ],
 "metadata": {
  "kernelspec": {
   "display_name": "Python 3",
   "language": "python",
   "name": "python3"
  },
  "language_info": {
   "codemirror_mode": {
    "name": "ipython",
    "version": 3
   },
   "file_extension": ".py",
   "mimetype": "text/x-python",
   "name": "python",
   "nbconvert_exporter": "python",
   "pygments_lexer": "ipython3",
   "version": "3.6.5"
  }
 },
 "nbformat": 4,
 "nbformat_minor": 4
}