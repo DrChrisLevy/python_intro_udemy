{
 "cells": [
  {
   "cell_type": "markdown",
   "metadata": {},
   "source": [
    "# Practice Questions"
   ]
  },
  {
   "cell_type": "markdown",
   "metadata": {},
   "source": [
    "## 1.\n",
    "Write a Python function that finds the minimum of three numbers.\n",
    "It should take three numbers as input and then return the smallest."
   ]
  },
  {
   "cell_type": "markdown",
   "metadata": {},
   "source": [
    "## 2.\n",
    "In mathematics the factorial of a number is denoted by \n",
    "\n",
    "$$n! = n\\cdot(n-1)\\cdot(n-2)\\cdot(n-3)\\cdot\\cdot\\cdot\\cdot3\\cdot2\\cdot1$$\n",
    "\n",
    "For example, \n",
    "\n",
    "5! = 5 * 4 * 3 * 2 * 1 = 120\n",
    "\n",
    "10! = 10 * 9 * 8 * 7 * 6 * 5 * 4 * 3 * 1 = 3628800\n",
    "\n",
    "Both 1! and 0! are defined to be 1 so those are special cases you can handle.\n",
    "Write a function that takes any integer greater than or equal to 0 as input \n",
    "and then returns the factorial. That is, it multiplies the number by all the numbers\n",
    "before it like the examples above.\n",
    "\n",
    "## HINT\n",
    "\n",
    "Try the question first before revealing the hint."
   ]
  },
  {
   "cell_type": "code",
   "execution_count": 1,
   "metadata": {
    "tags": [
     "hide-cell"
    ]
   },
   "outputs": [],
   "source": [
    "def factorial(n):\n",
    "    if n == 0 or n == 1:\n",
    "        return 1\n",
    "    \n",
    "    result = 1\n",
    "    \n",
    "    # Then use a loop and range that does:\n",
    "    # result = 2 * result\n",
    "    # result = 3 * result\n",
    "    # result = 4 * result\n",
    "    # and so on.\n",
    " \n",
    "    return result\n",
    "        "
   ]
  },
  {
   "cell_type": "markdown",
   "metadata": {},
   "source": [
    "## 3. \n",
    "\n",
    "Create a function called `find_twos` which takes a list of numbers as input.\n",
    "The function should return another list of all the indexes/positions\n",
    "where the number 2 is in the input list. If the number 2 is not\n",
    "in the input list then the function should return an empty list.\n",
    "\n",
    "For example:\n",
    "\n",
    "`find_twos([1,3,-19])` should return `[]`.\n",
    "\n",
    "`find_twos([1,2,4])` should return `[1]`.\n",
    "\n",
    "`find_twos([2,2,2])` should return `[0,1,2]`.\n",
    "\n",
    "`find_twos([1,6,8,2,9,0,5,2])` should return `[3,7]`.\n",
    "\n",
    "You should use of the [enumerate](enumerate) function.\n",
    "\n",
    "## HINT\n",
    "\n",
    "Try the question first before revealing the hint.\n",
    "\n",
    "\n",
    "\n"
   ]
  },
  {
   "cell_type": "code",
   "execution_count": 2,
   "metadata": {
    "tags": [
     "hide-cell"
    ]
   },
   "outputs": [],
   "source": [
    "def find_twos(numbers):\n",
    "    result = []\n",
    "    \n",
    "    if 2 not in numbers:\n",
    "        return result\n",
    "    else:\n",
    "        # use for loop and enumerate to loop over numbers\n",
    "        # and check if the number is 2.\n",
    "        # If it is, append the position to result.\n",
    "        pass\n",
    "    \n",
    "    return result\n",
    "        "
   ]
  },
  {
   "cell_type": "markdown",
   "metadata": {},
   "source": [
    "## 4.\n",
    "Define a function, `sum_and_round`, which takes a list of floats as input and adds all the numbers together and returns the result rounded with 2 decimal places.\n",
    "Use the built in functions `sum` and `round`. For example:\n",
    "\n",
    "`sum_and_round([1.2353, 7.532, 7.532, 8.9, 9.654])` should return 34.85\n",
    "\n"
   ]
  },
  {
   "cell_type": "markdown",
   "metadata": {},
   "source": [
    "## 5.\n",
    "Consider the function\n"
   ]
  },
  {
   "cell_type": "code",
   "execution_count": 3,
   "metadata": {},
   "outputs": [],
   "source": [
    "def do_stuff(a, b, c):\n",
    "    return a * b * c - a - c + b\n"
   ]
  },
  {
   "cell_type": "markdown",
   "metadata": {},
   "source": [
    "a) Call the function using only positional arguments.\n",
    "\n",
    "b) Call the function using only keyword arguments.\n",
    "\n",
    "c) Call the function using a mix of positional and keyword arguments.\n",
    "\n",
    "d) Redefine the function and give default argument for `a,b,c`. Then call the function\n",
    "without providing any arguments so that the default arguments are used."
   ]
  },
  {
   "cell_type": "markdown",
   "metadata": {},
   "source": [
    "## 6.\n",
    "Consider the following code."
   ]
  },
  {
   "cell_type": "code",
   "execution_count": 4,
   "metadata": {},
   "outputs": [],
   "source": [
    "x = 5\n",
    "def my_func(a=1):\n",
    "    x = 19\n",
    "    return a + x"
   ]
  },
  {
   "cell_type": "markdown",
   "metadata": {},
   "source": [
    "If you were to run the above code and then use `print(x)` what would be the value printed?"
   ]
  },
  {
   "cell_type": "markdown",
   "metadata": {},
   "source": [
    "## 7.\n",
    "Write a function `get_seconds` that takes two arguments `hours` and `minutes` and converts\n",
    "them both to seconds and adds the result and returns it. For example,\n",
    "\n",
    "`get_seconds(hours=1,minutes=0)` should return `3600`\n",
    "\n",
    "`get_seconds(hours=0,minutes=1)` should return `60`\n",
    "\n",
    "`get_seconds(hours=0,minutes=0)` should return `0`\n",
    "\n",
    "`get_seconds(hours=10,minutes=48)` should return `38880`\n",
    "\n",
    "\n",
    "`get_seconds()` should return `0` so be sure to use default arguments to achieve this.\n",
    "\n",
    "\n",
    "\n"
   ]
  },
  {
   "cell_type": "code",
   "execution_count": null,
   "metadata": {},
   "outputs": [],
   "source": []
  }
 ],
 "metadata": {
  "celltoolbar": "Edit Metadata",
  "kernelspec": {
   "display_name": "Python 3",
   "language": "python",
   "name": "python3"
  },
  "language_info": {
   "codemirror_mode": {
    "name": "ipython",
    "version": 3
   },
   "file_extension": ".py",
   "mimetype": "text/x-python",
   "name": "python",
   "nbconvert_exporter": "python",
   "pygments_lexer": "ipython3",
   "version": "3.6.5"
  }
 },
 "nbformat": 4,
 "nbformat_minor": 4
}