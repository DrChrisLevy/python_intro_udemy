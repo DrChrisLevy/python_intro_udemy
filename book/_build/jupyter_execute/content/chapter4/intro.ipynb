{
 "cells": [
  {
   "cell_type": "markdown",
   "metadata": {},
   "source": [
    "# Chapter 4\n",
    "\n",
    "In this chapter we will learn about the common **data structures** used in Python.\n",
    "\n",
    "- list\n",
    "- tuple\n",
    "- dictionary\n",
    "- set\n",
    "\n",
    "In this chapter you will begin with learning more about lists. Then we will move on to\n",
    "tuples, dictionaries, and sets. We will also learn more about functions and how to use `*args` and `**kwargs**`. Here are some of the things you will learn at a high level.\n",
    "\n",
    "- lists\n",
    "    - more list methods\n",
    "    - list comprehensions\n",
    "- tuples\n",
    "- dictionaries\n",
    "    - keys and values\n",
    "    - ways of iterating over dictionaries\n",
    "- sets\n",
    "- using `*args` and `**kwargs` in function definitions\n",
    "    "
   ]
  },
  {
   "cell_type": "markdown",
   "metadata": {},
   "source": []
  },
  {
   "cell_type": "markdown",
   "metadata": {},
   "source": [
    "\n",
    "```{toctree}\n",
    ":hidden:\n",
    ":titlesonly:\n",
    "\n",
    "\n",
    "data_structures\n",
    "practice_questions\n",
    "practice_questions_solutions\n",
    "```\n"
   ]
  }
 ],
 "metadata": {
  "kernelspec": {
   "display_name": "Python 3",
   "language": "python",
   "name": "python3"
  },
  "language_info": {
   "codemirror_mode": {
    "name": "ipython",
    "version": 3
   },
   "file_extension": ".py",
   "mimetype": "text/x-python",
   "name": "python",
   "nbconvert_exporter": "python",
   "pygments_lexer": "ipython3",
   "version": "3.6.5"
  }
 },
 "nbformat": 4,
 "nbformat_minor": 4
}