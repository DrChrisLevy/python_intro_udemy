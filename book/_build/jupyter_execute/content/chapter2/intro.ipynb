{
 "cells": [
  {
   "cell_type": "markdown",
   "metadata": {},
   "source": [
    "# Chapter 2\n",
    "\n",
    "In this chapter you will be introduced to common tools that can be found\n",
    "in many coding languages. These tools will allow you to implement \n",
    "more complex logic in your Python programs. It all has to do with \n",
    "something known as *flow of control*. \n",
    "Some of the things you will learn about include:\n",
    "\n",
    "- boolean data type (`True` and `False`)\n",
    "- operators\n",
    "    - comparison operators (`==`, `!=`, `>`, `<`, `>=`, `<=`)\n",
    "    - logical operators (`and`, `or`, `not`)\n",
    "    - membership operators (`in`, `not in`)\n",
    "- `if`, `elif`, and `else` statements\n",
    "- lists\n",
    "    - indexing and slicing\n",
    "    - getting length of a list with `len()` \n",
    "    - appending to a list with `append()` and `extend()` methods\n",
    "    - list concatenation with `+` operator\n",
    "    - intro to mutable and immutable objects\n",
    "- `for` loops and `while` loops\n",
    "- `range()` function\n",
    "- `break` and `continue` and `pass` statements\n",
    "- more Python basic operators\n",
    "    - `%` modulus\n",
    "    - `+=, -=, *=, /=`"
   ]
  },
  {
   "cell_type": "code",
   "execution_count": null,
   "metadata": {},
   "outputs": [],
   "source": []
  },
  {
   "cell_type": "markdown",
   "metadata": {},
   "source": [
    "\n",
    "```{toctree}\n",
    ":hidden:\n",
    ":titlesonly:\n",
    "\n",
    "\n",
    "bool_data_type\n",
    "comparison_operators\n",
    "logical_operators\n",
    "if_elif_else\n",
    "intro_to_lists\n",
    "intro_to_loops\n",
    "more_basic_operators\n",
    "chapter2_practice_questions\n",
    "chapter2_practice_questions_solutions\n",
    "```\n"
   ]
  }
 ],
 "metadata": {
  "kernelspec": {
   "display_name": "Python 3",
   "language": "python",
   "name": "python3"
  },
  "language_info": {
   "codemirror_mode": {
    "name": "ipython",
    "version": 3
   },
   "file_extension": ".py",
   "mimetype": "text/x-python",
   "name": "python",
   "nbconvert_exporter": "python",
   "pygments_lexer": "ipython3",
   "version": "3.9.0"
  }
 },
 "nbformat": 4,
 "nbformat_minor": 4
}