{
 "cells": [
  {
   "cell_type": "markdown",
   "metadata": {},
   "source": [
    "# Boolean Data Type\n",
    "\n",
    "In computer programming, a **boolean** data type is a data type that\n",
    "can have one of *two* values which are usually denoted as *true*\n",
    "and *false*. In Python the syntax for these two values are `True`\n",
    "and `False`. These two values are built into the Python\n",
    "programming language and are of type **boolean** or **bool**\n",
    "for short.\n",
    "\n",
    "Create a new Jupyter Notebook and call it **booleans_comparison_logical_operators**.\n",
    "Type out the code as you read and go through this. Play around with code\n",
    "because it will help you to learn!"
   ]
  },
  {
   "cell_type": "code",
   "execution_count": 5,
   "metadata": {},
   "outputs": [
    {
     "data": {
      "text/plain": [
       "True"
      ]
     },
     "execution_count": 5,
     "metadata": {},
     "output_type": "execute_result"
    }
   ],
   "source": [
    "True"
   ]
  },
  {
   "cell_type": "code",
   "execution_count": 6,
   "metadata": {},
   "outputs": [
    {
     "data": {
      "text/plain": [
       "False"
      ]
     },
     "execution_count": 6,
     "metadata": {},
     "output_type": "execute_result"
    }
   ],
   "source": [
    "False"
   ]
  },
  {
   "cell_type": "code",
   "execution_count": 7,
   "metadata": {},
   "outputs": [
    {
     "data": {
      "text/plain": [
       "bool"
      ]
     },
     "execution_count": 7,
     "metadata": {},
     "output_type": "execute_result"
    }
   ],
   "source": [
    "type(True)"
   ]
  },
  {
   "cell_type": "code",
   "execution_count": 8,
   "metadata": {},
   "outputs": [
    {
     "data": {
      "text/plain": [
       "bool"
      ]
     },
     "execution_count": 8,
     "metadata": {},
     "output_type": "execute_result"
    }
   ],
   "source": [
    "type(False)"
   ]
  },
  {
   "cell_type": "markdown",
   "metadata": {},
   "source": [
    "They are case sensitive. If you try writing for example, `true`, or `FALSE`, or some variation\n",
    "you will get an error.\n",
    "\n",
    "So why is this important? Well, often programs are made up\n",
    "of lots of tiny decisions that depend on various outcomes.\n",
    "For example, you might want to perform some logic *if something is `True`*\n",
    "or perform different logic *if something is `False`*. This is why\n",
    "boolean data types are so important.\n",
    "\n",
    "You may be wondering how does something evaluate to `True` or `False`? \n",
    "To start learning more about this we are going to introduce\n",
    "the Python *comparision operators*.\n"
   ]
  }
 ],
 "metadata": {
  "kernelspec": {
   "display_name": "Python 3",
   "language": "python",
   "name": "python3"
  },
  "language_info": {
   "codemirror_mode": {
    "name": "ipython",
    "version": 3
   },
   "file_extension": ".py",
   "mimetype": "text/x-python",
   "name": "python",
   "nbconvert_exporter": "python",
   "pygments_lexer": "ipython3",
   "version": "3.6.5"
  }
 },
 "nbformat": 4,
 "nbformat_minor": 4
}