{
 "cells": [
  {
   "cell_type": "markdown",
   "metadata": {},
   "source": [
    "# Class Variables\n",
    "\n",
    "In this section we will learn about class variables.\n",
    "We saw in the previous section that you can have multiple\n",
    "instances of a class. Each of the instances are objects\n",
    "which have their own properties or attributes specific \n",
    "to that instance. Other times though we want attributes\n",
    "that are common to the class and shared by all the instances\n",
    "of the class. These are called class variables. Let's\n",
    "look at an example with a `TransitBus` class.\n",
    "\n"
   ]
  },
  {
   "cell_type": "code",
   "execution_count": 1,
   "metadata": {},
   "outputs": [],
   "source": [
    "class TransitBus:\n",
    "    def __init__(self, identifier):\n",
    "        self.identifier = identifier\n",
    "        self.num_passengers=0\n",
    "    \n",
    "    def add_passengers(self, number):\n",
    "        self.num_passengers += number\n",
    "    \n",
    "    def remove_passengers(self, number):\n",
    "        self.num_passengers -= number "
   ]
  },
  {
   "cell_type": "code",
   "execution_count": 2,
   "metadata": {},
   "outputs": [],
   "source": [
    "bus1 = TransitBus(1)\n",
    "bus2 = TransitBus(2)\n",
    "bus3 = TransitBus(3)\n",
    "\n",
    "bus1.add_passengers(5)\n",
    "bus2.add_passengers(4)\n",
    "bus3.add_passengers(13)\n",
    "bus2.remove_passengers(1)"
   ]
  },
  {
   "cell_type": "code",
   "execution_count": 3,
   "metadata": {},
   "outputs": [
    {
     "data": {
      "text/plain": [
       "2"
      ]
     },
     "execution_count": 3,
     "metadata": {},
     "output_type": "execute_result"
    }
   ],
   "source": [
    "bus2.identifier"
   ]
  },
  {
   "cell_type": "code",
   "execution_count": 4,
   "metadata": {},
   "outputs": [
    {
     "data": {
      "text/plain": [
       "3"
      ]
     },
     "execution_count": 4,
     "metadata": {},
     "output_type": "execute_result"
    }
   ],
   "source": [
    "bus2.num_passengers"
   ]
  },
  {
   "cell_type": "markdown",
   "metadata": {},
   "source": [
    "Above we created three instances of the `TransitBus` class. Each\n",
    "object is an instance of a bus. Each bus has it's own identifier \n",
    "and has a certain number of passengers. All the buses can add\n",
    "and remove passengers with their `add_passengers` and `remove_passengers`\n",
    "methods.\n",
    "\n",
    "What if we wanted to keep track of the total number of buses in the system\n",
    "as well as the total number of passengers? These would be properties specific\n",
    "to the `TransitBus` class in general. They are not specific to any particular instance\n",
    "or bus. Also, it would be nice if each bus had the ability to get this information.\n",
    "This can be achieved with **class variables**. They are variables that are shared\n",
    "across all instances of the class. Let's define two new class variables in the \n",
    "`TransitBus` class, `total_num_passengers` and `total_num_buses`."
   ]
  },
  {
   "cell_type": "code",
   "execution_count": 5,
   "metadata": {},
   "outputs": [],
   "source": [
    "class TransitBus:\n",
    "    total_num_passengers = 0\n",
    "    total_num_buses = 0\n",
    "    \n",
    "    def __init__(self, identifier):\n",
    "        self.identifier = identifier\n",
    "        self.num_passengers=0\n",
    "    \n",
    "    def add_passengers(self, number):\n",
    "        self.num_passengers += number\n",
    "    \n",
    "    def remove_passengers(self, number):\n",
    "        self.num_passengers -= number "
   ]
  },
  {
   "cell_type": "markdown",
   "metadata": {},
   "source": [
    "The first thing to note is where in the code **class variables** are defined. They are defined\n",
    "outside the `__init__`. To access class variables you do not even need an instance of the class."
   ]
  },
  {
   "cell_type": "code",
   "execution_count": 6,
   "metadata": {},
   "outputs": [
    {
     "data": {
      "text/plain": [
       "0"
      ]
     },
     "execution_count": 6,
     "metadata": {},
     "output_type": "execute_result"
    }
   ],
   "source": [
    "TransitBus.total_num_buses"
   ]
  },
  {
   "cell_type": "code",
   "execution_count": 7,
   "metadata": {},
   "outputs": [
    {
     "data": {
      "text/plain": [
       "0"
      ]
     },
     "execution_count": 7,
     "metadata": {},
     "output_type": "execute_result"
    }
   ],
   "source": [
    "TransitBus.total_num_passengers"
   ]
  },
  {
   "cell_type": "markdown",
   "metadata": {},
   "source": [
    "You can not do this with **instance variables** such as `identifier` and `num_passengers`.\n",
    "Using `TransitBus.identifier` or `TransitBus.num_passengers` would raise an `AttributeError`.\n",
    "This is because we need an instance (an actual bus) of the `TransitBus` first to access the instance variables `num_passengers` and `identifier`.\n",
    "\n",
    "Let's create a new bus instance and see how that particular instance can access\n",
    "the class variables."
   ]
  },
  {
   "cell_type": "code",
   "execution_count": 8,
   "metadata": {},
   "outputs": [
    {
     "name": "stdout",
     "output_type": "stream",
     "text": [
      "bus1 info\n",
      "1\n",
      "7\n",
      "bus2 info\n",
      "2\n",
      "5\n"
     ]
    }
   ],
   "source": [
    "print('bus1 info')\n",
    "b1 = TransitBus(1)\n",
    "b1.add_passengers(10)\n",
    "b1.remove_passengers(3)\n",
    "print(b1.identifier)\n",
    "print(b1.num_passengers)\n",
    "\n",
    "print('bus2 info')\n",
    "b2 = TransitBus(2)\n",
    "b2.add_passengers(20)\n",
    "b2.remove_passengers(15)\n",
    "print(b2.identifier)\n",
    "print(b2.num_passengers)"
   ]
  },
  {
   "cell_type": "markdown",
   "metadata": {},
   "source": [
    "Each instance of a class has access to the class variables."
   ]
  },
  {
   "cell_type": "code",
   "execution_count": 9,
   "metadata": {},
   "outputs": [
    {
     "data": {
      "text/plain": [
       "0"
      ]
     },
     "execution_count": 9,
     "metadata": {},
     "output_type": "execute_result"
    }
   ],
   "source": [
    "b1.total_num_buses"
   ]
  },
  {
   "cell_type": "code",
   "execution_count": 10,
   "metadata": {},
   "outputs": [
    {
     "data": {
      "text/plain": [
       "0"
      ]
     },
     "execution_count": 10,
     "metadata": {},
     "output_type": "execute_result"
    }
   ],
   "source": [
    "b1.total_num_passengers"
   ]
  },
  {
   "cell_type": "code",
   "execution_count": 11,
   "metadata": {},
   "outputs": [
    {
     "data": {
      "text/plain": [
       "0"
      ]
     },
     "execution_count": 11,
     "metadata": {},
     "output_type": "execute_result"
    }
   ],
   "source": [
    "b2.total_num_buses"
   ]
  },
  {
   "cell_type": "code",
   "execution_count": 12,
   "metadata": {},
   "outputs": [
    {
     "data": {
      "text/plain": [
       "0"
      ]
     },
     "execution_count": 12,
     "metadata": {},
     "output_type": "execute_result"
    }
   ],
   "source": [
    "b2.total_num_passengers"
   ]
  },
  {
   "cell_type": "markdown",
   "metadata": {},
   "source": [
    "We need to update the `TransitBus` logic so that \n",
    "`TransitBus.total_num_buses` and `TransitBus.total_num_passengers`\n",
    "are updated each time a new bus is created and each time\n",
    "passengers get on or get off the bus. Notice that\n",
    "we use the `TransitBus` name to access the class variables.\n",
    "For example we used `TransitBus.total_num_buses`. You \n",
    "can also simply use `self.total_num_buses`\n",
    "to access the class variables too. Sometimes it can be more\n",
    "clear to the reader or maintainer of the code\n",
    "to use the class name to reference the class variables."
   ]
  },
  {
   "cell_type": "code",
   "execution_count": 13,
   "metadata": {},
   "outputs": [],
   "source": [
    "class TransitBus:\n",
    "    total_num_passengers = 0\n",
    "    total_num_buses = 0\n",
    "    \n",
    "    def __init__(self, identifier):\n",
    "        self.identifier = identifier\n",
    "        self.num_passengers=0\n",
    "        TransitBus.total_num_buses += 1\n",
    "    \n",
    "    def add_passengers(self, number):\n",
    "        self.num_passengers += number\n",
    "        TransitBus.total_num_passengers += number\n",
    "    \n",
    "    def remove_passengers(self, number):\n",
    "        self.num_passengers -= number\n",
    "        TransitBus.total_num_passengers -= number"
   ]
  },
  {
   "cell_type": "code",
   "execution_count": null,
   "metadata": {},
   "outputs": [],
   "source": []
  },
  {
   "cell_type": "code",
   "execution_count": 14,
   "metadata": {},
   "outputs": [
    {
     "name": "stdout",
     "output_type": "stream",
     "text": [
      "bus1 info\n",
      "1\n",
      "7\n",
      "bus2 info\n",
      "2\n",
      "5\n"
     ]
    }
   ],
   "source": [
    "print('bus1 info')\n",
    "b1 = TransitBus(1)\n",
    "b1.add_passengers(10)\n",
    "b1.remove_passengers(3)\n",
    "print(b1.identifier)\n",
    "print(b1.num_passengers)\n",
    "\n",
    "print('bus2 info')\n",
    "b2 = TransitBus(2)\n",
    "b2.add_passengers(20)\n",
    "b2.remove_passengers(15)\n",
    "print(b2.identifier)\n",
    "print(b2.num_passengers)"
   ]
  },
  {
   "cell_type": "markdown",
   "metadata": {},
   "source": [
    "After running the above code there should be a total of 2 buses in the system\n",
    "as well as 12 total passengers."
   ]
  },
  {
   "cell_type": "code",
   "execution_count": 15,
   "metadata": {},
   "outputs": [
    {
     "data": {
      "text/plain": [
       "2"
      ]
     },
     "execution_count": 15,
     "metadata": {},
     "output_type": "execute_result"
    }
   ],
   "source": [
    "TransitBus.total_num_buses"
   ]
  },
  {
   "cell_type": "code",
   "execution_count": 16,
   "metadata": {},
   "outputs": [
    {
     "data": {
      "text/plain": [
       "12"
      ]
     },
     "execution_count": 16,
     "metadata": {},
     "output_type": "execute_result"
    }
   ],
   "source": [
    "TransitBus.total_num_passengers"
   ]
  },
  {
   "cell_type": "markdown",
   "metadata": {},
   "source": [
    "**Class variables** have the same value across every instance of the class."
   ]
  },
  {
   "cell_type": "code",
   "execution_count": 17,
   "metadata": {},
   "outputs": [
    {
     "name": "stdout",
     "output_type": "stream",
     "text": [
      "2\n",
      "12\n",
      "2\n",
      "12\n"
     ]
    }
   ],
   "source": [
    "print(b1.total_num_buses)\n",
    "print(b1.total_num_passengers)\n",
    "print(b2.total_num_buses)\n",
    "print(b2.total_num_passengers)"
   ]
  },
  {
   "cell_type": "markdown",
   "metadata": {},
   "source": [
    "Let's create a new bus and see what happens to the totals."
   ]
  },
  {
   "cell_type": "code",
   "execution_count": 18,
   "metadata": {},
   "outputs": [],
   "source": [
    "b3 = TransitBus(3)\n",
    "b3.add_passengers(35)"
   ]
  },
  {
   "cell_type": "code",
   "execution_count": 19,
   "metadata": {},
   "outputs": [
    {
     "data": {
      "text/plain": [
       "3"
      ]
     },
     "execution_count": 19,
     "metadata": {},
     "output_type": "execute_result"
    }
   ],
   "source": [
    "TransitBus.total_num_buses"
   ]
  },
  {
   "cell_type": "code",
   "execution_count": 20,
   "metadata": {},
   "outputs": [
    {
     "data": {
      "text/plain": [
       "47"
      ]
     },
     "execution_count": 20,
     "metadata": {},
     "output_type": "execute_result"
    }
   ],
   "source": [
    "TransitBus.total_num_passengers"
   ]
  },
  {
   "cell_type": "code",
   "execution_count": 21,
   "metadata": {},
   "outputs": [
    {
     "name": "stdout",
     "output_type": "stream",
     "text": [
      "3\n",
      "47\n",
      "3\n",
      "47\n",
      "3\n",
      "47\n"
     ]
    }
   ],
   "source": [
    "print(b1.total_num_buses)\n",
    "print(b1.total_num_passengers)\n",
    "print(b2.total_num_buses)\n",
    "print(b2.total_num_passengers)\n",
    "print(b3.total_num_buses)\n",
    "print(b3.total_num_passengers)"
   ]
  },
  {
   "cell_type": "markdown",
   "metadata": {},
   "source": [
    "## Class Methods\n",
    "\n",
    "Now what if we wanted to create a 100 buses in the system and keep track of them\n",
    "all in the system? It would not make much sense to create `bus1, bus2, ... bus100` variables.\n",
    "Instead, we could just create 100 instances of the `TransitBus` class and keep track of\n",
    "the different buses in a class variable. In this case we will keep track of each bus\n",
    "in the system within a dictionary. For example, if the transit system had three buses\n",
    "in the system this `transit_system` dict could look something like this:"
   ]
  },
  {
   "cell_type": "code",
   "execution_count": 22,
   "metadata": {},
   "outputs": [
    {
     "data": {
      "text/plain": [
       "{'1': {'num_passengers': 5},\n",
       " '2': {'num_passengers': 10},\n",
       " '3': {'num_passengers': 20}}"
      ]
     },
     "execution_count": 22,
     "metadata": {},
     "output_type": "execute_result"
    }
   ],
   "source": [
    "{'1': {'num_passengers': 5}, '2': {'num_passengers': 10}, '3': {'num_passengers': 20}}"
   ]
  },
  {
   "cell_type": "markdown",
   "metadata": {},
   "source": [
    "So it is a dictionary with the keys as the bus identifiers and the values\n",
    "with the information about the bus. Let's update the logic of the `TransitBus`\n",
    "class. We will add a **class method** called `update_bus_in_system`. A **class method**\n",
    "is a method that does need any particular instance of the class to be called.\n",
    "You use the `@classmethod` decorator and use `cls` instead of `self`. See the code below to see what is going on."
   ]
  },
  {
   "cell_type": "code",
   "execution_count": 23,
   "metadata": {},
   "outputs": [],
   "source": [
    "class TransitBus:\n",
    "    total_num_passengers = 0\n",
    "    total_num_buses = 0\n",
    "    transit_system = {}\n",
    "    \n",
    "    def __init__(self, identifier):\n",
    "        self.identifier = identifier\n",
    "        self.num_passengers=0\n",
    "        TransitBus.total_num_buses += 1\n",
    "        TransitBus.update_bus_in_system(self.identifier, 0)\n",
    "    \n",
    "    @classmethod\n",
    "    def update_bus_in_system(cls, identifier, num_passengers):\n",
    "        TransitBus.transit_system[identifier] = {'num_passengers': num_passengers}\n",
    "    \n",
    "    def add_passengers(self, number):\n",
    "        self.num_passengers += number\n",
    "        TransitBus.total_num_passengers += number\n",
    "        TransitBus.update_bus_in_system(self.identifier, self.num_passengers)\n",
    "    \n",
    "    def remove_passengers(self, number):\n",
    "        self.num_passengers -= number\n",
    "        TransitBus.total_num_passengers -= number\n",
    "        TransitBus.update_bus_in_system(self.identifier, self.num_passengers)"
   ]
  },
  {
   "cell_type": "code",
   "execution_count": 24,
   "metadata": {},
   "outputs": [
    {
     "data": {
      "text/plain": [
       "0"
      ]
     },
     "execution_count": 24,
     "metadata": {},
     "output_type": "execute_result"
    }
   ],
   "source": [
    "TransitBus.total_num_buses"
   ]
  },
  {
   "cell_type": "code",
   "execution_count": 25,
   "metadata": {},
   "outputs": [
    {
     "data": {
      "text/plain": [
       "0"
      ]
     },
     "execution_count": 25,
     "metadata": {},
     "output_type": "execute_result"
    }
   ],
   "source": [
    "TransitBus.total_num_passengers"
   ]
  },
  {
   "cell_type": "code",
   "execution_count": 26,
   "metadata": {},
   "outputs": [
    {
     "data": {
      "text/plain": [
       "{}"
      ]
     },
     "execution_count": 26,
     "metadata": {},
     "output_type": "execute_result"
    }
   ],
   "source": [
    "TransitBus.transit_system"
   ]
  },
  {
   "cell_type": "code",
   "execution_count": 27,
   "metadata": {},
   "outputs": [],
   "source": [
    "b1 = TransitBus(1)\n",
    "b2 = TransitBus(2)\n",
    "b3 = TransitBus(3)"
   ]
  },
  {
   "cell_type": "code",
   "execution_count": 28,
   "metadata": {},
   "outputs": [
    {
     "data": {
      "text/plain": [
       "{1: {'num_passengers': 0}, 2: {'num_passengers': 0}, 3: {'num_passengers': 0}}"
      ]
     },
     "execution_count": 28,
     "metadata": {},
     "output_type": "execute_result"
    }
   ],
   "source": [
    "TransitBus.transit_system"
   ]
  },
  {
   "cell_type": "code",
   "execution_count": 29,
   "metadata": {},
   "outputs": [],
   "source": [
    "b1.add_passengers(10)\n",
    "b2.add_passengers(20)\n",
    "b3.add_passengers(30)"
   ]
  },
  {
   "cell_type": "code",
   "execution_count": 30,
   "metadata": {},
   "outputs": [
    {
     "data": {
      "text/plain": [
       "{1: {'num_passengers': 10},\n",
       " 2: {'num_passengers': 20},\n",
       " 3: {'num_passengers': 30}}"
      ]
     },
     "execution_count": 30,
     "metadata": {},
     "output_type": "execute_result"
    }
   ],
   "source": [
    "TransitBus.transit_system"
   ]
  },
  {
   "cell_type": "code",
   "execution_count": 31,
   "metadata": {},
   "outputs": [],
   "source": [
    "b1.remove_passengers(5)\n",
    "b2.remove_passengers(5)\n",
    "b3.remove_passengers(5)"
   ]
  },
  {
   "cell_type": "code",
   "execution_count": 32,
   "metadata": {},
   "outputs": [
    {
     "data": {
      "text/plain": [
       "{1: {'num_passengers': 5},\n",
       " 2: {'num_passengers': 15},\n",
       " 3: {'num_passengers': 25}}"
      ]
     },
     "execution_count": 32,
     "metadata": {},
     "output_type": "execute_result"
    }
   ],
   "source": [
    "TransitBus.transit_system"
   ]
  },
  {
   "cell_type": "code",
   "execution_count": 33,
   "metadata": {},
   "outputs": [
    {
     "name": "stdout",
     "output_type": "stream",
     "text": [
      "5\n",
      "3\n",
      "45\n"
     ]
    }
   ],
   "source": [
    "print(b1.num_passengers)\n",
    "print(b1.total_num_buses)\n",
    "print(b1.total_num_passengers)"
   ]
  },
  {
   "cell_type": "markdown",
   "metadata": {},
   "source": [
    "And we can add another 100 buses to the system."
   ]
  },
  {
   "cell_type": "code",
   "execution_count": 34,
   "metadata": {},
   "outputs": [],
   "source": [
    "import random\n",
    "for i in range(4, 104):\n",
    "    bus = TransitBus(identifier=i)\n",
    "    bus.add_passengers(random.randint(0,35))"
   ]
  },
  {
   "cell_type": "code",
   "execution_count": 35,
   "metadata": {},
   "outputs": [
    {
     "data": {
      "text/plain": [
       "103"
      ]
     },
     "execution_count": 35,
     "metadata": {},
     "output_type": "execute_result"
    }
   ],
   "source": [
    "TransitBus.total_num_buses"
   ]
  },
  {
   "cell_type": "code",
   "execution_count": 36,
   "metadata": {},
   "outputs": [
    {
     "data": {
      "text/plain": [
       "1745"
      ]
     },
     "execution_count": 36,
     "metadata": {},
     "output_type": "execute_result"
    }
   ],
   "source": [
    "TransitBus.total_num_passengers"
   ]
  },
  {
   "cell_type": "code",
   "execution_count": 37,
   "metadata": {},
   "outputs": [
    {
     "data": {
      "text/plain": [
       "{1: {'num_passengers': 5},\n",
       " 2: {'num_passengers': 15},\n",
       " 3: {'num_passengers': 25},\n",
       " 4: {'num_passengers': 0},\n",
       " 5: {'num_passengers': 32},\n",
       " 6: {'num_passengers': 10},\n",
       " 7: {'num_passengers': 24},\n",
       " 8: {'num_passengers': 20},\n",
       " 9: {'num_passengers': 17},\n",
       " 10: {'num_passengers': 8},\n",
       " 11: {'num_passengers': 12},\n",
       " 12: {'num_passengers': 14},\n",
       " 13: {'num_passengers': 7},\n",
       " 14: {'num_passengers': 31},\n",
       " 15: {'num_passengers': 19},\n",
       " 16: {'num_passengers': 2},\n",
       " 17: {'num_passengers': 10},\n",
       " 18: {'num_passengers': 32},\n",
       " 19: {'num_passengers': 4},\n",
       " 20: {'num_passengers': 10},\n",
       " 21: {'num_passengers': 6},\n",
       " 22: {'num_passengers': 18},\n",
       " 23: {'num_passengers': 22},\n",
       " 24: {'num_passengers': 25},\n",
       " 25: {'num_passengers': 13},\n",
       " 26: {'num_passengers': 11},\n",
       " 27: {'num_passengers': 12},\n",
       " 28: {'num_passengers': 12},\n",
       " 29: {'num_passengers': 27},\n",
       " 30: {'num_passengers': 23},\n",
       " 31: {'num_passengers': 17},\n",
       " 32: {'num_passengers': 9},\n",
       " 33: {'num_passengers': 11},\n",
       " 34: {'num_passengers': 12},\n",
       " 35: {'num_passengers': 24},\n",
       " 36: {'num_passengers': 11},\n",
       " 37: {'num_passengers': 8},\n",
       " 38: {'num_passengers': 2},\n",
       " 39: {'num_passengers': 13},\n",
       " 40: {'num_passengers': 33},\n",
       " 41: {'num_passengers': 21},\n",
       " 42: {'num_passengers': 3},\n",
       " 43: {'num_passengers': 16},\n",
       " 44: {'num_passengers': 12},\n",
       " 45: {'num_passengers': 21},\n",
       " 46: {'num_passengers': 17},\n",
       " 47: {'num_passengers': 6},\n",
       " 48: {'num_passengers': 25},\n",
       " 49: {'num_passengers': 18},\n",
       " 50: {'num_passengers': 25},\n",
       " 51: {'num_passengers': 33},\n",
       " 52: {'num_passengers': 24},\n",
       " 53: {'num_passengers': 1},\n",
       " 54: {'num_passengers': 1},\n",
       " 55: {'num_passengers': 21},\n",
       " 56: {'num_passengers': 18},\n",
       " 57: {'num_passengers': 12},\n",
       " 58: {'num_passengers': 22},\n",
       " 59: {'num_passengers': 9},\n",
       " 60: {'num_passengers': 8},\n",
       " 61: {'num_passengers': 31},\n",
       " 62: {'num_passengers': 30},\n",
       " 63: {'num_passengers': 34},\n",
       " 64: {'num_passengers': 10},\n",
       " 65: {'num_passengers': 11},\n",
       " 66: {'num_passengers': 20},\n",
       " 67: {'num_passengers': 26},\n",
       " 68: {'num_passengers': 22},\n",
       " 69: {'num_passengers': 22},\n",
       " 70: {'num_passengers': 12},\n",
       " 71: {'num_passengers': 31},\n",
       " 72: {'num_passengers': 16},\n",
       " 73: {'num_passengers': 20},\n",
       " 74: {'num_passengers': 22},\n",
       " 75: {'num_passengers': 20},\n",
       " 76: {'num_passengers': 7},\n",
       " 77: {'num_passengers': 9},\n",
       " 78: {'num_passengers': 21},\n",
       " 79: {'num_passengers': 7},\n",
       " 80: {'num_passengers': 4},\n",
       " 81: {'num_passengers': 4},\n",
       " 82: {'num_passengers': 6},\n",
       " 83: {'num_passengers': 26},\n",
       " 84: {'num_passengers': 7},\n",
       " 85: {'num_passengers': 33},\n",
       " 86: {'num_passengers': 25},\n",
       " 87: {'num_passengers': 2},\n",
       " 88: {'num_passengers': 2},\n",
       " 89: {'num_passengers': 5},\n",
       " 90: {'num_passengers': 34},\n",
       " 91: {'num_passengers': 32},\n",
       " 92: {'num_passengers': 22},\n",
       " 93: {'num_passengers': 28},\n",
       " 94: {'num_passengers': 19},\n",
       " 95: {'num_passengers': 21},\n",
       " 96: {'num_passengers': 20},\n",
       " 97: {'num_passengers': 19},\n",
       " 98: {'num_passengers': 20},\n",
       " 99: {'num_passengers': 20},\n",
       " 100: {'num_passengers': 34},\n",
       " 101: {'num_passengers': 20},\n",
       " 102: {'num_passengers': 20},\n",
       " 103: {'num_passengers': 32}}"
      ]
     },
     "execution_count": 37,
     "metadata": {},
     "output_type": "execute_result"
    }
   ],
   "source": [
    "TransitBus.transit_system"
   ]
  },
  {
   "cell_type": "markdown",
   "metadata": {},
   "source": [
    "The only thing is now you can not access bus `103`, for example, and then add or remove passengers. You need an instance of the bus to do this. \n",
    "\n",
    "Although the `TransitSystem` class is another simple example, hopefully it gets you more familiar with the idea of using classes and also the difference between instance variables and methods and class variable and methods. Feel free to play around with the `TransitSystem` class some more on your own and improve it or add new functionality."
   ]
  }
 ],
 "metadata": {
  "kernelspec": {
   "display_name": "Python 3",
   "language": "python",
   "name": "python3"
  },
  "language_info": {
   "codemirror_mode": {
    "name": "ipython",
    "version": 3
   },
   "file_extension": ".py",
   "mimetype": "text/x-python",
   "name": "python",
   "nbconvert_exporter": "python",
   "pygments_lexer": "ipython3",
   "version": "3.6.5"
  }
 },
 "nbformat": 4,
 "nbformat_minor": 4
}