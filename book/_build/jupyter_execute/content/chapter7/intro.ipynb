{
 "cells": [
  {
   "cell_type": "markdown",
   "metadata": {},
   "source": [
    "# Chapter 7: Intro to Classes\n",
    "\n",
    "In this chapter we will introduce Python classes\n",
    "and some concepts from object oriented programming.\n",
    "Much like the rest of this book, this chapter is not meant \n",
    "to cover all related topics. It will give you the basic knowledge\n",
    "and then you can pursue more learning on your own. In this chapter\n",
    "we will cover the following topics:\n",
    "\n",
    "- defining and creating classes\n",
    "- instantiate an object from a class\n",
    "- instance methods and attributes\n",
    "- class methods and attributes\n",
    "- subclassing and inheritance "
   ]
  },
  {
   "cell_type": "code",
   "execution_count": null,
   "metadata": {},
   "outputs": [],
   "source": []
  },
  {
   "cell_type": "markdown",
   "metadata": {},
   "source": [
    "\n",
    "```{toctree}\n",
    ":hidden:\n",
    ":titlesonly:\n",
    "\n",
    "\n",
    "intro_classes\n",
    "class_variables\n",
    "inheritance\n",
    "practice_questions\n",
    "```\n"
   ]
  }
 ],
 "metadata": {
  "kernelspec": {
   "display_name": "Python 3",
   "language": "python",
   "name": "python3"
  },
  "language_info": {
   "codemirror_mode": {
    "name": "ipython",
    "version": 3
   },
   "file_extension": ".py",
   "mimetype": "text/x-python",
   "name": "python",
   "nbconvert_exporter": "python",
   "pygments_lexer": "ipython3",
   "version": "3.6.5"
  }
 },
 "nbformat": 4,
 "nbformat_minor": 4
}