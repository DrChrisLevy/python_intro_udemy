{
 "cells": [
  {
   "cell_type": "markdown",
   "metadata": {},
   "source": [
    "# Intro to Classes\n",
    "\n",
    "A class is like a blueprint or template for an object. \n",
    "Once the class is defined you can create instances\n",
    "which are single objects in memory that have\n",
    "various data, attributes, and methods which were defined\n",
    "for the class. \n",
    "\n",
    "In our first example we will create a `Person` class.\n",
    "Think of the `Person` class as being a template which\n",
    "gives structure around the details you could store\n",
    "or compute about a person in general. For example,\n",
    "any one individual person would have an age, height,\n",
    "birth date, phone number, email, to name a few things"
   ]
  },
  {
   "cell_type": "markdown",
   "metadata": {},
   "source": [
    "## Defining Classes"
   ]
  },
  {
   "cell_type": "code",
   "execution_count": 1,
   "metadata": {},
   "outputs": [],
   "source": [
    "class Person:\n",
    "    def __init__(self, first_name, last_name, height, birth_date):\n",
    "        self.first_name = first_name\n",
    "        self.last_name = last_name\n",
    "        self.height = height\n",
    "        self.birth_date = birth_date"
   ]
  },
  {
   "cell_type": "markdown",
   "metadata": {},
   "source": [
    "To define a class you start with the `class` keyword followed by the name\n",
    "of the class and a colon. Within the class you can define variables and functions\n",
    "which are attributes of the class. The `__init__` method is a special method known as\n",
    "the constructor. It gets executed once each time you create a new instance of a class.\n",
    "\n",
    "The keyword `self` is a special keyword used to represent the instance of the class.\n",
    "In general, it gets passed as the first argument to all the methods defined in the class. It can be used\n",
    "throughout the class code to refer to any of the classes attributes. Let's create an instance of the `Person` class. When using the class, the `self` keyword argument always gets passed\n",
    "implicitly and you do not need to use it explicitly."
   ]
  },
  {
   "cell_type": "code",
   "execution_count": 2,
   "metadata": {},
   "outputs": [],
   "source": [
    "p1 = Person(first_name='Chris', last_name='Levy', height=6, birth_date=1985)"
   ]
  },
  {
   "cell_type": "code",
   "execution_count": 3,
   "metadata": {},
   "outputs": [
    {
     "data": {
      "text/plain": [
       "<__main__.Person at 0x106518d30>"
      ]
     },
     "execution_count": 3,
     "metadata": {},
     "output_type": "execute_result"
    }
   ],
   "source": [
    "p1"
   ]
  },
  {
   "cell_type": "code",
   "execution_count": 4,
   "metadata": {},
   "outputs": [
    {
     "data": {
      "text/plain": [
       "__main__.Person"
      ]
     },
     "execution_count": 4,
     "metadata": {},
     "output_type": "execute_result"
    }
   ],
   "source": [
    "type(p1)"
   ]
  },
  {
   "cell_type": "markdown",
   "metadata": {},
   "source": [
    "Now we have an instance of the `Person` class, `p1`, created in memory. We can access\n",
    "the attributes of the instance, `p1`, with the `.` operator."
   ]
  },
  {
   "cell_type": "code",
   "execution_count": 5,
   "metadata": {},
   "outputs": [
    {
     "data": {
      "text/plain": [
       "1985"
      ]
     },
     "execution_count": 5,
     "metadata": {},
     "output_type": "execute_result"
    }
   ],
   "source": [
    "p1.birth_date"
   ]
  },
  {
   "cell_type": "code",
   "execution_count": 6,
   "metadata": {},
   "outputs": [
    {
     "data": {
      "text/plain": [
       "'Chris'"
      ]
     },
     "execution_count": 6,
     "metadata": {},
     "output_type": "execute_result"
    }
   ],
   "source": [
    "p1.first_name"
   ]
  },
  {
   "cell_type": "code",
   "execution_count": 7,
   "metadata": {},
   "outputs": [
    {
     "data": {
      "text/plain": [
       "'Levy'"
      ]
     },
     "execution_count": 7,
     "metadata": {},
     "output_type": "execute_result"
    }
   ],
   "source": [
    "p1.last_name"
   ]
  },
  {
   "cell_type": "code",
   "execution_count": 8,
   "metadata": {},
   "outputs": [
    {
     "data": {
      "text/plain": [
       "1985"
      ]
     },
     "execution_count": 8,
     "metadata": {},
     "output_type": "execute_result"
    }
   ],
   "source": [
    "p1.birth_date"
   ]
  },
  {
   "cell_type": "markdown",
   "metadata": {},
   "source": [
    "Now let's create a second person."
   ]
  },
  {
   "cell_type": "code",
   "execution_count": 9,
   "metadata": {},
   "outputs": [],
   "source": [
    "p2 = Person(first_name='Joanna', last_name='Levy', height=5.5, birth_date=1983)"
   ]
  },
  {
   "cell_type": "code",
   "execution_count": 10,
   "metadata": {},
   "outputs": [
    {
     "data": {
      "text/plain": [
       "'Joanna'"
      ]
     },
     "execution_count": 10,
     "metadata": {},
     "output_type": "execute_result"
    }
   ],
   "source": [
    "p2.first_name"
   ]
  },
  {
   "cell_type": "markdown",
   "metadata": {},
   "source": [
    "The data for such a simple class could of been stored in a dictionary or some\n",
    "other Python object. However, classes provide much more flexibility. For example, we can\n",
    "define functions within the class. These functions of the class \n",
    "are called methods of the class and are available as attributes of the instances of the class.\n",
    "For example, suppose we wanted a function to get the age of the person. We can modify the \n",
    "`Parent` class like so:"
   ]
  },
  {
   "cell_type": "code",
   "execution_count": 11,
   "metadata": {},
   "outputs": [],
   "source": [
    "import datetime\n",
    "class Person:\n",
    "    def __init__(self, first_name, last_name, height, birth_date):\n",
    "        self.first_name = first_name\n",
    "        self.last_name = last_name\n",
    "        self.height = height\n",
    "        self.birth_date = birth_date\n",
    "    \n",
    "    def age(self):\n",
    "        todays_date = datetime.date.today()\n",
    "        return todays_date.year - self.birth_date\n",
    "        "
   ]
  },
  {
   "cell_type": "markdown",
   "metadata": {},
   "source": [
    "Notice that the function `age` has the first argument `self`. If you need to\n",
    "refer to any of the instance attributes within the function then you can do so\n",
    "with `self` keyword. It is always the first argument. The keyword `self` is not passed\n",
    "as an explicit argument when you go and use the `age` method of the instance. The functions defined in the class are referred to as methods of the instance that is created from the class."
   ]
  },
  {
   "cell_type": "code",
   "execution_count": 12,
   "metadata": {},
   "outputs": [],
   "source": [
    "p1 = Person(first_name='Chris', last_name='Levy', height=6, birth_date=1985)"
   ]
  },
  {
   "cell_type": "code",
   "execution_count": 13,
   "metadata": {},
   "outputs": [
    {
     "data": {
      "text/plain": [
       "36"
      ]
     },
     "execution_count": 13,
     "metadata": {},
     "output_type": "execute_result"
    }
   ],
   "source": [
    "p1.age()"
   ]
  },
  {
   "cell_type": "code",
   "execution_count": 14,
   "metadata": {},
   "outputs": [],
   "source": [
    "p2 = Person(first_name='Joanna', last_name='Levy', height=5.7, birth_date=1983)"
   ]
  },
  {
   "cell_type": "code",
   "execution_count": 15,
   "metadata": {},
   "outputs": [
    {
     "data": {
      "text/plain": [
       "38"
      ]
     },
     "execution_count": 15,
     "metadata": {},
     "output_type": "execute_result"
    }
   ],
   "source": [
    "p2.age()"
   ]
  },
  {
   "cell_type": "code",
   "execution_count": 16,
   "metadata": {},
   "outputs": [
    {
     "name": "stdout",
     "output_type": "stream",
     "text": [
      "Chris Levy is 6 feet tall and is 36 years old.\n"
     ]
    }
   ],
   "source": [
    "print(f'{p1.first_name} {p1.last_name} is {p1.height} feet tall and is {p1.age()} years old.')"
   ]
  },
  {
   "cell_type": "code",
   "execution_count": 17,
   "metadata": {},
   "outputs": [
    {
     "name": "stdout",
     "output_type": "stream",
     "text": [
      "Joanna Levy is 5.7 feet tall and is 38 years old.\n"
     ]
    }
   ],
   "source": [
    "print(f'{p2.first_name} {p2.last_name} is {p2.height} feet tall and is {p2.age()} years old.')"
   ]
  },
  {
   "cell_type": "markdown",
   "metadata": {},
   "source": [
    "If for example we found the above print statement useful, we could just create it as a method within the class."
   ]
  },
  {
   "cell_type": "code",
   "execution_count": 18,
   "metadata": {},
   "outputs": [],
   "source": [
    "import datetime\n",
    "\n",
    "class Person:\n",
    "    def __init__(self, first_name, last_name, height, birth_date):\n",
    "        self.first_name = first_name\n",
    "        self.last_name = last_name\n",
    "        self.height = height\n",
    "        self.birth_date = birth_date\n",
    "    \n",
    "    def age(self):\n",
    "        todays_date = datetime.date.today()\n",
    "        return todays_date.year - self.birth_date\n",
    "    \n",
    "    def print_details(self):\n",
    "        age = self.age()\n",
    "        print(f'{self.first_name} {self.last_name} is {self.height} feet tall '\n",
    "              f'and is {self.age()} years old.')"
   ]
  },
  {
   "cell_type": "code",
   "execution_count": 19,
   "metadata": {},
   "outputs": [
    {
     "name": "stdout",
     "output_type": "stream",
     "text": [
      "Chris Levy is 6 feet tall and is 36 years old.\n",
      "Joanna Levy is 5.7 feet tall and is 38 years old.\n"
     ]
    }
   ],
   "source": [
    "p1 = Person(first_name='Chris', last_name='Levy', height=6, birth_date=1985)\n",
    "p2 = Person(first_name='Joanna', last_name='Levy', height=5.7, birth_date=1983)\n",
    "p1.print_details()\n",
    "p2.print_details()"
   ]
  },
  {
   "cell_type": "markdown",
   "metadata": {},
   "source": [
    "## Changing Class Instance Attributes\n",
    "The instances of the class you create are mutable\n",
    "in that you can modify basically anything about the object\n",
    "after it is created.\n"
   ]
  },
  {
   "cell_type": "code",
   "execution_count": 20,
   "metadata": {},
   "outputs": [
    {
     "data": {
      "text/plain": [
       "'Levy'"
      ]
     },
     "execution_count": 20,
     "metadata": {},
     "output_type": "execute_result"
    }
   ],
   "source": [
    "p1.first_name\n",
    "p1.last_name"
   ]
  },
  {
   "cell_type": "markdown",
   "metadata": {},
   "source": [
    "Here we modify the name, height, and the birth date of the `p1` object. Then whenever \n",
    "`self` is used within the function definitions in the class it uses\n",
    "the updated object values for the instance."
   ]
  },
  {
   "cell_type": "code",
   "execution_count": 21,
   "metadata": {},
   "outputs": [],
   "source": [
    "p1.first_name = 'Isaac'\n",
    "p1.last_name = 'Levy'\n",
    "p1.birth_date = 2011\n",
    "p1.height = 4.5"
   ]
  },
  {
   "cell_type": "code",
   "execution_count": 22,
   "metadata": {},
   "outputs": [
    {
     "data": {
      "text/plain": [
       "10"
      ]
     },
     "execution_count": 22,
     "metadata": {},
     "output_type": "execute_result"
    }
   ],
   "source": [
    "p1.age()"
   ]
  },
  {
   "cell_type": "code",
   "execution_count": 23,
   "metadata": {},
   "outputs": [
    {
     "name": "stdout",
     "output_type": "stream",
     "text": [
      "Isaac Levy is 4.5 feet tall and is 10 years old.\n"
     ]
    }
   ],
   "source": [
    "p1.print_details()"
   ]
  },
  {
   "cell_type": "markdown",
   "metadata": {},
   "source": [
    "## Bank Account Example\n",
    "\n",
    "Let's look at another example of creating a class.\n",
    "This class will be called `BankAccount` and will be responsible\n",
    "for storing and keeping up to date the details of a persons\n",
    "bank account. It will keep track of the amount of\n",
    "money in the account, a history of previous transactions,\n",
    "and will be able to perform new transactions such as withdrawals \n",
    "and deposits.\n",
    "\n",
    "The first step is to choose the name of the class. When naming\n",
    "classes in Python it's common to use the `CamelCase` format which just means\n",
    "to capitalize the first letter at the beginning of each new word.\n",
    "We will use the name `BankAccount` for our class.\n",
    "\n",
    "The very minimum code needed to create a class is the following."
   ]
  },
  {
   "cell_type": "code",
   "execution_count": 24,
   "metadata": {},
   "outputs": [],
   "source": [
    "class BankAccount:\n",
    "    pass"
   ]
  },
  {
   "cell_type": "code",
   "execution_count": 25,
   "metadata": {},
   "outputs": [],
   "source": [
    "account = BankAccount()"
   ]
  },
  {
   "cell_type": "markdown",
   "metadata": {},
   "source": [
    "This instance of the class, `account` has no data or methods associated with it\n",
    "because we have not defined anything within the class `BankAccount`. \n",
    "\n",
    "When we create a bank account it needs to have an initial state which gets computed\n",
    "once the instance object of the class is created. This is what the `__init__` method is \n",
    "for. We will pass the name of the person who will own the account as an argument to the \n",
    "constructor method (i.e. the `__init__` method). In the constructor we will also\n",
    "set the balance of the account to $0 and the transaction history to an empty list.\n",
    "We store the `balance` and the `transaction_history` in `__init__` with `self`. This way\n",
    "those values become attributes of the class and we can keep track of them."
   ]
  },
  {
   "cell_type": "code",
   "execution_count": 26,
   "metadata": {},
   "outputs": [],
   "source": [
    "class BankAccount:\n",
    "    def __init__(self, name):\n",
    "        self.name = name\n",
    "        self.balance = 0\n",
    "        self.transaction_history = []"
   ]
  },
  {
   "cell_type": "code",
   "execution_count": 27,
   "metadata": {},
   "outputs": [
    {
     "name": "stdout",
     "output_type": "stream",
     "text": [
      "Chris Levy 0 []\n"
     ]
    }
   ],
   "source": [
    "account = BankAccount('Chris Levy')\n",
    "print(account.name, account.balance, account.transaction_history)"
   ]
  },
  {
   "cell_type": "markdown",
   "metadata": {},
   "source": [
    "After someone creates an account, they probably want to be able to put some money in. These are called deposits. We will create a `deposit` function which takes the amount of money to deposit and updates `self.balance`. The function does not need to return anything because\n",
    "it's simply updating the internal `self.balance`."
   ]
  },
  {
   "cell_type": "code",
   "execution_count": 28,
   "metadata": {},
   "outputs": [],
   "source": [
    "class BankAccount:\n",
    "    def __init__(self, name):\n",
    "        self.name = name\n",
    "        self.balance = 0\n",
    "        self.transaction_history = []\n",
    "    \n",
    "    def deposit(self, amount):\n",
    "        self.balance = self.balance + amount"
   ]
  },
  {
   "cell_type": "code",
   "execution_count": 29,
   "metadata": {},
   "outputs": [
    {
     "name": "stdout",
     "output_type": "stream",
     "text": [
      "Chris Levy 0 []\n"
     ]
    }
   ],
   "source": [
    "account = BankAccount('Chris Levy')\n",
    "print(account.name, account.balance, account.transaction_history)"
   ]
  },
  {
   "cell_type": "code",
   "execution_count": 30,
   "metadata": {},
   "outputs": [
    {
     "name": "stdout",
     "output_type": "stream",
     "text": [
      "Chris Levy 100 []\n"
     ]
    }
   ],
   "source": [
    "account.deposit(100)\n",
    "print(account.name, account.balance, account.transaction_history)"
   ]
  },
  {
   "cell_type": "code",
   "execution_count": 31,
   "metadata": {},
   "outputs": [
    {
     "name": "stdout",
     "output_type": "stream",
     "text": [
      "Chris Levy 130 []\n"
     ]
    }
   ],
   "source": [
    "account.deposit(30)\n",
    "print(account.name, account.balance, account.transaction_history)"
   ]
  },
  {
   "cell_type": "code",
   "execution_count": 32,
   "metadata": {},
   "outputs": [
    {
     "name": "stdout",
     "output_type": "stream",
     "text": [
      "Chris Levy 152 []\n"
     ]
    }
   ],
   "source": [
    "account.deposit(22)\n",
    "print(account.name, account.balance, account.transaction_history)"
   ]
  },
  {
   "cell_type": "markdown",
   "metadata": {},
   "source": [
    "Above are some examples of deposit transactions which update\n",
    "the `balance` associated with the instance of the class. If we create another bank\n",
    "account instance it will have it's own data."
   ]
  },
  {
   "cell_type": "code",
   "execution_count": 33,
   "metadata": {},
   "outputs": [],
   "source": [
    "account2 = BankAccount('Isaac')"
   ]
  },
  {
   "cell_type": "code",
   "execution_count": 34,
   "metadata": {},
   "outputs": [],
   "source": [
    "account2.deposit(10)"
   ]
  },
  {
   "cell_type": "code",
   "execution_count": 35,
   "metadata": {},
   "outputs": [
    {
     "name": "stdout",
     "output_type": "stream",
     "text": [
      "Chris Levy 152 []\n"
     ]
    }
   ],
   "source": [
    "print(account.name, account.balance, account.transaction_history)"
   ]
  },
  {
   "cell_type": "code",
   "execution_count": 36,
   "metadata": {},
   "outputs": [
    {
     "name": "stdout",
     "output_type": "stream",
     "text": [
      "Isaac 10 []\n"
     ]
    }
   ],
   "source": [
    "print(account2.name, account2.balance, account2.transaction_history)"
   ]
  },
  {
   "cell_type": "markdown",
   "metadata": {},
   "source": [
    "We want to keep track of every historical transaction for both deposits\n",
    "and withdrawals. We need to modify the `deposit` method so that it\n",
    "adds the details of the deposit transaction to the history. We will add\n",
    "an optional `details` argument. As well, we will store each transaction\n",
    "as a dictionary. This way we can add more fields later if we need to. The \n",
    "transactions need to be appended to the list `transaction_history`. It\n",
    "also makes sense to add the date and time of the transaction so we will\n",
    "use the `datetime` library to do that."
   ]
  },
  {
   "cell_type": "code",
   "execution_count": 37,
   "metadata": {},
   "outputs": [],
   "source": [
    "from datetime import datetime\n",
    "\n",
    "class BankAccount:\n",
    "    def __init__(self, name):\n",
    "        self.name = name\n",
    "        self.balance = 0\n",
    "        self.transaction_history = []\n",
    "    \n",
    "    def deposit(self, amount, details=None):\n",
    "        self.balance = self.balance + amount\n",
    "        now = datetime.now()\n",
    "        transaction = {\n",
    "            'amount': amount,\n",
    "            'type': 'deposit',\n",
    "            'details': details,\n",
    "            'date': now.strftime(\"%Y/%m/%d/ %H:%M:%S\") # format date as string\n",
    "        }\n",
    "        self.transaction_history.append(transaction)"
   ]
  },
  {
   "cell_type": "code",
   "execution_count": 38,
   "metadata": {},
   "outputs": [],
   "source": [
    "account = BankAccount('Chris')"
   ]
  },
  {
   "cell_type": "code",
   "execution_count": 39,
   "metadata": {},
   "outputs": [
    {
     "name": "stdout",
     "output_type": "stream",
     "text": [
      "Chris 0 []\n"
     ]
    }
   ],
   "source": [
    "print(account.name, account.balance, account.transaction_history)"
   ]
  },
  {
   "cell_type": "code",
   "execution_count": 40,
   "metadata": {},
   "outputs": [],
   "source": [
    "account.deposit(10000, 'Setting up my account.')"
   ]
  },
  {
   "cell_type": "code",
   "execution_count": 41,
   "metadata": {},
   "outputs": [
    {
     "data": {
      "text/plain": [
       "10000"
      ]
     },
     "execution_count": 41,
     "metadata": {},
     "output_type": "execute_result"
    }
   ],
   "source": [
    "account.balance"
   ]
  },
  {
   "cell_type": "code",
   "execution_count": 42,
   "metadata": {},
   "outputs": [
    {
     "data": {
      "text/plain": [
       "[{'amount': 10000,\n",
       "  'type': 'deposit',\n",
       "  'details': 'Setting up my account.',\n",
       "  'date': '2021/01/23/ 07:54:08'}]"
      ]
     },
     "execution_count": 42,
     "metadata": {},
     "output_type": "execute_result"
    }
   ],
   "source": [
    "account.transaction_history"
   ]
  },
  {
   "cell_type": "code",
   "execution_count": 43,
   "metadata": {},
   "outputs": [],
   "source": [
    "account.deposit(100, 'money I got as a gift.')"
   ]
  },
  {
   "cell_type": "code",
   "execution_count": 44,
   "metadata": {},
   "outputs": [
    {
     "data": {
      "text/plain": [
       "10100"
      ]
     },
     "execution_count": 44,
     "metadata": {},
     "output_type": "execute_result"
    }
   ],
   "source": [
    "account.balance"
   ]
  },
  {
   "cell_type": "code",
   "execution_count": 45,
   "metadata": {},
   "outputs": [
    {
     "data": {
      "text/plain": [
       "[{'amount': 10000,\n",
       "  'type': 'deposit',\n",
       "  'details': 'Setting up my account.',\n",
       "  'date': '2021/01/23/ 07:54:08'},\n",
       " {'amount': 100,\n",
       "  'type': 'deposit',\n",
       "  'details': 'money I got as a gift.',\n",
       "  'date': '2021/01/23/ 07:54:08'}]"
      ]
     },
     "execution_count": 45,
     "metadata": {},
     "output_type": "execute_result"
    }
   ],
   "source": [
    "account.transaction_history"
   ]
  },
  {
   "cell_type": "code",
   "execution_count": 46,
   "metadata": {},
   "outputs": [],
   "source": [
    "account.deposit(3000)"
   ]
  },
  {
   "cell_type": "code",
   "execution_count": 47,
   "metadata": {},
   "outputs": [
    {
     "data": {
      "text/plain": [
       "13100"
      ]
     },
     "execution_count": 47,
     "metadata": {},
     "output_type": "execute_result"
    }
   ],
   "source": [
    "account.balance"
   ]
  },
  {
   "cell_type": "code",
   "execution_count": 48,
   "metadata": {},
   "outputs": [
    {
     "data": {
      "text/plain": [
       "[{'amount': 10000,\n",
       "  'type': 'deposit',\n",
       "  'details': 'Setting up my account.',\n",
       "  'date': '2021/01/23/ 07:54:08'},\n",
       " {'amount': 100,\n",
       "  'type': 'deposit',\n",
       "  'details': 'money I got as a gift.',\n",
       "  'date': '2021/01/23/ 07:54:08'},\n",
       " {'amount': 3000,\n",
       "  'type': 'deposit',\n",
       "  'details': None,\n",
       "  'date': '2021/01/23/ 07:54:08'}]"
      ]
     },
     "execution_count": 48,
     "metadata": {},
     "output_type": "execute_result"
    }
   ],
   "source": [
    "account.transaction_history"
   ]
  },
  {
   "cell_type": "markdown",
   "metadata": {},
   "source": [
    "Okay, so now we need to create a function for handling withdrawals (taking money\n",
    "out of the account). We can create a `withdrawal` method which behaves just like\n",
    "the `deposit` method. The only difference is that it should decrease the balance\n",
    "and it is typical to store such values as negative."
   ]
  },
  {
   "cell_type": "code",
   "execution_count": 49,
   "metadata": {},
   "outputs": [],
   "source": [
    "from datetime import datetime\n",
    "\n",
    "class BankAccount:\n",
    "    def __init__(self, name):\n",
    "        self.name = name\n",
    "        self.balance = 0\n",
    "        self.transaction_history = []\n",
    "    \n",
    "    def deposit(self, amount, details=None):\n",
    "        self.balance = self.balance + amount\n",
    "        now = datetime.now()\n",
    "        transaction = {\n",
    "            'amount': amount,\n",
    "            'type': 'deposit',\n",
    "            'details': details,\n",
    "            'date': now.strftime(\"%Y/%m/%d/ %H:%M:%S\") # format date as string\n",
    "        }\n",
    "        self.transaction_history.append(transaction)\n",
    "        \n",
    "    def withdrawal(self, amount, details=None):\n",
    "        self.balance = self.balance - amount\n",
    "        now = datetime.now()\n",
    "        transaction = {\n",
    "            'amount': -1 * amount,\n",
    "            'type': 'withdrawal',\n",
    "            'details': details,\n",
    "            'date': now.strftime(\"%Y/%m/%d/ %H:%M:%S\") # format date as string\n",
    "        }\n",
    "        self.transaction_history.append(transaction)"
   ]
  },
  {
   "cell_type": "code",
   "execution_count": 50,
   "metadata": {},
   "outputs": [
    {
     "data": {
      "text/plain": [
       "150"
      ]
     },
     "execution_count": 50,
     "metadata": {},
     "output_type": "execute_result"
    }
   ],
   "source": [
    "account = BankAccount('Chris')\n",
    "account.deposit(100, 'setup')\n",
    "account.deposit(100, 'paid')\n",
    "account.withdrawal(50, 'food')\n",
    "account.balance"
   ]
  },
  {
   "cell_type": "code",
   "execution_count": 51,
   "metadata": {},
   "outputs": [
    {
     "data": {
      "text/plain": [
       "[{'amount': 100,\n",
       "  'type': 'deposit',\n",
       "  'details': 'setup',\n",
       "  'date': '2021/01/23/ 07:54:08'},\n",
       " {'amount': 100,\n",
       "  'type': 'deposit',\n",
       "  'details': 'paid',\n",
       "  'date': '2021/01/23/ 07:54:08'},\n",
       " {'amount': -50,\n",
       "  'type': 'withdrawal',\n",
       "  'details': 'food',\n",
       "  'date': '2021/01/23/ 07:54:08'}]"
      ]
     },
     "execution_count": 51,
     "metadata": {},
     "output_type": "execute_result"
    }
   ],
   "source": [
    "account.transaction_history"
   ]
  },
  {
   "cell_type": "markdown",
   "metadata": {},
   "source": [
    "The dates are the same because the code got executed together \n",
    "close together in time. Notice that the amount for withdrawals is negative.\n",
    "\n",
    "Now there is one more thing we need to handle for withdrawals. What if\n",
    "someone tries to withdraw money or make a purchase but there is not\n",
    "enough money in the account? Then we need to stop the transaction from\n",
    "completing and print a message that says insufficient funds. Let's\n",
    "update the `withdrawal` method to handle this logic."
   ]
  },
  {
   "cell_type": "code",
   "execution_count": 52,
   "metadata": {},
   "outputs": [],
   "source": [
    "from datetime import datetime\n",
    "\n",
    "class BankAccount:\n",
    "    def __init__(self, name):\n",
    "        self.name = name\n",
    "        self.balance = 0\n",
    "        self.transaction_history = []\n",
    "    \n",
    "    def deposit(self, amount, details=None):\n",
    "        self.balance = self.balance + amount\n",
    "        now = datetime.now()\n",
    "        transaction = {\n",
    "            'amount': amount,\n",
    "            'type': 'deposit',\n",
    "            'details': details,\n",
    "            'date': now.strftime(\"%Y/%m/%d/ %H:%M:%S\") # format date as string\n",
    "        }\n",
    "        self.transaction_history.append(transaction)\n",
    "        \n",
    "    def withdrawal(self, amount, details=None):\n",
    "        new_balance = self.balance - amount\n",
    "        if new_balance < 0:\n",
    "            print(f'Sorry! You only have ${self.balance} in your account.')\n",
    "            print(f'You can not complete this transaction of ${amount} at this time.')\n",
    "            \n",
    "            # will return None and function will exit.\n",
    "            # No logic after the return will be executed\n",
    "            return  \n",
    "        \n",
    "        self.balance = new_balance\n",
    "        now = datetime.now()\n",
    "        transaction = {\n",
    "            'amount': -1 * amount,\n",
    "            'type': 'withdrawal',\n",
    "            'details': details,\n",
    "            'date': now.strftime(\"%Y/%m/%d/ %H:%M:%S\") # format date as string\n",
    "        }\n",
    "        self.transaction_history.append(transaction)"
   ]
  },
  {
   "cell_type": "code",
   "execution_count": 53,
   "metadata": {},
   "outputs": [],
   "source": [
    "account = BankAccount('Chris')"
   ]
  },
  {
   "cell_type": "code",
   "execution_count": 54,
   "metadata": {},
   "outputs": [],
   "source": [
    "account.deposit(100)\n",
    "account.deposit(200)\n",
    "account.deposit(300)"
   ]
  },
  {
   "cell_type": "code",
   "execution_count": 55,
   "metadata": {},
   "outputs": [
    {
     "data": {
      "text/plain": [
       "600"
      ]
     },
     "execution_count": 55,
     "metadata": {},
     "output_type": "execute_result"
    }
   ],
   "source": [
    "account.balance"
   ]
  },
  {
   "cell_type": "code",
   "execution_count": 56,
   "metadata": {},
   "outputs": [],
   "source": [
    "account.withdrawal(400)"
   ]
  },
  {
   "cell_type": "code",
   "execution_count": 57,
   "metadata": {},
   "outputs": [
    {
     "data": {
      "text/plain": [
       "200"
      ]
     },
     "execution_count": 57,
     "metadata": {},
     "output_type": "execute_result"
    }
   ],
   "source": [
    "account.balance"
   ]
  },
  {
   "cell_type": "code",
   "execution_count": 58,
   "metadata": {},
   "outputs": [],
   "source": [
    "account.withdrawal(10)"
   ]
  },
  {
   "cell_type": "code",
   "execution_count": 59,
   "metadata": {},
   "outputs": [
    {
     "data": {
      "text/plain": [
       "190"
      ]
     },
     "execution_count": 59,
     "metadata": {},
     "output_type": "execute_result"
    }
   ],
   "source": [
    "account.balance"
   ]
  },
  {
   "cell_type": "code",
   "execution_count": 60,
   "metadata": {},
   "outputs": [
    {
     "name": "stdout",
     "output_type": "stream",
     "text": [
      "Sorry! You only have $190 in your account.\n",
      "You can not complete this transaction of $201 at this time.\n"
     ]
    }
   ],
   "source": [
    "account.withdrawal(201)"
   ]
  },
  {
   "cell_type": "code",
   "execution_count": 61,
   "metadata": {},
   "outputs": [
    {
     "data": {
      "text/plain": [
       "[{'amount': 100,\n",
       "  'type': 'deposit',\n",
       "  'details': None,\n",
       "  'date': '2021/01/23/ 07:54:08'},\n",
       " {'amount': 200,\n",
       "  'type': 'deposit',\n",
       "  'details': None,\n",
       "  'date': '2021/01/23/ 07:54:08'},\n",
       " {'amount': 300,\n",
       "  'type': 'deposit',\n",
       "  'details': None,\n",
       "  'date': '2021/01/23/ 07:54:08'},\n",
       " {'amount': -400,\n",
       "  'type': 'withdrawal',\n",
       "  'details': None,\n",
       "  'date': '2021/01/23/ 07:54:08'},\n",
       " {'amount': -10,\n",
       "  'type': 'withdrawal',\n",
       "  'details': None,\n",
       "  'date': '2021/01/23/ 07:54:08'}]"
      ]
     },
     "execution_count": 61,
     "metadata": {},
     "output_type": "execute_result"
    }
   ],
   "source": [
    "account.transaction_history"
   ]
  },
  {
   "cell_type": "markdown",
   "metadata": {},
   "source": [
    "The class `BankAccount` we created is quite simple. But I hope you start\n",
    "to see why classes are so powerful. It gives you the ability\n",
    "to create new objects which can have their own attributes and data\n",
    "together in a single place. Most application code in the \"real world\"\n",
    "will be written using the Object-oriented programming (OOP) paradigm which\n",
    "is based on using classes. We will not be teaching everything there is to know\n",
    "about OOP in this course.\n",
    "However, we will go cover some of the basics about working with classes in Python\n",
    "so you can get started."
   ]
  }
 ],
 "metadata": {
  "kernelspec": {
   "display_name": "Python 3",
   "language": "python",
   "name": "python3"
  },
  "language_info": {
   "codemirror_mode": {
    "name": "ipython",
    "version": 3
   },
   "file_extension": ".py",
   "mimetype": "text/x-python",
   "name": "python",
   "nbconvert_exporter": "python",
   "pygments_lexer": "ipython3",
   "version": "3.6.5"
  }
 },
 "nbformat": 4,
 "nbformat_minor": 4
}