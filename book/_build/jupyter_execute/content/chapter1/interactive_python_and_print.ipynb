{
 "cells": [
  {
   "cell_type": "markdown",
   "metadata": {},
   "source": [
    "# Intro to Interactive Python\n",
    "\n",
    "When you code in Python, you end end up writing lines of code across lots of different files.\n",
    "It is very common for larger Python projects to have thousands of lines of code.\n",
    "But when you are first starting to code, it is ideal to write some lines of code \n",
    "and then see what they do instantly. This experience is interactive and is\n",
    "ideal for learning and playing around with Python.\n",
    "\n",
    "There are couple of ways to start *interactive sessions* with Python.\n",
    "For example, if you have Python installed on your computer you can open\n",
    "up a terminal/shell and just type `python` or `python3`. Here is an example of\n",
    "what that looks like. ![python3_terminal](python3_terminal.png) \n",
    "\n",
    "Each line starts with `>>>` and you can simply type some\n",
    "python code and then hit **return** on your keyboard to execute it. \n",
    "Here I typed `1 + 1` and then hit **return**.\n",
    "Then the code was executed instantly and the output was displayed on the screen, `2`.\n",
    "\n",
    "Try it out on your own! Open a terminal/shell and type `python3`. \n",
    "Then try adding two numbers together. \n",
    "You can type `quit()` and then **return** to exit the interactive python shell in the terminal.\n",
    "\n",
    "Another way to work in python in a very rich interactive environment is by using\n",
    "**Jupyter Notebooks**. If you have **Jupyter** installed you can just open\n",
    "a terminal/shell on your computer and type `jupyter notebook` and hit **return** on the keyboard.\n",
    "\n",
    "![jupyter_notebook_terminal](jupyter_notebook_terminal.png) \n",
    "\n",
    "You can copy and paste the link `http://localhost:8889/?token=d844c610f304b048803cb24f809ece636c126c0dce446800` in your web browser. Or it might even open automatically. In the web browser you will see something like this: ![jupyter_notebook_home](jupyter_notebook_home.png)\n",
    "\n",
    "You can click on the button **new** on the right and then click on **Python 3** as shown here.\n",
    "\n",
    "![jupyter_note_book_python3](jupyter_note_book_python3.png)\n",
    "\n",
    "This will open up a blank *Untitled* Jupyter Notebook (also called Ipython Notebook).\n",
    "\n",
    "![blank_notebook](blank_notebook.png)\n",
    "\n",
    "You can change the name of the notebook file by clicking on the title at the top and typing a new name.\n",
    "\n",
    "![jupyter_title](jupyter_title.png)\n",
    "\n",
    "This will open up a window like this. Type the new name and then click **Rename**.\n",
    "\n",
    "![jupyter_title_rename](jupyter_title_rename.png)\n",
    "\n",
    "A notebook is made of individual cells in which you can type python code in. \n",
    "You can add more cells by clicking on the **+** sign on the left beside the *save* button.\n",
    "Here I clicked it 5 times which created 5 new cells.\n",
    "\n",
    "![five_new_cells](five_new_cells.png)\n",
    "\n",
    "Let's start to learn some python! Click on the first cell and type the following code\n",
    "in the first cell. After typing your code in a cell you can hit **shift** plus **return**\n",
    "on your keyboard to execute the code in that cell. Or you can click the button **Run** on\n",
    "the top tool bar but it's better to use the keyboard shortcuts."
   ]
  },
  {
   "cell_type": "code",
   "execution_count": 1,
   "metadata": {},
   "outputs": [
    {
     "data": {
      "text/plain": [
       "2"
      ]
     },
     "execution_count": 1,
     "metadata": {},
     "output_type": "execute_result"
    }
   ],
   "source": [
    "1 + 1"
   ]
  },
  {
   "cell_type": "markdown",
   "metadata": {},
   "source": [
    "Trying creating some more cells and typing some mathematical expressions in them. \n",
    "Don't forget to execute the code. In Python we can use the following symbols for addition,\n",
    "subtraction, multiplication, and division:\n",
    "- \\+ for addition\n",
    "- \\- for subtraction\n",
    "- \\* for multiplication (**shift** + **8** on the keyboard)\n",
    "- / for division  (the forward slash on the key with the **?** symbol)"
   ]
  },
  {
   "cell_type": "code",
   "execution_count": 2,
   "metadata": {},
   "outputs": [
    {
     "data": {
      "text/plain": [
       "15"
      ]
     },
     "execution_count": 2,
     "metadata": {},
     "output_type": "execute_result"
    }
   ],
   "source": [
    "1 + 2 + 3 + 4 + 5"
   ]
  },
  {
   "cell_type": "code",
   "execution_count": 3,
   "metadata": {},
   "outputs": [
    {
     "data": {
      "text/plain": [
       "5"
      ]
     },
     "execution_count": 3,
     "metadata": {},
     "output_type": "execute_result"
    }
   ],
   "source": [
    "105 - 100"
   ]
  },
  {
   "cell_type": "code",
   "execution_count": 4,
   "metadata": {},
   "outputs": [
    {
     "data": {
      "text/plain": [
       "2.0"
      ]
     },
     "execution_count": 4,
     "metadata": {},
     "output_type": "execute_result"
    }
   ],
   "source": [
    "6 / 3"
   ]
  },
  {
   "cell_type": "code",
   "execution_count": 5,
   "metadata": {},
   "outputs": [
    {
     "data": {
      "text/plain": [
       "81"
      ]
     },
     "execution_count": 5,
     "metadata": {},
     "output_type": "execute_result"
    }
   ],
   "source": [
    "9 * 9"
   ]
  },
  {
   "cell_type": "code",
   "execution_count": 6,
   "metadata": {},
   "outputs": [
    {
     "data": {
      "text/plain": [
       "86"
      ]
     },
     "execution_count": 6,
     "metadata": {},
     "output_type": "execute_result"
    }
   ],
   "source": [
    "5 + 9 * 9"
   ]
  },
  {
   "cell_type": "code",
   "execution_count": 7,
   "metadata": {},
   "outputs": [
    {
     "data": {
      "text/plain": [
       "-14"
      ]
     },
     "execution_count": 7,
     "metadata": {},
     "output_type": "execute_result"
    }
   ],
   "source": [
    "5 + 9 * 9 - 100"
   ]
  },
  {
   "cell_type": "code",
   "execution_count": 8,
   "metadata": {},
   "outputs": [
    {
     "data": {
      "text/plain": [
       "12.0"
      ]
     },
     "execution_count": 8,
     "metadata": {},
     "output_type": "execute_result"
    }
   ],
   "source": [
    "3 * 3 + 6 - 9/3"
   ]
  },
  {
   "cell_type": "code",
   "execution_count": 9,
   "metadata": {},
   "outputs": [
    {
     "data": {
      "text/plain": [
       "0.8"
      ]
     },
     "execution_count": 9,
     "metadata": {},
     "output_type": "execute_result"
    }
   ],
   "source": [
    "4/5"
   ]
  },
  {
   "cell_type": "code",
   "execution_count": 10,
   "metadata": {},
   "outputs": [
    {
     "data": {
      "text/plain": [
       "1.25"
      ]
     },
     "execution_count": 10,
     "metadata": {},
     "output_type": "execute_result"
    }
   ],
   "source": [
    "5/4"
   ]
  },
  {
   "cell_type": "markdown",
   "metadata": {},
   "source": [
    "Notice that Python obeys the [standard mathematical order of operations](https://en.wikipedia.org/wiki/Order_of_operations). That is, multiplication and division come before addition and subtraction.\n",
    "\n",
    "For example the proper way to do, \n",
    "\n",
    "$$2 + 3 × 4$$ \n",
    "\n",
    "is to do \n",
    "\n",
    "$$2 + (3 × 4)$$ \n",
    "\n",
    "which is \n",
    "\n",
    "$$2 + 12$$ \n",
    "\n",
    "which is \n",
    "\n",
    "$$14$$\n",
    "\n",
    "The wrong order of operations would be to first calculate $2+3$ which is $5$ and then do $5 × 4$ to get the incorrect \n",
    "answer $20$. Python executes the correct order of operations."
   ]
  },
  {
   "cell_type": "code",
   "execution_count": 11,
   "metadata": {},
   "outputs": [
    {
     "data": {
      "text/plain": [
       "14"
      ]
     },
     "execution_count": 11,
     "metadata": {},
     "output_type": "execute_result"
    }
   ],
   "source": [
    "2 + 3 * 4"
   ]
  },
  {
   "cell_type": "markdown",
   "metadata": {},
   "source": [
    "When writing complicated mathematical expressions in Python code it's really useful\n",
    "to make use of brackets. Just like you do when writing math on paper. For example you might work out this\n",
    "on paper as:\n",
    "\n",
    "$$(10 + (5 × 5) - (50 / 5)) × 2$$\n",
    "\n",
    "$$(10 + 25 - 10) × 2$$\n",
    "\n",
    "$$(35 - 10) × 2$$\n",
    "\n",
    "$$25 × 2$$\n",
    "\n",
    "$$50$$\n",
    "\n",
    "In Python, to work out this exact same math problem you must you brackets."
   ]
  },
  {
   "cell_type": "code",
   "execution_count": 12,
   "metadata": {},
   "outputs": [
    {
     "data": {
      "text/plain": [
       "50.0"
      ]
     },
     "execution_count": 12,
     "metadata": {},
     "output_type": "execute_result"
    }
   ],
   "source": [
    "(10 + (5 * 5) - (50 / 5)) * 2"
   ]
  },
  {
   "cell_type": "markdown",
   "metadata": {},
   "source": [
    "## Print Function and Displaying Results in Jupyter\n",
    "\n",
    "Consider the following simple code in Python.\n",
    "Do not worry if you do not quite understand what it does.\n",
    "We will explain more later. Go ahead and create a\n",
    "new **Jupyter Notebook** and name it **printing_in_python**.\n",
    "In the first cell type this Python code and then execute \n",
    "the cell by pressing **shift** and **return** on the keyboard\n",
    "together."
   ]
  },
  {
   "cell_type": "code",
   "execution_count": 13,
   "metadata": {},
   "outputs": [],
   "source": [
    "x = 1\n",
    "y = 2"
   ]
  },
  {
   "cell_type": "markdown",
   "metadata": {},
   "source": [
    "What happened? You may be thinking that nothing happened because\n",
    "no results were printed or displayed to the screen.\n",
    "Well in reality, something *did* happen. Those two lines\n",
    "of code were executed in Python. It's just that nothing\n",
    "was printed or displayed. Now add a third line to the code,\n",
    "`x + y`, and then execute the cell."
   ]
  },
  {
   "cell_type": "code",
   "execution_count": 14,
   "metadata": {},
   "outputs": [
    {
     "data": {
      "text/plain": [
       "3"
      ]
     },
     "execution_count": 14,
     "metadata": {},
     "output_type": "execute_result"
    }
   ],
   "source": [
    "x = 1\n",
    "y = 2\n",
    "x + y"
   ]
  },
  {
   "cell_type": "markdown",
   "metadata": {},
   "source": [
    "Interesting, it printed the output `3`.\n",
    "Now change the third line, `x + y` to `z = x + y` and\n",
    "then execute the code. Did anything get printed or displayed? Nope!\n",
    "Why do you think that is?"
   ]
  },
  {
   "cell_type": "code",
   "execution_count": 15,
   "metadata": {},
   "outputs": [],
   "source": [
    "x = 1\n",
    "y = 2\n",
    "z = x + y"
   ]
  },
  {
   "cell_type": "markdown",
   "metadata": {},
   "source": [
    "Finally, add one more line of code like this:"
   ]
  },
  {
   "cell_type": "code",
   "execution_count": 16,
   "metadata": {},
   "outputs": [
    {
     "data": {
      "text/plain": [
       "3"
      ]
     },
     "execution_count": 16,
     "metadata": {},
     "output_type": "execute_result"
    }
   ],
   "source": [
    "x = 1\n",
    "y = 2\n",
    "z = x + y\n",
    "z"
   ]
  },
  {
   "cell_type": "markdown",
   "metadata": {},
   "source": [
    "It printed/displayed the number `3`!\n",
    "\n",
    "Typically, python programs do not print any output to the screen\n",
    "unless you tell them to. But when working in Jupyter Notebooks,\n",
    "the ouput of a single cell will sometimes be displayed.\n",
    "Only the output of the last line of code executed in the cell can be displayed.\n",
    "Sometimes nothing will be displayed at all.\n",
    "\n",
    "For example, here are five lines of code. Write this out \n",
    "in your Jupyter Notebook. Notice that only the last line, `5`,\n",
    "is displayed on the screen."
   ]
  },
  {
   "cell_type": "code",
   "execution_count": 17,
   "metadata": {},
   "outputs": [
    {
     "data": {
      "text/plain": [
       "5"
      ]
     },
     "execution_count": 17,
     "metadata": {},
     "output_type": "execute_result"
    }
   ],
   "source": [
    "1\n",
    "2\n",
    "3\n",
    "4\n",
    "5"
   ]
  },
  {
   "cell_type": "markdown",
   "metadata": {},
   "source": [
    "In this next example though, nothing is displayed.\n",
    "Run this code to verify that is the case."
   ]
  },
  {
   "cell_type": "code",
   "execution_count": 18,
   "metadata": {},
   "outputs": [],
   "source": [
    "1\n",
    "2\n",
    "3\n",
    "4\n",
    "a=5"
   ]
  },
  {
   "cell_type": "markdown",
   "metadata": {},
   "source": [
    "Do not worry about why or why not something\n",
    "gets displayed by Jupyter at the moment.\n",
    "Just know that,\n",
    "\n",
    "1. Even if nothing is displayed, know that the code was still executed.\n",
    "2. If any output is displayed, it will only be output from the last line.\n",
    "\n",
    "You may be wondering how to **print** or display \n",
    "any results from within a Python program or code. \n",
    "Well it turns out you can do this with the `print()` function.\n",
    "It's very easy! Type the following in a cell. "
   ]
  },
  {
   "cell_type": "code",
   "execution_count": 19,
   "metadata": {},
   "outputs": [
    {
     "name": "stdout",
     "output_type": "stream",
     "text": [
      "1\n",
      "10\n",
      "2.0\n",
      "0.3333333333333333\n"
     ]
    }
   ],
   "source": [
    "print(1)\n",
    "print(5 + 5)\n",
    "print(10 / 5)\n",
    "print(1 / 3)"
   ]
  },
  {
   "cell_type": "markdown",
   "metadata": {},
   "source": [
    "Now type this code in a cell.\n",
    "Before executing the code, try and guess\n",
    "what the output will be."
   ]
  },
  {
   "cell_type": "code",
   "execution_count": 20,
   "metadata": {},
   "outputs": [
    {
     "name": "stdout",
     "output_type": "stream",
     "text": [
      "1\n",
      "2\n",
      "3\n"
     ]
    }
   ],
   "source": [
    "x = 1\n",
    "y = 2\n",
    "z = x + y\n",
    "\n",
    "print(x)\n",
    "print(y)\n",
    "print(z)"
   ]
  },
  {
   "cell_type": "markdown",
   "metadata": {},
   "source": [
    "In Python, you can print the result of some code\n",
    "by simply wrapping it within the `print()` function.\n",
    "We will learn more about functions later. \n",
    "You have to use the opening `(` and closing `)` brackets.\n",
    "If you do not, you will get an error like this for example.\n",
    "We will learn more about Python errors later."
   ]
  },
  {
   "cell_type": "code",
   "execution_count": 21,
   "metadata": {},
   "outputs": [
    {
     "ename": "SyntaxError",
     "evalue": "Missing parentheses in call to 'print'. Did you mean print(1)? (<ipython-input-21-c94594b6b28f>, line 1)",
     "output_type": "error",
     "traceback": [
      "\u001b[0;36m  File \u001b[0;32m\"<ipython-input-21-c94594b6b28f>\"\u001b[0;36m, line \u001b[0;32m1\u001b[0m\n\u001b[0;31m    print 1\u001b[0m\n\u001b[0m          ^\u001b[0m\n\u001b[0;31mSyntaxError\u001b[0m\u001b[0;31m:\u001b[0m Missing parentheses in call to 'print'. Did you mean print(1)?\n"
     ]
    }
   ],
   "source": [
    "print 1"
   ]
  },
  {
   "cell_type": "markdown",
   "metadata": {},
   "source": [
    "Spend some time printing some results on your own.\n",
    "Make up some simple math questions.\n",
    "Do them on paper and then check your work\n",
    "by printing the results using\n",
    "Python code in the Jupyter Notebook."
   ]
  }
 ],
 "metadata": {
  "kernelspec": {
   "display_name": "Python 3",
   "language": "python",
   "name": "python3"
  },
  "language_info": {
   "codemirror_mode": {
    "name": "ipython",
    "version": 3
   },
   "file_extension": ".py",
   "mimetype": "text/x-python",
   "name": "python",
   "nbconvert_exporter": "python",
   "pygments_lexer": "ipython3",
   "version": "3.9.0"
  }
 },
 "nbformat": 4,
 "nbformat_minor": 4
}