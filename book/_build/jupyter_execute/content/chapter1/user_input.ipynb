{
 "cells": [
  {
   "cell_type": "markdown",
   "metadata": {},
   "source": [
    "# Getting Input From a User\n",
    "\n",
    "In Python you can get input from a user with the `input()` function.\n",
    "Create a Jupyter Notebook called **user_input** and follow along\n",
    "to see how it works. Note that I can not use the `input()` function\n",
    "in this book and have it displayed properly. \n",
    "Therefore I will provide a screenshot when using that function.\n",
    "\n",
    "In a Jupter Notebook type the following code in a cell\n",
    "and then execute the cell.\n",
    "\n",
    "`name = input('Enter your name: ')`\n",
    "\n",
    "You will be presented with an input box where you\n",
    "can enter some text.\n",
    "![user_input](user_input.png) \n",
    "\n",
    "Type your name in the box.\n",
    "\n",
    "![user_input_with_name](user_input_with_name.png)\n",
    "\n",
    "Then hit **return** on the keyboard.\n",
    "What this does is reads in the input\n",
    "as a string (it always converts whatever you enter to a string). \n",
    "Here we store the results with the variable `name` in this\n",
    "case. You can than use `name` like any regular Python variable.\n",
    "Here we print the type and value of `name`.\n",
    "![user_input_print](user_input_print.png)\n",
    "\n",
    "Here is another example:\n",
    "![input_age](input_age.png)\n",
    "\n",
    "After typing your age and then hitting return:\n",
    "\n",
    "![input_age_print](input_age_print.png)\n",
    "\n",
    "Notice that you entered a number but the type of `age` is string.\n",
    "This is because the `input()` function converts whatever\n",
    "the user types to a string object. That's it for the `input()`\n",
    "function. It provides a simple way to collect input from a user\n",
    "which can be fun to play around with in simple programs\n",
    "while learning and practicing Python."
   ]
  },
  {
   "cell_type": "code",
   "execution_count": null,
   "metadata": {},
   "outputs": [],
   "source": []
  }
 ],
 "metadata": {
  "kernelspec": {
   "display_name": "Python 3",
   "language": "python",
   "name": "python3"
  },
  "language_info": {
   "codemirror_mode": {
    "name": "ipython",
    "version": 3
   },
   "file_extension": ".py",
   "mimetype": "text/x-python",
   "name": "python",
   "nbconvert_exporter": "python",
   "pygments_lexer": "ipython3",
   "version": "3.6.5"
  }
 },
 "nbformat": 4,
 "nbformat_minor": 4
}