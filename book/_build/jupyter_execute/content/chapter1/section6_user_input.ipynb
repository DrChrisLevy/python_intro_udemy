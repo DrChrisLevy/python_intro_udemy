{
 "cells": [
  {
   "cell_type": "markdown",
   "metadata": {},
   "source": [
    "# Getting Input From a User\n",
    "\n",
    "In Python you can get input from a user with the `input()` function.\n",
    "Create a Jupyter Notebook called **user_input** and follow along\n",
    "to see how it works. Note that I can not use the `input()` function\n",
    "in this book and have it displayed properly. \n",
    "Therefore I will provide a screenshot when using that function.\n",
    "\n",
    "In a Jupter Notebook type the following code in a cell\n",
    "and then execute the cell.\n",
    "\n",
    "`name = input('Enter your name: ')`\n",
    "\n",
    "You will be presented with an input box where you\n",
    "can enter some text.\n",
    "![user_input](user_input.png) \n",
    "\n",
    "Type your name in the box.\n",
    "\n",
    "![user_input_with_name](user_input_with_name.png)\n",
    "\n",
    "Then hit **return** on the keyboard.\n",
    "What this does is reads in the input\n",
    "as a string (it always converts whatever you enter to a string). \n",
    "Here we store the results with the variable `name` in this\n",
    "case. You can than use `name` like any regular Python variable.\n",
    "Here we print the type and value of `name`.\n",
    "![user_input_print](user_input_print.png)\n",
    "\n",
    "Here is another example:\n",
    "![input_age](input_age.png)\n",
    "\n",
    "After typing your age and then hitting return:\n",
    "\n",
    "![input_age_print](input_age_print.png)\n",
    "\n",
    "Notice that you entered a number but the type of `age` is string.\n",
    "This is because the `input()` function converts whatever\n",
    "the user types to a string object. That's it for the `input()`\n",
    "function. It provides a simple way to collect input from a user\n",
    "which can be fun to play around with in simple programs\n",
    "while learning and practicing Python."
   ]
  },
  {
   "cell_type": "markdown",
   "metadata": {},
   "source": [
    "## Converting Between Strings and Floats and Integers\n",
    "\n",
    "You can convert objects of some data types to other data types in Python.\n",
    "It's not always the case as we will see. Here we will show some examples\n",
    "of how to convert between strings, integers, and floats.\n",
    "\n",
    "First we will define the number 1 as a string."
   ]
  },
  {
   "cell_type": "code",
   "execution_count": 39,
   "metadata": {},
   "outputs": [
    {
     "name": "stdout",
     "output_type": "stream",
     "text": [
      "1\n",
      "<class 'str'>\n",
      "11\n"
     ]
    }
   ],
   "source": [
    "x_str = '1'\n",
    "print(x_str)\n",
    "print(type(x_str))\n",
    "print(x_str + x_str) # string concatenation. That's why we get 11 and not 2."
   ]
  },
  {
   "cell_type": "markdown",
   "metadata": {},
   "source": [
    "Since the string `x_str` is a number, we can convert it to\n",
    "an integer object by using the `int()` function."
   ]
  },
  {
   "cell_type": "code",
   "execution_count": 40,
   "metadata": {},
   "outputs": [
    {
     "name": "stdout",
     "output_type": "stream",
     "text": [
      "1\n",
      "<class 'int'>\n",
      "2\n"
     ]
    }
   ],
   "source": [
    "# to convert the variable x_str to an integer object\n",
    "x_int = int(x_str)\n",
    "print(x_int)\n",
    "print(type(x_int))\n",
    "print(x_int + x_int) # integer addition of 1 + 1 = 2"
   ]
  },
  {
   "cell_type": "code",
   "execution_count": 41,
   "metadata": {},
   "outputs": [
    {
     "name": "stdout",
     "output_type": "stream",
     "text": [
      "<class 'str'>\n"
     ]
    }
   ],
   "source": [
    "print(type(x_str))"
   ]
  },
  {
   "cell_type": "markdown",
   "metadata": {},
   "source": [
    "Note that the underlying object for the variable `x_str` will still be a string.\n",
    "It's just that we took that string object and converted it into\n",
    "a new integer object and assigned it to `x_int`. But this did not\n",
    "change the object type for `x_str` because it's still a string."
   ]
  },
  {
   "cell_type": "markdown",
   "metadata": {},
   "source": [
    "To convert an object to a float we can use the `float()` function."
   ]
  },
  {
   "cell_type": "code",
   "execution_count": 42,
   "metadata": {},
   "outputs": [
    {
     "name": "stdout",
     "output_type": "stream",
     "text": [
      "-2.0\n",
      "<class 'float'>\n",
      "4.0\n"
     ]
    }
   ],
   "source": [
    "y_int = -2\n",
    "y_float = float(y_int)\n",
    "print(y_float)\n",
    "print(type(y_float))\n",
    "print(y_float * y_float)"
   ]
  },
  {
   "cell_type": "code",
   "execution_count": 43,
   "metadata": {},
   "outputs": [
    {
     "name": "stdout",
     "output_type": "stream",
     "text": [
      "-2\n",
      "<class 'int'>\n"
     ]
    }
   ],
   "source": [
    "# convert float back to int\n",
    "print(int(y_float))\n",
    "print(type(int(y_float)))"
   ]
  },
  {
   "cell_type": "code",
   "execution_count": 44,
   "metadata": {},
   "outputs": [
    {
     "name": "stdout",
     "output_type": "stream",
     "text": [
      "<class 'float'>\n"
     ]
    }
   ],
   "source": [
    "# y_float is still a float though\n",
    "# because we did not change it\n",
    "print(type(y_float))"
   ]
  },
  {
   "cell_type": "markdown",
   "metadata": {},
   "source": [
    "When we convert a float to an integer,\n",
    "the `int()` function will take whatever number is\n",
    "left of the decimal to be the integer. That is,\n",
    "it always rounds down. `int(5.99)` would be the integer object\n",
    "`5`."
   ]
  },
  {
   "cell_type": "code",
   "execution_count": 45,
   "metadata": {},
   "outputs": [
    {
     "name": "stdout",
     "output_type": "stream",
     "text": [
      "3\n"
     ]
    }
   ],
   "source": [
    "pi = 3.14159\n",
    "# int wrapped around a float will \n",
    "# always round the float down to nearest integer.\n",
    "print(int(pi)) "
   ]
  },
  {
   "cell_type": "code",
   "execution_count": 46,
   "metadata": {},
   "outputs": [
    {
     "data": {
      "text/plain": [
       "'3.141593.14159'"
      ]
     },
     "execution_count": 46,
     "metadata": {},
     "output_type": "execute_result"
    }
   ],
   "source": [
    "str(pi) + str(pi) # string concatenation"
   ]
  },
  {
   "cell_type": "code",
   "execution_count": 47,
   "metadata": {},
   "outputs": [
    {
     "name": "stdout",
     "output_type": "stream",
     "text": [
      "3.14159\n"
     ]
    }
   ],
   "source": [
    "pi_str = str(pi)\n",
    "print(pi_str)"
   ]
  },
  {
   "cell_type": "code",
   "execution_count": 48,
   "metadata": {},
   "outputs": [
    {
     "data": {
      "text/plain": [
       "3.14159"
      ]
     },
     "execution_count": 48,
     "metadata": {},
     "output_type": "execute_result"
    }
   ],
   "source": [
    "float(pi_str)"
   ]
  },
  {
   "cell_type": "code",
   "execution_count": 49,
   "metadata": {},
   "outputs": [
    {
     "ename": "ValueError",
     "evalue": "invalid literal for int() with base 10: '3.14159'",
     "output_type": "error",
     "traceback": [
      "\u001b[0;31m---------------------------------------------------------------------------\u001b[0m",
      "\u001b[0;31mValueError\u001b[0m                                Traceback (most recent call last)",
      "\u001b[0;32m<ipython-input-49-0b80ce9aac36>\u001b[0m in \u001b[0;36m<module>\u001b[0;34m\u001b[0m\n\u001b[1;32m      2\u001b[0m \u001b[0;31m# int() function expects an integer string or a float,\u001b[0m\u001b[0;34m\u001b[0m\u001b[0;34m\u001b[0m\u001b[0m\n\u001b[1;32m      3\u001b[0m \u001b[0;31m# but not a float string.\u001b[0m\u001b[0;34m\u001b[0m\u001b[0;34m\u001b[0m\u001b[0m\n\u001b[0;32m----> 4\u001b[0;31m \u001b[0mint\u001b[0m\u001b[0;34m(\u001b[0m\u001b[0mpi_str\u001b[0m\u001b[0;34m)\u001b[0m\u001b[0;34m\u001b[0m\u001b[0m\n\u001b[0m",
      "\u001b[0;31mValueError\u001b[0m: invalid literal for int() with base 10: '3.14159'"
     ]
    }
   ],
   "source": [
    "# can't convert a string that is a decimal number to an integer.\n",
    "# int() function expects an integer string or a float, \n",
    "# but not a float string.\n",
    "int(pi_str) \n"
   ]
  },
  {
   "cell_type": "code",
   "execution_count": 50,
   "metadata": {},
   "outputs": [
    {
     "ename": "ValueError",
     "evalue": "invalid literal for int() with base 10: 'a'",
     "output_type": "error",
     "traceback": [
      "\u001b[0;31m---------------------------------------------------------------------------\u001b[0m",
      "\u001b[0;31mValueError\u001b[0m                                Traceback (most recent call last)",
      "\u001b[0;32m<ipython-input-50-cd545b3c6bb5>\u001b[0m in \u001b[0;36m<module>\u001b[0;34m\u001b[0m\n\u001b[0;32m----> 1\u001b[0;31m \u001b[0mint\u001b[0m\u001b[0;34m(\u001b[0m\u001b[0;34m'a'\u001b[0m\u001b[0;34m)\u001b[0m \u001b[0;31m# of course you can not convert an letter character to an integer\u001b[0m\u001b[0;34m\u001b[0m\u001b[0m\n\u001b[0m",
      "\u001b[0;31mValueError\u001b[0m: invalid literal for int() with base 10: 'a'"
     ]
    }
   ],
   "source": [
    "int('a') # of course you can not convert an letter character to an integer"
   ]
  },
  {
   "cell_type": "markdown",
   "metadata": {},
   "source": [
    "The above code cells are supposed to give\n",
    "you some ideas of how to use `str()`, `int()`, and `float()`\n",
    "functions to convert between string, integer, and float data types. \n",
    "If you are ever unsure, just try it out! That is the beauty of interactive Python.\n",
    "You can just type a simple example and see if it works.\n",
    "\n",
    "Here is one more example\n",
    "using the `input()` function. As mentioned earlier,\n",
    "we have to provide a screenshot because\n",
    "the `input()` function can not be displayed properly\n",
    "within this book.\n",
    "\n",
    "![input_number_100](input_number_100.png)"
   ]
  },
  {
   "cell_type": "code",
   "execution_count": 51,
   "metadata": {},
   "outputs": [
    {
     "name": "stdout",
     "output_type": "stream",
     "text": [
      "100\n",
      "<class 'str'>\n",
      "The number 100 plus 5.94 is 105.94\n"
     ]
    }
   ],
   "source": [
    "# if you got this from the input \n",
    "# you can remove this line directly below.\n",
    "number_str = '100' \n",
    "print(number_str)\n",
    "print(type(number_str))\n",
    "# convert to an integer so we can do integer add below.\n",
    "number_int = int(number_str) \n",
    "print(f'The number {number_int} plus 5.94 is {number_int + 5.94}')"
   ]
  }
 ],
 "metadata": {
  "kernelspec": {
   "display_name": "Python 3",
   "language": "python",
   "name": "python3"
  },
  "language_info": {
   "codemirror_mode": {
    "name": "ipython",
    "version": 3
   },
   "file_extension": ".py",
   "mimetype": "text/x-python",
   "name": "python",
   "nbconvert_exporter": "python",
   "pygments_lexer": "ipython3",
   "version": "3.6.5"
  }
 },
 "nbformat": 4,
 "nbformat_minor": 4
}