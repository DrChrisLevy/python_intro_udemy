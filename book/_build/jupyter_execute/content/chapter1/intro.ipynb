{
 "cells": [
  {
   "cell_type": "markdown",
   "metadata": {},
   "source": [
    "# Chapter 1: Intro To Python\n",
    "\n",
    "In this chapter you will be introduced to the Python \n",
    "programing language. Here are the main topics you will learn about:\n",
    "\n",
    "- interactive Python\n",
    "- Jupyter Notebooks\n",
    "- print\n",
    "- strings\n",
    "- variables\n",
    "- numerical data types (integers and floats)\n",
    "- string formating with f-strings \n",
    "- indexing and slicing strings\n",
    "- getting input from a user\n",
    "\n"
   ]
  },
  {
   "cell_type": "code",
   "execution_count": null,
   "metadata": {},
   "outputs": [],
   "source": []
  },
  {
   "cell_type": "markdown",
   "metadata": {},
   "source": [
    "\n",
    "```{toctree}\n",
    ":hidden:\n",
    ":titlesonly:\n",
    "\n",
    "\n",
    "interactive_python_and_print\n",
    "strings_concatenation\n",
    "variables_and_types\n",
    "numerical_data_types\n",
    "string_formatting_indexing_slicing\n",
    "user_input\n",
    "string_float_int_conversion\n",
    "practice_questions\n",
    "practice_questions_solutions\n",
    "```\n"
   ]
  }
 ],
 "metadata": {
  "kernelspec": {
   "display_name": "Python 3",
   "language": "python",
   "name": "python3"
  },
  "language_info": {
   "codemirror_mode": {
    "name": "ipython",
    "version": 3
   },
   "file_extension": ".py",
   "mimetype": "text/x-python",
   "name": "python",
   "nbconvert_exporter": "python",
   "pygments_lexer": "ipython3",
   "version": "3.6.5"
  }
 },
 "nbformat": 4,
 "nbformat_minor": 4
}