{
 "cells": [
  {
   "cell_type": "markdown",
   "metadata": {},
   "source": [
    "# Variables and Types\n",
    "\n",
    "Python variables make it possible to keep track of objects that are stored in memory\n",
    "throughout your Python program. \n",
    "You may be wondering what an \"object\" is. It turns out you have\n",
    "worked with **objects** already in this book and in your Jupyter Notebooks.\n",
    "Essentially, everything in Python is an object.\n",
    "\n",
    "Here is a string with my name and a number with my age.\n",
    "The string `'Chris'` and the number `35` are examples of\n",
    "objects in Python. \n",
    "\n",
    "Be sure to create a new Jupyter Notebook and call it **intro_to_variables**.\n",
    "You can follow along by typing these examples out in your own\n",
    "Jupyter Notebook and executing the code."
   ]
  },
  {
   "cell_type": "code",
   "execution_count": 1,
   "metadata": {},
   "outputs": [
    {
     "name": "stdout",
     "output_type": "stream",
     "text": [
      "Chris\n",
      "35\n"
     ]
    }
   ],
   "source": [
    "print('Chris')\n",
    "print(35)"
   ]
  },
  {
   "cell_type": "markdown",
   "metadata": {},
   "source": [
    "So what is actually happening behind the scenes in Python when those lines of code are executed?\n",
    "\n",
    "- For the line `print('Chris')`, Python will\n",
    "    - create a *string* object\n",
    "    - give it the value `'Chris'`\n",
    "    - print it to the screen\n",
    "\n",
    "- For the line `print(35)`, Python will\n",
    "    - create an *integer* object\n",
    "    - give it the value `35`\n",
    "    - print it to the screen\n",
    "\n",
    "But what if we want to use these objects again later in our program?\n",
    "At the moment we can not. These objects were created in the\n",
    "computers memory but they will just remain there forgotten.\n",
    "There is no way to retrieve them or get them back.\n",
    "\n",
    "This is where **variables** come in to play in programming.\n",
    "In Python you can create a variable using the equal sign `=`.\n",
    "Variables have **names** and are assigned to an object that is\n",
    "in memory. The Variable holds the value of a specific object in memory\n",
    "so we can keep track of the object and use it for other purposes.\n",
    "\n",
    "For example, here I create two variables named `my_name` and `my_age`."
   ]
  },
  {
   "cell_type": "code",
   "execution_count": 2,
   "metadata": {},
   "outputs": [],
   "source": [
    "my_name = 'Chris'\n",
    "my_age = 35"
   ]
  },
  {
   "cell_type": "code",
   "execution_count": 3,
   "metadata": {},
   "outputs": [
    {
     "data": {
      "text/plain": [
       "'Chris'"
      ]
     },
     "execution_count": 3,
     "metadata": {},
     "output_type": "execute_result"
    }
   ],
   "source": [
    "my_name"
   ]
  },
  {
   "cell_type": "code",
   "execution_count": 4,
   "metadata": {},
   "outputs": [
    {
     "data": {
      "text/plain": [
       "35"
      ]
     },
     "execution_count": 4,
     "metadata": {},
     "output_type": "execute_result"
    }
   ],
   "source": [
    "my_age"
   ]
  },
  {
   "cell_type": "code",
   "execution_count": 5,
   "metadata": {},
   "outputs": [
    {
     "name": "stdout",
     "output_type": "stream",
     "text": [
      "Chris\n",
      "35\n"
     ]
    }
   ],
   "source": [
    "print(my_name)\n",
    "print(my_age)"
   ]
  },
  {
   "cell_type": "markdown",
   "metadata": {},
   "source": [
    "When the line `my_name = 'Chris'` is executed, Python will \n",
    "- create a *string* object\n",
    "- give it the value `'Chris'`\n",
    "- the variable `my_name` is bound to that object. Programmers will refer to this \n",
    "  as \"The value of `my_name` is assigned `'Chris'`.\n",
    "  \n",
    "When the line `my_age = 35` is executed, Python will \n",
    "- create an *integer* object\n",
    "- give it the value `35`\n",
    "- the variable `my_age` is bound to that object. Programmers will refer to this \n",
    "  as \"The value of `my_age` is assigned `35`.\n",
    "\n",
    "![variable_pointers_in_memory_1](variable_pointers_in_memory_1.png)"
   ]
  },
  {
   "cell_type": "markdown",
   "metadata": {},
   "source": [
    "Variables have a *name*, a *type*, and a *value*. The value is the object in memory\n",
    "which the variable is bound to. The variable `my_name` has the name \"*my_name*\" and is of\n",
    "type *string*. It's value is `Chris`. You can always get the type of an object\n",
    "by using the `type()` function. Here `str` stands for type string and `int` stands\n",
    "for type `integer`."
   ]
  },
  {
   "cell_type": "code",
   "execution_count": 6,
   "metadata": {},
   "outputs": [
    {
     "data": {
      "text/plain": [
       "str"
      ]
     },
     "execution_count": 6,
     "metadata": {},
     "output_type": "execute_result"
    }
   ],
   "source": [
    "type(my_name)"
   ]
  },
  {
   "cell_type": "code",
   "execution_count": 7,
   "metadata": {},
   "outputs": [
    {
     "name": "stdout",
     "output_type": "stream",
     "text": [
      "<class 'str'>\n",
      "<class 'int'>\n"
     ]
    }
   ],
   "source": [
    "print(type(my_name))\n",
    "print(type(my_age))"
   ]
  },
  {
   "cell_type": "markdown",
   "metadata": {},
   "source": [
    "Let's create a new variable `x` and set it to the value of `my_age`."
   ]
  },
  {
   "cell_type": "code",
   "execution_count": 8,
   "metadata": {},
   "outputs": [
    {
     "name": "stdout",
     "output_type": "stream",
     "text": [
      "35\n"
     ]
    }
   ],
   "source": [
    "x = my_age\n",
    "print(x)"
   ]
  },
  {
   "cell_type": "markdown",
   "metadata": {},
   "source": [
    "When we created the variable `x` above, Python does not create a new integer object with the value `35` in memory.\n",
    "Instead, `x` is just another reference to the existing `35` that is already in memory.\n",
    "\n",
    "![variable_pointers_in_memory_2](variable_pointers_in_memory_2.png)\n",
    "\n",
    "In Python you can change the type and value of an existing variable.\n",
    "For example we can change `my_age` to a string."
   ]
  },
  {
   "cell_type": "code",
   "execution_count": 9,
   "metadata": {},
   "outputs": [],
   "source": [
    "my_age = '35 years'"
   ]
  },
  {
   "cell_type": "markdown",
   "metadata": {},
   "source": [
    "![variable_pointers_in_memory_3](variable_pointers_in_memory_3.png)"
   ]
  },
  {
   "cell_type": "code",
   "execution_count": 10,
   "metadata": {},
   "outputs": [
    {
     "name": "stdout",
     "output_type": "stream",
     "text": [
      "Chris\n",
      "35 years\n",
      "35\n"
     ]
    }
   ],
   "source": [
    "print(my_name)\n",
    "print(my_age)\n",
    "print(x)"
   ]
  },
  {
   "cell_type": "code",
   "execution_count": 11,
   "metadata": {},
   "outputs": [
    {
     "name": "stdout",
     "output_type": "stream",
     "text": [
      "<class 'str'>\n",
      "<class 'str'>\n",
      "<class 'int'>\n"
     ]
    }
   ],
   "source": [
    "print(type(my_name))\n",
    "print(type(my_age))\n",
    "print(type(x))"
   ]
  },
  {
   "cell_type": "markdown",
   "metadata": {},
   "source": [
    "Let's make one more final change and change the value of `x`. \n",
    "Now the object that has the value of `35` is not assigned to\n",
    "any variable. It is in memory but will be garbage collected\n",
    "because nothing is referencing it in the code."
   ]
  },
  {
   "cell_type": "code",
   "execution_count": 12,
   "metadata": {},
   "outputs": [
    {
     "name": "stdout",
     "output_type": "stream",
     "text": [
      "Chris\n",
      "35 years\n",
      "36\n"
     ]
    }
   ],
   "source": [
    "x = 36\n",
    "print(my_name)\n",
    "print(my_age)\n",
    "print(x)"
   ]
  },
  {
   "cell_type": "markdown",
   "metadata": {},
   "source": [
    "![variable_pointers_in_memory_4](variable_pointers_in_memory_4.png)"
   ]
  },
  {
   "cell_type": "markdown",
   "metadata": {},
   "source": [
    "Let's use variables now in some more examples. "
   ]
  },
  {
   "cell_type": "code",
   "execution_count": 13,
   "metadata": {},
   "outputs": [
    {
     "name": "stdout",
     "output_type": "stream",
     "text": [
      "5\n",
      "10\n",
      "15\n"
     ]
    }
   ],
   "source": [
    "a = 5\n",
    "b = 10\n",
    "c = a + b\n",
    "print(a)\n",
    "print(b)\n",
    "print(c)"
   ]
  },
  {
   "cell_type": "code",
   "execution_count": 14,
   "metadata": {},
   "outputs": [
    {
     "name": "stdout",
     "output_type": "stream",
     "text": [
      "hello\n",
      "world\n",
      "helloworld\n"
     ]
    }
   ],
   "source": [
    "a = 'hello'\n",
    "b = 'world'\n",
    "c = a + b\n",
    "print(a)\n",
    "print(b)\n",
    "print(c)"
   ]
  },
  {
   "cell_type": "code",
   "execution_count": 15,
   "metadata": {},
   "outputs": [
    {
     "name": "stdout",
     "output_type": "stream",
     "text": [
      "13\n"
     ]
    }
   ],
   "source": [
    "x = 2\n",
    "y = 3\n",
    "z = x * x + y * y\n",
    "print(z)"
   ]
  },
  {
   "cell_type": "code",
   "execution_count": 16,
   "metadata": {},
   "outputs": [
    {
     "name": "stdout",
     "output_type": "stream",
     "text": [
      "Hello! My name is Chris and I am 35 years old.\n"
     ]
    }
   ],
   "source": [
    "intro = \"Hello! My name is \"\n",
    "name = \"Chris \"\n",
    "ending = \"and I am \"\n",
    "age = \"35 years old.\"\n",
    "\n",
    "print(intro + name + ending + age)"
   ]
  },
  {
   "cell_type": "markdown",
   "metadata": {},
   "source": [
    "Remember, you can not add two objects together that are different types.\n",
    "Here we are concatenating strings which is okay but then we try to add\n",
    "the integer `35` to the string."
   ]
  },
  {
   "cell_type": "code",
   "execution_count": 17,
   "metadata": {},
   "outputs": [
    {
     "name": "stdout",
     "output_type": "stream",
     "text": [
      "<class 'str'>\n",
      "<class 'int'>\n"
     ]
    },
    {
     "ename": "TypeError",
     "evalue": "must be str, not int",
     "output_type": "error",
     "traceback": [
      "\u001b[0;31m---------------------------------------------------------------------------\u001b[0m",
      "\u001b[0;31mTypeError\u001b[0m                                 Traceback (most recent call last)",
      "\u001b[0;32m<ipython-input-17-2f4cf939edd8>\u001b[0m in \u001b[0;36m<module>\u001b[0;34m\u001b[0m\n\u001b[1;32m      3\u001b[0m \u001b[0mage\u001b[0m \u001b[0;34m=\u001b[0m \u001b[0;36m35\u001b[0m\u001b[0;34m\u001b[0m\u001b[0m\n\u001b[1;32m      4\u001b[0m \u001b[0mprint\u001b[0m\u001b[0;34m(\u001b[0m\u001b[0mtype\u001b[0m\u001b[0;34m(\u001b[0m\u001b[0mage\u001b[0m\u001b[0;34m)\u001b[0m\u001b[0;34m)\u001b[0m\u001b[0;34m\u001b[0m\u001b[0m\n\u001b[0;32m----> 5\u001b[0;31m \u001b[0mprint\u001b[0m\u001b[0;34m(\u001b[0m\u001b[0;34m'My name is '\u001b[0m \u001b[0;34m+\u001b[0m \u001b[0mname\u001b[0m \u001b[0;34m+\u001b[0m \u001b[0;34m' and I am '\u001b[0m \u001b[0;34m+\u001b[0m \u001b[0mage\u001b[0m \u001b[0;34m+\u001b[0m \u001b[0;34m'years old.'\u001b[0m\u001b[0;34m)\u001b[0m\u001b[0;34m\u001b[0m\u001b[0m\n\u001b[0m",
      "\u001b[0;31mTypeError\u001b[0m: must be str, not int"
     ]
    }
   ],
   "source": [
    "name = 'Chris'\n",
    "print(type(name))\n",
    "age = 35\n",
    "print(type(age))\n",
    "print('My name is ' + name + ' and I am ' + age + 'years old.')"
   ]
  },
  {
   "cell_type": "markdown",
   "metadata": {},
   "source": [
    "Take some time on your own to play around with variables\n",
    "and see what you can create. Even if it's simple that is okay.\n",
    "The best way to learn is by doing!"
   ]
  }
 ],
 "metadata": {
  "kernelspec": {
   "display_name": "Python 3",
   "language": "python",
   "name": "python3"
  },
  "language_info": {
   "codemirror_mode": {
    "name": "ipython",
    "version": 3
   },
   "file_extension": ".py",
   "mimetype": "text/x-python",
   "name": "python",
   "nbconvert_exporter": "python",
   "pygments_lexer": "ipython3",
   "version": "3.6.5"
  }
 },
 "nbformat": 4,
 "nbformat_minor": 4
}