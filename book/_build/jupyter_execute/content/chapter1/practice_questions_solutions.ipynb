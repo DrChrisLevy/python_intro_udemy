{
 "cells": [
  {
   "cell_type": "markdown",
   "metadata": {},
   "source": [
    "# Practice Questions (Solutions)\n",
    "\n",
    "**1.** \n",
    "\n",
    "Create a new Jupyter Notebook called **practice_questions** or something similar.\n",
    "Use this notebook to practice Python by going through the rest of these questions.\n",
    "Remember to save your Jupyter Notebook through out. You can use markdown\n",
    "cells to give answers to questions where coding is not required.\n",
    "You can use markdown cells in general to take additional notes and so on."
   ]
  },
  {
   "cell_type": "markdown",
   "metadata": {},
   "source": [
    "**2.** \n",
    "\n",
    "In your head, or on a piece of paper, workout the following math question. \n",
    "\n",
    "$$5 × 4 + 10 - \\frac{20 + 40}{2}$$\n",
    "\n",
    "Then use Python to get the same answer."
   ]
  },
  {
   "cell_type": "code",
   "execution_count": 1,
   "metadata": {},
   "outputs": [
    {
     "data": {
      "text/plain": [
       "0.0"
      ]
     },
     "execution_count": 1,
     "metadata": {},
     "output_type": "execute_result"
    }
   ],
   "source": [
    "5 * 4 + 10 - (20 + 40) / 2"
   ]
  },
  {
   "cell_type": "markdown",
   "metadata": {},
   "source": [
    "**3.** \n",
    "\n",
    "Print the string **She sells seashells by the seashore**. For some extra\n",
    "fun, try saying this out loud over and over again very quickly!\n"
   ]
  },
  {
   "cell_type": "code",
   "execution_count": 2,
   "metadata": {},
   "outputs": [
    {
     "name": "stdout",
     "output_type": "stream",
     "text": [
      "She sells seashells by the seashore\n"
     ]
    }
   ],
   "source": [
    "print('She sells seashells by the seashore')"
   ]
  },
  {
   "cell_type": "markdown",
   "metadata": {},
   "source": [
    "**4.**\n",
    "\n",
    "Print a multiline string. It can be any string at all with multiple lines."
   ]
  },
  {
   "cell_type": "code",
   "execution_count": 3,
   "metadata": {},
   "outputs": [
    {
     "name": "stdout",
     "output_type": "stream",
     "text": [
      "\n",
      "HI\n",
      "\n",
      "BYE\n",
      "\n"
     ]
    }
   ],
   "source": [
    "print(\"\"\"\n",
    "HI\n",
    "\n",
    "BYE\n",
    "\"\"\")"
   ]
  },
  {
   "cell_type": "markdown",
   "metadata": {},
   "source": [
    "**5.**  \n",
    "\n",
    "Why does this code raise an error: `'100' + 100`"
   ]
  },
  {
   "cell_type": "markdown",
   "metadata": {},
   "source": [
    "Because it is attempting to add a string and an integer which you can not do!"
   ]
  },
  {
   "cell_type": "markdown",
   "metadata": {},
   "source": [
    "**6.** \n",
    "\n",
    "Suppose you had these two variables defined:"
   ]
  },
  {
   "cell_type": "code",
   "execution_count": 4,
   "metadata": {},
   "outputs": [],
   "source": [
    "day_one = 'Monday'\n",
    "day_two = 'Tuesday'"
   ]
  },
  {
   "cell_type": "markdown",
   "metadata": {},
   "source": [
    "Use the variables `day_one` and `day_two`, along with **string concatenation** to print the string:\n",
    "**The Day after Monday is Tuesday**. Do not use *f-strings* but use string concatenation."
   ]
  },
  {
   "cell_type": "code",
   "execution_count": 5,
   "metadata": {},
   "outputs": [
    {
     "data": {
      "text/plain": [
       "'The Day after Monday is Tuesday'"
      ]
     },
     "execution_count": 5,
     "metadata": {},
     "output_type": "execute_result"
    }
   ],
   "source": [
    "\"The Day after \" + day_one + \" is \" + day_two"
   ]
  },
  {
   "cell_type": "markdown",
   "metadata": {},
   "source": [
    "**7.**  \n",
    "\n",
    "Repeat question 6 but using *f-strings* instead of string concatenation."
   ]
  },
  {
   "cell_type": "code",
   "execution_count": 6,
   "metadata": {},
   "outputs": [
    {
     "name": "stdout",
     "output_type": "stream",
     "text": [
      "The Day after Monday is Tuesday\n"
     ]
    }
   ],
   "source": [
    "print(f'The Day after {day_one} is {day_two}')"
   ]
  },
  {
   "cell_type": "markdown",
   "metadata": {},
   "source": [
    "**8.** \n",
    "\n",
    "If this code was executed, what would be the *value* and the *type* of \n",
    "the variable `x`? What would be the *value* and the *type* of \n",
    "the variable `y`? Do this question without writing any code first.\n",
    "Then type it out and execute it in Python to check your answer."
   ]
  },
  {
   "cell_type": "code",
   "execution_count": 7,
   "metadata": {},
   "outputs": [],
   "source": [
    "y = 10\n",
    "x = (y / y) - y\n",
    "y = x + (2 * x)"
   ]
  },
  {
   "cell_type": "code",
   "execution_count": 8,
   "metadata": {},
   "outputs": [
    {
     "name": "stdout",
     "output_type": "stream",
     "text": [
      "-9.0\n",
      "<class 'float'>\n",
      "-27.0\n",
      "<class 'float'>\n"
     ]
    }
   ],
   "source": [
    "print(x)\n",
    "print(type(x))\n",
    "print(y)\n",
    "print(type(y))"
   ]
  },
  {
   "cell_type": "markdown",
   "metadata": {},
   "source": [
    "**9.**  \n",
    "\n",
    "Write code that takes a number as input from a user and then adds 5 to it. Print the final result."
   ]
  },
  {
   "cell_type": "code",
   "execution_count": 9,
   "metadata": {},
   "outputs": [],
   "source": [
    "# just uncomment this code to see how it works.\n",
    "# the reason it is commented out is because\n",
    "# the input() will not work in this book\n",
    "# builder.\n",
    "\n",
    "# number = input('Please enter a number ')\n",
    "# print(int(number) + 5)"
   ]
  },
  {
   "cell_type": "markdown",
   "metadata": {},
   "source": [
    "**10.**\n",
    "\n",
    "Write code that takes three separate inputs from a user: \n",
    "    - favorite food\n",
    "    - favorite color\n",
    "    - favorite movie\n",
    "    \n",
    "Then get the code to print a string such as:\n",
    "**Your favorite food, color, and movie are ____, ____, and ____!**. \n",
    "Fill in the blanks\n",
    "with the users input that they entered."
   ]
  },
  {
   "cell_type": "code",
   "execution_count": 10,
   "metadata": {},
   "outputs": [],
   "source": [
    "# just uncomment this code to see how it works.\n",
    "# the reason it is commented out is because\n",
    "# the input() will not work in this book\n",
    "# builder.\n",
    "\n",
    "# food = input('What is your favorite food? ')\n",
    "# color = input('What is your favorite color? ')\n",
    "# movie = input('What is your favorite movie? ')\n",
    "# print(f'Your favorite food, color, and movie are {food}, {color}, and {movie}!')"
   ]
  },
  {
   "cell_type": "markdown",
   "metadata": {},
   "source": [
    "**11.** "
   ]
  },
  {
   "cell_type": "code",
   "execution_count": 11,
   "metadata": {},
   "outputs": [],
   "source": [
    "sentance = 'The sky is blue and the grass is green.'"
   ]
  },
  {
   "cell_type": "markdown",
   "metadata": {},
   "source": [
    "*a)* Use string slicing to extract the string from `sentance`, `'the grass is green'`\n",
    "\n",
    "*b)* Use string slicing to extract the string from `sentance`, `'The sky is blue'`\n",
    "\n",
    "*c)* Without coding, what is the type and value of `sentance[0]`?\n",
    "\n",
    "*d)* Without coding, what is the type and value of `sentance[-1]`?\n",
    "\n",
    "*e)* Without coding, what string does this work out to be: `sentance[-6:-2]`\n",
    "\n",
    "*f)* Without coding, what string does this work out to be: `sentance[-6:]`\n",
    "\n",
    "*g)* Without coding, what string does this work out to be: `sentance[4:15]`\n",
    "\n",
    "*h)* Without coding, what string does this work out to be: `sentance[4:15:2]`\n",
    "\n",
    "*i)* Use code and string slicing to reverse the string defined by `sentance`."
   ]
  },
  {
   "cell_type": "code",
   "execution_count": 12,
   "metadata": {},
   "outputs": [
    {
     "name": "stdout",
     "output_type": "stream",
     "text": [
      "The sky is blue and the grass is green.\n",
      "the grass is green\n",
      "The sky is blue\n",
      "The sky is blue\n",
      "T\n",
      "<class 'str'>\n",
      ".\n",
      "<class 'str'>\n",
      "gree\n",
      "green.\n",
      "sky is blue\n",
      "syi le\n",
      ".neerg si ssarg eht dna eulb si yks ehT\n"
     ]
    }
   ],
   "source": [
    "print(sentance)\n",
    "# a)\n",
    "print(sentance[20:38])\n",
    "\n",
    "# b)\n",
    "print(sentance[0:15])\n",
    "# or you could do\n",
    "print(sentance[:15])\n",
    "\n",
    "# c)\n",
    "print(sentance[0])\n",
    "print(type(sentance[0]))\n",
    "\n",
    "# d)\n",
    "print(sentance[-1])\n",
    "print(type(sentance[-1]))\n",
    "\n",
    "# e) \n",
    "print(sentance[-6:-2])\n",
    "\n",
    "# f) \n",
    "print(sentance[-6:])\n",
    "\n",
    "# g)\n",
    "print(sentance[4:15])\n",
    "\n",
    "# h)\n",
    "print(sentance[4:15:2])\n",
    "\n",
    "# i)\n",
    "print(sentance[::-1])"
   ]
  },
  {
   "cell_type": "markdown",
   "metadata": {},
   "source": [
    "**12.** "
   ]
  },
  {
   "cell_type": "code",
   "execution_count": 13,
   "metadata": {},
   "outputs": [],
   "source": [
    "a = 1\n",
    "b = -10\n",
    "c = -10 / 2\n",
    "d = 2.5 * 2"
   ]
  },
  {
   "cell_type": "markdown",
   "metadata": {},
   "source": [
    "Suppose the above code was executed.\n",
    "What would the *value* and *type* of `a`, `b`, `c`, and `d` be?\n",
    "Now check your answer by executing it in Python.\n",
    "\n",
    "Next, write code that would convert (but only if the conversion is needed)\n",
    "`a` to a string, `b` to a float, `c` to an `int`, and `d` to a float.\n",
    "If the conversion is not needed than simply say so."
   ]
  },
  {
   "cell_type": "code",
   "execution_count": 14,
   "metadata": {},
   "outputs": [
    {
     "name": "stdout",
     "output_type": "stream",
     "text": [
      "1\n",
      "<class 'int'>\n",
      "-10\n",
      "<class 'int'>\n",
      "-5.0\n",
      "<class 'float'>\n",
      "5.0\n",
      "<class 'float'>\n",
      "1\n",
      "-10.0\n",
      "-5\n"
     ]
    }
   ],
   "source": [
    "print(a)\n",
    "print(type(a))\n",
    "print(b)\n",
    "print(type(b))\n",
    "print(c)\n",
    "print(type(c))\n",
    "print(d)\n",
    "print(type(d))\n",
    "\n",
    "#a to a string\n",
    "print(str(a))\n",
    "#b to a float\n",
    "print(float(b))\n",
    "#c to an int\n",
    "print(int(c))\n",
    "#d to a float. Not needed because already a float."
   ]
  },
  {
   "cell_type": "markdown",
   "metadata": {},
   "source": [
    "**13.** \n",
    "\n",
    "Write code that gets three numbers from a user input and \n",
    "    stores the values in variables named `a`, `b`, and `c`.\n",
    "    Then print a string that displays the sum of $a + b + c$ as a floating point number.\n",
    "    For example, if they entered $a=1, b=2, c=3$ then the code will print $6.0$."
   ]
  },
  {
   "cell_type": "code",
   "execution_count": 15,
   "metadata": {},
   "outputs": [],
   "source": [
    "# just uncomment this code to see how it works.\n",
    "# the reason it is commented out is because\n",
    "# the input() will not work in this book\n",
    "# builder.\n",
    "\n",
    "# a = int(input())\n",
    "# b = int(input())\n",
    "# c = int(input())\n",
    "# print(float(a + b + c))"
   ]
  },
  {
   "cell_type": "markdown",
   "metadata": {},
   "source": [
    "**14.**\n",
    "\n",
    "Answer these questions without coding anything. These questions are supposed\n",
    "to test your understanding of integer, float, and string conversion\n",
    "as well as variable assignment. You can always check your answer after\n",
    "in the Jupyter Notebook.\n",
    "\n",
    "*a)*\n",
    "\n",
    "What is the *type* and *value* for both `a` and `b`?\n",
    "\n",
    "```\n",
    "a = 4.5\n",
    "b = int(a)\n",
    "```\n",
    "\n",
    "*b)*\n",
    "\n",
    "What is the *type* and *value* for `a`?\n",
    "```\n",
    "a = 5.43\n",
    "print(float(a))\n",
    "```\n",
    "\n",
    "*c)*\n",
    "\n",
    "What is the *type* and *value* for `b`?\n",
    "```\n",
    "a = '5.43'\n",
    "b = float(a)\n",
    "```\n",
    "\n",
    "*d)*\n",
    "\n",
    "What is the *type* and *value* of `a`?\n",
    "\n",
    "```\n",
    "a = str(float(int(-4.99)))\n",
    "```\n",
    "\n",
    "*e*)\n",
    "\n",
    "What is the *type* and *value* of `c`?\n",
    "```\n",
    "a = 12\n",
    "b = 0\n",
    "c = str(a) + str(b)\n",
    "```\n",
    "\n",
    "*f*)\n",
    "\n",
    "What is the *type* and *value* of `c`?\n",
    "\n",
    "```\n",
    "a = '12'\n",
    "b = '0'\n",
    "c = f'{int(a) + int(b)}'\n",
    "```"
   ]
  },
  {
   "cell_type": "code",
   "execution_count": 16,
   "metadata": {},
   "outputs": [
    {
     "name": "stdout",
     "output_type": "stream",
     "text": [
      "4.5\n",
      "<class 'float'>\n",
      "4\n",
      "<class 'int'>\n"
     ]
    }
   ],
   "source": [
    "# answer to a)\n",
    "a = 4.5\n",
    "b = int(a)\n",
    "# a is float 4.5 and b is integer 4\n",
    "print(a)\n",
    "print(type(a))\n",
    "print(b)\n",
    "print(type(b))"
   ]
  },
  {
   "cell_type": "code",
   "execution_count": 17,
   "metadata": {},
   "outputs": [
    {
     "name": "stdout",
     "output_type": "stream",
     "text": [
      "5.43\n",
      "5.43\n",
      "<class 'float'>\n"
     ]
    }
   ],
   "source": [
    "# answer to b)\n",
    "a = 5.43\n",
    "print(float(a))\n",
    "# a will be float 5.43\n",
    "print(a)\n",
    "print(type(a))"
   ]
  },
  {
   "cell_type": "code",
   "execution_count": 18,
   "metadata": {},
   "outputs": [
    {
     "name": "stdout",
     "output_type": "stream",
     "text": [
      "5.43\n",
      "<class 'str'>\n",
      "5.43\n",
      "<class 'float'>\n"
     ]
    }
   ],
   "source": [
    "# answer to c)\n",
    "a = '5.43'\n",
    "b = float(a)\n",
    "# a is a string '5.43' and b is float 5.43\n",
    "print(a)\n",
    "print(type(a))\n",
    "print(b)\n",
    "print(type(b))"
   ]
  },
  {
   "cell_type": "code",
   "execution_count": 19,
   "metadata": {},
   "outputs": [
    {
     "name": "stdout",
     "output_type": "stream",
     "text": [
      "-4.0\n",
      "<class 'str'>\n"
     ]
    }
   ],
   "source": [
    "# answer to d)\n",
    "a = str(float(int(-4.99)))\n",
    "# a is str '-4.0'\n",
    "print(a)\n",
    "print(type(a))"
   ]
  },
  {
   "cell_type": "code",
   "execution_count": 20,
   "metadata": {},
   "outputs": [
    {
     "name": "stdout",
     "output_type": "stream",
     "text": [
      "120\n",
      "<class 'str'>\n"
     ]
    }
   ],
   "source": [
    "# answer to e)\n",
    "a = 12\n",
    "b = 0\n",
    "c = str(a) + str(b)\n",
    "# c is str '120'\n",
    "print(c)\n",
    "print(type(c))"
   ]
  },
  {
   "cell_type": "code",
   "execution_count": 21,
   "metadata": {},
   "outputs": [
    {
     "name": "stdout",
     "output_type": "stream",
     "text": [
      "12\n",
      "<class 'str'>\n"
     ]
    }
   ],
   "source": [
    "# answer to f)\n",
    "a = '12'\n",
    "b = '0'\n",
    "c = f'{int(a) + int(b)}'\n",
    "# c is str '12'\n",
    "print(c)\n",
    "print(type(c))"
   ]
  }
 ],
 "metadata": {
  "kernelspec": {
   "display_name": "Python 3",
   "language": "python",
   "name": "python3"
  },
  "language_info": {
   "codemirror_mode": {
    "name": "ipython",
    "version": 3
   },
   "file_extension": ".py",
   "mimetype": "text/x-python",
   "name": "python",
   "nbconvert_exporter": "python",
   "pygments_lexer": "ipython3",
   "version": "3.9.0"
  },
  "pycharm": {
   "stem_cell": {
    "cell_type": "raw",
    "metadata": {
     "collapsed": false
    },
    "source": []
   }
  }
 },
 "nbformat": 4,
 "nbformat_minor": 4
}