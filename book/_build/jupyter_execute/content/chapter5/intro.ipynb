{
 "cells": [
  {
   "cell_type": "markdown",
   "metadata": {},
   "source": [
    "# Chapter 5: Virtual Environments, Packages, Pycharm IDE\n",
    "\n",
    "When you start working on actual projects there are some really important\n",
    "tools you are going to need. In this chapter we are going to introduce you to\n",
    "some of those tools. For some of these tools there are various options and choices.\n",
    "As you progress in your learning you can certainly look into these various options. This chapter\n",
    "will be more of a high level introduction to get you started and point you \n",
    "in the right direction. We will provide some specific tools to accomplish the goals of this course. We can not possibly cover every single tool because it would be overwhelming and not very useful. In some cases I will provide external links to tools that you can look into on your own.  \n",
    "\n",
    "Some of the things we will cover in this chapter are:\n",
    "\n",
    "- importing libraries in your Python code with import statements\n",
    "- creating virtual environments for projects\n",
    "- installing packages/libraries into those projects with pip\n",
    "- creating your own modules for importing\n",
    "- Setting up an integrated development environment (IDE) with the use of the popular IDE, Pycharm\n",
    "\n"
   ]
  },
  {
   "cell_type": "code",
   "execution_count": null,
   "metadata": {},
   "outputs": [],
   "source": []
  },
  {
   "cell_type": "markdown",
   "metadata": {},
   "source": [
    "\n",
    "```{toctree}\n",
    ":hidden:\n",
    ":titlesonly:\n",
    "\n",
    "\n",
    "intro_to_imports\n",
    "intro_virtual_envs\n",
    "pycharm_ide\n",
    "using_image_udemy\n",
    "practice_questions\n",
    "```\n"
   ]
  }
 ],
 "metadata": {
  "kernelspec": {
   "display_name": "Python 3",
   "language": "python",
   "name": "python3"
  },
  "language_info": {
   "codemirror_mode": {
    "name": "ipython",
    "version": 3
   },
   "file_extension": ".py",
   "mimetype": "text/x-python",
   "name": "python",
   "nbconvert_exporter": "python",
   "pygments_lexer": "ipython3",
   "version": "3.6.5"
  }
 },
 "nbformat": 4,
 "nbformat_minor": 4
}