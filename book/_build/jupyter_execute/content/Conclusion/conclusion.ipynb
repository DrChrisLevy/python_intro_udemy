{
 "cells": [
  {
   "cell_type": "markdown",
   "metadata": {},
   "source": [
    "# Conclusion and Next Steps\n",
    "\n",
    "Thanks for hanging in there until the end and participating in my [Udemy](https://www.udemy.com/course/learn-to-code-with-an-introduction-to-python-3/?referralCode=42FB26846F76E2E41EF8) course. I'm sure you still have lots of questions about\n",
    "Python and are eager to learn more. What steps you take next mostly depends on what you\n",
    "are interested in. \n",
    "\n",
    "Begin by searching the web for things that you are interested in and how Python can be used in that field or area. In particular, look for popular Python libraries that are used to work in those particular areas you are interested in.\n",
    "\n",
    "From my own personal experience and interests, here are some ideas/tools/resources you may also find useful. I use these often on a daily basis.\n",
    "\n",
    "- [The Hitchhiker’s Guide to Python](https://docs.python-guide.org/#) has lots of useful information on best practices when it comes to coding in Python.\n",
    "\n",
    "- If you are interested in building backend web services you will want to check out [Flask](https://flask.palletsprojects.com/)\n",
    "\n",
    "- If you are interested in data science or machine learning I highly recommend, from personal experience, the following libraries: \n",
    "    - [Tensorflow](https://www.tensorflow.org/)\n",
    "    - [Numpy](https://numpy.org/)\n",
    "    - [Pandas](https://pandas.pydata.org/)\n",
    "    - [scikit-learn](https://scikit-learn.org/stable/)\n",
    "    \n",
    "- I'm a fan of using auto code formatters and [black](https://black.readthedocs.io/en/stable/) is great for doing that.\n",
    "\n",
    "- [Google Colab](https://colab.research.google.com/notebooks/intro.ipynb) is basically Jupyter Notebook in the browser and all you need is Google Account. It's free and even has GPU access for training Machine learning models. You can simply save the notebooks in Google Drive.\n",
    "\n",
    "- [Poetry](https://python-poetry.org/) is great for creating environments, managing dependencies, and publishing packages to pipy.\n",
    "\n",
    "- [Docker](https://www.docker.com/) is something you may or may not want to look into as you progress.\n",
    "\n",
    "\n",
    " \n",
    "\n"
   ]
  },
  {
   "cell_type": "code",
   "execution_count": null,
   "metadata": {},
   "outputs": [],
   "source": []
  }
 ],
 "metadata": {
  "kernelspec": {
   "display_name": "Python 3",
   "language": "python",
   "name": "python3"
  },
  "language_info": {
   "codemirror_mode": {
    "name": "ipython",
    "version": 3
   },
   "file_extension": ".py",
   "mimetype": "text/x-python",
   "name": "python",
   "nbconvert_exporter": "python",
   "pygments_lexer": "ipython3",
   "version": "3.6.5"
  }
 },
 "nbformat": 4,
 "nbformat_minor": 4
}