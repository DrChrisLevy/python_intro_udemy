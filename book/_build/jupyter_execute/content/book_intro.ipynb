{
 "cells": [
  {
   "cell_type": "markdown",
   "metadata": {},
   "source": [
    "# Book Introduction\n",
    "\n",
    "Welcome to this course on an intro to coding in Python.\n",
    "This online resource is meant to go along with my [Udemy course](https://www.udemy.com/course/learn-to-code-with-an-introduction-to-python-3/?referralCode=42FB26846F76E2E41EF8). There you will find a ton of video content of me teaching the same material from this online book, often with more detail. This online book is not meant to be a single resource to learn Python. It's just a tool to get you started. Once you learn the basics then you should start working on small projects and continue to learn on your own. \n",
    "\n",
    "If you are curious to what material is covered in this book, then click on any of the introductions for the different chapters. In those chapter introductions I give a short overview of what is covered in the chapter."
   ]
  },
  {
   "cell_type": "code",
   "execution_count": null,
   "metadata": {},
   "outputs": [],
   "source": []
  },
  {
   "cell_type": "markdown",
   "metadata": {},
   "source": [
    "\n",
    "```{toctree}\n",
    ":hidden:\n",
    ":titlesonly:\n",
    "\n",
    "\n",
    "chapter1/intro\n",
    "chapter2/intro\n",
    "chapter3/intro\n",
    "chapter4/intro\n",
    "chapter5/intro\n",
    "chapter6/intro\n",
    "```\n"
   ]
  }
 ],
 "metadata": {
  "kernelspec": {
   "display_name": "Python 3",
   "language": "python",
   "name": "python3"
  },
  "language_info": {
   "codemirror_mode": {
    "name": "ipython",
    "version": 3
   },
   "file_extension": ".py",
   "mimetype": "text/x-python",
   "name": "python",
   "nbconvert_exporter": "python",
   "pygments_lexer": "ipython3",
   "version": "3.6.5"
  }
 },
 "nbformat": 4,
 "nbformat_minor": 4
}