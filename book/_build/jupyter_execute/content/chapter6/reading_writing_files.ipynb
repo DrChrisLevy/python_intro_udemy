{
 "cells": [
  {
   "cell_type": "markdown",
   "metadata": {},
   "source": [
    "# A Quick Intro to Reading and Writing Files\n",
    "\n",
    "In this section we will briefly give an intro with a few examples\n",
    "of reading and writing data from and to files. If you want to learn more, then search reading and writing files on Google. There is a lot more we will not cover here."
   ]
  },
  {
   "cell_type": "markdown",
   "metadata": {},
   "source": [
    "## Writing to an Existing File\n",
    "\n",
    "To write to an existing file, you must add a parameter to the `open()` function:\n",
    "\n",
    "- \"a\" stands for **Append** and will append to the end of the file.\n",
    "\n",
    "- \"w\" stand for **Write**  and will overwrite any existing content.\n",
    "\n",
    "With either of these methods, if the file does not exist it will be created."
   ]
  },
  {
   "cell_type": "code",
   "execution_count": 1,
   "metadata": {},
   "outputs": [],
   "source": [
    "f = open('my_names.txt', 'w')\n",
    "f.write('Chris Penny Hazel Joanna Isaac')\n",
    "f.close()"
   ]
  },
  {
   "cell_type": "markdown",
   "metadata": {},
   "source": [
    "Always remember to `close` the file after opening with `close()` method.\n",
    "You can now open the `my_names.txt` file on your local computer with any simple text editor. The file will be located in the same directory from which you are running your Jupyter Notebook. The contents of the file look like this:\n",
    "\n",
    "![file1](file1.png)\n",
    "\n",
    "As mentioned above, the write `w` option will overwrite existing content. Now that the file already exists, because we ran the above code, if we use the `w` option the contents of the file will be overwritten."
   ]
  },
  {
   "cell_type": "code",
   "execution_count": 2,
   "metadata": {},
   "outputs": [],
   "source": [
    "f = open('my_names.txt', 'w')\n",
    "f.write('This will overwrite the files contents!')\n",
    "f.close()"
   ]
  },
  {
   "cell_type": "markdown",
   "metadata": {},
   "source": [
    "Now the contents of the txt file look like this:\n",
    "\n",
    "![file2](file2.png)\n",
    "\n",
    "Let's put the names back in the text file."
   ]
  },
  {
   "cell_type": "code",
   "execution_count": 3,
   "metadata": {},
   "outputs": [],
   "source": [
    "f = open('my_names.txt', 'w')\n",
    "f.write('Chris Penny Hazel Joanna Isaac')\n",
    "f.close()"
   ]
  },
  {
   "cell_type": "markdown",
   "metadata": {},
   "source": [
    "![file1](file1.png)\n",
    "\n",
    "If you want to append to the file use the `a` option in the `open()` function."
   ]
  },
  {
   "cell_type": "code",
   "execution_count": 4,
   "metadata": {},
   "outputs": [],
   "source": [
    "f = open('my_names.txt', 'a')\n",
    "f.write('Larry Karen Andrea Aaron Peter')\n",
    "f.close()"
   ]
  },
  {
   "cell_type": "markdown",
   "metadata": {},
   "source": [
    "![file3](file3.png)\n",
    "\n",
    "We did not put a space after \"Isaac\" or before \"Larry\"\n",
    "so that is why they appear as \"IsaacLarry\" in the text file.\n",
    "\n",
    "If you want to add each name on a separate line you can add\n",
    "the newline character, `\\n` after each name. We will use the\n",
    "`w` option to overwrite the existing file to create a fresh new one."
   ]
  },
  {
   "cell_type": "code",
   "execution_count": 5,
   "metadata": {},
   "outputs": [],
   "source": [
    "f = open('my_names.txt', 'w')\n",
    "f.write('Chris\\nPenny\\nHazel\\nJoanna\\nIsaac')\n",
    "f.close()"
   ]
  },
  {
   "cell_type": "markdown",
   "metadata": {},
   "source": [
    "![file4](file4.png)\n",
    "\n",
    "Or you could add the names to the text file in a loop like this:"
   ]
  },
  {
   "cell_type": "code",
   "execution_count": 6,
   "metadata": {},
   "outputs": [],
   "source": [
    "names = ['Chris', 'Penny', 'Hazel', 'Joanna', 'Isaac', 'Larry', 'Karen', 'Andrea', 'Aaron', 'Peter']\n",
    "f = open('my_names.txt', 'w')\n",
    "for name in names:\n",
    "    f.write(f'{name}\\n')\n",
    "f.close()"
   ]
  },
  {
   "cell_type": "markdown",
   "metadata": {},
   "source": [
    "![file5](file5.png)"
   ]
  },
  {
   "cell_type": "markdown",
   "metadata": {},
   "source": [
    "Notice in the above examples we first had to call `open()` and then `close()` to first open\n",
    "and then close the file. It is better practice to use a **context manager** so that\n",
    "you do not forget to close your files. The most used example of context managers is the `with` statement. \n",
    "It's good practice to use it when reading and writing files. It will automatically close\n",
    "the file for you. The previous examples can be rewritten using `with` like this:"
   ]
  },
  {
   "cell_type": "code",
   "execution_count": 7,
   "metadata": {},
   "outputs": [],
   "source": [
    "with open('my_names.txt', 'w') as f:\n",
    "    f.write('Chris Penny Hazel Joanna Isaac')"
   ]
  },
  {
   "cell_type": "code",
   "execution_count": 8,
   "metadata": {},
   "outputs": [],
   "source": [
    "with open('my_names.txt', 'w') as f:\n",
    "    f.write('This will overwrite the files contents!')"
   ]
  },
  {
   "cell_type": "code",
   "execution_count": 9,
   "metadata": {},
   "outputs": [],
   "source": [
    "names = ['Chris', 'Penny', 'Hazel', 'Joanna', 'Isaac', 'Larry', 'Karen', 'Andrea', 'Aaron', 'Peter']\n",
    "with open('my_names.txt', 'w') as f:\n",
    "    for name in names:\n",
    "        f.write(f'{name}\\n')"
   ]
  },
  {
   "cell_type": "markdown",
   "metadata": {},
   "source": [
    "Notice that we did not need to call `f.close()` above. \n",
    "\n",
    "Here is a final example. \n",
    "Also note that the name `f` is just an alias. Here we use `file` instead of `f`."
   ]
  },
  {
   "cell_type": "code",
   "execution_count": 10,
   "metadata": {},
   "outputs": [],
   "source": [
    "with open('multiplication.txt', 'w') as file:\n",
    "    for i in range(1, 4):\n",
    "        for j in range(1, 4):\n",
    "            file.write(f'{i} X {j} = {i * j}\\n')"
   ]
  },
  {
   "cell_type": "markdown",
   "metadata": {},
   "source": [
    "![file6](file6.png)"
   ]
  },
  {
   "cell_type": "markdown",
   "metadata": {},
   "source": [
    "## Reading an Existing File\n",
    "\n",
    "First run this code to get the file created and set up."
   ]
  },
  {
   "cell_type": "code",
   "execution_count": 11,
   "metadata": {},
   "outputs": [],
   "source": [
    "names = ['Chris', 'Penny', 'Hazel', 'Joanna', 'Isaac', 'Larry', 'Karen', 'Andrea', 'Aaron', 'Peter']\n",
    "with open('my_names.txt', 'w') as f:\n",
    "    for name in names:\n",
    "        f.write(f'{name}\\n')"
   ]
  },
  {
   "cell_type": "markdown",
   "metadata": {},
   "source": [
    "![file5](file5.png)\n",
    "\n",
    "Now the contents of `my_names.txt` should look like the above screen shot. If not, then you can run\n",
    "the code block above with the for loop. To read the file you can do the following:"
   ]
  },
  {
   "cell_type": "code",
   "execution_count": 12,
   "metadata": {},
   "outputs": [
    {
     "name": "stdout",
     "output_type": "stream",
     "text": [
      "Chris\n",
      "Penny\n",
      "Hazel\n",
      "Joanna\n",
      "Isaac\n",
      "Larry\n",
      "Karen\n",
      "Andrea\n",
      "Aaron\n",
      "Peter\n",
      "\n"
     ]
    }
   ],
   "source": [
    "with open(\"my_names.txt\", \"r\") as f: # r for READ\n",
    "    file_contents = f.read()\n",
    "print(file_contents)"
   ]
  },
  {
   "cell_type": "markdown",
   "metadata": {},
   "source": [
    "Notice that `file_contents` is just a single string."
   ]
  },
  {
   "cell_type": "code",
   "execution_count": 13,
   "metadata": {},
   "outputs": [
    {
     "data": {
      "text/plain": [
       "'Chris\\nPenny\\nHazel\\nJoanna\\nIsaac\\nLarry\\nKaren\\nAndrea\\nAaron\\nPeter\\n'"
      ]
     },
     "execution_count": 13,
     "metadata": {},
     "output_type": "execute_result"
    }
   ],
   "source": [
    "file_contents"
   ]
  },
  {
   "cell_type": "markdown",
   "metadata": {},
   "source": [
    "Instead of reading the entire file contents into a single string, which\n",
    "may not be very useful, we can read the lines of the file line by line.\n",
    "Using `readline()` is one way to do this."
   ]
  },
  {
   "cell_type": "code",
   "execution_count": 14,
   "metadata": {},
   "outputs": [
    {
     "name": "stdout",
     "output_type": "stream",
     "text": [
      "Chris\n",
      "\n",
      "Penny\n",
      "\n",
      "Hazel\n",
      "\n",
      "Joanna\n",
      "\n",
      "Isaac\n",
      "\n"
     ]
    }
   ],
   "source": [
    "with open(\"my_names.txt\", \"r\") as f: # r for READ\n",
    "    print(f.readline())\n",
    "    print(f.readline())\n",
    "    print(f.readline())\n",
    "    print(f.readline())\n",
    "    print(f.readline())"
   ]
  },
  {
   "cell_type": "markdown",
   "metadata": {},
   "source": [
    "Or you can use a `for` loop to iterate over the file."
   ]
  },
  {
   "cell_type": "code",
   "execution_count": 15,
   "metadata": {},
   "outputs": [
    {
     "name": "stdout",
     "output_type": "stream",
     "text": [
      "Chris\n",
      "\n",
      "Penny\n",
      "\n",
      "Hazel\n",
      "\n",
      "Joanna\n",
      "\n",
      "Isaac\n",
      "\n",
      "Larry\n",
      "\n",
      "Karen\n",
      "\n",
      "Andrea\n",
      "\n",
      "Aaron\n",
      "\n",
      "Peter\n",
      "\n"
     ]
    }
   ],
   "source": [
    "with open(\"my_names.txt\", \"r\") as file:\n",
    "    for line in file:\n",
    "        print(line)"
   ]
  },
  {
   "cell_type": "code",
   "execution_count": 16,
   "metadata": {},
   "outputs": [],
   "source": [
    "lines = []\n",
    "with open(\"my_names.txt\", \"r\") as file:\n",
    "    for line in file:\n",
    "        lines.append(line)"
   ]
  },
  {
   "cell_type": "code",
   "execution_count": 17,
   "metadata": {},
   "outputs": [
    {
     "data": {
      "text/plain": [
       "['Chris\\n',\n",
       " 'Penny\\n',\n",
       " 'Hazel\\n',\n",
       " 'Joanna\\n',\n",
       " 'Isaac\\n',\n",
       " 'Larry\\n',\n",
       " 'Karen\\n',\n",
       " 'Andrea\\n',\n",
       " 'Aaron\\n',\n",
       " 'Peter\\n']"
      ]
     },
     "execution_count": 17,
     "metadata": {},
     "output_type": "execute_result"
    }
   ],
   "source": [
    "lines"
   ]
  },
  {
   "cell_type": "markdown",
   "metadata": {},
   "source": [
    "You can achieve the same behavior with `readlines()`."
   ]
  },
  {
   "cell_type": "code",
   "execution_count": 18,
   "metadata": {},
   "outputs": [],
   "source": [
    "with open(\"my_names.txt\", \"r\") as file:\n",
    "    lines = file.readlines()"
   ]
  },
  {
   "cell_type": "code",
   "execution_count": 19,
   "metadata": {},
   "outputs": [
    {
     "data": {
      "text/plain": [
       "['Chris\\n',\n",
       " 'Penny\\n',\n",
       " 'Hazel\\n',\n",
       " 'Joanna\\n',\n",
       " 'Isaac\\n',\n",
       " 'Larry\\n',\n",
       " 'Karen\\n',\n",
       " 'Andrea\\n',\n",
       " 'Aaron\\n',\n",
       " 'Peter\\n']"
      ]
     },
     "execution_count": 19,
     "metadata": {},
     "output_type": "execute_result"
    }
   ],
   "source": [
    "lines"
   ]
  },
  {
   "cell_type": "markdown",
   "metadata": {},
   "source": [
    "There are different ways to get rid of the `\\n` in each line when reading. For example:"
   ]
  },
  {
   "cell_type": "code",
   "execution_count": 20,
   "metadata": {},
   "outputs": [],
   "source": [
    "with open(\"my_names.txt\", \"r\") as file:\n",
    "    lines = [line.rstrip() for line in file.readlines()] # strip of the \\n character at end of each string"
   ]
  },
  {
   "cell_type": "code",
   "execution_count": 21,
   "metadata": {},
   "outputs": [
    {
     "data": {
      "text/plain": [
       "['Chris',\n",
       " 'Penny',\n",
       " 'Hazel',\n",
       " 'Joanna',\n",
       " 'Isaac',\n",
       " 'Larry',\n",
       " 'Karen',\n",
       " 'Andrea',\n",
       " 'Aaron',\n",
       " 'Peter']"
      ]
     },
     "execution_count": 21,
     "metadata": {},
     "output_type": "execute_result"
    }
   ],
   "source": [
    "lines"
   ]
  },
  {
   "cell_type": "markdown",
   "metadata": {},
   "source": [
    "There is more that could be said about writing and reading files in Python and working\n",
    "with different file formats. But this section was meant as a brief introduction\n",
    "to spark your interest. You can spend your own time learning more about it by reading\n",
    "resources online."
   ]
  }
 ],
 "metadata": {
  "kernelspec": {
   "display_name": "Python 3",
   "language": "python",
   "name": "python3"
  },
  "language_info": {
   "codemirror_mode": {
    "name": "ipython",
    "version": 3
   },
   "file_extension": ".py",
   "mimetype": "text/x-python",
   "name": "python",
   "nbconvert_exporter": "python",
   "pygments_lexer": "ipython3",
   "version": "3.6.5"
  }
 },
 "nbformat": 4,
 "nbformat_minor": 4
}