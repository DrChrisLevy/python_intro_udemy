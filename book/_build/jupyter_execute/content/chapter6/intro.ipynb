{
 "cells": [
  {
   "cell_type": "markdown",
   "metadata": {},
   "source": [
    "# Chapter 6: Truthy and Falsy Values, `None` Value, Exception Handling, Reading and Writing Files\n",
    "\n",
    "In this chapter we will cover several different topics.\n",
    "\n",
    "- Truthy and Falsy values\n",
    "- The `None` value\n",
    "- About different Python errors and how to do exception handling with `try` and `Except`\n",
    "- How to read data from a file and write data back to a file"
   ]
  },
  {
   "cell_type": "code",
   "execution_count": null,
   "metadata": {},
   "outputs": [],
   "source": []
  },
  {
   "cell_type": "markdown",
   "metadata": {},
   "source": [
    "\n",
    "```{toctree}\n",
    ":hidden:\n",
    ":titlesonly:\n",
    "\n",
    "\n",
    "truthy_falsy_values\n",
    "none_value_type\n",
    "error_handling\n",
    "reading_writing_files\n",
    "```\n"
   ]
  }
 ],
 "metadata": {
  "kernelspec": {
   "display_name": "Python 3",
   "language": "python",
   "name": "python3"
  },
  "language_info": {
   "codemirror_mode": {
    "name": "ipython",
    "version": 3
   },
   "file_extension": ".py",
   "mimetype": "text/x-python",
   "name": "python",
   "nbconvert_exporter": "python",
   "pygments_lexer": "ipython3",
   "version": "3.6.5"
  }
 },
 "nbformat": 4,
 "nbformat_minor": 4
}