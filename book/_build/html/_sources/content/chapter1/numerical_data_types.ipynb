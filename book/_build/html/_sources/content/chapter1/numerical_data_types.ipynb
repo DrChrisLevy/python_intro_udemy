{
 "cells": [
  {
   "cell_type": "markdown",
   "metadata": {},
   "source": [
    "# Numerical Data Types\n",
    "\n",
    "There are different data types in Python. We have already seen \n",
    "objects of type string and integer for example. In this section\n",
    "we are going to focus on data types that are numeric. Numeric\n",
    "data types are for objects that are numbers. The *integer* type\n",
    "is an example of a numeric data type.\n",
    "\n",
    "There are three distinct numeric types in Python: **integers**, **floating point numbers**, \n",
    "and **complex numbers**. Integer type and floating point type\n",
    "are by far the most common type for numbers and that will be\n",
    "our main focus here. Complex numbers are not used much in Python programming and \n",
    "you can Google it if you are interested.\n",
    "\n",
    "Create a Jupyter Notebook called **numerical_data_types**\n",
    "and follow along!\n",
    "\n",
    "## Integer Type\n",
    "\n",
    "Integers are like whole numbers, but they also include negative numbers.\n",
    "They do not include fractions or decimals. Here are examples of integer values,\n",
    "\n",
    "$$...,-6,-5,-4-3,-2,-1,0,1,2,3,4,5,6,...$$\n",
    "\n",
    "They go on forever in both directions (negative infinity to positive infinity)."
   ]
  },
  {
   "cell_type": "code",
   "execution_count": 1,
   "metadata": {},
   "outputs": [
    {
     "name": "stdout",
     "output_type": "stream",
     "text": [
      "10\n",
      "<class 'int'>\n",
      "5\n",
      "<class 'int'>\n",
      "30\n",
      "<class 'int'>\n"
     ]
    }
   ],
   "source": [
    "x = 10\n",
    "print(x)\n",
    "print(type(x))\n",
    "y = x - 5\n",
    "print(y)\n",
    "print(type(y))\n",
    "y = y * y + y\n",
    "print(y)\n",
    "print(type(y))"
   ]
  },
  {
   "cell_type": "markdown",
   "metadata": {},
   "source": [
    "The `'int'` in `<class 'int'>` stands for integer."
   ]
  },
  {
   "cell_type": "markdown",
   "metadata": {},
   "source": [
    "Here is another example of working with integer types."
   ]
  },
  {
   "cell_type": "code",
   "execution_count": 2,
   "metadata": {},
   "outputs": [
    {
     "name": "stdout",
     "output_type": "stream",
     "text": [
      "<class 'int'>\n",
      "<class 'int'>\n",
      "-2\n"
     ]
    }
   ],
   "source": [
    "starting_temperature = 5\n",
    "ending_temperature = starting_temperature - 7\n",
    "print(type(starting_temperature))\n",
    "print(type(ending_temperature))\n",
    "print(ending_temperature)"
   ]
  },
  {
   "cell_type": "markdown",
   "metadata": {},
   "source": [
    "## Floating Point Type\n",
    "\n",
    "*Floating point type* numbers (or just *float* for short)\n",
    "are numbers with a decimal. Whenever you do\n",
    "division you end up with a number of type *float*."
   ]
  },
  {
   "cell_type": "code",
   "execution_count": 3,
   "metadata": {},
   "outputs": [
    {
     "name": "stdout",
     "output_type": "stream",
     "text": [
      "2.0\n",
      "<class 'float'>\n",
      "0.5\n",
      "<class 'float'>\n"
     ]
    }
   ],
   "source": [
    "a = 10\n",
    "b = 5\n",
    "c = a / b\n",
    "print(c)\n",
    "print(type(c))\n",
    "d = b / a\n",
    "print(d)\n",
    "print(type(d))"
   ]
  },
  {
   "cell_type": "code",
   "execution_count": 4,
   "metadata": {},
   "outputs": [
    {
     "name": "stdout",
     "output_type": "stream",
     "text": [
      "0.3333333333333333\n",
      "<class 'float'>\n"
     ]
    }
   ],
   "source": [
    "w = 1 / 9\n",
    "v = 2 / 9\n",
    "print(w + v)\n",
    "print(type(w + v))"
   ]
  }
 ],
 "metadata": {
  "kernelspec": {
   "display_name": "Python 3",
   "language": "python",
   "name": "python3"
  },
  "language_info": {
   "codemirror_mode": {
    "name": "ipython",
    "version": 3
   },
   "file_extension": ".py",
   "mimetype": "text/x-python",
   "name": "python",
   "nbconvert_exporter": "python",
   "pygments_lexer": "ipython3",
   "version": "3.6.5"
  }
 },
 "nbformat": 4,
 "nbformat_minor": 4
}
