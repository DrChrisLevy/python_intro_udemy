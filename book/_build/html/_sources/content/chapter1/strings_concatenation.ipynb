{
 "cells": [
  {
   "cell_type": "markdown",
   "metadata": {},
   "source": [
    "# Strings\n",
    "\n",
    "In the last section we learned how to do some simple math with numbers\n",
    "and print the results with the `print()` function. For example,"
   ]
  },
  {
   "cell_type": "code",
   "execution_count": 1,
   "metadata": {},
   "outputs": [
    {
     "name": "stdout",
     "output_type": "stream",
     "text": [
      "40.0\n"
     ]
    }
   ],
   "source": [
    "print(9 * 4 + 100/25)"
   ]
  },
  {
   "cell_type": "markdown",
   "metadata": {},
   "source": [
    "Now we are going to learn about strings. In programming\n",
    "a string is a sequence of characters. \n",
    "Strings in Python are surrounded by either single quotation marks or double quotation marks.\n",
    "Create a new Jupyter Notebook and name it **intro_to_strings**. Use\n",
    "it to type out the examples which follow. \n",
    "Take the time to play around and create strings different than these as well."
   ]
  },
  {
   "cell_type": "code",
   "execution_count": 2,
   "metadata": {},
   "outputs": [
    {
     "name": "stdout",
     "output_type": "stream",
     "text": [
      "Hello World!\n",
      "Hello World!\n",
      "How are you doing today?\n",
      "abcedfg\n",
      "1\n",
      "\n",
      "123456789\n",
      "123asd\n",
      "'\n",
      "\"\n",
      "Python    is      so               cool    ! ! ! !\n"
     ]
    }
   ],
   "source": [
    "print('Hello World!')\n",
    "print(\"Hello World!\")\n",
    "print('How are you doing today?')\n",
    "print(\"abcedfg\")\n",
    "print(\"1\")\n",
    "print('')\n",
    "print('123456789')\n",
    "print('123asd')\n",
    "print(\"'\")\n",
    "print('\"')\n",
    "print(\"Python    is      so               cool    ! ! ! !\")"
   ]
  },
  {
   "cell_type": "markdown",
   "metadata": {},
   "source": [
    "All the strings were single line strings in that they print over a single line.\n",
    "You can make multiline string in python by using triple quotes like this."
   ]
  },
  {
   "cell_type": "code",
   "execution_count": 3,
   "metadata": {},
   "outputs": [
    {
     "name": "stdout",
     "output_type": "stream",
     "text": [
      "I am a multiline string.\n",
      "\n",
      "\n",
      "\n",
      "I can be written over multiple lines.\n",
      "\n"
     ]
    }
   ],
   "source": [
    "print(\"\"\"I am a multiline string.\n",
    "\n",
    "\n",
    "\n",
    "I can be written over multiple lines.\n",
    "\"\"\")"
   ]
  },
  {
   "cell_type": "markdown",
   "metadata": {},
   "source": [
    "## String Concatenation\n",
    "\n",
    "You can concatenate strings which means to simply add strings together.\n",
    "We already know how to add numbers together like this:"
   ]
  },
  {
   "cell_type": "code",
   "execution_count": 4,
   "metadata": {},
   "outputs": [
    {
     "data": {
      "text/plain": [
       "10"
      ]
     },
     "execution_count": 4,
     "metadata": {},
     "output_type": "execute_result"
    }
   ],
   "source": [
    "5 + 5"
   ]
  },
  {
   "cell_type": "markdown",
   "metadata": {},
   "source": [
    "You can use the `+` symbol to also add/concatenate strings.\n",
    "It simply pastes the strings together into one string."
   ]
  },
  {
   "cell_type": "code",
   "execution_count": 5,
   "metadata": {},
   "outputs": [
    {
     "name": "stdout",
     "output_type": "stream",
     "text": [
      "My name is Chris\n",
      "cat\n",
      "12\n"
     ]
    }
   ],
   "source": [
    "print('My name is ' + 'Chris')\n",
    "print('c' + 'a' + 't')\n",
    "print('1' + '2')"
   ]
  },
  {
   "cell_type": "markdown",
   "metadata": {},
   "source": [
    "Note the difference for example between `5 + 9` and `'5' + '9'`."
   ]
  },
  {
   "cell_type": "code",
   "execution_count": 6,
   "metadata": {},
   "outputs": [
    {
     "name": "stdout",
     "output_type": "stream",
     "text": [
      "14\n",
      "59\n"
     ]
    }
   ],
   "source": [
    "print(5 + 9)\n",
    "print('5' + '9')"
   ]
  },
  {
   "cell_type": "markdown",
   "metadata": {},
   "source": [
    "You can not add a number with a string.\n",
    "For example you can not do `5 + '5'`.\n",
    "This is because `5` is an integer type and `'5'` is a string type.\n",
    "We will learn more about data types later.\n",
    "For now though, know that Python will raise\n",
    "errors if you try and *add* two objects\n",
    "where one is a number and the other is a string."
   ]
  },
  {
   "cell_type": "code",
   "execution_count": 7,
   "metadata": {},
   "outputs": [
    {
     "ename": "TypeError",
     "evalue": "unsupported operand type(s) for +: 'int' and 'str'",
     "output_type": "error",
     "traceback": [
      "\u001b[0;31m---------------------------------------------------------------------------\u001b[0m",
      "\u001b[0;31mTypeError\u001b[0m                                 Traceback (most recent call last)",
      "\u001b[0;32m<ipython-input-7-a7b2ce0aab22>\u001b[0m in \u001b[0;36m<module>\u001b[0;34m\u001b[0m\n\u001b[0;32m----> 1\u001b[0;31m \u001b[0;36m5\u001b[0m \u001b[0;34m+\u001b[0m \u001b[0;34m'5'\u001b[0m\u001b[0;34m\u001b[0m\u001b[0m\n\u001b[0m",
      "\u001b[0;31mTypeError\u001b[0m: unsupported operand type(s) for +: 'int' and 'str'"
     ]
    }
   ],
   "source": [
    "5 + '5'"
   ]
  }
 ],
 "metadata": {
  "kernelspec": {
   "display_name": "Python 3",
   "language": "python",
   "name": "python3"
  },
  "language_info": {
   "codemirror_mode": {
    "name": "ipython",
    "version": 3
   },
   "file_extension": ".py",
   "mimetype": "text/x-python",
   "name": "python",
   "nbconvert_exporter": "python",
   "pygments_lexer": "ipython3",
   "version": "3.6.5"
  }
 },
 "nbformat": 4,
 "nbformat_minor": 4
}
