{
 "cells": [
  {
   "cell_type": "markdown",
   "metadata": {},
   "source": [
    "# More on Strings\n",
    "\n",
    "In this section we will learn more about strings. Create a \n",
    "new Jupter Notebook and name it **string_formatting_and_indexing**\n",
    "so you can follow along with the code.\n",
    "\n",
    "## String Formatting\n",
    "\n",
    "It is often the case that we want to substitute some variable\n",
    "or Python expression into a string. This is called string formatting.\n",
    "There is multiple ways to do this\n",
    "in Python. There is the \"old way\" of doing it and the newer way\n",
    "in Python 3.6. The easiest method is to use *f-strings* which will use a lot\n",
    "in this book. But here we will first show the old way of doing it to\n",
    "because you might see it while reading Python code.\n",
    "\n",
    "### String Formatting with the (% Operator)\n",
    "\n",
    "This is the old way of doing it and we will not use\n",
    "it much. But it's still good to know about.\n",
    "The `%s` is used to substitute the value\n",
    "of the variable `name` into the string.\n",
    "So if you ever see this in Python code\n",
    "that is what is happening (string formatting).\n",
    "\n"
   ]
  },
  {
   "cell_type": "code",
   "execution_count": 2,
   "metadata": {},
   "outputs": [
    {
     "name": "stdout",
     "output_type": "stream",
     "text": [
      "my name is chris\n"
     ]
    }
   ],
   "source": [
    "name = 'chris'\n",
    "print('my name is %s' %name)"
   ]
  },
  {
   "cell_type": "markdown",
   "metadata": {},
   "source": [
    "### String Formatting with .format\n",
    "This is a newer way of formatting strings.\n",
    "Again, we will not use this method because\n",
    "we will opt to use **f-strings**. It's\n",
    "still good to know about. You can\n",
    "see the syntax is nicer because \n",
    "it does not require the use of `%s`.\n"
   ]
  },
  {
   "cell_type": "code",
   "execution_count": 3,
   "metadata": {},
   "outputs": [
    {
     "name": "stdout",
     "output_type": "stream",
     "text": [
      "my name is chris\n"
     ]
    }
   ],
   "source": [
    "print('my name is {}'.format(name))"
   ]
  },
  {
   "cell_type": "markdown",
   "metadata": {},
   "source": [
    "### f-strings\n",
    "\n",
    "This is the preferred method to\n",
    "format strings and substitute \n",
    "variables and other Python expressions \n",
    "into strings. Learn and know this method\n",
    "because it is very useful!.\n",
    "They are called **string literals**\n",
    "or **f-strings**. Here is an example."
   ]
  },
  {
   "cell_type": "code",
   "execution_count": 4,
   "metadata": {},
   "outputs": [
    {
     "name": "stdout",
     "output_type": "stream",
     "text": [
      "my name is chris\n"
     ]
    }
   ],
   "source": [
    "print(f'my name is {name}')"
   ]
  },
  {
   "cell_type": "markdown",
   "metadata": {},
   "source": [
    "And that's it! You simply put an `f`\n",
    "at the beginning of the string in front of the quote.\n",
    "You then use the braces `{}` and put the Python expression\n",
    "between the braces. Here are some more examples."
   ]
  },
  {
   "cell_type": "code",
   "execution_count": 5,
   "metadata": {},
   "outputs": [
    {
     "name": "stdout",
     "output_type": "stream",
     "text": [
      "one plus two is 3\n"
     ]
    }
   ],
   "source": [
    "print(f'one plus two is {1 + 2}')"
   ]
  },
  {
   "cell_type": "code",
   "execution_count": 6,
   "metadata": {},
   "outputs": [
    {
     "name": "stdout",
     "output_type": "stream",
     "text": [
      "Hey there! My name is Chris and I am from Nova Scotia, Canada. I am 35 years old.\n"
     ]
    }
   ],
   "source": [
    "name = \"Chris\"\n",
    "age = 35\n",
    "province = 'Nova Scotia'\n",
    "country = 'Canada'\n",
    "print(f\"Hey there! My name is {name} and I am from {province}, {country}. I am {age} years old.\")"
   ]
  },
  {
   "cell_type": "markdown",
   "metadata": {},
   "source": [
    "Notice in the above example we were able to substitute an integer object, `age` directly \n",
    "into the string with the use of **f-strings**. If we had to do the above with\n",
    "string concatenation it would look more complex. We would also have to convert the \n",
    "the `age` to a string with the `str()` function. But when using **f-strings** Python\n",
    "will take care of these smaller details."
   ]
  },
  {
   "cell_type": "code",
   "execution_count": 7,
   "metadata": {},
   "outputs": [
    {
     "name": "stdout",
     "output_type": "stream",
     "text": [
      "Hey there! My name is Chris and I am from Nova Scotia, Canada. I am 35 years old.\n"
     ]
    }
   ],
   "source": [
    "print(\"Hey there! My name is \"  + name + \" and I am from \" +  province + \", \" + country + \". I am \" + str(age) + \" years old.\")"
   ]
  },
  {
   "cell_type": "markdown",
   "metadata": {},
   "source": [
    "It is much easier to code it using the `f-string` method! \n",
    "\n",
    "The f-strings work in multiline strings too."
   ]
  },
  {
   "cell_type": "code",
   "execution_count": 8,
   "metadata": {},
   "outputs": [
    {
     "name": "stdout",
     "output_type": "stream",
     "text": [
      "\n",
      "Name: Chris\n",
      "\n",
      "Age: 35\n",
      "\n",
      "Province: Nova Scotia\n",
      "\n",
      "Country: Canada\n",
      "\n"
     ]
    }
   ],
   "source": [
    "my_multi_line_string = f\"\"\"\n",
    "Name: {name}\n",
    "\n",
    "Age: {age}\n",
    "\n",
    "Province: {province}\n",
    "\n",
    "Country: {country}\n",
    "\"\"\"\n",
    "print(my_multi_line_string)"
   ]
  },
  {
   "cell_type": "markdown",
   "metadata": {},
   "source": [
    "## Indexing and Slicing Strings\n",
    "\n",
    "Python strings are sequences made up of one or more individual characters.\n",
    "You can access a specific character in a string at any position\n",
    "by using its index. Index numbers allow us to access specific characters within a string.\n",
    "You use the square brackets `[]` and the index number to get a character at the\n",
    "position/index in the string.\n",
    "Let's look at some examples. \n",
    "```{note}\n",
    "We will start using Python comments in our code.\n",
    "Comments are lines in your python code that are not\n",
    "executed. They are any line that begins with a `#` symbol.\n",
    "Comments can be used to explain Python code, make it more readable,\n",
    "and can prevent execution when testing.\n",
    "```"
   ]
  },
  {
   "cell_type": "code",
   "execution_count": 9,
   "metadata": {},
   "outputs": [
    {
     "name": "stdout",
     "output_type": "stream",
     "text": [
      "Hello World!\n",
      "H\n",
      "e\n",
      "l\n",
      "l\n",
      "o\n",
      " \n",
      "W\n",
      "o\n",
      "r\n",
      "l\n",
      "d\n",
      "!\n"
     ]
    }
   ],
   "source": [
    "# These lines are an example of a Python comment. It is\n",
    "# text in your Python code that is not executed. \n",
    "# You can make comments through out your \n",
    "# code to make it more readable and explain certain things.\n",
    "\n",
    "# Here is an example of indexing a string to get specific characters at\n",
    "# a position/index.\n",
    "\n",
    "hello_str = 'Hello World!'\n",
    "print(hello_str)\n",
    "\n",
    "print(hello_str[0]) # counting and indexing in Python always starts at 0\n",
    "print(hello_str[1])\n",
    "print(hello_str[2])\n",
    "print(hello_str[3])\n",
    "print(hello_str[4])\n",
    "print(hello_str[5])\n",
    "print(hello_str[6])\n",
    "print(hello_str[7])\n",
    "print(hello_str[8])\n",
    "print(hello_str[9])\n",
    "print(hello_str[10])\n",
    "print(hello_str[11])"
   ]
  },
  {
   "cell_type": "markdown",
   "metadata": {},
   "source": [
    "If we try to index a string at a position that\n",
    "is outside the length of the string we will get an index error.\n",
    "The string in the above example, `hello_str` has a length of 12\n",
    "because it has 12 characters. `hello_str[0]` is the first character,\n",
    "`hello_str[1]` is the second character, and `hello_str[11]` is the last character.\n",
    "Here we try and access `hello_str[12]` which will raise an error.\n",
    "It's an `IndexError` because we are trying to access index 12\n",
    "which is outside the range of the string."
   ]
  },
  {
   "cell_type": "code",
   "execution_count": 10,
   "metadata": {},
   "outputs": [
    {
     "ename": "IndexError",
     "evalue": "string index out of range",
     "output_type": "error",
     "traceback": [
      "\u001b[0;31m---------------------------------------------------------------------------\u001b[0m",
      "\u001b[0;31mIndexError\u001b[0m                                Traceback (most recent call last)",
      "\u001b[0;32m<ipython-input-10-cf1f2f026d16>\u001b[0m in \u001b[0;36m<module>\u001b[0;34m\u001b[0m\n\u001b[0;32m----> 1\u001b[0;31m \u001b[0mhello_str\u001b[0m\u001b[0;34m[\u001b[0m\u001b[0;36m12\u001b[0m\u001b[0;34m]\u001b[0m\u001b[0;34m\u001b[0m\u001b[0m\n\u001b[0m",
      "\u001b[0;31mIndexError\u001b[0m: string index out of range"
     ]
    }
   ],
   "source": [
    "hello_str[12]"
   ]
  },
  {
   "cell_type": "markdown",
   "metadata": {},
   "source": [
    "You can even use negative numbers for indexes\n",
    "starting with `-1` which will be the index\n",
    "for the last character of a string. \n",
    "`-2` will be the index for the second last\n",
    "character and so on."
   ]
  },
  {
   "cell_type": "code",
   "execution_count": 11,
   "metadata": {},
   "outputs": [
    {
     "name": "stdout",
     "output_type": "stream",
     "text": [
      "!\n",
      "d\n",
      "l\n",
      "r\n",
      "o\n",
      "W\n",
      " \n",
      "o\n",
      "l\n",
      "l\n",
      "e\n",
      "H\n"
     ]
    }
   ],
   "source": [
    "print(hello_str[-1])\n",
    "print(hello_str[-2])\n",
    "print(hello_str[-3])\n",
    "print(hello_str[-4])\n",
    "print(hello_str[-5])\n",
    "print(hello_str[-6])\n",
    "print(hello_str[-7])\n",
    "print(hello_str[-8])\n",
    "print(hello_str[-9])\n",
    "print(hello_str[-10])\n",
    "print(hello_str[-11])\n",
    "print(hello_str[-12]) "
   ]
  },
  {
   "cell_type": "code",
   "execution_count": 12,
   "metadata": {},
   "outputs": [
    {
     "name": "stdout",
     "output_type": "stream",
     "text": [
      "The first character of 'Hello World!' is H,\n",
      "the 5th character is o and the last character is \n",
      "!.\n"
     ]
    }
   ],
   "source": [
    "print(f\"\"\"The first character of '{hello_str}' is {hello_str[0]},\n",
    "the 5th character is {hello_str[4]} and the last character is \n",
    "{hello_str[-1]}.\"\"\")"
   ]
  },
  {
   "cell_type": "markdown",
   "metadata": {},
   "source": [
    "You can also access a slice of a string using the notation\n",
    "`[a:b`] which will get every character from index `a`\n",
    "up to index `b` but **not** including `b`."
   ]
  },
  {
   "cell_type": "code",
   "execution_count": 13,
   "metadata": {},
   "outputs": [
    {
     "name": "stdout",
     "output_type": "stream",
     "text": [
      "Hello\n"
     ]
    }
   ],
   "source": [
    "print(hello_str[0:5]) # gets the characters at index 0,1,2,3,4"
   ]
  },
  {
   "cell_type": "code",
   "execution_count": 14,
   "metadata": {},
   "outputs": [
    {
     "name": "stdout",
     "output_type": "stream",
     "text": [
      "World\n"
     ]
    }
   ],
   "source": [
    "print(hello_str[6:11]) # gets the characters at index 6,7,8,9,10,"
   ]
  },
  {
   "cell_type": "code",
   "execution_count": 15,
   "metadata": {},
   "outputs": [
    {
     "name": "stdout",
     "output_type": "stream",
     "text": [
      "World!\n"
     ]
    }
   ],
   "source": [
    "print(hello_str[6:]) # will index everything from index 6 and after"
   ]
  },
  {
   "cell_type": "code",
   "execution_count": 16,
   "metadata": {},
   "outputs": [
    {
     "name": "stdout",
     "output_type": "stream",
     "text": [
      "World!\n"
     ]
    }
   ],
   "source": [
    "print(hello_str[6:20]) # when slicing, you can access outside the range and it won't throw an error"
   ]
  },
  {
   "cell_type": "code",
   "execution_count": 17,
   "metadata": {},
   "outputs": [
    {
     "name": "stdout",
     "output_type": "stream",
     "text": [
      "orl\n"
     ]
    }
   ],
   "source": [
    "print(hello_str[-5:-2]) # you can even use negative indexes when slicing"
   ]
  },
  {
   "cell_type": "markdown",
   "metadata": {},
   "source": [
    "We can also set a **stride** when slicing strings.\n",
    "By default this stride is equal to one as we have not been specifying it \n",
    "in the above examples."
   ]
  },
  {
   "cell_type": "code",
   "execution_count": 18,
   "metadata": {},
   "outputs": [
    {
     "name": "stdout",
     "output_type": "stream",
     "text": [
      "HloWrd\n",
      "Hello World!\n",
      "Hello World!\n",
      "HlWl\n"
     ]
    }
   ],
   "source": [
    "# This third number 2 is called the stride.\n",
    "# Here we are using a stride of 2.\n",
    "# It starts at index 0, up to and not including index 12,\n",
    "# and takes every second character along the way.\n",
    "# If the stride is 3 it takes every third character and so on.\n",
    "print(hello_str[0:12:2]) \n",
    "\n",
    "print(hello_str[0:12:1]) # stride of 1 does no skipping\n",
    "print(hello_str[0:12]) # stride of 1 by default\n",
    "print(hello_str[0:12:3]) # stride of 3 example"
   ]
  },
  {
   "cell_type": "markdown",
   "metadata": {},
   "source": [
    "You can even set a negative value for the stride."
   ]
  },
  {
   "cell_type": "code",
   "execution_count": 19,
   "metadata": {},
   "outputs": [
    {
     "name": "stdout",
     "output_type": "stream",
     "text": [
      "!lo le\n",
      "!lo le\n",
      "!dlroW olleH\n"
     ]
    }
   ],
   "source": [
    "print(hello_str[-1:-12:-2])\n",
    "print(hello_str[::-2]) # same thing as directly above.\n",
    "print(hello_str[::-1]) # a stride of -1 is an easy way to reverse a string."
   ]
  }
 ],
 "metadata": {
  "kernelspec": {
   "display_name": "Python 3",
   "language": "python",
   "name": "python3"
  },
  "language_info": {
   "codemirror_mode": {
    "name": "ipython",
    "version": 3
   },
   "file_extension": ".py",
   "mimetype": "text/x-python",
   "name": "python",
   "nbconvert_exporter": "python",
   "pygments_lexer": "ipython3",
   "version": "3.6.5"
  }
 },
 "nbformat": 4,
 "nbformat_minor": 4
}
