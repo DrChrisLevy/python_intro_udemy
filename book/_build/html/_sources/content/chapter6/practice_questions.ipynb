{
 "cells": [
  {
   "cell_type": "markdown",
   "metadata": {},
   "source": [
    "# Practice Questions"
   ]
  },
  {
   "cell_type": "markdown",
   "metadata": {},
   "source": [
    "## 1.\n",
    "\n",
    "\n",
    "For each of the following `if` statements, determine what will be printed.\n",
    "\n",
    "### a)\n",
    "\n",
    "```\n",
    "x = 0\n",
    "if x:\n",
    "    print(1)\n",
    "else:\n",
    "    print(2)\n",
    "```\n",
    "\n",
    "### b)\n",
    "\n",
    "```\n",
    "y = [0]\n",
    "if y:\n",
    "    print(1)\n",
    "else:\n",
    "    print(2)\n",
    "```\n",
    "\n",
    "### c)\n",
    "```\n",
    "if 1 and 0:\n",
    "    print(1)\n",
    "else:\n",
    "    print(2)\n",
    "```\n",
    "\n",
    "### d)\n",
    "\n",
    "```\n",
    "if [] and {1:4}:\n",
    "    print(1)\n",
    "else:\n",
    "    print(2)\n",
    "```\n",
    "\n",
    "### e)\n",
    "\n",
    "```\n",
    "if set() or (1,):\n",
    "    print(1)\n",
    "else:\n",
    "    print(2)\n",
    "```\n",
    "\n",
    "### f)\n",
    "\n",
    "```\n",
    "if [] or () or {}:\n",
    "    print(1)\n",
    "else:\n",
    "    print(2)\n",
    "```\n",
    "\n",
    "### g)\n",
    "\n",
    "```\n",
    "x = None\n",
    "if x:\n",
    "    print(1)\n",
    "else:\n",
    "    print(2)\n",
    "```\n",
    "\n",
    "## 2.\n",
    "\n",
    "Write a function that checks if something is an empty list, or an empty dict, or an empty set,\n",
    "or an empty tuple, or is `None`. If so, the function should return `True`. Otherwise return `False`.\n",
    "\n",
    "## 3. \n",
    "\n",
    "Write a function `add_to_dict(key_list, value_list, my_dict)` which adds the key value pairs `k:v` to the dictionary `my_dict` for each key and value in `key_list` and `value_list`. If one of the keys in `key_list` is already present in `my_dict` it should overwrite it in `my_dict`. If `my_dict` is not provided, the function should create an empty dictionary and then add the key value pairs.\n",
    "If the dictionary `my_dict` is provided as an argument, then the key value pairs will simply be added to it. Remember\n",
    "that dictionaries are mutable and you should not provide mutable objects as default arguments. The final dictionary should be returned after the items are added to it. Here are some examples of how the function should work.\n",
    "\n",
    "`add_to_dict([1],[2])` should return the dictionary `{1: 2}`\n",
    "\n",
    "`add_to_dict([1,2,3],[4,5,6])` should return the dictionary `{1: 4, 2: 5, 3: 6}`\n",
    "\n",
    "`add_to_dict([1,2,3],[4,5,6],my_dict={'hello': 'world'})` should return the dictionary`{'hello': 'world', 1: 4, 2: 5, 3: 6}`\n",
    "\n",
    "`add_to_dict([1] ,['new'],my_dict={1: 1, 3:5})` should return the dictionary `{1: 'new', 3: 5}`"
   ]
  },
  {
   "cell_type": "code",
   "execution_count": 1,
   "metadata": {
    "tags": [
     "remove-input"
    ]
   },
   "outputs": [],
   "source": [
    "def read_file(file_name):\n",
    "    with open(file_name, 'r') as f:\n",
    "        return [line.rstrip() for line in f]\n",
    "    \n",
    "def read_file_improved(file_name):\n",
    "    try:\n",
    "        with open(file_name, 'r') as f:\n",
    "            return [line.rstrip() for line in f]\n",
    "    except FileNotFoundError:\n",
    "        print(f'The file, {file_name} does not exist! Exiting and returning None.')"
   ]
  },
  {
   "cell_type": "markdown",
   "metadata": {},
   "source": [
    "## 4.\n",
    "\n",
    "Write a function `read_file(file_name)` which reads the contents of a local file line by line and returns\n",
    "a list with each element of the list being a line of the file. You can assume the local file exists. Also, remove the new line characters.\n",
    "\n",
    "For example: \n",
    "\n",
    "If the local file was `'my_file.txt'` and contained the contents\n",
    "\n",
    "```\n",
    "Hello World!\n",
    "1 2 3 4 5\n",
    "a\n",
    "b\n",
    "c\n",
    "Good Bye!\n",
    "```\n",
    "\n",
    "then `read_file('my_file.txt')` would behave like this:"
   ]
  },
  {
   "cell_type": "code",
   "execution_count": 2,
   "metadata": {},
   "outputs": [
    {
     "data": {
      "text/plain": [
       "['Hello World!', '1 2 3 4 5', 'a', 'b', 'c', 'Good Bye!']"
      ]
     },
     "execution_count": 2,
     "metadata": {},
     "output_type": "execute_result"
    }
   ],
   "source": [
    "read_file('my_file.txt')"
   ]
  },
  {
   "cell_type": "markdown",
   "metadata": {},
   "source": [
    "## 5.\n",
    "\n",
    "For the function `read_file` from above, run it for a file that does not exist."
   ]
  },
  {
   "cell_type": "code",
   "execution_count": 3,
   "metadata": {},
   "outputs": [
    {
     "ename": "FileNotFoundError",
     "evalue": "[Errno 2] No such file or directory: 'some_file.txt'",
     "output_type": "error",
     "traceback": [
      "\u001b[0;31m---------------------------------------------------------------------------\u001b[0m",
      "\u001b[0;31mFileNotFoundError\u001b[0m                         Traceback (most recent call last)",
      "\u001b[0;32m<ipython-input-3-4de66af3dd44>\u001b[0m in \u001b[0;36m<module>\u001b[0;34m\u001b[0m\n\u001b[0;32m----> 1\u001b[0;31m \u001b[0mread_file\u001b[0m\u001b[0;34m(\u001b[0m\u001b[0;34m'some_file.txt'\u001b[0m\u001b[0;34m)\u001b[0m\u001b[0;34m\u001b[0m\u001b[0m\n\u001b[0m",
      "\u001b[0;32m<ipython-input-1-2d94c9561f45>\u001b[0m in \u001b[0;36mread_file\u001b[0;34m(file_name)\u001b[0m\n\u001b[1;32m      1\u001b[0m \u001b[0;32mdef\u001b[0m \u001b[0mread_file\u001b[0m\u001b[0;34m(\u001b[0m\u001b[0mfile_name\u001b[0m\u001b[0;34m)\u001b[0m\u001b[0;34m:\u001b[0m\u001b[0;34m\u001b[0m\u001b[0m\n\u001b[0;32m----> 2\u001b[0;31m     \u001b[0;32mwith\u001b[0m \u001b[0mopen\u001b[0m\u001b[0;34m(\u001b[0m\u001b[0mfile_name\u001b[0m\u001b[0;34m,\u001b[0m \u001b[0;34m'r'\u001b[0m\u001b[0;34m)\u001b[0m \u001b[0;32mas\u001b[0m \u001b[0mf\u001b[0m\u001b[0;34m:\u001b[0m\u001b[0;34m\u001b[0m\u001b[0m\n\u001b[0m\u001b[1;32m      3\u001b[0m         \u001b[0;32mreturn\u001b[0m \u001b[0;34m[\u001b[0m\u001b[0mline\u001b[0m\u001b[0;34m.\u001b[0m\u001b[0mrstrip\u001b[0m\u001b[0;34m(\u001b[0m\u001b[0;34m)\u001b[0m \u001b[0;32mfor\u001b[0m \u001b[0mline\u001b[0m \u001b[0;32min\u001b[0m \u001b[0mf\u001b[0m\u001b[0;34m]\u001b[0m\u001b[0;34m\u001b[0m\u001b[0m\n\u001b[1;32m      4\u001b[0m \u001b[0;34m\u001b[0m\u001b[0m\n\u001b[1;32m      5\u001b[0m \u001b[0;32mdef\u001b[0m \u001b[0mread_file_improved\u001b[0m\u001b[0;34m(\u001b[0m\u001b[0mfile_name\u001b[0m\u001b[0;34m)\u001b[0m\u001b[0;34m:\u001b[0m\u001b[0;34m\u001b[0m\u001b[0m\n",
      "\u001b[0;31mFileNotFoundError\u001b[0m: [Errno 2] No such file or directory: 'some_file.txt'"
     ]
    }
   ],
   "source": [
    "read_file('some_file.txt')"
   ]
  },
  {
   "cell_type": "markdown",
   "metadata": {},
   "source": [
    "The code will raise an error. In particular, a `FileNotFoundError` error.\n",
    "Adjust the function logic for `read_file` so that it handles this error. That is, if you pass\n",
    "an argument for a file that does not exist, instead of raising the error, the code should instead\n",
    "print a simple message such as `'The file, some_file.txt does not exist! Exiting and returning None.\n",
    "'` and should return `None`. Do this with a `try` and `except` block where you specifically handle\n",
    "the `FileNotFoundError` error."
   ]
  },
  {
   "cell_type": "code",
   "execution_count": null,
   "metadata": {},
   "outputs": [],
   "source": [
    "read_file_improved('some_file.txt')"
   ]
  },
  {
   "cell_type": "markdown",
   "metadata": {},
   "source": [
    "If the file does exist, then the function should have the same behavior as before."
   ]
  },
  {
   "cell_type": "code",
   "execution_count": null,
   "metadata": {},
   "outputs": [],
   "source": [
    "read_file_improved('my_file.txt')"
   ]
  }
 ],
 "metadata": {
  "celltoolbar": "Edit Metadata",
  "kernelspec": {
   "display_name": "Python 3",
   "language": "python",
   "name": "python3"
  },
  "language_info": {
   "codemirror_mode": {
    "name": "ipython",
    "version": 3
   },
   "file_extension": ".py",
   "mimetype": "text/x-python",
   "name": "python",
   "nbconvert_exporter": "python",
   "pygments_lexer": "ipython3",
   "version": "3.6.5"
  }
 },
 "nbformat": 4,
 "nbformat_minor": 4
}
