{
 "cells": [
  {
   "cell_type": "markdown",
   "metadata": {},
   "source": [
    "# Practice Questions (Solutions)"
   ]
  },
  {
   "cell_type": "markdown",
   "metadata": {},
   "source": [
    "## 1.\n",
    "Write a Python function that finds the minimum of three numbers.\n",
    "It should take three numbers as input and then return the smallest.\n",
    "\n",
    "### Solution"
   ]
  },
  {
   "cell_type": "code",
   "execution_count": 1,
   "metadata": {},
   "outputs": [],
   "source": [
    "def find_min(a, b, c):\n",
    "    return min(a, b, c)\n",
    "    "
   ]
  },
  {
   "cell_type": "code",
   "execution_count": 2,
   "metadata": {},
   "outputs": [],
   "source": [
    "find_min(10, 67.8, 100)"
   ]
  },
  {
   "cell_type": "markdown",
   "metadata": {},
   "source": [
    "## 2.\n",
    "In mathematics the factorial of a number is denoted by \n",
    "\n",
    "$$n! = n\\cdot(n-1)\\cdot(n-2)\\cdot(n-3)\\cdot\\cdot\\cdot\\cdot3\\cdot2\\cdot1$$\n",
    "\n",
    "For example, \n",
    "\n",
    "5! = 5 * 4 * 3 * 2 * 1 = 120\n",
    "\n",
    "10! = 10 * 9 * 8 * 7 * 6 * 5 * 4 * 3 * 2 * 1 = 3628800\n",
    "\n",
    "Both 1! and 0! are defined to be 1 so those are special cases you can handle.\n",
    "Write a function that takes any integer greater than or equal to 0 as input \n",
    "and then returns the factorial. That is, it multiplies the number by all the numbers\n",
    "before it like the examples above.\n",
    "\n",
    "### SOLUTION\n"
   ]
  },
  {
   "cell_type": "code",
   "execution_count": 3,
   "metadata": {},
   "outputs": [],
   "source": [
    "def factorial(number):\n",
    "    if number == 0 or number == 1:\n",
    "        return 1\n",
    "    else:\n",
    "        result = 1\n",
    "        for i in range(2, number + 1):\n",
    "            result = result * i\n",
    "    return result"
   ]
  },
  {
   "cell_type": "code",
   "execution_count": 4,
   "metadata": {},
   "outputs": [],
   "source": [
    "factorial(0)"
   ]
  },
  {
   "cell_type": "code",
   "execution_count": 5,
   "metadata": {},
   "outputs": [],
   "source": [
    "factorial(1)"
   ]
  },
  {
   "cell_type": "code",
   "execution_count": 6,
   "metadata": {},
   "outputs": [],
   "source": [
    "factorial(2)"
   ]
  },
  {
   "cell_type": "code",
   "execution_count": 7,
   "metadata": {},
   "outputs": [],
   "source": [
    "factorial(3)"
   ]
  },
  {
   "cell_type": "code",
   "execution_count": 8,
   "metadata": {},
   "outputs": [],
   "source": [
    "factorial(4)"
   ]
  },
  {
   "cell_type": "code",
   "execution_count": 9,
   "metadata": {},
   "outputs": [],
   "source": [
    "factorial(5)"
   ]
  },
  {
   "cell_type": "code",
   "execution_count": 10,
   "metadata": {},
   "outputs": [],
   "source": [
    "factorial(6)"
   ]
  },
  {
   "cell_type": "code",
   "execution_count": 11,
   "metadata": {},
   "outputs": [
    {
     "data": {
      "text/plain": [
       "3628800"
      ]
     },
     "execution_count": 11,
     "metadata": {},
     "output_type": "execute_result"
    }
   ],
   "source": [
    "factorial(10)"
   ]
  },
  {
   "cell_type": "markdown",
   "metadata": {},
   "source": [
    "## 3. \n",
    "\n",
    "Create a function called `find_twos` which takes a list of numbers as input.\n",
    "The function should return another list of all the indexes/positions\n",
    "where the number 2 is in the input list. If the number 2 is not\n",
    "in the input list then the function should return an empty list.\n",
    "\n",
    "For example:\n",
    "\n",
    "`find_twos([1,3,-19])` should return `[]`.\n",
    "\n",
    "`find_twos([1,2,4])` should return `[1]`.\n",
    "\n",
    "`find_twos([2,2,2])` should return `[0,1,2]`.\n",
    "\n",
    "`find_twos([1,6,8,2,9,0,5,2])` should return `[3,7]`.\n",
    "\n",
    "You should use the [enumerate](enumerate) function.\n",
    "\n",
    "\n",
    "\n",
    "### SOLUTION\n"
   ]
  },
  {
   "cell_type": "code",
   "execution_count": 12,
   "metadata": {},
   "outputs": [],
   "source": [
    "def find_two(numbers):\n",
    "    result = []\n",
    "    if 2 not in numbers:\n",
    "        return result\n",
    "    else:\n",
    "        for i, num in enumerate(numbers):\n",
    "            if num == 2:\n",
    "                result.append(i)\n",
    "    return result"
   ]
  },
  {
   "cell_type": "code",
   "execution_count": 13,
   "metadata": {},
   "outputs": [
    {
     "data": {
      "text/plain": [
       "[]"
      ]
     },
     "execution_count": 13,
     "metadata": {},
     "output_type": "execute_result"
    }
   ],
   "source": [
    "find_two([])"
   ]
  },
  {
   "cell_type": "code",
   "execution_count": 14,
   "metadata": {},
   "outputs": [
    {
     "data": {
      "text/plain": [
       "[]"
      ]
     },
     "execution_count": 14,
     "metadata": {},
     "output_type": "execute_result"
    }
   ],
   "source": [
    "find_two([1,3,5,20])"
   ]
  },
  {
   "cell_type": "code",
   "execution_count": 15,
   "metadata": {},
   "outputs": [
    {
     "data": {
      "text/plain": [
       "[0]"
      ]
     },
     "execution_count": 15,
     "metadata": {},
     "output_type": "execute_result"
    }
   ],
   "source": [
    "find_two([2])"
   ]
  },
  {
   "cell_type": "code",
   "execution_count": 16,
   "metadata": {},
   "outputs": [
    {
     "data": {
      "text/plain": [
       "[0, 1, 2, 3]"
      ]
     },
     "execution_count": 16,
     "metadata": {},
     "output_type": "execute_result"
    }
   ],
   "source": [
    "find_two([2,2,2,2])"
   ]
  },
  {
   "cell_type": "code",
   "execution_count": 17,
   "metadata": {},
   "outputs": [
    {
     "data": {
      "text/plain": [
       "[3, 7]"
      ]
     },
     "execution_count": 17,
     "metadata": {},
     "output_type": "execute_result"
    }
   ],
   "source": [
    "find_two([1,6,8,2,9,0,5,2])"
   ]
  },
  {
   "cell_type": "markdown",
   "metadata": {},
   "source": [
    "## 4.\n",
    "Define a function, `sum_and_round`, which takes a list of floats as input and adds all the numbers together and returns the result rounded with 2 decimal places.\n",
    "Use the built in functions `sum` and `round`. For example:\n",
    "\n",
    "`sum_and_round([1.2353, 7.532, 7.532, 8.9, 9.654])` should return 34.85\n",
    "\n",
    "### SOLUTION"
   ]
  },
  {
   "cell_type": "code",
   "execution_count": 18,
   "metadata": {},
   "outputs": [],
   "source": [
    "def sum_and_round(numbers):\n",
    "    result = sum(numbers)\n",
    "    result_rounded = round(result, 2)\n",
    "    return result_rounded"
   ]
  },
  {
   "cell_type": "code",
   "execution_count": 19,
   "metadata": {},
   "outputs": [
    {
     "data": {
      "text/plain": [
       "34.85"
      ]
     },
     "execution_count": 19,
     "metadata": {},
     "output_type": "execute_result"
    }
   ],
   "source": [
    "sum_and_round([1.2353, 7.532, 7.532, 8.9, 9.654])"
   ]
  },
  {
   "cell_type": "markdown",
   "metadata": {},
   "source": [
    "Or you could do it in one line:\n"
   ]
  },
  {
   "cell_type": "code",
   "execution_count": 20,
   "metadata": {},
   "outputs": [],
   "source": [
    "def sum_and_round(numbers):\n",
    "    return round(sum(numbers), 2)"
   ]
  },
  {
   "cell_type": "code",
   "execution_count": 21,
   "metadata": {},
   "outputs": [
    {
     "data": {
      "text/plain": [
       "34.85"
      ]
     },
     "execution_count": 21,
     "metadata": {},
     "output_type": "execute_result"
    }
   ],
   "source": [
    "sum_and_round([1.2353, 7.532, 7.532, 8.9, 9.654])"
   ]
  },
  {
   "cell_type": "code",
   "execution_count": null,
   "metadata": {},
   "outputs": [],
   "source": []
  },
  {
   "cell_type": "markdown",
   "metadata": {},
   "source": [
    "## 5.\n",
    "Consider the function\n"
   ]
  },
  {
   "cell_type": "code",
   "execution_count": 22,
   "metadata": {},
   "outputs": [],
   "source": [
    "def do_stuff(a, b, c):\n",
    "    return a * b * c - a - c + b\n"
   ]
  },
  {
   "cell_type": "markdown",
   "metadata": {},
   "source": [
    "a) Call the function using only positional arguments.\n",
    "\n",
    "b) Call the function using only keyword arguments.\n",
    "\n",
    "c) Call the function using a mix of positional and keyword arguments.\n",
    "\n",
    "d) Redefine the function and give default argument for `a,b,c`. Then call the function\n",
    "without providing any arguments so that the default arguments are used.\n",
    "\n",
    "### SOLUTION"
   ]
  },
  {
   "cell_type": "code",
   "execution_count": 23,
   "metadata": {},
   "outputs": [
    {
     "data": {
      "text/plain": [
       "4"
      ]
     },
     "execution_count": 23,
     "metadata": {},
     "output_type": "execute_result"
    }
   ],
   "source": [
    "# a)\n",
    "do_stuff(1, 2, 3)\n"
   ]
  },
  {
   "cell_type": "code",
   "execution_count": 24,
   "metadata": {},
   "outputs": [
    {
     "name": "stdout",
     "output_type": "stream",
     "text": [
      "4\n",
      "4\n"
     ]
    }
   ],
   "source": [
    "# b)\n",
    "print(do_stuff(a=1, b=2, c=3))\n",
    "print(do_stuff(c=3, a=1, b=2))"
   ]
  },
  {
   "cell_type": "code",
   "execution_count": 25,
   "metadata": {},
   "outputs": [
    {
     "name": "stdout",
     "output_type": "stream",
     "text": [
      "4\n",
      "4\n"
     ]
    }
   ],
   "source": [
    "# c)\n",
    "print(do_stuff(1, 2, c=3))\n",
    "print(do_stuff(1, b=2, c=3))"
   ]
  },
  {
   "cell_type": "code",
   "execution_count": 26,
   "metadata": {},
   "outputs": [
    {
     "data": {
      "text/plain": [
       "4"
      ]
     },
     "execution_count": 26,
     "metadata": {},
     "output_type": "execute_result"
    }
   ],
   "source": [
    "# d)\n",
    "def do_stuff(a=1, b=2, c=3):\n",
    "    return a * b * c - a - c + b\n",
    "\n",
    "do_stuff()"
   ]
  },
  {
   "cell_type": "markdown",
   "metadata": {},
   "source": [
    "## 6.\n",
    "Consider the following code."
   ]
  },
  {
   "cell_type": "code",
   "execution_count": 27,
   "metadata": {},
   "outputs": [],
   "source": [
    "x = 5\n",
    "def my_func(a=1):\n",
    "    x = 19\n",
    "    return a + x"
   ]
  },
  {
   "cell_type": "markdown",
   "metadata": {},
   "source": [
    "If you were to run the above code and then use `print(x)` what would be the value printed?\n",
    "\n",
    "### SOLUTION\n",
    "\n",
    "The value of `x` would still be 5 outside the function. For example\n",
    "we can run the code and check:"
   ]
  },
  {
   "cell_type": "code",
   "execution_count": 28,
   "metadata": {},
   "outputs": [
    {
     "name": "stdout",
     "output_type": "stream",
     "text": [
      "5\n"
     ]
    }
   ],
   "source": [
    "x = 5\n",
    "def my_func(a=1):\n",
    "    x = 19\n",
    "    return a + x\n",
    "my_func(a=20)\n",
    "print(x)"
   ]
  },
  {
   "cell_type": "markdown",
   "metadata": {},
   "source": [
    "## 7.\n",
    "Write a function `get_seconds` that takes two arguments `hours` and `minutes` and converts\n",
    "them both to seconds and adds the result and returns it. For example,\n",
    "\n",
    "`get_seconds(hours=1,minutes=0)` should return `3600`\n",
    "\n",
    "`get_seconds(hours=0,minutes=1)` should return `60`\n",
    "\n",
    "`get_seconds(hours=0,minutes=0)` should return `0`\n",
    "\n",
    "`get_seconds(hours=10,minutes=48)` should return `38880`\n",
    "\n",
    "\n",
    "`get_seconds()` should return `0` so be sure to use default arguments to achieve this.\n",
    "\n",
    "### SOLUTION"
   ]
  },
  {
   "cell_type": "code",
   "execution_count": 29,
   "metadata": {},
   "outputs": [],
   "source": [
    "def get_seconds(hours=0, minutes=0):\n",
    "    return hours * 60 * 60 + minutes * 60"
   ]
  },
  {
   "cell_type": "code",
   "execution_count": 30,
   "metadata": {},
   "outputs": [
    {
     "data": {
      "text/plain": [
       "3600"
      ]
     },
     "execution_count": 30,
     "metadata": {},
     "output_type": "execute_result"
    }
   ],
   "source": [
    "get_seconds(hours=1,minutes=0)"
   ]
  },
  {
   "cell_type": "code",
   "execution_count": 31,
   "metadata": {},
   "outputs": [
    {
     "data": {
      "text/plain": [
       "60"
      ]
     },
     "execution_count": 31,
     "metadata": {},
     "output_type": "execute_result"
    }
   ],
   "source": [
    "get_seconds(hours=0,minutes=1)"
   ]
  },
  {
   "cell_type": "code",
   "execution_count": 32,
   "metadata": {},
   "outputs": [
    {
     "data": {
      "text/plain": [
       "38880"
      ]
     },
     "execution_count": 32,
     "metadata": {},
     "output_type": "execute_result"
    }
   ],
   "source": [
    "get_seconds(hours=10,minutes=48)"
   ]
  },
  {
   "cell_type": "code",
   "execution_count": 33,
   "metadata": {},
   "outputs": [
    {
     "data": {
      "text/plain": [
       "0"
      ]
     },
     "execution_count": 33,
     "metadata": {},
     "output_type": "execute_result"
    }
   ],
   "source": [
    "get_seconds()"
   ]
  }
 ],
 "metadata": {
  "kernelspec": {
   "display_name": "Python 3",
   "language": "python",
   "name": "python3"
  },
  "language_info": {
   "codemirror_mode": {
    "name": "ipython",
    "version": 3
   },
   "file_extension": ".py",
   "mimetype": "text/x-python",
   "name": "python",
   "nbconvert_exporter": "python",
   "pygments_lexer": "ipython3",
   "version": "3.6.5"
  }
 },
 "nbformat": 4,
 "nbformat_minor": 4
}
