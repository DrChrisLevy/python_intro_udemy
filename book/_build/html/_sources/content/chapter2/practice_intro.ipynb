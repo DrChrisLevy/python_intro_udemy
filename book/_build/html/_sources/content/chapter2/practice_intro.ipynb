{
 "cells": [
  {
   "cell_type": "markdown",
   "metadata": {},
   "source": [
    "# Practice Questions\n",
    "There is so much new stuff we learned this past chapter.\n",
    "We introduced you to boolean data types, comparison operators,\n",
    "logical operators, `if`, `elif`, and `else` statements,\n",
    "lists, as well as `for` and `while` loops. There is actually\n",
    "more we could say about all of these things. But now is a good time\n",
    "to get coding. The best way to learn is by doing. Moreover, it is good\n",
    "to work on problems which mix all these ideas and tools together. It is going to be\n",
    "hard at first! It takes practice. But as you start solving small problems,\n",
    "you will learn and become more confident. As you spend more time coding,\n",
    "you will learn tricks and things that you can apply to other problems."
   ]
  },
  {
   "cell_type": "markdown",
   "metadata": {},
   "source": [
    "## 1. \n",
    "\n",
    "Ask the user to enter a number using the `input` function. If the number is even\n",
    "then print a message that displays the number and that it is even. If the number is not\n",
    "even then change the message to say that the number is odd. For example, if the user enters\n",
    "a 10 the message might read `'The number 10 is even'`. If the user enters an odd number such as 13, then\n",
    "the message might read `'The number 13 is odd'`.\n",
    "\n",
    "### HINT\n",
    "\n",
    "Try the question first before revealing the hint.\n",
    "\n",
    "```{toggle}\n",
    "The `input()` function always returns a string. You can convert a string to an integer using\n",
    "the `int()` function. You can read this [section](mod-operator) if you forget how to check if a number is even. Finally, refer back to this [section](if-elif-else) on how to use `if` and `else`.\n",
    "```\n",
    "    "
   ]
  },
  {
   "cell_type": "markdown",
   "metadata": {},
   "source": [
    "## 2. \n",
    "\n",
    "Suppose you are given a list `nums = [6, 7, 7, 10, 12, 1, 3, 3, 5, 5, 7, 8, 9, 12, 20]`. Write code\n",
    "that prints all the numbers that are strictly greater than `5` and strictly less than `9`, one line at a time. The code should work for any list (not just this example list). For example the output should look like this:\n",
    "```\n",
    "6\n",
    "7\n",
    "7\n",
    "7\n",
    "8\n",
    "```\n",
    "If the list was for example `nums = [1,2,5,20]` the output would be\n",
    "```\n",
    "6\n",
    "```\n",
    "If the list was `nums = [1,2,6,20]` then nothing would be printed.\n",
    "\n",
    "\n",
    "### HINT \n",
    "\n",
    "Try the question first before revealing the hint.\n",
    "\n",
    "```{toggle}\n",
    "Read the [section](for-loop) on `for` loops to recall how to iterate through items in a list.\n",
    "You will want to make use of the logical `and` [operator](and-operator) as well as `if else` [section](if-elif-else).\n",
    "```"
   ]
  },
  {
   "cell_type": "markdown",
   "metadata": {},
   "source": [
    "## 3. \n",
    "\n",
    "Repeat question number 2 by adding in this difference. Instead of printing the numbers one by one, make a new list that has all the numbers strictly greater than `5` and strictly less than `9` from the original list. Then just print the new list.\n",
    "\n",
    "### HINT \n",
    "\n",
    "Try the question first before revealing the hint.\n",
    "\n",
    "```{toggle}\n",
    "You can refer back to the section on the `.append()` [method](append-list).\n",
    "```\n",
    "\n"
   ]
  },
  {
   "cell_type": "code",
   "execution_count": 1,
   "metadata": {
    "tags": [
     "hide-cell"
    ]
   },
   "outputs": [],
   "source": [
    "nums = [6, 7, 7, 10, 12, 1, 3, 3, 5, 5, 7, 8, 9, 12, 20]\n",
    "new_nums = []\n",
    "for x in nums:\n",
    "    # if the number is between 5 and 9, then append x to new_nums\n",
    "    pass # this just indicates unfinished code and pass is used to simply skip over"
   ]
  },
  {
   "cell_type": "markdown",
   "metadata": {},
   "source": [
    "## 4.\n",
    "\n",
    "Write code that takes the list `colors = ['green','red','orange','blue','yellow']`\n",
    "and prints the first item and the last item in the list. Use `print(colors)` before\n",
    "and after your code to make sure it worked! No `for` loop is needed here (just list indexing).\n",
    "\n",
    "### HINT \n",
    "\n",
    "Try the question first before revealing the hint.\n",
    "\n",
    "\n",
    "```{toggle}\n",
    "Check out the [section](list-index-slice) on how to access values in a list by indexing and or slicing.\n",
    "```"
   ]
  },
  {
   "cell_type": "markdown",
   "metadata": {},
   "source": [
    "## 5.\n",
    "\n",
    "Write a program that prints the numbers from 1 to 100. \n",
    "\n",
    "### HINT\n",
    "\n",
    "Try the question first before revealing the hint.\n",
    "\n",
    "\n",
    "\n",
    "```{toggle}\n",
    "Use the [range](intro-range) function.\n",
    "```"
   ]
  },
  {
   "cell_type": "markdown",
   "metadata": {},
   "source": [
    "## 6.\n",
    "\n",
    "Write a program that prints the numbers from 1 to 100 but with these modifications. If the number is a multiple of 3 print **Fizz** instead of the number. If the number is a multiple of 5 then print **Buzz**. However, if the number is both a multiple of 3 and a multiple of 5 print **FizzBuzz**. The output should look something like this:\n",
    "\n",
    "```\n",
    "1\n",
    "2\n",
    "Fizz\n",
    "4\n",
    "Buzz\n",
    "Fizz\n",
    "7\n",
    "8\n",
    "Fizz\n",
    "Buzz\n",
    "11\n",
    "Fizz\n",
    "13\n",
    "14\n",
    "FizzBuzz\n",
    "16\n",
    "17\n",
    "Fizz\n",
    "19\n",
    "Buzz\n",
    "Fizz\n",
    "22\n",
    "23\n",
    "Fizz\n",
    "Buzz\n",
    "26\n",
    "Fizz\n",
    "28\n",
    "29\n",
    "FizzBuzz\n",
    ".\n",
    ".\n",
    ".\n",
    ".\n",
    "91\n",
    "92\n",
    "Fizz\n",
    "94\n",
    "Buzz\n",
    "Fizz\n",
    "97\n",
    "98\n",
    "Fizz\n",
    "Buzz\n",
    "```\n",
    "\n",
    "### HINT\n",
    "\n",
    "Try the question first before revealing the hint\n",
    "\n",
    "\n"
   ]
  },
  {
   "cell_type": "code",
   "execution_count": 2,
   "metadata": {
    "tags": [
     "hide-cell"
    ]
   },
   "outputs": [],
   "source": [
    "for i in range(1,101):\n",
    "    # if i is divisible by 3 and i is divisible by 5 then print('FizzBuzz')\n",
    "    # else if i is divisible by 3 then print('Fizz')\n",
    "    # else if i is divisible by 5 then print('Buzz')\n",
    "    # else then print i\n",
    "    pass"
   ]
  },
  {
   "cell_type": "markdown",
   "metadata": {},
   "source": [
    "## 7.\n",
    "Suppose you have two lists `a` and `b` which may not be the same length.\n",
    "Write code which will find the items that are common between both `a`\n",
    "and `b` and puts them in a new list `c`. Also make sure that `c` does not have\n",
    "the same item more than once (no duplicates). So the list `c` will be a unique\n",
    "list of only the items that were in both `a` and `b`. The items you put in `c`\n",
    "can be in any order.\n",
    "\n",
    "For example,\n",
    "\n",
    "```\n",
    "a = [1,2,3,3,5,5,10]\n",
    "b = [9,8,5,9,5]\n",
    "# then c would be\n",
    "c = [5]\n",
    "```\n",
    "\n",
    "```\n",
    "a = ['carrot', 'orange']\n",
    "b = ['orange','chris',True]\n",
    "# then c would be\n",
    "c = ['orange']\n",
    "```\n",
    "\n",
    "\n",
    "```\n",
    "a = [1,2,3,4,5,7]\n",
    "b = [1,2,10]\n",
    "# then c would be\n",
    "c = [1,2]\n",
    "```\n",
    "\n",
    "```\n",
    "a = [1,2,3,True]\n",
    "b = [4,5,6,False]\n",
    "# then c would be\n",
    "c = []\n",
    "```\n",
    "\n",
    "### HINT\n",
    "\n",
    "Try the question first before revealing the hint.\n",
    "\n",
    "```{toggle}\n",
    "You will want to review the sections on [appending to a list](append-list), [membership operators](membership-operators), and [stuff](for-loop) about `for` loops.\n",
    "\n",
    "There is another hint below but have another good attempt before looking.\n",
    "```\n",
    "\n"
   ]
  },
  {
   "cell_type": "code",
   "execution_count": 3,
   "metadata": {
    "tags": [
     "hide-cell"
    ]
   },
   "outputs": [],
   "source": [
    "# define the list a and b. You will want to test some different lists.\n",
    "a = [1,2,3]\n",
    "b = [2,4,3]\n",
    "# define an empty list c\n",
    "for item in a:\n",
    "    # if item in b and item not in c then append item to c\n",
    "    pass"
   ]
  },
  {
   "cell_type": "markdown",
   "metadata": {},
   "source": [
    "## 8.\n",
    "Write a program that iterates/loops over a list of items\n",
    "and print how many `0`'s are in the list.\n",
    "For example if the list was `[True, False, 'hello', 1,2,0,10,0]`\n",
    "then it would print `2` because there are two `0`'s in the list.\n",
    "\n",
    "### HINT\n",
    "\n",
    "Try the question first before revealing the hint.\n"
   ]
  },
  {
   "cell_type": "code",
   "execution_count": 4,
   "metadata": {
    "tags": [
     "hide-cell"
    ]
   },
   "outputs": [],
   "source": [
    "num_zeroes = 0\n",
    "list_of_stuff = [True, False, 'hello', 1,2,0,10,0]\n",
    "for x in list_of_stuff:\n",
    "    # check if x is 0. If so, then increase num_zeroes by 1\n",
    "    pass"
   ]
  },
  {
   "cell_type": "markdown",
   "metadata": {},
   "source": [
    "## 9.\n",
    "Suppose you have two lists of the same length and that there are only numbers in both the lists.\n",
    "For example,\n",
    "\n",
    "`x = [33, 49, 101, 9]`\n",
    "\n",
    "`y = [10, 12, 20, 1000]`\n",
    "\n",
    "Write a program that will multiply the numbers from list `x` by the numbers in list `y` element\n",
    "wise and then sum the results. In other words, the program should compute\n",
    "\n",
    "$$33*10 + 49*12 + 101*20 + 9*1000 = 11938.$$\n",
    "\n",
    "The code should work for any lists with numbers that are the same length. Another example would be\n",
    "\n",
    "`x = [1, 2, 3, 4]`\n",
    "\n",
    "`y = [5, 6, 7, 8]`\n",
    "\n",
    "which would lead to\n",
    "\n",
    "$$1*5 + 2*6 + 3*7 + 4*8 = 70.$$\n",
    "\n",
    "\n",
    "### HINT\n",
    "\n",
    "Try the question first before revealing the hint.\n"
   ]
  },
  {
   "cell_type": "code",
   "execution_count": 5,
   "metadata": {
    "tags": [
     "hide-cell"
    ]
   },
   "outputs": [],
   "source": [
    "x = [1, 2, 3, 4]\n",
    "y = [5, 6, 7, 8]\n",
    "length = len(x)\n",
    "\n",
    "result = 0\n",
    "for i in range(length):\n",
    "    # i is the index/position\n",
    "    # workout x[i] * y[i] and add to result each time through loop.\n",
    "    pass"
   ]
  },
  {
   "cell_type": "markdown",
   "metadata": {},
   "source": [
    "## 10.\n",
    "\n",
    "Write some code which gets a string from user input.\n",
    "Then print something to the screen saying whether the string\n",
    "they entered is a palindrome or not. Palindromes are words which are spelled\n",
    "the same way frontwards and backwards such as `racecar`, `level`, `rotator` and so on.\n",
    "\n",
    "\n",
    "### HINT\n",
    "\n",
    "Try the question first before revealing the hint.\n",
    "\n",
    "```{toggle}\n",
    "Remember you can reverse a string `x` by doing `x[::-1]`.\n",
    "```"
   ]
  },
  {
   "cell_type": "markdown",
   "metadata": {},
   "source": [
    "## 11.\n",
    "\n",
    "In this question we will use code to generate a random integer between\n",
    "1 and 10. Then we will ask a user to guess the number.\n",
    "The code/program should allow the user to keep guessing \n",
    "until they guess the correct number. Or they can type `'stop'` to quit guessing.\n",
    "Also, the program should tell the user after each guess whether they should \n",
    "guess lower or higher. When they guess the correct number the program stops\n",
    "or if they type `stop`.\n",
    "\n",
    "You can use code below to generate a random integer between 1 and 10.\n",
    "Execute this code several times to see different values of `i`.\n",
    "We will learn more about `import` and modules (such as `random`) \n",
    "later in the course. For now, just know this can generate a random\n",
    "integer between 1 and 10. This is the first step."
   ]
  },
  {
   "cell_type": "code",
   "execution_count": 6,
   "metadata": {
    "tags": [
     "hide-output"
    ]
   },
   "outputs": [
    {
     "name": "stdout",
     "output_type": "stream",
     "text": [
      "5\n"
     ]
    }
   ],
   "source": [
    "import random\n",
    "i = random.randint(1, 10)\n",
    "print(i)"
   ]
  },
  {
   "cell_type": "markdown",
   "metadata": {},
   "source": [
    "Next, use a loop and the `input` function to ask the user to guess a number between 1 and 10.\n",
    "If they guess too low, then print that the guess it to low and get them to guess again.\n",
    "If they guess too high, then print that the guess is to high and get them to guess again.\n",
    "If they guess the correct number (the value of `i`) then print that they got it and stop the program."
   ]
  },
  {
   "cell_type": "markdown",
   "metadata": {},
   "source": [
    "### HINT\n",
    "\n",
    "Try the question first before revealing the hint.\n",
    "\n",
    "```{toggle}\n",
    "You will need to use a `while` loop because you do not know how many guess are required.\n",
    "```"
   ]
  },
  {
   "cell_type": "code",
   "execution_count": 7,
   "metadata": {
    "tags": [
     "hide-cell"
    ]
   },
   "outputs": [],
   "source": [
    "import random\n",
    "i = random.randint(1, 10)\n",
    "\n",
    "# remove the far left comments.\n",
    "\n",
    "# while True:\n",
    "#     guess = input('Guess a number between 1 and 10. Type \"stop\" to exit.')\n",
    "#     # Then do some logic like this\n",
    "#     # if guess == stop then break the loop and print a message saying all done.\n",
    "#     # Otherwise, guess should be a number. Remember you need to convert inputs to integers.\n",
    "#     # Check if the guess is the same as i or too high or too low and use break in proper place.\n",
    "#     pass"
   ]
  },
  {
   "cell_type": "code",
   "execution_count": 8,
   "metadata": {
    "tags": [
     "hide-cell"
    ]
   },
   "outputs": [],
   "source": [
    "import random\n",
    "i = random.randint(1, 10)\n",
    "\n",
    "# remove the far left comments.\n",
    "\n",
    "# while True:\n",
    "#     guess = input('Guess a number between 1 and 10. Type \"stop\" to exit.')\n",
    "#     if guess == 'stop':\n",
    "#         print('See you later!')\n",
    "#         break\n",
    "#     # convert to integer\n",
    "#     guess = int(guess)\n",
    "#     # finish the logic by checking guess with the random value i\n",
    "#     pass"
   ]
  },
  {
   "cell_type": "markdown",
   "metadata": {},
   "source": [
    "## 12.\n",
    "Ask a user to enter a number.\n",
    "Then print True if the number is 4 or 5 or 6. Otherwise print False.\n",
    "Use the `==` and `or` operators."
   ]
  },
  {
   "cell_type": "markdown",
   "metadata": {},
   "source": [
    "## 13.\n",
    "\n",
    "Get the user to input three numbers\n",
    "```\n",
    "a = int(input('enter a number'))\n",
    "b = int(input('enter a number'))\n",
    "c = int(input('enter a number'))\n",
    "```\n",
    "\n",
    "Then write code to print which number is the largest.\n",
    "Do not use the built in `max` function (we have not even learned this yet anyway). \n",
    "Just use  logical operators, comparison operators, and `if,else` like statements."
   ]
  }
 ],
 "metadata": {
  "celltoolbar": "Edit Metadata",
  "kernelspec": {
   "display_name": "Python 3",
   "language": "python",
   "name": "python3"
  },
  "language_info": {
   "codemirror_mode": {
    "name": "ipython",
    "version": 3
   },
   "file_extension": ".py",
   "mimetype": "text/x-python",
   "name": "python",
   "nbconvert_exporter": "python",
   "pygments_lexer": "ipython3",
   "version": "3.6.5"
  }
 },
 "nbformat": 4,
 "nbformat_minor": 4
}
