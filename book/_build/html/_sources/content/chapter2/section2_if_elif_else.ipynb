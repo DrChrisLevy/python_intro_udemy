{
 "cells": [
  {
   "cell_type": "markdown",
   "metadata": {},
   "source": [
    "# `if`, `elif`, and `else` statements\n",
    "\n",
    "In this section we will learn about `if`, `elif`, and `else` statements and logic in Python.\n",
    "This is where things start to get interesting because now we will have\n",
    "the ability to use more complex logic and decision making in our\n",
    "Python code examples.\n",
    "\n",
    "\n",
    "## `if` statement\n",
    "\n",
    "The syntax in general for the `if` statement is:\n",
    "\n",
    "```\n",
    "if condition:\n",
    "    indentedStatementBlock\n",
    "```\n",
    "\n",
    "The `condition` is any valid python expression that evaluates to `True` or `False`. \n",
    "If the `condition` evaluates to `True`, then the statements in the `indentedStatementBlock` \n",
    "are executed. Otherwise the `indentedStatementBlock` is skipped all together.\n",
    "\n",
    "This is the first time we are seeing the use of white space and *indentation*.\n",
    "The use of white space and indentation is very important in Python. \n",
    "An indented white space is used to start a block of code or statements\n",
    "and any code that is indented at that level is executed together as a *block of code*.\n",
    "\n",
    "To start practicing with `if`, `elif`, and `else` statements,\n",
    "we will use the example of a student receiving a final grade\n",
    "and determining if they pass or not. The logic will begin\n",
    "very simple but then we will make it more advanced as we learn more.\n",
    "To start, suppose a grade of 50% is a passing grade.\n",
    "So if a student gets less than 50% they fail\n",
    "and if they get over 50% they pass.\n",
    "\n",
    "This is what we want the Python code to do in our first example.\n",
    "If the final grade is greater than or equal to 50 the code\n",
    "will print a message with their grade and the fact that they passed.\n",
    "Here is what that would look like using the `if` statement."
   ]
  },
  {
   "cell_type": "code",
   "execution_count": 3,
   "metadata": {},
   "outputs": [
    {
     "name": "stdout",
     "output_type": "stream",
     "text": [
      "Your final grade was 60 so you passed!\n"
     ]
    }
   ],
   "source": [
    "final_grade = 60\n",
    "if final_grade >= 50:\n",
    "    print(f'Your final grade was {final_grade} so you passed!')"
   ]
  },
  {
   "cell_type": "markdown",
   "metadata": {},
   "source": [
    "Since the expression `final_grade >= 50` is `True`, the **indented statement block**\n",
    "is executed and in this case we are printing something. The alternative would be if\n",
    "`final_grade >= 50` is `False`. In that case the **indented statement block**\n",
    "would be skipped all together and not executed."
   ]
  },
  {
   "cell_type": "code",
   "execution_count": 4,
   "metadata": {},
   "outputs": [],
   "source": [
    "final_grade = 49\n",
    "if final_grade >= 50:\n",
    "    print(f'Your final grade was {final_grade} so you passed!')"
   ]
  },
  {
   "cell_type": "markdown",
   "metadata": {},
   "source": [
    "You see, nothing was printed."
   ]
  },
  {
   "cell_type": "markdown",
   "metadata": {},
   "source": [
    "## `else` statement\n",
    "\n"
   ]
  },
  {
   "cell_type": "code",
   "execution_count": null,
   "metadata": {},
   "outputs": [],
   "source": []
  },
  {
   "cell_type": "code",
   "execution_count": null,
   "metadata": {},
   "outputs": [],
   "source": []
  },
  {
   "cell_type": "code",
   "execution_count": null,
   "metadata": {},
   "outputs": [],
   "source": []
  }
 ],
 "metadata": {
  "kernelspec": {
   "display_name": "Python 3",
   "language": "python",
   "name": "python3"
  },
  "language_info": {
   "codemirror_mode": {
    "name": "ipython",
    "version": 3
   },
   "file_extension": ".py",
   "mimetype": "text/x-python",
   "name": "python",
   "nbconvert_exporter": "python",
   "pygments_lexer": "ipython3",
   "version": "3.6.5"
  }
 },
 "nbformat": 4,
 "nbformat_minor": 4
}
