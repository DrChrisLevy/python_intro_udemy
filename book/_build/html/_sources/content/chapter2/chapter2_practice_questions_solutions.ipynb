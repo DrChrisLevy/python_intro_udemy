{
 "cells": [
  {
   "cell_type": "markdown",
   "metadata": {},
   "source": [
    "# Practice Questions (Solutions)\n",
    "There is so much new stuff we learned this past chapter.\n",
    "We introduced you to boolean data types, comparison operators,\n",
    "logical operators, `if`, `elif`, and `else` statements,\n",
    "lists, as well as `for` and `while` loops. There is actually\n",
    "more we could say about all of these things. But now is a good time\n",
    "to get coding. The best way to learn is by doing. Moreover, it is good\n",
    "to work on problems which mix all these ideas and tools together. It is going to be\n",
    "hard at first! It takes practice. But as you start solving small problems,\n",
    "you will learn and become more confident. As you spend more time coding,\n",
    "you will learn tricks and things that you can apply to other problems."
   ]
  },
  {
   "cell_type": "markdown",
   "metadata": {},
   "source": [
    "## 1. \n",
    "\n",
    "Ask the user to enter a number using the `input` function. If the number is even\n",
    "then print a message that displays the number and that it is even. If the number is not\n",
    "even then change the message to say that the number is odd. For example, if the user enters\n",
    "a 10 the message might read `'The number 10 is even'`. If the user enters an odd number such as 13, then\n",
    "the message might read `'The number 13 is odd'`.\n",
    "\n",
    "### SOLUTION\n",
    "    "
   ]
  },
  {
   "cell_type": "markdown",
   "metadata": {
    "tags": [
     "hide-output"
    ]
   },
   "source": [
    "```\n",
    "number = int(input('Please enter a number: '))\n",
    "if number % 2 == 0:\n",
    "    print(f'The number {number} is even!')\n",
    "else:\n",
    "    print(f'The number {number} is odd!')\n",
    "```"
   ]
  },
  {
   "cell_type": "markdown",
   "metadata": {},
   "source": [
    "## 2. \n",
    "\n",
    "Suppose you are given a list `nums = [6, 7, 7, 10, 12, 1, 3, 3, 5, 5, 7, 8, 9, 12, 20]`. Write code\n",
    "that prints all the numbers that are strictly greater than `5` and strictly less than `9`, one line at a time. The code should work for any list (not just this example list). For example the output should look like this:\n",
    "```\n",
    "6\n",
    "7\n",
    "7\n",
    "7\n",
    "8\n",
    "```\n",
    "If the list was for example  `nums = [1,2,6,20]`  the output would be\n",
    "```\n",
    "6\n",
    "```\n",
    "If the list was `nums = [1,2,5,20]` then nothing would be printed.\n",
    "\n",
    "\n",
    "### SOLUTION"
   ]
  },
  {
   "cell_type": "code",
   "execution_count": 1,
   "metadata": {
    "tags": [
     "hide-cell"
    ]
   },
   "outputs": [
    {
     "name": "stdout",
     "output_type": "stream",
     "text": [
      "6\n",
      "7\n",
      "7\n",
      "7\n",
      "8\n"
     ]
    }
   ],
   "source": [
    "nums = [6, 7, 7, 10, 12, 1, 3, 3, 5, 5, 7, 8, 9, 12, 20]\n",
    "for x in nums:\n",
    "    if x > 5 and x < 9:\n",
    "        print(x)"
   ]
  },
  {
   "cell_type": "markdown",
   "metadata": {},
   "source": [
    "## 3. \n",
    "\n",
    "Repeat question number 2 by adding in this difference. Instead of printing the numbers one by one, make a new list that has all the numbers strictly greater than `5` and strictly less than `9` from the original list. Then just print the new list.\n",
    "\n",
    "### SOLUTION"
   ]
  },
  {
   "cell_type": "code",
   "execution_count": 2,
   "metadata": {
    "tags": [
     "hide-cell"
    ]
   },
   "outputs": [
    {
     "name": "stdout",
     "output_type": "stream",
     "text": [
      "[6, 7, 7, 7, 8]\n"
     ]
    }
   ],
   "source": [
    "nums = [6, 7, 7, 10, 12, 1, 3, 3, 5, 5, 7, 8, 9, 12, 20]\n",
    "numbers = []\n",
    "for x in nums:\n",
    "    if x > 5 and x < 9:\n",
    "        numbers.append(x)\n",
    "print(numbers)"
   ]
  },
  {
   "cell_type": "markdown",
   "metadata": {},
   "source": [
    "## 4.\n",
    "\n",
    "Write code that takes the list `colors = ['green','red','orange','blue','yellow']`\n",
    "and prints the first item and the last item in the list. No `for` loop is needed here (just list indexing).\n",
    "\n",
    "### SOLUTION"
   ]
  },
  {
   "cell_type": "code",
   "execution_count": 3,
   "metadata": {
    "tags": [
     "hide-cell"
    ]
   },
   "outputs": [
    {
     "name": "stdout",
     "output_type": "stream",
     "text": [
      "green\n",
      "yellow\n"
     ]
    }
   ],
   "source": [
    "colors = ['green','red','orange','blue','yellow']\n",
    "print(colors[0])\n",
    "print(colors[-1])"
   ]
  },
  {
   "cell_type": "markdown",
   "metadata": {},
   "source": [
    "## 5.\n",
    "\n",
    "Write a program that prints the numbers from 1 to 100. \n",
    "\n",
    "### SOLUTION"
   ]
  },
  {
   "cell_type": "code",
   "execution_count": 4,
   "metadata": {
    "tags": [
     "hide-cell"
    ]
   },
   "outputs": [
    {
     "name": "stdout",
     "output_type": "stream",
     "text": [
      "1\n",
      "2\n",
      "3\n",
      "4\n",
      "5\n",
      "6\n",
      "7\n",
      "8\n",
      "9\n",
      "10\n",
      "11\n",
      "12\n",
      "13\n",
      "14\n",
      "15\n",
      "16\n",
      "17\n",
      "18\n",
      "19\n",
      "20\n",
      "21\n",
      "22\n",
      "23\n",
      "24\n",
      "25\n",
      "26\n",
      "27\n",
      "28\n",
      "29\n",
      "30\n",
      "31\n",
      "32\n",
      "33\n",
      "34\n",
      "35\n",
      "36\n",
      "37\n",
      "38\n",
      "39\n",
      "40\n",
      "41\n",
      "42\n",
      "43\n",
      "44\n",
      "45\n",
      "46\n",
      "47\n",
      "48\n",
      "49\n",
      "50\n",
      "51\n",
      "52\n",
      "53\n",
      "54\n",
      "55\n",
      "56\n",
      "57\n",
      "58\n",
      "59\n",
      "60\n",
      "61\n",
      "62\n",
      "63\n",
      "64\n",
      "65\n",
      "66\n",
      "67\n",
      "68\n",
      "69\n",
      "70\n",
      "71\n",
      "72\n",
      "73\n",
      "74\n",
      "75\n",
      "76\n",
      "77\n",
      "78\n",
      "79\n",
      "80\n",
      "81\n",
      "82\n",
      "83\n",
      "84\n",
      "85\n",
      "86\n",
      "87\n",
      "88\n",
      "89\n",
      "90\n",
      "91\n",
      "92\n",
      "93\n",
      "94\n",
      "95\n",
      "96\n",
      "97\n",
      "98\n",
      "99\n",
      "100\n"
     ]
    }
   ],
   "source": [
    "for i in range(1,101):\n",
    "    print(i)"
   ]
  },
  {
   "cell_type": "code",
   "execution_count": 5,
   "metadata": {
    "tags": [
     "hide-cell"
    ]
   },
   "outputs": [
    {
     "name": "stdout",
     "output_type": "stream",
     "text": [
      "[1, 2, 3, 4, 5, 6, 7, 8, 9, 10, 11, 12, 13, 14, 15, 16, 17, 18, 19, 20, 21, 22, 23, 24, 25, 26, 27, 28, 29, 30, 31, 32, 33, 34, 35, 36, 37, 38, 39, 40, 41, 42, 43, 44, 45, 46, 47, 48, 49, 50, 51, 52, 53, 54, 55, 56, 57, 58, 59, 60, 61, 62, 63, 64, 65, 66, 67, 68, 69, 70, 71, 72, 73, 74, 75, 76, 77, 78, 79, 80, 81, 82, 83, 84, 85, 86, 87, 88, 89, 90, 91, 92, 93, 94, 95, 96, 97, 98, 99, 100]\n"
     ]
    }
   ],
   "source": [
    "# or we could do this\n",
    "numbers = []\n",
    "for i in range(1,101):\n",
    "    numbers.append(i)\n",
    "print(numbers)"
   ]
  },
  {
   "cell_type": "code",
   "execution_count": 6,
   "metadata": {
    "tags": [
     "hide-cell"
    ]
   },
   "outputs": [
    {
     "name": "stdout",
     "output_type": "stream",
     "text": [
      "[1, 2, 3, 4, 5, 6, 7, 8, 9, 10, 11, 12, 13, 14, 15, 16, 17, 18, 19, 20, 21, 22, 23, 24, 25, 26, 27, 28, 29, 30, 31, 32, 33, 34, 35, 36, 37, 38, 39, 40, 41, 42, 43, 44, 45, 46, 47, 48, 49, 50, 51, 52, 53, 54, 55, 56, 57, 58, 59, 60, 61, 62, 63, 64, 65, 66, 67, 68, 69, 70, 71, 72, 73, 74, 75, 76, 77, 78, 79, 80, 81, 82, 83, 84, 85, 86, 87, 88, 89, 90, 91, 92, 93, 94, 95, 96, 97, 98, 99, 100]\n"
     ]
    }
   ],
   "source": [
    "# list comprehension - will learn this in the future part of the course\n",
    "# just showing here because it's a cool solution in just one line\n",
    "print([i for i in range(1,101)])"
   ]
  },
  {
   "cell_type": "markdown",
   "metadata": {},
   "source": [
    "## 6.\n",
    "\n",
    "Write a program that prints the numbers from 1 to 100 but with these modifications. If the number is a multiple of 3 print **Fizz** instead of the number. If the number is a multiple of 5 then print **Buzz**. However, if the number is both a multiple of 3 and a multiple of 5 print **FizzBuzz**. The output should look something like this:\n",
    "\n",
    "```\n",
    "1\n",
    "2\n",
    "Fizz\n",
    "4\n",
    "Buzz\n",
    "Fizz\n",
    "7\n",
    "8\n",
    "Fizz\n",
    "Buzz\n",
    "11\n",
    "Fizz\n",
    "13\n",
    "14\n",
    "FizzBuzz\n",
    "16\n",
    "17\n",
    "Fizz\n",
    "19\n",
    "Buzz\n",
    "Fizz\n",
    "22\n",
    "23\n",
    "Fizz\n",
    "Buzz\n",
    "26\n",
    "Fizz\n",
    "28\n",
    "29\n",
    "FizzBuzz\n",
    ".\n",
    ".\n",
    ".\n",
    ".\n",
    "91\n",
    "92\n",
    "Fizz\n",
    "94\n",
    "Buzz\n",
    "Fizz\n",
    "97\n",
    "98\n",
    "Fizz\n",
    "Buzz\n",
    "```\n",
    "\n",
    "### SOLUTION\n",
    "\n",
    "\n"
   ]
  },
  {
   "cell_type": "code",
   "execution_count": 7,
   "metadata": {
    "tags": [
     "hide-cell"
    ]
   },
   "outputs": [
    {
     "name": "stdout",
     "output_type": "stream",
     "text": [
      "1\n",
      "2\n",
      "Fizz\n",
      "4\n",
      "Buzz\n",
      "Fizz\n",
      "7\n",
      "8\n",
      "Fizz\n",
      "Buzz\n",
      "11\n",
      "Fizz\n",
      "13\n",
      "14\n",
      "FizzBuzz\n",
      "16\n",
      "17\n",
      "Fizz\n",
      "19\n",
      "Buzz\n",
      "Fizz\n",
      "22\n",
      "23\n",
      "Fizz\n",
      "Buzz\n",
      "26\n",
      "Fizz\n",
      "28\n",
      "29\n",
      "FizzBuzz\n",
      "31\n",
      "32\n",
      "Fizz\n",
      "34\n",
      "Buzz\n",
      "Fizz\n",
      "37\n",
      "38\n",
      "Fizz\n",
      "Buzz\n",
      "41\n",
      "Fizz\n",
      "43\n",
      "44\n",
      "FizzBuzz\n",
      "46\n",
      "47\n",
      "Fizz\n",
      "49\n",
      "Buzz\n",
      "Fizz\n",
      "52\n",
      "53\n",
      "Fizz\n",
      "Buzz\n",
      "56\n",
      "Fizz\n",
      "58\n",
      "59\n",
      "FizzBuzz\n",
      "61\n",
      "62\n",
      "Fizz\n",
      "64\n",
      "Buzz\n",
      "Fizz\n",
      "67\n",
      "68\n",
      "Fizz\n",
      "Buzz\n",
      "71\n",
      "Fizz\n",
      "73\n",
      "74\n",
      "FizzBuzz\n",
      "76\n",
      "77\n",
      "Fizz\n",
      "79\n",
      "Buzz\n",
      "Fizz\n",
      "82\n",
      "83\n",
      "Fizz\n",
      "Buzz\n",
      "86\n",
      "Fizz\n",
      "88\n",
      "89\n",
      "FizzBuzz\n",
      "91\n",
      "92\n",
      "Fizz\n",
      "94\n",
      "Buzz\n",
      "Fizz\n",
      "97\n",
      "98\n",
      "Fizz\n",
      "Buzz\n"
     ]
    }
   ],
   "source": [
    "for i in range(1,101):\n",
    "    if i % 3 == 0 and i % 5 == 0:\n",
    "        print('FizzBuzz')\n",
    "    elif i % 3 == 0:\n",
    "        print('Fizz')\n",
    "    elif i % 5 == 0:\n",
    "        print('Buzz')\n",
    "    else:\n",
    "        print(i)"
   ]
  },
  {
   "cell_type": "markdown",
   "metadata": {},
   "source": [
    "## 7.\n",
    "Suppose you have two lists `a` and `b` which may not be the same length.\n",
    "Write code which will find the items that are common between both `a`\n",
    "and `b` and puts them in a new list `c`. Also make sure that `c` does not have\n",
    "the same item more than once (no duplicates). So the list `c` will be a unique\n",
    "list of only the items that were in both `a` and `b`. The items you put in `c`\n",
    "can be in any order.\n",
    "\n",
    "For example,\n",
    "\n",
    "```\n",
    "a = [1,2,3,3,5,5,10]\n",
    "b = [9,8,5,9,5]\n",
    "# then c would be\n",
    "[5]\n",
    "```\n",
    "\n",
    "```\n",
    "a = ['carrot', 'orange']\n",
    "b = ['orange','chris',9,]\n",
    "# then c would be\n",
    "['orange']\n",
    "```\n",
    "\n",
    "\n",
    "```\n",
    "a = [1,2,3,4,5,7]\n",
    "b = [1,2,10]\n",
    "# then c would be\n",
    "[1,2]\n",
    "```\n",
    "\n",
    "```\n",
    "a = [1,2,3,10]\n",
    "b = [4,5,6,-6]\n",
    "# then c would be\n",
    "[]\n",
    "```\n",
    "\n",
    "### SOLUTION\n",
    "\n"
   ]
  },
  {
   "cell_type": "code",
   "execution_count": 8,
   "metadata": {
    "tags": [
     "hide-cell"
    ]
   },
   "outputs": [
    {
     "name": "stdout",
     "output_type": "stream",
     "text": [
      "[5]\n"
     ]
    }
   ],
   "source": [
    "a = [1,2,3,3,5,5,10]\n",
    "b = [9,8,5,9,5]\n",
    "c = []\n",
    "for x in a:\n",
    "    if x in b and x not in c:\n",
    "        c.append(x)\n",
    "print(c)"
   ]
  },
  {
   "cell_type": "markdown",
   "metadata": {},
   "source": [
    "## 8.\n",
    "Write a program that iterates/loops over a list of numbers\n",
    "and print how many `0`'s are in the list.\n",
    "For example if the list was `[1,2,0,10,0]`\n",
    "then it would print `2` because there are two `0`'s in the list.\n",
    "\n",
    "### SOLUTION\n"
   ]
  },
  {
   "cell_type": "code",
   "execution_count": 9,
   "metadata": {
    "tags": [
     "hide-cell"
    ]
   },
   "outputs": [
    {
     "name": "stdout",
     "output_type": "stream",
     "text": [
      "2\n"
     ]
    }
   ],
   "source": [
    "list_of_numbers = [1,2,0,10,0]\n",
    "count = 0\n",
    "for number in list_of_numbers:\n",
    "    if number == 0:\n",
    "        count = count + 1 # count += 1\n",
    "print(count)"
   ]
  },
  {
   "cell_type": "markdown",
   "metadata": {},
   "source": [
    "## 9.\n",
    "Suppose you have two lists of the same length and that there are only numbers in both the lists.\n",
    "For example,\n",
    "\n",
    "`x = [33, 49, 101, 9]`\n",
    "\n",
    "`y = [10, 12, 20, 1000]`\n",
    "\n",
    "Write a program that will multiply the numbers from list `x` by the numbers in list `y` element\n",
    "wise and then sum the results. In other words, the program should compute\n",
    "\n",
    "$$33*10 + 49*12 + 101*20 + 9*1000 = 11938.$$\n",
    "\n",
    "The code should work for any lists with numbers that are the same length. Another example would be\n",
    "\n",
    "`x = [1, 2, 3, 4]`\n",
    "\n",
    "`y = [5, 6, 7, 8]`\n",
    "\n",
    "which would lead to\n",
    "\n",
    "$$1*5 + 2*6 + 3*7 + 4*8 = 70.$$\n",
    "\n",
    "\n",
    "### Solution"
   ]
  },
  {
   "cell_type": "code",
   "execution_count": 10,
   "metadata": {
    "tags": [
     "hide-cell"
    ]
   },
   "outputs": [
    {
     "name": "stdout",
     "output_type": "stream",
     "text": [
      "11938\n"
     ]
    }
   ],
   "source": [
    "x = [33, 49, 101, 9]\n",
    "y = [10, 12, 20, 1000]\n",
    "result = 0\n",
    "for i in range(len(x)):\n",
    "    result += x[i] * y[i] # or simply --->    result = result + x[i] * y[i] \n",
    "print(result)"
   ]
  },
  {
   "cell_type": "markdown",
   "metadata": {},
   "source": [
    "## 10.\n",
    "\n",
    "Write some code which gets a string from user input.\n",
    "Then print something to the screen saying whether the string\n",
    "they entered is a palindrome or not. Palindromes are words which are spelled\n",
    "the same way frontwards and backwards such as `racecar`, `level`, `rotator` and so on.\n",
    "\n",
    "\n",
    "### SOLUTION\n",
    "```\n",
    "word = input('Please enter a word: ')\n",
    "if word == word[::-1]:\n",
    "    print(f'Yes, {word} is a palindrome')\n",
    "else:\n",
    "    print(f'No, {word} is not a palindrome')\n",
    "```"
   ]
  },
  {
   "cell_type": "markdown",
   "metadata": {},
   "source": [
    "## 11.\n",
    "\n",
    "In this question we will use code to generate a random integer between\n",
    "1 and 10. Then we will ask a user to guess the number.\n",
    "The code/program should allow the user to keep guessing \n",
    "until they guess the correct number. Or they can type `'stop'` to quit guessing.\n",
    "Also, the program should tell the user after each guess whether they should \n",
    "guess lower or higher. When they guess the correct number the program stops\n",
    "or if they type `stop`.\n",
    "\n",
    "You can use code below to generate a random integer between 1 and 10.\n",
    "Execute this code several times to see different values of `i`.\n",
    "We will learn more about `import` and modules (such as `random`) \n",
    "later in the course. For now, just know this can generate a random\n",
    "integer between 1 and 10. This is the first step.\n",
    "\n",
    "### SOLUTION"
   ]
  },
  {
   "cell_type": "markdown",
   "metadata": {
    "tags": [
     "hide-output"
    ]
   },
   "source": [
    "```\n",
    "import random\n",
    "max_number = 10 # make this number higher to make it more challenging\n",
    "i = random.randint(1, max_number)\n",
    "\n",
    "while True:\n",
    "    guess = input(f'Please guess a number between 1 and {max_number}. Type \"stop\" to quit.')\n",
    "    if guess == 'stop':\n",
    "        print('See you later!')\n",
    "        break\n",
    "    \n",
    "    guess = int(guess)\n",
    "    if guess == i:\n",
    "        print('YOU GOT IT!')\n",
    "        break\n",
    "    elif guess > i:\n",
    "        print('That is too high. Guess a lower number. Guess again!')\n",
    "    else:\n",
    "        print('That is too low. Guess a higher number. Guess again!')\n",
    "    \n",
    "print('Come back again soon!')\n",
    "```"
   ]
  },
  {
   "cell_type": "markdown",
   "metadata": {},
   "source": [
    "## 12.\n",
    "Ask a user to enter a number.\n",
    "Then print True if the number is 4 or 5 or 6. Otherwise print False.\n",
    "Use the `==` and `or` operators.\n",
    "\n",
    "### SOLUTION\n",
    "\n",
    "```\n",
    "number = int(input('please enter a number:'))\n",
    "if number == 4 or number == 5 or number == 6:\n",
    "    print(True)\n",
    "else:\n",
    "    print(False)\n",
    "```"
   ]
  },
  {
   "cell_type": "markdown",
   "metadata": {},
   "source": [
    "## 13.\n",
    "\n",
    "Get the user to input three numbers\n",
    "```\n",
    "a = int(input('enter a number'))\n",
    "b = int(input('enter a number'))\n",
    "c = int(input('enter a number'))\n",
    "```\n",
    "\n",
    "Then write code to print which number is the largest.\n",
    "Do not use the built in `max` function (we have not even learned this yet anyway). \n",
    "Just use  logical operators, comparison operators, and `if,else` like statements.\n",
    "\n",
    "### SOLUTION\n",
    "```\n",
    "a = int(input('enter a number'))\n",
    "b = int(input('enter a number'))\n",
    "c = int(input('enter a number'))\n",
    "\n",
    "if a >= b:\n",
    "    largest = a\n",
    "else:\n",
    "    largest = b\n",
    "\n",
    "if c >= largest:\n",
    "    largest = c\n",
    "\n",
    "print(f'The largest number is {largest}')\n",
    "```"
   ]
  },
  {
   "cell_type": "markdown",
   "metadata": {},
   "source": [
    "## 14.\n",
    "In mathematics there is a famous sequence of numbers called the Fibonacci numbers. This sequence of numbers starts with 0 and 1 like this: \n",
    "\n",
    "$$0,1$$\n",
    "\n",
    "To get the next number in the sequence you simply add the previous 2 numbers. So the third number in the sequence would be 0 + 1 = 1. Therefore the first three numbers are \n",
    "\n",
    "$$0,1,1$$ \n",
    "\n",
    "To get the next number in the sequence you add 1 + 1 = 2 so now we have \n",
    "\n",
    "$$0,1,1,2$$ \n",
    "\n",
    "The next number would be 1 + 2 = 3 \n",
    "\n",
    "$$0,1,1,2,3$$ \n",
    "\n",
    "And you keep continuing like that, always adding the previous two numbers to get the next number in the sequence, \n",
    "\n",
    "\n",
    "$$0, 1, 1, 2, 3, 5, 8, 13, 21, 34, 55 ...$$\n",
    "\n",
    "Starting with the first two numbers in the sequence $0,1$, write python code to generate the first 1000 numbers in\n",
    "the Fibonacci sequence. Store the 1000 numbers in a list.\n",
    "\n",
    "So you can start with the following line of code:\n",
    "\n",
    "### SOLUTION"
   ]
  },
  {
   "cell_type": "code",
   "execution_count": 11,
   "metadata": {
    "tags": [
     "hide-cell"
    ]
   },
   "outputs": [
    {
     "name": "stdout",
     "output_type": "stream",
     "text": [
      "[0, 1, 1, 2, 3, 5, 8, 13, 21, 34, 55, 89, 144, 233, 377, 610, 987, 1597, 2584, 4181, 6765, 10946, 17711, 28657, 46368, 75025, 121393, 196418, 317811, 514229, 832040, 1346269, 2178309, 3524578, 5702887, 9227465, 14930352, 24157817, 39088169, 63245986, 102334155, 165580141, 267914296, 433494437, 701408733, 1134903170, 1836311903, 2971215073, 4807526976, 7778742049, 12586269025, 20365011074, 32951280099, 53316291173, 86267571272, 139583862445, 225851433717, 365435296162, 591286729879, 956722026041, 1548008755920, 2504730781961, 4052739537881, 6557470319842, 10610209857723, 17167680177565, 27777890035288, 44945570212853, 72723460248141, 117669030460994, 190392490709135, 308061521170129, 498454011879264, 806515533049393, 1304969544928657, 2111485077978050, 3416454622906707, 5527939700884757, 8944394323791464, 14472334024676221, 23416728348467685, 37889062373143906, 61305790721611591, 99194853094755497, 160500643816367088, 259695496911122585, 420196140727489673, 679891637638612258, 1100087778366101931, 1779979416004714189, 2880067194370816120, 4660046610375530309, 7540113804746346429, 12200160415121876738, 19740274219868223167, 31940434634990099905, 51680708854858323072, 83621143489848422977, 135301852344706746049, 218922995834555169026]\n"
     ]
    }
   ],
   "source": [
    "sequence = [0,1]\n",
    "\n",
    "for i in range(1,999):\n",
    "    next_number = sequence[i] + sequence[i-1]\n",
    "    sequence.append(next_number)\n",
    "print(sequence[:100]) # the numbers get very large. You can print them all with print(sequence)"
   ]
  },
  {
   "cell_type": "code",
   "execution_count": null,
   "metadata": {},
   "outputs": [],
   "source": []
  }
 ],
 "metadata": {
  "celltoolbar": "Edit Metadata",
  "kernelspec": {
   "display_name": "Python 3",
   "language": "python",
   "name": "python3"
  },
  "language_info": {
   "codemirror_mode": {
    "name": "ipython",
    "version": 3
   },
   "file_extension": ".py",
   "mimetype": "text/x-python",
   "name": "python",
   "nbconvert_exporter": "python",
   "pygments_lexer": "ipython3",
   "version": "3.6.5"
  }
 },
 "nbformat": 4,
 "nbformat_minor": 4
}
