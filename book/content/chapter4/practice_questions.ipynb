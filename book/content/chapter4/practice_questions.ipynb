{
 "cells": [
  {
   "cell_type": "markdown",
   "metadata": {},
   "source": [
    "# Practice Questions"
   ]
  },
  {
   "cell_type": "markdown",
   "metadata": {},
   "source": [
    "## 1.\n",
    "\n",
    "Write a function called `get_list_details` that takes a list as its only argument.\n",
    "Then the function should print the list, print the sorted list, and return the list sorted.\n",
    "For example:\n",
    "\n",
    "```\n",
    "get_list_details([10, -4, 5, 10, 78])\n",
    "```\n",
    "\n",
    "would print the output\n",
    "\n",
    "The list is: [10, -4, 5, 10, 78]\n",
    "\n",
    "The list sorted is: [-4, 5, 10, 10, 78]\n",
    "\n",
    "\n",
    "and would return [-4, 5, 10, 10, 78]."
   ]
  },
  {
   "cell_type": "markdown",
   "metadata": {},
   "source": [
    "## 2.\n",
    "\n",
    "In this chapter we learned the `count()` method for lists\n",
    "which returns the number of times an item is in a list.\n",
    "Using the `count` function and dictionaries, write a function which takes a list of numbers as input and returns\n",
    "a dictionary with the keys as the numbers in the list and\n",
    "the values as the number of times those numbers appear in the list.\n",
    "\n",
    "For example,\n",
    "\n",
    "`count_items([1, 2, 3, 4, 5])` would return `{1: 1, 2: 1, 3: 1, 4: 1, 5: 1}`.\n",
    "\n",
    "\n",
    "`count_items([1, 1, 1])` would return `{1: 3}`.\n",
    "\n",
    "`count_items([1, 1, 1, 2, 2, 2, 2, 4])` would return `{1: 3, 2: 4, 4: 1}`.\n",
    "\n",
    "\n"
   ]
  },
  {
   "cell_type": "markdown",
   "metadata": {},
   "source": [
    "## 3.\n",
    "\n",
    "Write a function that takes a list as input and removes the first\n",
    "item and the last item from the list. The function should return a tuple of length two.\n",
    "The first item in the tuple should be the list without the items that were removed. \n",
    "The second item in the tuple should be the list with only the two numbers that were removed. You should use the `pop()` method.\n",
    "\n",
    "For example,\n",
    "\n",
    "`remove_first_and_last([1,2,3,4])` would return `([2, 3], [1, 4])`.\n",
    "\n",
    "`remove_first_and_last([1, 2])` would return `([], [1, 2])`.\n",
    "\n",
    "`remove_first_and_last([-10, 20, 50])` would return `([20], [-10, 50])`."
   ]
  },
  {
   "cell_type": "markdown",
   "metadata": {},
   "source": [
    "## 4.\n",
    "\n",
    "a) Use list comprehensions to create a list of integers between (and including) 16 and 57.\n",
    "\n",
    "b) Use list comprehensions to create a list of **odd** integers between (and including) 11 and 31.\n",
    "\n",
    "c) Given the list `x = [1, 2, 'hello world', -3, 5]` use list comprehensions and `enumerate` to create a new list `[(0, 1), (1, 2), (2, 'hello world'), (3, -3), (4, 5)]`.\n",
    "\n",
    "d) Given a list of numbers in a variable called `numbers`, use list comprehensions to extract all the numbers with a position/index that is a multiple of 3. For example, if `numbers` was the list `[7, 5, 6, 9, 4, 5, 2]` then the list comprehension would create the list `[7, 9, 2]` because those numbers were at positions 0,3,6. Remember that you can use conditionals in list comprehensions and you can use `n % 3 == 0` to check if a number `n` is a multiple of 3. Also, you will want to use `enumerate` in the list comprehension so that you have the position of each item. "
   ]
  },
  {
   "cell_type": "markdown",
   "metadata": {},
   "source": [
    "## 5.\n",
    "\n",
    "a) Create a tuple with different data types in it.\n",
    "\n",
    "b) Create a tuple of length 3 and then unpack the values into three variables `a,b,c`.\n",
    "\n",
    "c) Given two tuples `a` and `b`, create a new tuple `c` with the elements from `a` and `b`.\n",
    "For example if `a=(1,2,3)` and `b=(4,5,6,6)` then `c` would be `(1,2,3,4,5,6,6)`.\n",
    "\n",
    "d) Create a function that takes two arguments. The first argument is a tuple of numbers. The second argument is a number. The function should print a message which says if the number (second argument) is in the tuple (first argument) or not."
   ]
  },
  {
   "cell_type": "markdown",
   "metadata": {},
   "source": [
    "## 6.\n",
    "\n",
    "Given the following lists for example:"
   ]
  },
  {
   "cell_type": "code",
   "execution_count": 1,
   "metadata": {},
   "outputs": [],
   "source": [
    "instruments = ['guitar', 'drums', 'piano']\n",
    "prices = [400, 500, 600]\n",
    "colors = ['red', 'black', 'white']"
   ]
  },
  {
   "cell_type": "markdown",
   "metadata": {},
   "source": [
    "Write code that merges them together and creates a list of tuples like this\n",
    "\n",
    "```[('guitar', 'red', 400), ('drums', 'black', 500), ('piano', 'white', 600)]```\n",
    "\n",
    "Your code should work on any three lists in this format. Try doing this question with\n",
    "and without using list comprehensions. Also, use the `zip()` method."
   ]
  },
  {
   "cell_type": "markdown",
   "metadata": {},
   "source": [
    "## 7.\n",
    "\n",
    "Write a function which takes a **list of tuples** as input where each tuple is of the form\n",
    "`(PERSON_NAME, PAID_AMOUNT)`. `PERSON_NAME` is a string and `PAID_AMOUNT` is a number. For instance `('Chris', 3245.53)` is an example of a tuple that could be in the list. An example of the input list with multiple tuples could be\n",
    "\n",
    "```\n",
    "[('Chris', 3245.53), ('Joanna', 3498.43), ('Penny', 134.00), ('Isaac', 583.35),\n",
    "('Chris', 4300.54), ('Joanna', 3498.43), ('Penny', 957.97), ('Isaac', 0.00),\n",
    "('Henry', 10.10), ('Jen', 34.45), ('Matt', 0.00)]\n",
    "```\n",
    "\n",
    "Each tuple indicates how much money the person was paid. If the name appears more than once it means that person was paid multiple times. The function should take the list of tuples as input and return a dictionary. The keys of the dictionary should be the names and the values should be the total sum of the money they were paid. For example, for the above input list example the output returned by the function should be:\n",
    "\n",
    "```\n",
    "{'Chris': 7546.07,\n",
    " 'Joanna': 6996.86,\n",
    " 'Penny': 1091.97,\n",
    " 'Isaac': 583.35,\n",
    " 'Henry': 10.1,\n",
    " 'Jen': 34.45,\n",
    " 'Matt': 0.0}\n",
    "```"
   ]
  },
  {
   "cell_type": "markdown",
   "metadata": {},
   "source": [
    "## 8.\n",
    "\n",
    "In this question you can assume you have data which is a list of NBA players. Assume the data is a list of dictionaries formatted like this, where each dictionary in the list contains details about a single player.\n",
    "\n",
    "```\n",
    "[\n",
    " {'name': 'Steph Curry',\n",
    " 'team': 'Golden State Warriors',\n",
    " 'points_per_game': 23.5},\n",
    " \n",
    " {'name': 'Lebron James',\n",
    " 'team': 'Los Angeles Lakers',\n",
    " 'points_per_game': 27.1},\n",
    " \n",
    " {'name': 'James Harden',\n",
    " 'team': 'Houstan Rockets',\n",
    " 'points_per_game': 25.2},\n",
    " \n",
    " {'name': 'Kawhi Leonard',\n",
    " 'team': 'Los Angeles Clippers',\n",
    " 'points_per_game': 18.7},\n",
    " \n",
    " {'name': 'Paul George',\n",
    " 'team': 'Los Angeles Clippers',\n",
    " 'points_per_game': 20.0},\n",
    " \n",
    " {'name': 'Kevin Durant',\n",
    " 'team': 'Brooklyn Nets',\n",
    " 'points_per_game': 27.0}\n",
    "]\n",
    "```\n",
    "\n",
    "Write Python code which does the following:\n",
    "\n",
    "- gets the unique list of player names\n",
    "- gets the unique list of team names\n",
    "- gets the dictionary for the person with the highest points_per_game \n",
    "- gets the dictionary for the person with the lowest points_per_game \n",
    "- creates a list with all the points_per_game values sorted from smallest to largest.\n",
    "    - finds the mean/average of the list of points_per_game values\n",
    "\n",
    "You can display the results however you want and feel free to write \n",
    "some functions as well."
   ]
  },
  {
   "cell_type": "markdown",
   "metadata": {},
   "source": [
    "## 9.\n",
    "\n",
    "Write a function which can take any number of positional arguments as input\n",
    "and assume all the arguments are numbers. The function should return a tuple\n",
    "of length 3 with the smallest number, largest number, and the average of the numbers.\n",
    "\n",
    "For example,\n",
    "\n",
    "`stats(9,5,6,10,4)` should return `(4, 10, 6.8)`\n",
    "\n",
    "`stats(2,4)` should return `(2, 4, 3)`\n",
    "\n",
    "`stats(12.423,86.234, 98375, 100.2345)` should return `(12.423, 98375, 24643.472875000003)`"
   ]
  },
  {
   "cell_type": "markdown",
   "metadata": {},
   "source": [
    "## 10.\n",
    "\n",
    "Write a function `get_car_details` which takes 2 required positional arguments `year` and `make` and any variable number of additional keyword arguments. Then the function should return a dictionary with the details about the car. For example:\n",
    "\n",
    "`get_car_details(2009, 'honda')` should return \n",
    "\n",
    "```\n",
    "{'year': 2009, 'make': 'honda'}\n",
    "```\n",
    "\n",
    "\n",
    "`get_car_details(2009, 'honda', color='black')` should return \n",
    "\n",
    "```\n",
    "{'color': 'black', 'year': 2009, 'make': 'honda'}\n",
    "```\n",
    "\n",
    "`get_car_details(2020, 'ford', color='red', doors=4)` should return\n",
    "\n",
    "```\n",
    "{'color': 'red', 'doors': 4, 'year': 2020, 'make': 'ford'}\n",
    "```\n",
    "\n",
    "`get_car_details(color='blue')` should raise a `TypeError` because it's missing the\n",
    "two required positional arguments `year` and `make`."
   ]
  }
 ],
 "metadata": {
  "celltoolbar": "Edit Metadata",
  "kernelspec": {
   "display_name": "Python 3",
   "language": "python",
   "name": "python3"
  },
  "language_info": {
   "codemirror_mode": {
    "name": "ipython",
    "version": 3
   },
   "file_extension": ".py",
   "mimetype": "text/x-python",
   "name": "python",
   "nbconvert_exporter": "python",
   "pygments_lexer": "ipython3",
   "version": "3.6.5"
  }
 },
 "nbformat": 4,
 "nbformat_minor": 4
}
