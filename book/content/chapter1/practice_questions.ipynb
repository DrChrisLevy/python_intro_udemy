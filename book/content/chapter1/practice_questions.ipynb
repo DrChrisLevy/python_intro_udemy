{
 "cells": [
  {
   "cell_type": "markdown",
   "metadata": {},
   "source": [
    "# Practice Questions\n",
    "\n",
    "**1.** \n",
    "\n",
    "Create a new Jupyter Notebook called **practice_questions** or something similar.\n",
    "Use this notebook to practice Python by going through the rest of these questions.\n",
    "Remember to save your Jupyter Notebook through out. You can use markdown\n",
    "cells to give answers to questions where coding is not required.\n",
    "You can use markdown cells in general to take additional notes and so on."
   ]
  },
  {
   "cell_type": "markdown",
   "metadata": {},
   "source": [
    "**2.** \n",
    "\n",
    "In your head, or on a piece of paper, workout the following math question. \n",
    "\n",
    "$$5 × 4 + 10 - \\frac{20 + 40}{2}$$\n",
    "\n",
    "Then use Python to get the same answer."
   ]
  },
  {
   "cell_type": "markdown",
   "metadata": {},
   "source": [
    "**3.** \n",
    "\n",
    "Print the string **She sells seashells by the seashore**."
   ]
  },
  {
   "cell_type": "markdown",
   "metadata": {},
   "source": [
    "**4.**\n",
    "\n",
    "Print a multiline string. It can be any string at all with multiple lines."
   ]
  },
  {
   "cell_type": "markdown",
   "metadata": {},
   "source": [
    "**5.**  \n",
    "\n",
    "Why does this code raise an error: `'100' + 100`"
   ]
  },
  {
   "cell_type": "markdown",
   "metadata": {},
   "source": [
    "**6.** \n",
    "\n",
    "Suppose you had these two variables defined:"
   ]
  },
  {
   "cell_type": "code",
   "execution_count": 8,
   "metadata": {},
   "outputs": [],
   "source": [
    "day_one = 'Monday'\n",
    "day_two = 'Tuesday'"
   ]
  },
  {
   "cell_type": "markdown",
   "metadata": {},
   "source": [
    "Use the variables `day_one` and `day_two`, along with **string concatenation** to print the string:\n",
    "**The Day after Monday is Tuesday**. Do not use *f-strings* but use string concatenation."
   ]
  },
  {
   "cell_type": "markdown",
   "metadata": {},
   "source": [
    "**7.**  \n",
    "\n",
    "Repeat question 6 but using *f-strings* instead of string concatenation."
   ]
  },
  {
   "cell_type": "markdown",
   "metadata": {},
   "source": [
    "**8.** \n",
    "\n",
    "If this code was executed, what would be the *value* and the *type* of \n",
    "the variable `x`? What would be the *value* and the *type* of \n",
    "the variable `y`? Do this question without writing any code first.\n",
    "Then type it out and execute it in Python to check your answer."
   ]
  },
  {
   "cell_type": "code",
   "execution_count": 9,
   "metadata": {},
   "outputs": [],
   "source": [
    "y = 10\n",
    "x = (y / y) - y\n",
    "y = x + (2 * x)"
   ]
  },
  {
   "cell_type": "markdown",
   "metadata": {},
   "source": [
    "**9.**  \n",
    "\n",
    "Write code that takes a number as input from a user and then adds 5 to it. Print the final result."
   ]
  },
  {
   "cell_type": "markdown",
   "metadata": {},
   "source": [
    "**10.**\n",
    "\n",
    "Write code that takes three separate inputs from a user: \n",
    "    - favorite food\n",
    "    - favorite color\n",
    "    - favorite movie\n",
    "    \n",
    "Then get the code to print a string such as:\n",
    "**Your favorite food, color, and movie are ____, ____, and ____!**. \n",
    "Fill in the blanks\n",
    "with the users input that they entered."
   ]
  },
  {
   "cell_type": "markdown",
   "metadata": {},
   "source": [
    "**11.** "
   ]
  },
  {
   "cell_type": "code",
   "execution_count": 10,
   "metadata": {},
   "outputs": [],
   "source": [
    "sentance = 'The sky is blue and the grass is green.'"
   ]
  },
  {
   "cell_type": "markdown",
   "metadata": {},
   "source": [
    "*a)* Use string slicing to extract the string from `sentance`, `'the grass is green'`\n",
    "\n",
    "*b)* Use string slicing to extract the string from `sentance`, `'The sky is blue'`\n",
    "\n",
    "*c)* Without coding, what is the type and value of `sentance[0]`?\n",
    "\n",
    "*d)* Without coding, what is the type and value of `sentance[-1]`?\n",
    "\n",
    "*e)* Without coding, what string does this work out to be: `sentance[-6:-2]`\n",
    "\n",
    "*f)* Without coding, what string does this work out to be: `sentance[-6:]`\n",
    "\n",
    "*g)* Without coding, what string does this work out to be: `sentance[4:15]`\n",
    "\n",
    "*h)* Without coding, what string does this work out to be: `sentance[4:15:2]`\n",
    "\n",
    "*i)* Use code and string slicing to reverse the string defined by `sentance`."
   ]
  },
  {
   "cell_type": "markdown",
   "metadata": {},
   "source": [
    "**12.** "
   ]
  },
  {
   "cell_type": "code",
   "execution_count": 11,
   "metadata": {},
   "outputs": [],
   "source": [
    "a = 1\n",
    "b = -10\n",
    "c = -10 / 2\n",
    "d = 2.5 * 2"
   ]
  },
  {
   "cell_type": "markdown",
   "metadata": {},
   "source": [
    "Suppose the above code was executed.\n",
    "What would the *value* and *type* of `a`, `b`, `c`, and `d` be?\n",
    "Now check your answer by executing it in Python.\n",
    "\n",
    "Next, write code that would convert (but only if the conversion is needed)\n",
    "`a` to a string, `b` to a float, `c` to an `int`, and `d` to a float.\n",
    "If the conversion is not needed than simply say so."
   ]
  },
  {
   "cell_type": "markdown",
   "metadata": {},
   "source": [
    "**13.** \n",
    "\n",
    "Write code that gets three numbers from a user input and \n",
    "    stores the values in variables named `a`, `b`, and `c`.\n",
    "    Then print a string that displays the sum of $a + b + c$ as a floating point number.\n",
    "    For example, if they entered $a=1, b=2, c=3$ then the code will print $6.0$."
   ]
  },
  {
   "cell_type": "markdown",
   "metadata": {},
   "source": [
    "**14.**\n",
    "\n",
    "Answer these questions without coding anything. These questions are supposed\n",
    "to test your understanding of integer, float, and string conversion\n",
    "as well as variable assignment. You can always check your answer after\n",
    "in the Jupyter Notebook.\n",
    "\n",
    "*a)*\n",
    "\n",
    "What is the *type* and *value* for both `a` and `b`?\n",
    "\n",
    "```\n",
    "a = 4.5\n",
    "b = int(a)\n",
    "```\n",
    "\n",
    "*b)*\n",
    "\n",
    "What is the *type* and *value* for `a`?\n",
    "```\n",
    "a = 5.43\n",
    "print(float(a))\n",
    "```\n",
    "\n",
    "*c)*\n",
    "\n",
    "What is the *type* and *value* for `b`?\n",
    "```\n",
    "a = '5.43'\n",
    "b = float(a)\n",
    "```\n",
    "\n",
    "*d)*\n",
    "\n",
    "What is the *type* and *value* of `a`?\n",
    "\n",
    "```\n",
    "a = str(float(int(-4.99)))\n",
    "```\n",
    "\n",
    "*e*)\n",
    "\n",
    "What is the *type* and *value* of `c`?\n",
    "```\n",
    "a = 12\n",
    "b = 0\n",
    "c = str(a) + str(b)\n",
    "```\n",
    "\n",
    "*f*)\n",
    "\n",
    "What is the *type* and *value* of `c`?\n",
    "\n",
    "```\n",
    "a = '12'\n",
    "b = '0'\n",
    "c = f'{int(a) + int(b)}'\n",
    "```"
   ]
  }
 ],
 "metadata": {
  "kernelspec": {
   "display_name": "Python 3",
   "language": "python",
   "name": "python3"
  },
  "language_info": {
   "codemirror_mode": {
    "name": "ipython",
    "version": 3
   },
   "file_extension": ".py",
   "mimetype": "text/x-python",
   "name": "python",
   "nbconvert_exporter": "python",
   "pygments_lexer": "ipython3",
   "version": "3.6.5"
  }
 },
 "nbformat": 4,
 "nbformat_minor": 4
}
