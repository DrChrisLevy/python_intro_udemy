{
 "cells": [
  {
   "cell_type": "markdown",
   "metadata": {},
   "source": [
    "# Truthy and Falsy Values \n",
    "\n",
    "In previous chapters we have used the boolean values `True` and `False`.\n",
    "We already know that expressions with operators can evaluate to True or False."
   ]
  },
  {
   "cell_type": "code",
   "execution_count": 1,
   "metadata": {},
   "outputs": [
    {
     "data": {
      "text/plain": [
       "True"
      ]
     },
     "execution_count": 1,
     "metadata": {},
     "output_type": "execute_result"
    }
   ],
   "source": [
    "10 > 2"
   ]
  },
  {
   "cell_type": "code",
   "execution_count": 2,
   "metadata": {},
   "outputs": [
    {
     "name": "stdout",
     "output_type": "stream",
     "text": [
      "Hello World!\n"
     ]
    }
   ],
   "source": [
    "if 10 > 2:\n",
    "    print('Hello World!')"
   ]
  },
  {
   "cell_type": "markdown",
   "metadata": {},
   "source": [
    "We use these expressions a lot in `if` statements, `while` loops and so on. Now consider the following `if` statements where there is no use of an operator such as `>`, `<`, `==` etc."
   ]
  },
  {
   "cell_type": "code",
   "execution_count": 3,
   "metadata": {},
   "outputs": [
    {
     "name": "stdout",
     "output_type": "stream",
     "text": [
      "Hello World\n"
     ]
    }
   ],
   "source": [
    "x = 10\n",
    "if x:\n",
    "    print('Hello World')\n",
    "else:\n",
    "    print('Good Bye')"
   ]
  },
  {
   "cell_type": "code",
   "execution_count": 4,
   "metadata": {},
   "outputs": [
    {
     "name": "stdout",
     "output_type": "stream",
     "text": [
      "Good Bye\n"
     ]
    }
   ],
   "source": [
    "x = 0\n",
    "if x:\n",
    "    print('Hello World')\n",
    "else:\n",
    "    print('Good Bye')"
   ]
  },
  {
   "cell_type": "code",
   "execution_count": 5,
   "metadata": {},
   "outputs": [
    {
     "name": "stdout",
     "output_type": "stream",
     "text": [
      "Hello World\n"
     ]
    }
   ],
   "source": [
    "x = [1, 2, 3 ]\n",
    "if x:\n",
    "    print('Hello World')\n",
    "else:\n",
    "    print('Good Bye')"
   ]
  },
  {
   "cell_type": "code",
   "execution_count": 6,
   "metadata": {},
   "outputs": [
    {
     "name": "stdout",
     "output_type": "stream",
     "text": [
      "Good Bye\n"
     ]
    }
   ],
   "source": [
    "x = []\n",
    "if x:\n",
    "    print('Hello World')\n",
    "else:\n",
    "    print('Good Bye')"
   ]
  },
  {
   "cell_type": "markdown",
   "metadata": {},
   "source": [
    "You may be wondering how the above `if` statements are even evaluating to `True` or `False`. There is not a typical expression next to the `if`. Instead, only a variable is next to the `if`. In Python, specific values can evaluate to either `True` or `False` even if they are not part of a larger expression. The basic idea is that values that evaluate to `False` are considered **Falsy** whereas values that evaluate to `True` are considered **Truthy**. There are several rules we need to know to figure out what these values will evaluate to. You can checkout out the official [Python documentation](https://docs.python.org/3/library/stdtypes.html#truth-value-testing) for these rules. We will cover them here mostly.\n",
    "\n",
    "By default, the majority of values in Python will be **truthy**. That is they will evaluate to `True`. So you just need to remember what type of values evaluate to `False`. They are:\n",
    "\n",
    "- constants defined to be false: `None` and `False`.\n",
    "- zero of any numeric type: `0` and `0.0` for example.\n",
    "- empty sequences and collections: `''`, `()`, `[]`, `{}`, `set()`, `range(0)`\n"
   ]
  },
  {
   "cell_type": "markdown",
   "metadata": {},
   "source": [
    "So think of 0 and anything \"empty\" (having a length of 0) as evaluating to `False`."
   ]
  },
  {
   "cell_type": "code",
   "execution_count": 7,
   "metadata": {},
   "outputs": [
    {
     "name": "stdout",
     "output_type": "stream",
     "text": [
      "I will print because every value above evaluates to False.\n"
     ]
    }
   ],
   "source": [
    "if 0:\n",
    "    print('I will not print')\n",
    "elif []:\n",
    "    print('I will not print')\n",
    "elif {}:\n",
    "    print('I will not print')\n",
    "elif set():\n",
    "    print('I will not print')\n",
    "elif ():\n",
    "    print('I will not print')\n",
    "elif None:\n",
    "    print('I will not print')\n",
    "else:\n",
    "    print('I will print because every value above evaluates to False.')"
   ]
  },
  {
   "cell_type": "markdown",
   "metadata": {},
   "source": [
    "Here are some more examples."
   ]
  },
  {
   "cell_type": "code",
   "execution_count": 8,
   "metadata": {},
   "outputs": [
    {
     "name": "stdout",
     "output_type": "stream",
     "text": [
      "3\n",
      "2\n",
      "1\n"
     ]
    }
   ],
   "source": [
    "# once i gets to 0 it will evaluate to False and the loop will break/stop\n",
    "i = 3\n",
    "while i:\n",
    "    print(i)\n",
    "    i = i - 1"
   ]
  },
  {
   "cell_type": "code",
   "execution_count": 9,
   "metadata": {},
   "outputs": [],
   "source": [
    "if 5 and 0:\n",
    "    print('HEY')"
   ]
  },
  {
   "cell_type": "code",
   "execution_count": 10,
   "metadata": {},
   "outputs": [
    {
     "name": "stdout",
     "output_type": "stream",
     "text": [
      "HEY\n"
     ]
    }
   ],
   "source": [
    "if 3 and -10:\n",
    "    print('HEY')"
   ]
  },
  {
   "cell_type": "code",
   "execution_count": 11,
   "metadata": {},
   "outputs": [],
   "source": [
    "if 0 or [] or {}:\n",
    "    print('HEY')"
   ]
  },
  {
   "cell_type": "code",
   "execution_count": 12,
   "metadata": {},
   "outputs": [
    {
     "name": "stdout",
     "output_type": "stream",
     "text": [
      "HEY\n"
     ]
    }
   ],
   "source": [
    "if 0 or [] or {} or 0.5:\n",
    "    print('HEY')"
   ]
  },
  {
   "cell_type": "code",
   "execution_count": 13,
   "metadata": {},
   "outputs": [],
   "source": [
    "if None:\n",
    "    print('HEY')"
   ]
  },
  {
   "cell_type": "code",
   "execution_count": 14,
   "metadata": {},
   "outputs": [
    {
     "name": "stdout",
     "output_type": "stream",
     "text": [
      "Hey\n"
     ]
    }
   ],
   "source": [
    "if not None:\n",
    "    print('Hey')"
   ]
  },
  {
   "cell_type": "markdown",
   "metadata": {},
   "source": [
    "That is it for truthy and falsy values. It's very important to remember these when using control flow. In the next section we will learn more about the `None` value type."
   ]
  }
 ],
 "metadata": {
  "kernelspec": {
   "display_name": "Python 3",
   "language": "python",
   "name": "python3"
  },
  "language_info": {
   "codemirror_mode": {
    "name": "ipython",
    "version": 3
   },
   "file_extension": ".py",
   "mimetype": "text/x-python",
   "name": "python",
   "nbconvert_exporter": "python",
   "pygments_lexer": "ipython3",
   "version": "3.6.5"
  }
 },
 "nbformat": 4,
 "nbformat_minor": 4
}
