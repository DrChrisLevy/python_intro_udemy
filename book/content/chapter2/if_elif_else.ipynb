{
 "cells": [
  {
   "cell_type": "markdown",
   "metadata": {},
   "source": [
    "(if-elif-else)=\n",
    "# `if`, `elif`, and `else` statements\n",
    "\n",
    "In this section we will learn about `if`, `elif`, and `else` statements in Python.\n",
    "This is where things start to get interesting because now we will have\n",
    "the ability to use more complex logic and decision making in our\n",
    "Python code examples and programs.\n",
    "\n",
    "Create a new Jupyter Notebook called **if_elif_else_statements**. Follow along\n",
    "and write the code! You are encouraged to tinker with the code, change it, and even\n",
    "break it! It's the only way to learn!\n",
    "\n",
    "## `if` statement\n",
    "\n",
    "The syntax in general for the `if` statement is:\n",
    "\n",
    "```\n",
    "if condition:\n",
    "    statements_to_execute\n",
    "```\n",
    "\n",
    "The `condition` is any valid python expression that evaluates to `True` or `False`. \n",
    "If the `condition` evaluates to `True`, then the statements in the `statements_to_execute` \n",
    "are executed. Otherwise the `statements_to_execute` are skipped all together. Notice also the use of the \n",
    "colon `:` after the `condition`.\n",
    "\n",
    "This is the first time we are seeing the use of white space and *indentation*.\n",
    "The use of white space and indentation is very important in Python. \n",
    "An indented white space (tab on keyboard) is used to start a block of code or statements\n",
    "and any code that is indented at that level is executed together as a *block of code*.\n",
    "\n",
    "To start practicing with `if`, `elif`, and `else` statements,\n",
    "we will use the example of a student receiving a final grade\n",
    "and determining if they pass or not. The logic will begin\n",
    "very simple but then we continue to add to it.\n",
    "To start, suppose a grade of 50% is a passing grade.\n",
    "So if a student gets less than 50% they fail\n",
    "and if they get over 50% or over they pass.\n",
    "\n",
    "This is what we want the Python code to do in our first example.\n",
    "If the final grade is greater than or equal to 50, the code\n",
    "will print a message with their grade and the fact that they passed.\n",
    "We will also print a good bye message at the end.\n",
    "Here is what that would look like using the `if` statement."
   ]
  },
  {
   "cell_type": "code",
   "execution_count": 1,
   "metadata": {},
   "outputs": [
    {
     "name": "stdout",
     "output_type": "stream",
     "text": [
      "Your final grade was 60 so you passed!\n",
      "Good Bye, see you next year.\n"
     ]
    }
   ],
   "source": [
    "final_grade = 60\n",
    "if final_grade >= 50:\n",
    "    print(f'Your final grade was {final_grade} so you passed!')\n",
    "    \n",
    "print('Good Bye, see you next year.')\n"
   ]
  },
  {
   "cell_type": "markdown",
   "metadata": {},
   "source": [
    "Since the expression `final_grade >= 50` is `True`, the **indented statement block** (the line with the print)\n",
    "is executed. The alternative would be if\n",
    "`final_grade >= 50` is `False`. In that case the **indented statement block**\n",
    "would be skipped all together and not executed. Here is an example where `final_grade` is less than 50\n",
    "so the indented statement block is skipped and it goes straight to the good bye message."
   ]
  },
  {
   "cell_type": "code",
   "execution_count": 2,
   "metadata": {},
   "outputs": [
    {
     "name": "stdout",
     "output_type": "stream",
     "text": [
      "Good Bye, see you next year.\n"
     ]
    }
   ],
   "source": [
    "final_grade = 49\n",
    "if final_grade >= 50:\n",
    "    print(f'Your final grade was {final_grade} so you passed!')\n",
    "    \n",
    "print('Good Bye, see you next year.')\n"
   ]
  },
  {
   "cell_type": "markdown",
   "metadata": {},
   "source": [
    "Before continuing to the next example, play around with the above example.\n",
    "Try changing the `final_grade` to different values and seeing \n",
    "when the `if` block of code gets executed."
   ]
  },
  {
   "cell_type": "markdown",
   "metadata": {},
   "source": [
    "## `else` statement\n",
    "\n",
    "In the previous example we saw that if the condition (`final_grade >= 50`) was\n",
    "`True` then the next indented code block was executed. If the conditon was `False`\n",
    "then it was skipped. There are times when we want to\n",
    "execute some alternative logic when the `condition` is `False`.\n",
    "This is what the `else` statement is for. The general syntax is:\n",
    "\n",
    "```\n",
    "if condition:\n",
    "    # executed if condition is True\n",
    "    statements_to_execute \n",
    "else:\n",
    "    # executed if condition is False\n",
    "    alternative_statements_to_execute \n",
    "```\n",
    "\n",
    "Lets add to our example by using the `else` statement.\n",
    "Now, if the student has a failing grade (less than 50) than\n",
    "it prints a message saying the student failed."
   ]
  },
  {
   "cell_type": "code",
   "execution_count": 3,
   "metadata": {},
   "outputs": [
    {
     "name": "stdout",
     "output_type": "stream",
     "text": [
      "Your final grade was 49. You failed. Try harder next time.\n",
      "Good Bye, see you next year.\n"
     ]
    }
   ],
   "source": [
    "final_grade = 49\n",
    "if final_grade >= 50:\n",
    "    print(f'Your final grade was {final_grade} so you passed!')\n",
    "else:\n",
    "    print(f'Your final grade was {final_grade}. You failed. Try harder next time.')    \n",
    "    \n",
    "print('Good Bye, see you next year.')\n"
   ]
  },
  {
   "cell_type": "markdown",
   "metadata": {},
   "source": [
    "So just to say it one more time. If the `condition` is `True` then the first indented\n",
    "block of statements is executed. Otherwise, the statements indented after the `else`\n",
    "statement are executed. Never will it be the case that both blocks are executed. It's one or the other only.\n",
    "Check it out in the above example by changing the `final_grade` to 50 or greater."
   ]
  },
  {
   "cell_type": "markdown",
   "metadata": {},
   "source": [
    "## `elif` statements\n",
    "\n",
    "The `elif` statement is short for **else if**. It is used when we want to check for multiple conditions.\n",
    "If the first condition for `if` is `False`, then next condition for the `elif` block will be checked.\n",
    "If the `elif` condition is `True` than the indented statements for that `elif` block are executed.\n",
    "If the `elif` condition if `False` than the code in the `else` block is executed. \n",
    "There can be multiple `elif` statements. Among the `if` statements, `elif` statements, \n",
    "and `else` statements, only one block of statements will be executed. \n",
    "The `if` block can have only one `else` block but can have multiple `elif` blocks.\n",
    "The general syntax is:\n",
    "\n",
    "```\n",
    "if first_condition:\n",
    "    # executed if first_condition is True\n",
    "    first_statements_to_execute \n",
    "elif second_condition:\n",
    "    # executed if first_condition is False and second_condition is True\n",
    "    second_statements_to_execute \n",
    "elif third_condition:\n",
    "    # executed if first_condition is False and second_condition is False and third_condition is True\n",
    "    third_statements_to_execute \n",
    ".\n",
    ".\n",
    ".\n",
    "else:\n",
    "    alternative_statements_to_execute # executed if all conditions above are False\n",
    "```\n",
    "\n",
    "It's really important to remember that only one of the indented block\n",
    "statements will get executed (not multiple blocks). It all depends on what\n",
    "`condition` is `True`. If all the conditions are `False` than the `else`\n",
    "block gets executed.\n",
    "\n",
    "Let's evolve our example with displaying the students grade.\n",
    "Now we will display a slightly different message based on the students `final_grade`."
   ]
  },
  {
   "cell_type": "code",
   "execution_count": 4,
   "metadata": {},
   "outputs": [
    {
     "name": "stdout",
     "output_type": "stream",
     "text": [
      "Your final grade was 90. You did amazing work! You passed!\n",
      "Good Bye, see you next year.\n"
     ]
    }
   ],
   "source": [
    "final_grade = 90\n",
    "if final_grade >= 90:\n",
    "    print(f'Your final grade was {final_grade}. You did amazing work! You passed!')\n",
    "elif final_grade >= 80:\n",
    "    print(f'Your final grade was {final_grade}. You did really good work! You passed!')\n",
    "elif final_grade >= 70:\n",
    "    print(f'Your final grade was {final_grade}. You did good work! You passed!')\n",
    "elif final_grade >= 50:\n",
    "    print(f'Your final grade was {final_grade}. You did okay work. You passed.')\n",
    "else:\n",
    "    print(f'Your final grade was {final_grade}. You failed. Try harder next time.')    \n",
    "   \n",
    "    \n",
    "print('Good Bye, see you next year.')\n"
   ]
  },
  {
   "cell_type": "markdown",
   "metadata": {},
   "source": [
    "In the above example we added multiple `elif` statements to show how they work.\n",
    "Take some time to play around with the code by changing the `final_grade` to different values such as\n",
    "`95`, `90`, `80`, `75`, `70`, `50`, and `45`. Execute the code for these different values\n",
    "and take note of what print statement gets executed.\n",
    "\n",
    "In closing, when using `if`, `elif`, and `else` statements, you always start with an `if` statement.\n",
    "Both the `elif` and `else` statements are optional. There can be multiple `elif` statements and only\n",
    "one `else`. Remember to use the colon `:` after each condition as well as the indented white space.\n",
    "\n",
    "Here are a few simple examples that you can play around with.\n",
    "\n",
    "## Example 1: `if`"
   ]
  },
  {
   "cell_type": "code",
   "execution_count": 5,
   "metadata": {},
   "outputs": [],
   "source": [
    "x = 'HELLO' # change to 'hello' to make the print statement execute\n",
    "if x == 'hello':\n",
    "    print('hello world')"
   ]
  },
  {
   "cell_type": "markdown",
   "metadata": {},
   "source": [
    "## Example 2: `if`  `else`"
   ]
  },
  {
   "cell_type": "code",
   "execution_count": 6,
   "metadata": {},
   "outputs": [
    {
     "name": "stdout",
     "output_type": "stream",
     "text": [
      "11 is strictly larger than 10.\n"
     ]
    }
   ],
   "source": [
    "x = 6 # change to different values to see what blocks below get executed.\n",
    "if x + 5 > 10:\n",
    "    print(f'{x+5} is strictly larger than 10.')\n",
    "else:\n",
    "    print(f'{x+5} is not strictly larger than 10.')"
   ]
  },
  {
   "cell_type": "markdown",
   "metadata": {},
   "source": [
    "## Example 3: `if` `elif` `else`"
   ]
  },
  {
   "cell_type": "code",
   "execution_count": 7,
   "metadata": {},
   "outputs": [
    {
     "name": "stdout",
     "output_type": "stream",
     "text": [
      "0.1 is positive.\n"
     ]
    }
   ],
   "source": [
    "x = 0.1 # change to different values to see what blocks below get executed.\n",
    "if x > 0:\n",
    "    print(f'{x} is positive.')\n",
    "elif x < 0:\n",
    "    print(f'{x} is negative.')\n",
    "else:\n",
    "    print(f'{x} is zero.')"
   ]
  },
  {
   "cell_type": "markdown",
   "metadata": {},
   "source": [
    "## Example 4: multiple `True` conditions\n",
    "Remember that even if multiple conditions are `True`, only\n",
    "one of the blocks will be executed (the first condition for which it is `True`)."
   ]
  },
  {
   "cell_type": "code",
   "execution_count": 8,
   "metadata": {},
   "outputs": [
    {
     "name": "stdout",
     "output_type": "stream",
     "text": [
      "101 is big.\n"
     ]
    }
   ],
   "source": [
    "x = 101\n",
    "if x >= 100:\n",
    "    print(f'{x} is big.')\n",
    "elif x > 0:\n",
    "    print(f'{x} is positive.')\n",
    "elif x < 0:\n",
    "    print(f'{x} is negative.')\n",
    "else:\n",
    "    print(f'{x} is zero')"
   ]
  },
  {
   "cell_type": "markdown",
   "metadata": {},
   "source": [
    "## Example 5: `else` is optional\n",
    "Remember that `elif` and `else` are optional."
   ]
  },
  {
   "cell_type": "code",
   "execution_count": 9,
   "metadata": {},
   "outputs": [],
   "source": [
    "x = 0\n",
    "if x >= 100:\n",
    "    print(f'{x} is big.')\n",
    "elif x > 0:\n",
    "    print(f'{x} is positive.')\n",
    "elif x < 0:\n",
    "    print(f'{x} is negative.')\n",
    "    "
   ]
  },
  {
   "cell_type": "markdown",
   "metadata": {},
   "source": [
    "## Example 6: \n",
    "\n",
    "Here we will look at another example to practice\n",
    "with the `if`, `elif`, and `else` statements. Suppose an employee \n",
    "has to work on Monday, Wednesday, and Friday and has to wear\n",
    "a different color uniform on each of those days. Red on Monday,\n",
    "blue on Wednesday, and green on Friday. Also suppose they have to remember\n",
    "to bring lunch on Monday and Wednesday but not on Fridays. We will write a simple\n",
    "program that prints what color to wear and if the employee needs to bring\n",
    "food, based on the day of the week."
   ]
  },
  {
   "cell_type": "code",
   "execution_count": 10,
   "metadata": {},
   "outputs": [
    {
     "name": "stdout",
     "output_type": "stream",
     "text": [
      "You need to wear green today.\n",
      "You do not need to bring food.\n"
     ]
    }
   ],
   "source": [
    "day = 'Friday' # can change to any day of the week. Capitalize only the first letter. \n",
    "\n",
    "if day == 'Monday':\n",
    "    print('You need to wear red today.')\n",
    "    print('You also need to bring food.')\n",
    "elif day == 'Wednesday':\n",
    "    print('You need to wear blue today.')\n",
    "    print('You also need to bring food.')\n",
    "elif day == 'Friday':\n",
    "    print('You need to wear green today.')\n",
    "    print('You do not need to bring food.')\n",
    "else:\n",
    "    print('You do not work today. Have a good day off.')    "
   ]
  },
  {
   "cell_type": "markdown",
   "metadata": {},
   "source": [
    "Try changing the `day` to different days of the week\n",
    "and executing the above code to see how it all works."
   ]
  },
  {
   "cell_type": "markdown",
   "metadata": {},
   "source": [
    "## Nested `if` statements\n",
    "\n",
    "When you are working with indented code blocks, you can write any valid\n",
    "Python code within those indented code blocks. This means for example that\n",
    "you can *nest* `if`, `elif`, and `else` statements within one another.\n",
    "When you have an `if` statement inside \n",
    "another `if` statement and so on, this is called *nesting*.\n",
    "Here is a simple example."
   ]
  },
  {
   "cell_type": "code",
   "execution_count": 11,
   "metadata": {},
   "outputs": [
    {
     "name": "stdout",
     "output_type": "stream",
     "text": [
      "15 is larger than 5\n",
      "and is also larger than 10\n"
     ]
    }
   ],
   "source": [
    "x = 15 # run the code with x as 15, 7, 4, and -2 to see the different blocks executed\n",
    "if x > 5:\n",
    "    print(f'{x} is larger than 5')\n",
    "    if x > 10:\n",
    "        print('and is also larger than 10')\n",
    "    else:\n",
    "        print('but is not larger than 10')\n",
    "else:\n",
    "    print(f'{x} is smaller than 5')\n",
    "    if x < 0:\n",
    "        print('and is also negative')\n",
    "        \n",
    "    "
   ]
  },
  {
   "cell_type": "markdown",
   "metadata": {},
   "source": [
    "Before going onto the next section spend some time\n",
    "playing around with `if`, `elif`, and `else` statements.\n",
    "Keep it simple and try to get the syntax down and memorized."
   ]
  }
 ],
 "metadata": {
  "kernelspec": {
   "display_name": "Python 3",
   "language": "python",
   "name": "python3"
  },
  "language_info": {
   "codemirror_mode": {
    "name": "ipython",
    "version": 3
   },
   "file_extension": ".py",
   "mimetype": "text/x-python",
   "name": "python",
   "nbconvert_exporter": "python",
   "pygments_lexer": "ipython3",
   "version": "3.6.5"
  }
 },
 "nbformat": 4,
 "nbformat_minor": 4
}
