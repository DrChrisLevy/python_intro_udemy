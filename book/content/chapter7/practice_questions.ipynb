{
 "cells": [
  {
   "cell_type": "markdown",
   "metadata": {},
   "source": [
    "# Ideas for Practice\n",
    "\n",
    "It's time for you to get out there and start building things with Python. Start small and simple. To practice the concepts from this Chapter on classes, I would recommend writing some simple code which uses classes. Try and use other things you learned in this course as well. For example, make use of data structures, `if else` statements, `for loops`, `while loops`, and so on. Maybe you even want to set up a virtual environment and small project in Pycharm like we learned in Chapter 5. You could install some cool libraries you are interested in and write some small classes that use those libraries. Have Fun!\n",
    "\n",
    "A simple task to get started would be improving the `TransitBus` class. Last time I checked I think you could have negative passengers on a bus!"
   ]
  }
 ],
 "metadata": {
  "kernelspec": {
   "display_name": "Python 3",
   "language": "python",
   "name": "python3"
  },
  "language_info": {
   "codemirror_mode": {
    "name": "ipython",
    "version": 3
   },
   "file_extension": ".py",
   "mimetype": "text/x-python",
   "name": "python",
   "nbconvert_exporter": "python",
   "pygments_lexer": "ipython3",
   "version": "3.6.5"
  }
 },
 "nbformat": 4,
 "nbformat_minor": 4
}
